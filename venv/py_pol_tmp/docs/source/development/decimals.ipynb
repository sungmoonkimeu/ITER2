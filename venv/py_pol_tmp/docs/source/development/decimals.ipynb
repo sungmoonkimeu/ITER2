{
 "cells": [
  {
   "cell_type": "markdown",
   "metadata": {},
   "source": [
    "# Decimals for good representation of numbers"
   ]
  },
  {
   "cell_type": "code",
   "execution_count": 23,
   "metadata": {},
   "outputs": [],
   "source": [
    "from py_pol import np, degrees\n",
    "from py_pol.jones_vector import Jones_vector\n",
    "from py_pol.mueller import Mueller"
   ]
  },
  {
   "cell_type": "code",
   "execution_count": 34,
   "metadata": {},
   "outputs": [],
   "source": [
    "num_decimals=4 \n",
    "np.set_printoptions(precision=6)"
   ]
  },
  {
   "cell_type": "code",
   "execution_count": 35,
   "metadata": {},
   "outputs": [
    {
     "name": "stdout",
     "output_type": "stream",
     "text": [
      "j0 = [0.7071; 0.7071]'\n"
     ]
    }
   ],
   "source": [
    "j0 = Jones_vector('j0')\n",
    "j0.linear_light(amplitude=1, angle=45*degrees)\n",
    "print(j0)"
   ]
  },
  {
   "cell_type": "code",
   "execution_count": 36,
   "metadata": {},
   "outputs": [
    {
     "name": "stdout",
     "output_type": "stream",
     "text": [
      "[[0.707107]\n",
      " [0.707107]]\n"
     ]
    }
   ],
   "source": [
    "print(j0.M)"
   ]
  },
  {
   "cell_type": "code",
   "execution_count": 37,
   "metadata": {},
   "outputs": [
    {
     "name": "stdout",
     "output_type": "stream",
     "text": [
      "[[0.7071]\n",
      " [0.7071]]\n"
     ]
    }
   ],
   "source": [
    "j0.M=np.round(j0.M, num_decimals)\n",
    "print(j0.M)"
   ]
  },
  {
   "cell_type": "code",
   "execution_count": 38,
   "metadata": {},
   "outputs": [
    {
     "name": "stdout",
     "output_type": "stream",
     "text": [
      "m0 @-22.50º = \n",
      "  [+0.410, +0.283, -0.283, +0.000]\n",
      "  [+0.283, +0.250, -0.160, +0.000]\n",
      "  [-0.283, -0.160, +0.250, +0.000]\n",
      "  [+0.000, +0.000, +0.000, +0.090]\n",
      "\n"
     ]
    }
   ],
   "source": [
    "M0=Mueller('m0')\n",
    "M0.diattenuator_linear(p1=0.9, p2=0.1,angle=-22.5*degrees)\n",
    "print(M0)"
   ]
  },
  {
   "cell_type": "code",
   "execution_count": 39,
   "metadata": {},
   "outputs": [
    {
     "name": "stdout",
     "output_type": "stream",
     "text": [
      "m0 @-22.50º  = \n",
      "[[ 0.41   0.283 -0.283  0.   ]\n",
      " [ 0.283  0.25  -0.16   0.   ]\n",
      " [-0.283 -0.16   0.25   0.   ]\n",
      " [ 0.     0.     0.     0.09 ]]\n"
     ]
    }
   ],
   "source": [
    "print(M0.name, \" = \")\n",
    "print(np.round(M0.M,3))"
   ]
  },
  {
   "cell_type": "code",
   "execution_count": 22,
   "metadata": {},
   "outputs": [],
   "source": [
    "num_decimals=2\n",
    "\n",
    "M = np.array(M0.M).squeeze()\n",
    "M = np.round(M, num_decimals)\n",
    "l_name = \"{} = \\n\".format(M0.name)\n",
    "difference = abs(M.round() - M).sum()"
   ]
  },
  {
   "cell_type": "code",
   "execution_count": 20,
   "metadata": {},
   "outputs": [
    {
     "name": "stdout",
     "output_type": "stream",
     "text": [
      "m0 @-22.50º = \n",
      "  [+0.4100, +0.2800, -0.2800, +0.0000]\n",
      "  [+0.2800, +0.2500, -0.1600, +0.0000]\n",
      "  [-0.2800, -0.1600, +0.2500, +0.0000]\n",
      "  [+0.0000, +0.0000, +0.0000, +0.0900]\n",
      "\n"
     ]
    }
   ],
   "source": [
    "l0 = \"  [{:+4.4f}, {:+4.4f}, {:+4.4f}, {:+4.4f}]\\n\".format(\n",
    "    M[0, 0], M[0, 1], M[0, 2], M[0, 3])\n",
    "l1 = \"  [{:+4.4f}, {:+4.4f}, {:+4.4f}, {:+4.4f}]\\n\".format(\n",
    "    M[1, 0], M[1, 1], M[1, 2], M[1, 3])\n",
    "l2 = \"  [{:+4.4f}, {:+4.4f}, {:+4.4f}, {:+4.4f}]\\n\".format(\n",
    "    M[2, 0], M[2, 1], M[2, 2], M[2, 3])\n",
    "l3 = \"  [{:+4.4f}, {:+4.4f}, {:+4.4f}, {:+4.4f}]\\n\".format(\n",
    "    M[3, 0], M[3, 1], M[3, 2], M[3, 3])\n",
    "\n",
    "print(l_name + l0 + l1 + l2 + l3)"
   ]
  },
  {
   "cell_type": "code",
   "execution_count": 10,
   "metadata": {},
   "outputs": [
    {
     "name": "stdout",
     "output_type": "stream",
     "text": [
      "m0 @-45.00º = \n",
      "   [ 0.41  0.   -0.4   0.  ]\n",
      "   [ 0.    0.09 -0.    0.  ]\n",
      "   [-0.4  -0.    0.41  0.  ]\n",
      "   [0.   0.   0.   0.09]\n",
      "\n"
     ]
    }
   ],
   "source": [
    "l0 = \"   {}\\n\".format(M[:,0])\n",
    "l1 = \"   {}\\n\".format(M[:,1])\n",
    "l2 = \"   {}\\n\".format(M[:,2])\n",
    "l3 = \"   {}\\n\".format(M[:,3])\n",
    "\n",
    "print(l_name + l0 + l1 + l2 + l3)"
   ]
  },
  {
   "cell_type": "code",
   "execution_count": 16,
   "metadata": {},
   "outputs": [],
   "source": []
  },
  {
   "cell_type": "code",
   "execution_count": 17,
   "metadata": {},
   "outputs": [
    {
     "name": "stdout",
     "output_type": "stream",
     "text": [
      "m0 @-45.00º = \n",
      "  [+0.4100, +0.0000, -0.4000, +0.0000]\n",
      "  [+0.0000, +0.0900, -0.0000, +0.0000]\n",
      "  [-0.4000, -0.0000, +0.4100, +0.0000]\n",
      "  [+0.0000, +0.0000, +0.0000, +0.0900]\n",
      "\n"
     ]
    }
   ],
   "source": [
    "l0 = \"  [{:+4.4f}, {:+4.4f}, {:+4.4f}, {:+4.4f}]\\n\".format(\n",
    "    M[0, 0], M[0, 1], M[0, 2], M[0, 3])\n",
    "l1 = \"  [{:+4.4f}, {:+4.4f}, {:+4.4f}, {:+4.4f}]\\n\".format(\n",
    "    M[1, 0], M[1, 1], M[1, 2], M[1, 3])\n",
    "l2 = \"  [{:+4.4f}, {:+4.4f}, {:+4.4f}, {:+4.4f}]\\n\".format(\n",
    "    M[2, 0], M[2, 1], M[2, 2], M[2, 3])\n",
    "l3 = \"  [{:+4.4f}, {:+4.4f}, {:+4.4f}, {:+4.4f}]\\n\".format(\n",
    "    M[3, 0], M[3, 1], M[3, 2], M[3, 3])\n",
    "\n",
    "print(l_name + l0 + l1 + l2 + l3)"
   ]
  },
  {
   "cell_type": "code",
   "execution_count": 18,
   "metadata": {},
   "outputs": [
    {
     "name": "stdout",
     "output_type": "stream",
     "text": [
      "m0 @-45.00º = \n",
      "   [ 0.41  0.   -0.4   0.  ]\n",
      "   [ 0.    0.09 -0.    0.  ]\n",
      "   [-0.4  -0.    0.41  0.  ]\n",
      "   [0.   0.   0.   0.09]\n",
      "\n"
     ]
    }
   ],
   "source": [
    "l0 = \"   {}\\n\".format(M[:,0])\n",
    "l1 = \"   {}\\n\".format(M[:,1])\n",
    "l2 = \"   {}\\n\".format(M[:,2])\n",
    "l3 = \"   {}\\n\".format(M[:,3])\n",
    "\n",
    "print(l_name + l0 + l1 + l2 + l3)"
   ]
  },
  {
   "cell_type": "code",
   "execution_count": null,
   "metadata": {},
   "outputs": [],
   "source": []
  }
 ],
 "metadata": {
  "kernelspec": {
   "display_name": "Python 3",
   "language": "python",
   "name": "python3"
  },
  "language_info": {
   "codemirror_mode": {
    "name": "ipython",
    "version": 3
   },
   "file_extension": ".py",
   "mimetype": "text/x-python",
   "name": "python",
   "nbconvert_exporter": "python",
   "pygments_lexer": "ipython3",
   "version": "3.6.7"
  }
 },
 "nbformat": 4,
 "nbformat_minor": 2
}
