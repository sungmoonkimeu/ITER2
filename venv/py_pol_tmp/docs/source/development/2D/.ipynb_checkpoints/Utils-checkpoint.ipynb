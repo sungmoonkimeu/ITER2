{
 "cells": [
  {
   "cell_type": "code",
   "execution_count": 1,
   "metadata": {},
   "outputs": [],
   "source": [
    "%load_ext autoreload\n",
    "%autoreload 2\n",
    "%matplotlib inline"
   ]
  },
  {
   "cell_type": "code",
   "execution_count": 2,
   "metadata": {},
   "outputs": [],
   "source": [
    "from py_pol import degrees, np\n",
    "from py_pol.utils import azimuth_elipt_2_charac_angles, charac_angles_2_azimuth_elipt, extract_charac_angles, put_in_limits\n",
    "\n",
    "np.set_printoptions(precision=2)\n",
    "np.set_printoptions(suppress=True)"
   ]
  },
  {
   "cell_type": "markdown",
   "metadata": {},
   "source": [
    "## Put in limits"
   ]
  },
  {
   "cell_type": "code",
   "execution_count": 3,
   "metadata": {},
   "outputs": [
    {
     "name": "stdout",
     "output_type": "stream",
     "text": [
      "[ 57.3   69.75 -60.85  39.89  67.94 -63.85 -69.58  79.87  23.69 -85.32]\n",
      "[57.3  69.75 60.85 39.89 67.94 63.85 69.58 79.87 23.69 85.32]\n",
      "\n",
      "[ 329.8  -177.75   36.39  241.14  129.91  -88.71 -211.12 -237.7   110.11\n",
      " -312.35]\n",
      "[329.8  182.25  36.39 241.14 129.91 271.29 148.88 122.3  110.11  47.65]\n",
      "\n"
     ]
    }
   ],
   "source": [
    "# Put in limits\n",
    "N = 10\n",
    "\n",
    "a = (np.random.rand(N) - 0.5) * np.pi\n",
    "print(a / degrees)\n",
    "b = put_in_limits(a, 'alpha')\n",
    "print(b / degrees)\n",
    "print('')\n",
    "\n",
    "a = (np.random.rand(N) - 0.5) * np.pi * 4\n",
    "print(a / degrees)\n",
    "b = put_in_limits(a, 'delta')\n",
    "print(b / degrees)\n",
    "print('')\n"
   ]
  },
  {
   "cell_type": "markdown",
   "metadata": {},
   "source": [
    "## Transform charac angles in azimuth and ellipticity"
   ]
  },
  {
   "cell_type": "code",
   "execution_count": 20,
   "metadata": {},
   "outputs": [
    {
     "name": "stdout",
     "output_type": "stream",
     "text": [
      "Alpha:  [64.07  7.53  4.29 77.48 55.69 67.43 13.27 80.11  1.97 23.86]\n",
      "Delta:  [147.56 300.59 327.59 339.62  26.66 252.56 192.53 254.85 243.41 212.82] \n",
      "\n",
      "Azimuth:  [113.53   3.9    3.63  78.18  56.83  98.38 167.01  92.68 179.12 158.63]\n",
      "Ellipticity:  [ 12.48  -6.46  -2.29  -4.24  12.35 -21.27  -2.78  -9.53  -1.76 -11.82] \n",
      "\n",
      "[ True  True  True  True  True  True  True  True  True  True]\n",
      "New alpha:  [64.07  7.53  4.29 77.48 55.69 67.43 13.27 80.11  1.97 23.86]\n",
      "New delta:  [147.56 300.59 327.59 339.62  26.66 252.56 192.53 254.85 243.41 212.82] \n",
      "\n",
      "Match alpha:  [ True  True  True  True  True  True  True  True  True  True]\n",
      "Match delta:  [ True  True  True  True  True  True  True  True  True  True] \n",
      "\n"
     ]
    }
   ],
   "source": [
    "alpha = (np.random.rand(N)) * np.pi/2\n",
    "delta = (np.random.rand(N)) * np.pi * 2\n",
    "print('Alpha: ', alpha / degrees)\n",
    "print('Delta: ', delta / degrees, '\\n')\n",
    "\n",
    "az, el = charac_angles_2_azimuth_elipt(alpha, delta)\n",
    "print('Azimuth: ', az / degrees)\n",
    "print('Ellipticity: ', el / degrees, '\\n')\n",
    "\n",
    "alpha2, delta2 = azimuth_elipt_2_charac_angles(az, el)\n",
    "print('New alpha: ', alpha2 / degrees)\n",
    "print('New delta: ', delta2 / degrees, '\\n')\n",
    "\n",
    "Amatch = np.abs(alpha - alpha2) < 1e-10\n",
    "Dmatch = np.abs(delta - delta2) < 1e-10\n",
    "print('Match alpha: ', Amatch)\n",
    "print('Match delta: ', Dmatch, '\\n')"
   ]
  },
  {
   "cell_type": "code",
   "execution_count": 33,
   "metadata": {},
   "outputs": [
    {
     "name": "stdout",
     "output_type": "stream",
     "text": [
      "Alpha:  [ 0. 45. 90.]\n",
      "Delta:  360.0 \n",
      "\n",
      "Azimuth:  [ 0. 45. 90.]\n",
      "Ellipticity:  [0. 0. 0.] \n",
      "\n",
      "[False False False]\n",
      "New alpha:  [ 0. 45. 90.]\n",
      "New delta:  [0. 0. 0.] \n",
      "\n",
      "Match alpha:  [ True  True  True]\n",
      "Match delta:  [False False False] \n",
      "\n"
     ]
    }
   ],
   "source": [
    "alpha = np.array([0, 45, 90]) * degrees\n",
    "delta = 360 * degrees\n",
    "print('Alpha: ', alpha / degrees)\n",
    "print('Delta: ', delta / degrees, '\\n')\n",
    "\n",
    "az, el = charac_angles_2_azimuth_elipt(alpha, delta)\n",
    "print('Azimuth: ', az / degrees)\n",
    "print('Ellipticity: ', el / degrees, '\\n')\n",
    "\n",
    "alpha2, delta2 = azimuth_elipt_2_charac_angles(az, el)\n",
    "print('New alpha: ', alpha2 / degrees)\n",
    "print('New delta: ', delta2 / degrees, '\\n')\n",
    "\n",
    "Amatch = np.abs(alpha - alpha2) < 1e-10\n",
    "Dmatch = np.abs(delta - delta2) < 1e-10\n",
    "print('Match alpha: ', Amatch)\n",
    "print('Match delta: ', Dmatch, '\\n')"
   ]
  },
  {
   "cell_type": "markdown",
   "metadata": {},
   "source": [
    "## Transform azimuth and ellipticity in charac angles"
   ]
  },
  {
   "cell_type": "code",
   "execution_count": 35,
   "metadata": {},
   "outputs": [
    {
     "name": "stdout",
     "output_type": "stream",
     "text": [
      "Azimuth:  [ 30.89 158.56 142.55  77.07  44.51   4.83   1.23 132.23  52.17   0.23]\n",
      "Ellipticity:  [ -0.01 -24.5  -29.97 -42.88  13.79 -31.66 -25.14  36.34  -7.37  41.04] \n",
      "\n",
      "[ True  True  True  True  True  True  True  True  True  True]\n",
      "Alpha:  [30.89 30.63 41.25 46.91 44.57 31.87 25.16 45.82 51.93 41.04]\n",
      "Delta:  [359.98 239.4  240.81 271.85  27.58 274.82 272.04 107.24 344.81  89.94] \n",
      "\n",
      "New azimuth:  [ 30.89 158.56 142.55  77.07  44.51   4.83   1.23 132.23  52.17   0.23]\n",
      "New ellipticity:  [ -0.01 -24.5  -29.97 -42.88  13.79 -31.66 -25.14  36.34  -7.37  41.04] \n",
      "\n",
      "Match azimuth:  [ True  True  True  True  True  True  True  True  True  True]\n",
      "Match ellipticity:  [ True  True  True  True  True  True  True  True  True  True] \n",
      "\n"
     ]
    }
   ],
   "source": [
    "az = (np.random.rand(N)) * np.pi\n",
    "el = (0.5 - np.random.rand(N)) * np.pi / 2\n",
    "print('Azimuth: ', az / degrees)\n",
    "print('Ellipticity: ', el / degrees, '\\n')\n",
    "\n",
    "alpha, delta = azimuth_elipt_2_charac_angles(az, el)\n",
    "print('Alpha: ', alpha / degrees)\n",
    "print('Delta: ', delta / degrees, '\\n')\n",
    "\n",
    "az2, el2 = charac_angles_2_azimuth_elipt(alpha, delta)\n",
    "print('New azimuth: ', az2 / degrees)\n",
    "print('New ellipticity: ', el2 / degrees, '\\n')\n",
    "\n",
    "Amatch = np.abs(az - az2) < 1e-10\n",
    "Dmatch = np.abs(el - el2) < 1e-10\n",
    "print('Match azimuth: ', Amatch)\n",
    "print('Match ellipticity: ', Dmatch, '\\n')"
   ]
  },
  {
   "cell_type": "code",
   "execution_count": 38,
   "metadata": {},
   "outputs": [
    {
     "name": "stdout",
     "output_type": "stream",
     "text": [
      "Azimuth:  [  0.  45.  90. 135. 180.]\n",
      "Ellipticity:  45.0 \n",
      "\n",
      "[False False False False False]\n",
      "Alpha:  [45. 45. 45. 45. 45.]\n",
      "Delta:  [270. 270. 270. 270. 270.] \n",
      "\n",
      "New azimuth:  [0. 0. 0. 0. 0.]\n",
      "New ellipticity:  [45. 45. 45. 45. 45.] \n",
      "\n",
      "Match azimuth:  [ True False False False False]\n",
      "Match ellipticity:  [ True  True  True  True  True] \n",
      "\n"
     ]
    }
   ],
   "source": [
    "az = np.array([0, 45, 90, 135, 180]) * degrees\n",
    "el = 45 * degrees\n",
    "print('Azimuth: ', az / degrees)\n",
    "print('Ellipticity: ', el / degrees, '\\n')\n",
    "\n",
    "alpha, delta = azimuth_elipt_2_charac_angles(az, el)\n",
    "print('Alpha: ', alpha / degrees)\n",
    "print('Delta: ', delta / degrees, '\\n')\n",
    "\n",
    "az2, el2 = charac_angles_2_azimuth_elipt(alpha, delta)\n",
    "print('New azimuth: ', az2 / degrees)\n",
    "print('New ellipticity: ', el2 / degrees, '\\n')\n",
    "\n",
    "Amatch = np.abs(az - az2) < 1e-10\n",
    "Dmatch = np.abs(el - el2) < 1e-10\n",
    "print('Match azimuth: ', Amatch)\n",
    "print('Match ellipticity: ', Dmatch, '\\n')"
   ]
  },
  {
   "cell_type": "code",
   "execution_count": 6,
   "metadata": {},
   "outputs": [
    {
     "name": "stdout",
     "output_type": "stream",
     "text": [
      "[ True]\n"
     ]
    }
   ],
   "source": [
    "a = np.array([True])\n",
    "b = np.array([False])\n",
    "print(a+b)"
   ]
  },
  {
   "cell_type": "code",
   "execution_count": null,
   "metadata": {},
   "outputs": [],
   "source": []
  }
 ],
 "metadata": {
  "kernelspec": {
   "display_name": "Python 3",
   "language": "python",
   "name": "python3"
  },
  "language_info": {
   "codemirror_mode": {
    "name": "ipython",
    "version": 3
   },
   "file_extension": ".py",
   "mimetype": "text/x-python",
   "name": "python",
   "nbconvert_exporter": "python",
   "pygments_lexer": "ipython3",
   "version": "3.7.1"
  }
 },
 "nbformat": 4,
 "nbformat_minor": 2
}
