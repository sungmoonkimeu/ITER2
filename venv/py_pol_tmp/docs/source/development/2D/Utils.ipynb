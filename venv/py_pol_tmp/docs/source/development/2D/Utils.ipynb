{
 "cells": [
  {
   "cell_type": "code",
   "execution_count": 6,
   "metadata": {},
   "outputs": [
    {
     "name": "stdout",
     "output_type": "stream",
     "text": [
      "The autoreload extension is already loaded. To reload it, use:\n",
      "  %reload_ext autoreload\n"
     ]
    }
   ],
   "source": [
    "%load_ext autoreload\n",
    "%autoreload 2"
   ]
  },
  {
   "cell_type": "code",
   "execution_count": 11,
   "metadata": {},
   "outputs": [],
   "source": [
    "from py_pol import degrees, np\n",
    "from py_pol.utils import *\n",
    "np.set_printoptions(precision=2)\n",
    "np.set_printoptions(suppress=True)"
   ]
  },
  {
   "cell_type": "markdown",
   "metadata": {},
   "source": [
    "## Put in limits"
   ]
  },
  {
   "cell_type": "code",
   "execution_count": 4,
   "metadata": {},
   "outputs": [
    {
     "name": "stdout",
     "output_type": "stream",
     "text": [
      "[-89.06  62.22  66.68 -55.19  67.81  -8.37  76.22  42.18 -30.52 -77.22]\n",
      "[89.06 62.22 66.68 55.19 67.81  8.37 76.22 42.18 30.52 77.22]\n",
      "\n",
      "[ 143.48 -211.12 -322.06  156.24  322.33  198.9   213.7  -112.24 -235.96\n",
      "  270.33]\n",
      "[143.48 148.88  37.94 156.24 322.33 198.9  213.7  247.76 124.04 270.33]\n",
      "\n"
     ]
    }
   ],
   "source": [
    "# Put in limits\n",
    "N = 10\n",
    "\n",
    "a = (np.random.rand(N) - 0.5) * np.pi\n",
    "print(a / degrees)\n",
    "b = put_in_limits(a, 'alpha')\n",
    "print(b / degrees)\n",
    "print('')\n",
    "\n",
    "a = (np.random.rand(N) - 0.5) * np.pi * 4\n",
    "print(a / degrees)\n",
    "b = put_in_limits(a, 'delta')\n",
    "print(b / degrees)\n",
    "print('')\n"
   ]
  },
  {
   "cell_type": "markdown",
   "metadata": {},
   "source": [
    "## Transform charac angles in azimuth and ellipticity"
   ]
  },
  {
   "cell_type": "code",
   "execution_count": 5,
   "metadata": {},
   "outputs": [
    {
     "name": "stdout",
     "output_type": "stream",
     "text": [
      "Alpha:  [73.61 69.58 58.24 38.43  7.9  20.47  3.1  71.4  62.36 28.67  0.6  79.21\n",
      " 64.94 86.74 15.99 77.38  5.79 73.34 17.32 49.3  49.94 52.88 76.32 22.76\n",
      " 64.4  18.98  7.71 41.75 13.88 55.83 77.35 42.2  50.76 72.44 20.55 80.92\n",
      " 79.29 32.1  64.67 15.03 58.37  0.67 68.55 31.52 79.55 83.33 63.47 50.18\n",
      " 38.54 23.11 19.46 65.98 10.22 22.72 26.42 45.3  48.6  38.01 76.3  60.43\n",
      " 17.98 85.42 78.88 14.56 35.43 65.66 67.46 80.28 67.13 89.27 65.75 81.93\n",
      "  1.93 63.97 39.59 82.38 88.22 72.59 20.81 22.54 49.44 48.64 10.79 32.87\n",
      " 42.62 68.12 19.71  8.56 35.24  7.58 69.09  3.08 49.39 72.06 47.06 47.81\n",
      " 81.66 81.61 10.02 21.76]\n",
      "Delta:  [198.05 342.42 181.74  32.36  58.99 112.07  68.21 312.96  62.86 313.98\n",
      " 245.42  53.57 226.82 341.88 228.9  184.27 200.82 348.17 108.74 143.54\n",
      " 190.   325.78 234.24  93.87 212.82  45.3   86.47  37.49 291.13  77.05\n",
      " 132.66 160.62 182.99 201.62 257.14  86.85  55.28 118.51 142.01 169.97\n",
      "  65.43  76.21 326.24 276.87 192.87 176.27  97.39 153.18 272.96 329.99\n",
      "  94.27 112.99 194.07 160.74 296.43 306.08 284.5  324.89 266.14 158.37\n",
      " 108.5  220.55 116.86 282.41 157.18 314.92 325.04 358.8  198.71 199.28\n",
      " 283.63 359.    22.35  82.8   98.36  56.2  309.25 208.09 121.72 261.98\n",
      " 133.17 319.85 356.96 322.08 159.    85.96 237.43 189.69 290.03  63.53\n",
      "  63.04   2.   194.08 206.89 175.91 269.23 165.3  321.7  250.5   83.08] \n",
      "\n",
      "Azimuth:  [105.74  70.25 121.76  37.28   4.15 170.97   1.15  76.32  73.32  23.64\n",
      " 179.75  83.39 109.66  86.9  168.84 102.59 174.58  73.62 173.74 129.68\n",
      " 129.99  54.42  98.41 178.04 113.13  14.38   0.49  40.91   5.37  75.28\n",
      "  98.88 137.97 129.23 106.59 174.51  89.48  83.7  157.69 111.94 165.16\n",
      "  70.23   0.16  71.16   6.62 100.2   96.66  94.86 129.21   6.33  21.06\n",
      " 178.28 101.74 170.06 158.11  15.21  45.5   58.38  36.54  91.   118.64\n",
      " 173.52  93.49  95.24   3.41 145.31  70.62  70.3   80.29 112.09  90.69\n",
      "  82.55  81.93   1.78  85.43 161.37  85.69  88.87 105.77 167.48 176.02\n",
      " 128.57  49.75  10.77  30.13 137.55  88.07 168.07 171.55  22.     3.44\n",
      "  78.96   3.08 130.48 106.41 132.93  93.9   98.08  83.34 176.53   3.26]\n",
      "Ellipticity:  [ -4.83  -5.7   -0.78  15.71   6.75  18.69   2.87 -13.13  23.5  -18.64\n",
      "  -0.54   8.6  -17.02  -1.01 -11.76  -0.91  -2.04  -3.23  16.28  17.99\n",
      "  -4.93 -16.39 -10.95  22.69 -12.49  12.96   7.7   18.6  -12.88  32.46\n",
      "   9.16   9.64  -1.46  -6.12 -19.93   9.06   8.73  26.15  14.21   2.5\n",
      "  27.15   0.65 -11.11 -31.12  -2.28   0.43  26.21  13.17 -38.37 -10.59\n",
      "  19.4   21.6   -2.44   6.8  -22.76 -26.96 -36.92 -16.96 -13.67   9.22\n",
      "  16.92  -2.97   9.87 -14.19  10.75 -16.06 -11.97  -0.2   -6.64  -0.24\n",
      " -23.35  -0.14   0.73  25.74  38.18   6.31  -1.38  -7.8   17.2  -22.26\n",
      "  23.05 -19.88  -0.56 -17.04  10.46  21.81 -16.18  -1.42 -31.16   6.77\n",
      "  18.24   0.11  -6.95  -7.68   2.04 -42.17   2.09  -5.15  -9.42  21.57] \n",
      "\n",
      "New alpha:  [73.61 69.58 58.24 38.43  7.9  20.47  3.1  71.4  62.36 28.67  0.6  79.21\n",
      " 64.94 86.74 15.99 77.38  5.79 73.34 17.32 49.3  49.94 52.88 76.32 22.76\n",
      " 64.4  18.98  7.71 41.75 13.88 55.83 77.35 42.2  50.76 72.44 20.55 80.92\n",
      " 79.29 32.1  64.67 15.03 58.37  0.67 68.55 31.52 79.55 83.33 63.47 50.18\n",
      " 38.54 23.11 19.46 65.98 10.22 22.72 26.42 45.3  48.6  38.01 76.3  60.43\n",
      " 17.98 85.42 78.88 14.56 35.43 65.66 67.46 80.28 67.13 89.27 65.75 81.93\n",
      "  1.93 63.97 39.59 82.38 88.22 72.59 20.81 22.54 49.44 48.64 10.79 32.87\n",
      " 42.62 68.12 19.71  8.56 35.24  7.58 69.09  3.08 49.39 72.06 47.06 47.81\n",
      " 81.66 81.61 10.02 21.76]\n",
      "New delta:  [198.05 342.42 181.74  32.36  58.99 112.07  68.21 312.96  62.86 313.98\n",
      " 245.42  53.57 226.82 341.88 228.9  184.27 200.82 348.17 108.74 143.54\n",
      " 190.   325.78 234.24  93.87 212.82  45.3   86.47  37.49 291.13  77.05\n",
      " 132.66 160.62 182.99 201.62 257.14  86.85  55.28 118.51 142.01 169.97\n",
      "  65.43  76.21 326.24 276.87 192.87 176.27  97.39 153.18 272.96 329.99\n",
      "  94.27 112.99 194.07 160.74 296.43 306.08 284.5  324.89 266.14 158.37\n",
      " 108.5  220.55 116.86 282.41 157.18 314.92 325.04 358.8  198.71 199.28\n",
      " 283.63 359.    22.35  82.8   98.36  56.2  309.25 208.09 121.72 261.98\n",
      " 133.17 319.85 356.96 322.08 159.    85.96 237.43 189.69 290.03  63.53\n",
      "  63.04   2.   194.08 206.89 175.91 269.23 165.3  321.7  250.5   83.08] \n",
      "\n",
      "Match alpha:  [ True  True  True  True  True  True  True  True  True  True  True  True\n",
      "  True  True  True  True  True  True  True  True  True  True  True  True\n",
      "  True  True  True  True  True  True  True  True  True  True  True  True\n",
      "  True  True  True  True  True  True  True  True  True  True  True  True\n",
      "  True  True  True  True  True  True  True  True  True  True  True  True\n",
      "  True  True  True  True  True  True  True  True  True  True  True  True\n",
      "  True  True  True  True  True  True  True  True  True  True  True  True\n",
      "  True  True  True  True  True  True  True  True  True  True  True  True\n",
      "  True  True  True  True]\n",
      "Match delta:  [ True  True  True  True  True  True  True  True  True  True  True  True\n",
      "  True  True  True  True  True  True  True  True  True  True  True  True\n",
      "  True  True  True  True  True  True  True  True  True  True  True  True\n",
      "  True  True  True  True  True  True  True  True  True  True  True  True\n",
      "  True  True  True  True  True  True  True  True  True  True  True  True\n",
      "  True  True  True  True  True  True  True  True  True  True  True  True\n",
      "  True  True  True  True  True  True  True  True  True  True  True  True\n",
      "  True  True  True  True  True  True  True  True  True  True  True  True\n",
      "  True  True  True  True] \n",
      "\n"
     ]
    }
   ],
   "source": [
    "N=100\n",
    "\n",
    "alpha = (np.random.rand(N)) * np.pi/2\n",
    "delta = (np.random.rand(N)) * np.pi * 2\n",
    "print('Alpha: ', alpha / degrees)\n",
    "print('Delta: ', delta / degrees, '\\n')\n",
    "\n",
    "az, el = charac_angles_2_azimuth_elipt(alpha, delta)\n",
    "print('Azimuth: ', az / degrees)\n",
    "print('Ellipticity: ', el / degrees, '\\n')\n",
    "\n",
    "alpha2, delta2 = azimuth_elipt_2_charac_angles(az, el)\n",
    "print('New alpha: ', alpha2 / degrees)\n",
    "print('New delta: ', delta2 / degrees, '\\n')\n",
    "\n",
    "Amatch = np.abs(alpha - alpha2) < 1e-10\n",
    "Dmatch = np.abs(delta - delta2) < 1e-10\n",
    "print('Match alpha: ', Amatch)\n",
    "print('Match delta: ', Dmatch, '\\n')"
   ]
  },
  {
   "cell_type": "code",
   "execution_count": 6,
   "metadata": {},
   "outputs": [
    {
     "name": "stdout",
     "output_type": "stream",
     "text": [
      "Alpha:  [ 0. 45. 90.]\n",
      "Delta:  360.0 \n",
      "\n",
      "Azimuth:  [ 0. 45. 90.]\n",
      "Ellipticity:  [0. 0. 0.] \n",
      "\n",
      "New alpha:  [ 0. 45. 90.]\n",
      "New delta:  [0. 0. 0.] \n",
      "\n",
      "Match alpha:  [ True  True  True]\n",
      "Match delta:  [False False False] \n",
      "\n"
     ]
    }
   ],
   "source": [
    "alpha = np.array([0, 45, 90]) * degrees\n",
    "delta = 360 * degrees\n",
    "print('Alpha: ', alpha / degrees)\n",
    "print('Delta: ', delta / degrees, '\\n')\n",
    "\n",
    "az, el = charac_angles_2_azimuth_elipt(alpha, delta)\n",
    "print('Azimuth: ', az / degrees)\n",
    "print('Ellipticity: ', el / degrees, '\\n')\n",
    "\n",
    "alpha2, delta2 = azimuth_elipt_2_charac_angles(az, el)\n",
    "print('New alpha: ', alpha2 / degrees)\n",
    "print('New delta: ', delta2 / degrees, '\\n')\n",
    "\n",
    "Amatch = np.abs(alpha - alpha2) < 1e-10\n",
    "Dmatch = np.abs(delta - delta2) < 1e-10\n",
    "print('Match alpha: ', Amatch)\n",
    "print('Match delta: ', Dmatch, '\\n')"
   ]
  },
  {
   "cell_type": "markdown",
   "metadata": {},
   "source": [
    "## Transform azimuth and ellipticity in charac angles"
   ]
  },
  {
   "cell_type": "code",
   "execution_count": 6,
   "metadata": {},
   "outputs": [
    {
     "name": "stdout",
     "output_type": "stream",
     "text": [
      "Azimuth:  [105.62   9.16  63.77 162.27   2.97  40.17 126.   137.86  56.     8.22\n",
      "  76.63  74.13  89.86 141.07  65.49  36.76  18.24  82.08  92.62 131.02\n",
      "   0.65  37.94 111.53 160.28  79.17  85.57 133.43 124.3  116.55  90.96\n",
      " 108.71  25.92 140.17 174.68  70.02  55.26 130.11 114.02  76.5  121.56\n",
      "  33.6   63.86 120.72  63.    19.47  32.86  80.92   5.95  75.83  55.28\n",
      " 108.43  28.11  49.68   9.65  31.59  27.58  45.62  32.17 161.76  62.18\n",
      " 170.6   31.46  41.66  74.53 155.43 163.83 104.84 146.43 171.46  40.22\n",
      "   5.95  88.78 133.4   10.74 176.46  64.98   0.95  95.9  165.57  86.11\n",
      "  64.18 131.58   9.06 167.88  69.15 150.01   4.89  60.36  94.82  19.91\n",
      " 130.84 113.78   8.17 104.44  47.32  54.27  91.58 145.55 116.93 171.49]\n",
      "Ellipticity:  [ 24.92  22.48  42.47   4.9  -17.15 -25.71  22.76 -30.04 -42.67 -37.79\n",
      "   6.28  -1.42 -38.03 -26.66  19.54  40.7   10.96  13.04 -30.96 -20.65\n",
      "  -2.14 -39.74   9.39  -8.87 -41.2  -21.31  22.45 -13.98   0.05  -5.07\n",
      "  -7.68  -5.52  14.96 -19.36  31.92  38.72  44.41   9.01 -37.5   27.62\n",
      "  36.36 -10.31  36.58   1.91  31.63  40.83  14.88  -9.74  32.81 -33.76\n",
      "  32.23  -9.63  38.97 -24.51  -8.31 -15.82 -43.95   3.67  20.48  27.39\n",
      " -27.58   7.4   22.82 -21.9    0.2  -26.08  39.7  -43.58  37.47  15.58\n",
      "   1.08 -30.44  27.95  -4.98 -38.13   7.39 -14.34   1.06 -32.33 -41.07\n",
      " -31.27 -27.13 -20.16   3.97   0.02 -34.8    7.45  -7.22 -11.76  -4.02\n",
      "   0.21  22.54 -15.12  20.59 -11.61 -39.73 -19.82  29.55  23.24 -17.21] \n",
      "\n",
      "Alpha:  [61.73 23.9  46.54 18.3  17.37 42.   51.25 43.57 45.87 38.09 75.33 74.07\n",
      " 51.97 41.39 60.3  43.79 20.88 74.89 58.98 47.98  2.24 43.72 66.89 21.33\n",
      " 48.53 68.32 46.11 54.4  63.45 84.84 69.99 26.33 40.52 19.96 54.88 47.19\n",
      " 45.1  64.74 51.67 52.47 41.69 62.47 48.98 62.95 34.76 43.29 72.79 11.35\n",
      " 55.65 48.86 55.09 29.17 45.97 25.88 32.2  30.45 45.02 32.29 26.3  54.5\n",
      " 28.63 31.94 42.67 64.12 24.57 29.39 49.6  44.45 37.81 40.91  6.05 59.55\n",
      " 45.89 11.79 38.19 64.2  14.36 84.01 33.99 48.89 53.31 47.   21.78 12.72\n",
      " 69.15 39.98  8.88 59.82 77.34 20.25 49.16 59.23 17.   65.61 47.14 46.67\n",
      " 70.12 39.67 56.98 18.96]\n",
      "Delta:  [113.65  72.53  85.98 163.43 278.63 308.19 133.04 240.2  274.33 274.16\n",
      "  26.36 354.6  270.07 233.94  47.09  81.76  34.09  60.85 267.21 221.57\n",
      " 286.91 280.21 153.51 206.73 272.82 279.5  135.06 209.68 179.88 259.41\n",
      " 204.34 346.06 149.68 257.03  72.49  78.21  91.16 156.36 276.94 121.76\n",
      "  74.   334.57 104.88   4.71  72.42  82.4   61.42 300.23  77.86 291.17\n",
      " 106.   337.2   78.09 286.02 341.5  323.1  272.1    8.13 124.41  59.78\n",
      " 257.36  16.52  45.84 298.19 179.47 247.44  95.29 267.38  94.52  31.51\n",
      "  10.34 271.36 124.07 334.38 268.28  18.99 273.46 169.69 257.12 271.07\n",
      " 292.18 234.46 290.11 161.22   0.07 252.16  57.43 343.32 248.94 347.57\n",
      " 179.58 126.35 295.76 118.9  336.72 280.01 266.19 119.18 127.48 246.87] \n",
      "\n",
      "New azimuth:  [105.62   9.16  63.77 162.27   2.97  40.17 126.   137.86  56.     8.22\n",
      "  76.63  74.13  89.86 141.07  65.49  36.76  18.24  82.08  92.62 131.02\n",
      "   0.65  37.94 111.53 160.28  79.17  85.57 133.43 124.3  116.55  90.96\n",
      " 108.71  25.92 140.17 174.68  70.02  55.26 130.11 114.02  76.5  121.56\n",
      "  33.6   63.86 120.72  63.    19.47  32.86  80.92   5.95  75.83  55.28\n",
      " 108.43  28.11  49.68   9.65  31.59  27.58  45.62  32.17 161.76  62.18\n",
      " 170.6   31.46  41.66  74.53 155.43 163.83 104.84 146.43 171.46  40.22\n",
      "   5.95  88.78 133.4   10.74 176.46  64.98   0.95  95.9  165.57  86.11\n",
      "  64.18 131.58   9.06 167.88  69.15 150.01   4.89  60.36  94.82  19.91\n",
      " 130.84 113.78   8.17 104.44  47.32  54.27  91.58 145.55 116.93 171.49]\n",
      "New ellipticity:  [ 24.92  22.48  42.47   4.9  -17.15 -25.71  22.76 -30.04 -42.67 -37.79\n",
      "   6.28  -1.42 -38.03 -26.66  19.54  40.7   10.96  13.04 -30.96 -20.65\n",
      "  -2.14 -39.74   9.39  -8.87 -41.2  -21.31  22.45 -13.98   0.05  -5.07\n",
      "  -7.68  -5.52  14.96 -19.36  31.92  38.72  44.41   9.01 -37.5   27.62\n",
      "  36.36 -10.31  36.58   1.91  31.63  40.83  14.88  -9.74  32.81 -33.76\n",
      "  32.23  -9.63  38.97 -24.51  -8.31 -15.82 -43.95   3.67  20.48  27.39\n",
      " -27.58   7.4   22.82 -21.9    0.2  -26.08  39.7  -43.58  37.47  15.58\n",
      "   1.08 -30.44  27.95  -4.98 -38.13   7.39 -14.34   1.06 -32.33 -41.07\n",
      " -31.27 -27.13 -20.16   3.97   0.02 -34.8    7.45  -7.22 -11.76  -4.02\n",
      "   0.21  22.54 -15.12  20.59 -11.61 -39.73 -19.82  29.55  23.24 -17.21] \n",
      "\n",
      "Match azimuth:  [ True  True  True  True  True  True  True  True  True  True  True  True\n",
      "  True  True  True  True  True  True  True  True  True  True  True  True\n",
      "  True  True  True  True  True  True  True  True  True  True  True  True\n",
      "  True  True  True  True  True  True  True  True  True  True  True  True\n",
      "  True  True  True  True  True  True  True  True  True  True  True  True\n",
      "  True  True  True  True  True  True  True  True  True  True  True  True\n",
      "  True  True  True  True  True  True  True  True  True  True  True  True\n",
      "  True  True  True  True  True  True  True  True  True  True  True  True\n",
      "  True  True  True  True]\n",
      "Match ellipticity:  [ True  True  True  True  True  True  True  True  True  True  True  True\n",
      "  True  True  True  True  True  True  True  True  True  True  True  True\n",
      "  True  True  True  True  True  True  True  True  True  True  True  True\n",
      "  True  True  True  True  True  True  True  True  True  True  True  True\n",
      "  True  True  True  True  True  True  True  True  True  True  True  True\n",
      "  True  True  True  True  True  True  True  True  True  True  True  True\n",
      "  True  True  True  True  True  True  True  True  True  True  True  True\n",
      "  True  True  True  True  True  True  True  True  True  True  True  True\n",
      "  True  True  True  True] \n",
      "\n"
     ]
    }
   ],
   "source": [
    "az = (np.random.rand(N)) * np.pi\n",
    "el = (0.5 - np.random.rand(N)) * np.pi / 2\n",
    "print('Azimuth: ', az / degrees)\n",
    "print('Ellipticity: ', el / degrees, '\\n')\n",
    "\n",
    "alpha, delta = azimuth_elipt_2_charac_angles(az, el)\n",
    "print('Alpha: ', alpha / degrees)\n",
    "print('Delta: ', delta / degrees, '\\n')\n",
    "\n",
    "az2, el2 = charac_angles_2_azimuth_elipt(alpha, delta)\n",
    "print('New azimuth: ', az2 / degrees)\n",
    "print('New ellipticity: ', el2 / degrees, '\\n')\n",
    "\n",
    "Amatch = np.abs(az - az2) < 1e-10\n",
    "Dmatch = np.abs(el - el2) < 1e-10\n",
    "print('Match azimuth: ', Amatch)\n",
    "print('Match ellipticity: ', Dmatch, '\\n')"
   ]
  },
  {
   "cell_type": "code",
   "execution_count": 8,
   "metadata": {},
   "outputs": [
    {
     "name": "stdout",
     "output_type": "stream",
     "text": [
      "Azimuth:  [  0.  45.  90. 135. 180.]\n",
      "Ellipticity:  45.0 \n",
      "\n",
      "Alpha:  [45. 45. 45. 45. 45.]\n",
      "Delta:  [270. 270. 270. 270. 270.] \n",
      "\n",
      "New azimuth:  [0. 0. 0. 0. 0.]\n",
      "New ellipticity:  [45. 45. 45. 45. 45.] \n",
      "\n",
      "Match azimuth:  [ True False False False False]\n",
      "Match ellipticity:  [ True  True  True  True  True] \n",
      "\n"
     ]
    }
   ],
   "source": [
    "az = np.array([0, 45, 90, 135, 180]) * degrees\n",
    "el = 45 * degrees\n",
    "print('Azimuth: ', az / degrees)\n",
    "print('Ellipticity: ', el / degrees, '\\n')\n",
    "\n",
    "alpha, delta = azimuth_elipt_2_charac_angles(az, el)\n",
    "print('Alpha: ', alpha / degrees)\n",
    "print('Delta: ', delta / degrees, '\\n')\n",
    "\n",
    "az2, el2 = charac_angles_2_azimuth_elipt(alpha, delta)\n",
    "print('New azimuth: ', az2 / degrees)\n",
    "print('New ellipticity: ', el2 / degrees, '\\n')\n",
    "\n",
    "Amatch = np.abs(az - az2) < 1e-10\n",
    "Dmatch = np.abs(el - el2) < 1e-10\n",
    "print('Match azimuth: ', Amatch)\n",
    "print('Match ellipticity: ', Dmatch, '\\n')"
   ]
  },
  {
   "cell_type": "code",
   "execution_count": 14,
   "metadata": {},
   "outputs": [
    {
     "name": "stdout",
     "output_type": "stream",
     "text": [
      "Azimuth:  [nan nan nan]\n",
      "Ellipticity:  [ 30.  45. -45.] \n",
      "\n",
      "[False False False] [0. 0. 0.]\n",
      "[False  True  True] [0.   1.57 4.71]\n",
      "[False False False] [0.   1.57 4.71]\n",
      "[ True False False] [ nan 1.57 4.71]\n",
      "[False False False] [ nan 1.57 4.71]\n",
      "Alpha:  [nan 45. 45.]\n",
      "Delta:  [ nan  90. 270.] \n",
      "\n",
      "New azimuth:  [nan  0.  0.]\n",
      "New ellipticity:  [ nan -45.  45.] \n",
      "\n",
      "Match azimuth:  [False False False]\n",
      "Match ellipticity:  [False False False] \n",
      "\n"
     ]
    },
    {
     "name": "stderr",
     "output_type": "stream",
     "text": [
      "d:\\codigo\\py_pol\\py_pol\\utils.py:662: RuntimeWarning: invalid value encountered in greater\n",
      "  cond2 = cond1 * (azimuth > np.pi / 2)\n",
      "d:\\codigo\\py_pol\\py_pol\\utils.py:864: RuntimeWarning: invalid value encountered in greater\n",
      "  q = q + 3 * (angle > np.pi / 2) * (angle < np.pi * 3 / 4)\n",
      "d:\\codigo\\py_pol\\py_pol\\utils.py:864: RuntimeWarning: invalid value encountered in less\n",
      "  q = q + 3 * (angle > np.pi / 2) * (angle < np.pi * 3 / 4)\n",
      "d:\\codigo\\py_pol\\py_pol\\utils.py:865: RuntimeWarning: invalid value encountered in greater\n",
      "  q = q + 3.5 * (angle == np.pi * 3 / 4)\n",
      "d:\\codigo\\py_pol\\py_pol\\utils.py:865: RuntimeWarning: invalid value encountered in less\n",
      "  q = q + 3.5 * (angle == np.pi * 3 / 4)\n",
      "d:\\codigo\\py_pol\\py_pol\\utils.py:867: RuntimeWarning: invalid value encountered in greater\n",
      "  q = q + 4.5 * (angle == np.pi)\n",
      "d:\\codigo\\py_pol\\py_pol\\utils.py:867: RuntimeWarning: invalid value encountered in less\n",
      "  q = q + 4.5 * (angle == np.pi)\n",
      "d:\\codigo\\py_pol\\py_pol\\utils.py:869: RuntimeWarning: invalid value encountered in greater\n",
      "  q = q + 1 * (angle > 0) * (angle < np.pi / 2)\n",
      "d:\\codigo\\py_pol\\py_pol\\utils.py:869: RuntimeWarning: invalid value encountered in less\n",
      "  q = q + 1 * (angle > 0) * (angle < np.pi / 2)\n",
      "d:\\codigo\\py_pol\\py_pol\\utils.py:871: RuntimeWarning: invalid value encountered in greater\n",
      "  q = q + 2 * (angle > np.pi / 2) * (angle < np.pi)\n",
      "d:\\codigo\\py_pol\\py_pol\\utils.py:871: RuntimeWarning: invalid value encountered in less\n",
      "  q = q + 2 * (angle > np.pi / 2) * (angle < np.pi)\n",
      "d:\\codigo\\py_pol\\py_pol\\utils.py:738: RuntimeWarning: invalid value encountered in less\n",
      "  cond2 = (alpha < eps) + (np.abs(alpha - np.pi / 2) < eps)\n",
      "d:\\codigo\\py_pol\\py_pol\\utils.py:739: RuntimeWarning: invalid value encountered in less\n",
      "  azimuth[cond2] = alpha[cond2]\n",
      "d:\\codigo\\py_pol\\py_pol\\utils.py:740: RuntimeWarning: invalid value encountered in less\n",
      "  # Calculate values using trigonometric functions\n",
      "d:\\codigo\\py_pol\\py_pol\\utils.py:743: RuntimeWarning: invalid value encountered in less\n",
      "  ellipticity[cond1] = 0.5 * np.arcsin(\n",
      "d:\\codigo\\py_pol\\py_pol\\utils.py:874: RuntimeWarning: invalid value encountered in greater\n",
      "  q = q + 3.5 * (angle == np.pi * 3 / 2)\n",
      "d:\\codigo\\py_pol\\py_pol\\utils.py:874: RuntimeWarning: invalid value encountered in less\n",
      "  q = q + 3.5 * (angle == np.pi * 3 / 2)\n",
      "d:\\codigo\\py_pol\\py_pol\\utils.py:876: RuntimeWarning: invalid value encountered in greater\n",
      "  return q\n",
      "d:\\codigo\\py_pol\\py_pol\\utils.py:876: RuntimeWarning: invalid value encountered in less\n",
      "  return q\n",
      "d:\\codigo\\py_pol\\py_pol\\utils.py:878: RuntimeWarning: invalid value encountered in greater\n",
      "  \n",
      "d:\\codigo\\py_pol\\py_pol\\utils.py:878: RuntimeWarning: invalid value encountered in less\n",
      "  \n",
      "d:\\codigo\\py_pol\\py_pol\\utils.py:880: RuntimeWarning: invalid value encountered in greater\n",
      "  \"\"\"When dealing with polarization elipse coordinates, make sure that they\n",
      "d:\\codigo\\py_pol\\py_pol\\utils.py:880: RuntimeWarning: invalid value encountered in less\n",
      "  \"\"\"When dealing with polarization elipse coordinates, make sure that they\n",
      "C:\\Users\\Jesus\\Anaconda3\\lib\\site-packages\\ipykernel_launcher.py:14: RuntimeWarning: invalid value encountered in less\n",
      "  \n",
      "C:\\Users\\Jesus\\Anaconda3\\lib\\site-packages\\ipykernel_launcher.py:15: RuntimeWarning: invalid value encountered in less\n",
      "  from ipykernel import kernelapp as app\n"
     ]
    }
   ],
   "source": [
    "az = np.array([np.nan, np.nan, np.nan]) * degrees\n",
    "el = np.array([30, 45, -45]) * degrees\n",
    "print('Azimuth: ', az / degrees)\n",
    "print('Ellipticity: ', el / degrees, '\\n')\n",
    "\n",
    "alpha, delta = azimuth_elipt_2_charac_angles(az, el)\n",
    "print('Alpha: ', alpha / degrees)\n",
    "print('Delta: ', delta / degrees, '\\n')\n",
    "\n",
    "az2, el2 = charac_angles_2_azimuth_elipt(alpha, delta)\n",
    "print('New azimuth: ', az2 / degrees)\n",
    "print('New ellipticity: ', el2 / degrees, '\\n')\n",
    "\n",
    "Amatch = np.abs(az - az2) < 1e-10\n",
    "Dmatch = np.abs(el - el2) < 1e-10\n",
    "print('Match azimuth: ', Amatch)\n",
    "print('Match ellipticity: ', Dmatch, '\\n')"
   ]
  },
  {
   "cell_type": "code",
   "execution_count": 6,
   "metadata": {},
   "outputs": [
    {
     "name": "stdout",
     "output_type": "stream",
     "text": [
      "[ True]\n"
     ]
    }
   ],
   "source": [
    "a = np.array([True])\n",
    "b = np.array([False])\n",
    "print(a+b)"
   ]
  },
  {
   "cell_type": "markdown",
   "metadata": {},
   "source": [
    "## Rotation Jones"
   ]
  },
  {
   "cell_type": "code",
   "execution_count": 26,
   "metadata": {},
   "outputs": [
    {
     "name": "stdout",
     "output_type": "stream",
     "text": [
      "[[[ 0.]\n",
      "  [-1.]]\n",
      "\n",
      " [[ 1.]\n",
      "  [ 0.]]]\n",
      "[[[ 1.  0.]\n",
      "  [ 0.  1.]]\n",
      "\n",
      " [[-0. -1.]\n",
      "  [ 1.  0.]]] \n",
      " [[[ 1.  0.]\n",
      "  [-0. -1.]]\n",
      "\n",
      " [[ 0.  1.]\n",
      "  [ 1.  0.]]]\n",
      "+ = \n",
      "[+1.000 +0.000]   [+0.000 +1.000]   \n",
      "[-0.000 +1.000]   [-1.000 +0.000]   \n",
      "\n",
      "- = \n",
      "[+1.000 -0.000]   [+0.000 -1.000]   \n",
      "[+0.000 +1.000]   [+1.000 +0.000]   \n",
      "\n",
      "P = \n",
      "[+1.000 +0.000]   \n",
      "[+0.000 +0.000]   \n",
      "\n",
      "- * P * + = \n",
      "[+1.000 +0.000]   [+0.000 +0.000]   \n",
      "[+0.000 +0.000]   [+0.000 +1.000]   \n",
      "\n"
     ]
    }
   ],
   "source": [
    "angle = 90*degrees\n",
    "print(rotation_matrix_Jones(-angle))\n",
    "\n",
    "angle = np.linspace(0, 90*degrees, 2)\n",
    "M = rotation_matrix_Jones(angle)\n",
    "M2 = rotation_matrix_Jones(-angle)\n",
    "print(M, '\\n', M2)\n",
    "\n",
    "from py_pol.jones_matrix import Jones_matrix\n",
    "J1 = Jones_matrix('+')\n",
    "J1.from_matrix(M)\n",
    "print(J1)\n",
    "J2 = Jones_matrix('-')\n",
    "J2.from_matrix(M2)\n",
    "print(J2)\n",
    "J3 = Jones_matrix('P')\n",
    "J3.diattenuator_perfect()\n",
    "print(J3)\n",
    "J4 = J2 * (J3 * J1)\n",
    "print(J4)"
   ]
  },
  {
   "cell_type": "code",
   "execution_count": 35,
   "metadata": {},
   "outputs": [
    {
     "name": "stdout",
     "output_type": "stream",
     "text": [
      "[[[ 1.  0.]\n",
      "  [ 0.  1.]]\n",
      "\n",
      " [[-0. -1.]\n",
      "  [ 1.  0.]]] \n",
      " [[[ 1.  0.]\n",
      "  [-0. -1.]]\n",
      "\n",
      " [[ 0.  1.]\n",
      "  [ 1.  0.]]]\n",
      "[2 2 2]\n",
      "0 1\n",
      "+ = \n",
      "[+1.000 +0.000]   [+0.000 +1.000]   \n",
      "[-0.000 +1.000]   [-1.000 +0.000]   \n",
      "\n",
      "[2 2 2]\n",
      "0 1\n",
      "- = \n",
      "[+1.000 -0.000]   [+0.000 -1.000]   \n",
      "[+0.000 +1.000]   [+1.000 +0.000]   \n",
      "\n",
      "[2 2 1]\n",
      "0 1\n",
      "[2 2 1]\n",
      "0 1\n",
      "[2 2 1]\n",
      "0 1\n",
      "P = \n",
      "[+1.000 +0.000]   \n",
      "[+0.000 +0.000]   \n",
      "\n",
      "[2 2 2]\n",
      "0 1\n",
      "[2 2 2]\n",
      "0 1\n",
      "- * P = \n",
      "[+1.000 +0.000]   [+0.000 +0.000]   \n",
      "[+0.000 +1.000]   [+0.000 +0.000]   \n",
      "\n"
     ]
    },
    {
     "name": "stderr",
     "output_type": "stream",
     "text": [
      "d:\\codigo\\py_pol\\py_pol\\jones_matrix.py:514: ComplexWarning: Casting complex values to real discards the imaginary part\n",
      "  self.M = np.array(self.M, dtype=float)\n"
     ]
    }
   ],
   "source": [
    "angle = np.linspace(0, 90*degrees, 2)\n",
    "M = rotation_matrix_Jones(angle)\n",
    "M2 = rotation_matrix_Jones(-angle)\n",
    "print(M, '\\n', M2)\n",
    "\n",
    "from py_pol.jones_matrix import Jones_matrix\n",
    "J1 = Jones_matrix('+')\n",
    "J1.from_matrix(M)\n",
    "print(J1)\n",
    "J2 = Jones_matrix('-')\n",
    "J2.from_matrix(M2)\n",
    "print(J2)\n",
    "J3 = Jones_matrix('P')\n",
    "J3.diattenuator_perfect()\n",
    "print(J3)\n",
    "J4 = J2 * J3\n",
    "print(J4)"
   ]
  },
  {
   "cell_type": "code",
   "execution_count": 33,
   "metadata": {},
   "outputs": [
    {
     "data": {
      "text/plain": [
       "2"
      ]
     },
     "execution_count": 33,
     "metadata": {},
     "output_type": "execute_result"
    }
   ],
   "source": [
    "np.argmin(np.array([2,2,1])==2)"
   ]
  },
  {
   "cell_type": "markdown",
   "metadata": {},
   "source": [
    "## Inverse_pypol"
   ]
  },
  {
   "cell_type": "code",
   "execution_count": 9,
   "metadata": {},
   "outputs": [
    {
     "name": "stdout",
     "output_type": "stream",
     "text": [
      "[[-5.  2.]\n",
      " [ 3. -1.]]\n",
      "[[[-5.]\n",
      "  [ 2.]]\n",
      "\n",
      " [[ 3.]\n",
      "  [-1.]]]\n"
     ]
    }
   ],
   "source": [
    "M1 = np.array([[1, 2], [3,5]])\n",
    "M1 = np.linalg.inv(M1)\n",
    "print(M1)\n",
    "\n",
    "M2 = np.array([[[1], [2]], [[3],[5]]])\n",
    "M2 = inv_pypol(M2)\n",
    "print(M2)"
   ]
  },
  {
   "cell_type": "markdown",
   "metadata": {},
   "source": [
    "## matmul_pypol"
   ]
  },
  {
   "cell_type": "code",
   "execution_count": 20,
   "metadata": {},
   "outputs": [
    {
     "name": "stdout",
     "output_type": "stream",
     "text": [
      "[[[ 20]\n",
      "  [201]]\n",
      "\n",
      " [[ 50]\n",
      "  [503]]]\n",
      "(2, 2, 1) (2, 2, 1)\n",
      "[[[2]]\n",
      "\n",
      " [[5]]]\n",
      "(2, 2, 1) (2, 1, 1)\n"
     ]
    }
   ],
   "source": [
    "M1 = np.array([[[1], [2]], [[3],[5]]])\n",
    "M2 = np.array([[[0], [1]], [[10], [100]]])\n",
    "M = matmul_pypol(M1, M2)\n",
    "print(M)\n",
    "print(M1.shape, M.shape)\n",
    "\n",
    "M1 = np.array([[[1], [2]], [[3],[5]]])\n",
    "M2 = np.array([[0], [1]])\n",
    "M = matmul_pypol(M1, M2)\n",
    "print(M)\n",
    "print(M1.shape, M.shape)"
   ]
  },
  {
   "cell_type": "code",
   "execution_count": null,
   "metadata": {},
   "outputs": [],
   "source": []
  }
 ],
 "metadata": {
  "kernelspec": {
   "display_name": "Python 3",
   "language": "python",
   "name": "python3"
  },
  "language_info": {
   "codemirror_mode": {
    "name": "ipython",
    "version": 3
   },
   "file_extension": ".py",
   "mimetype": "text/x-python",
   "name": "python",
   "nbconvert_exporter": "python",
   "pygments_lexer": "ipython3",
   "version": "3.7.1"
  }
 },
 "nbformat": 4,
 "nbformat_minor": 2
}
