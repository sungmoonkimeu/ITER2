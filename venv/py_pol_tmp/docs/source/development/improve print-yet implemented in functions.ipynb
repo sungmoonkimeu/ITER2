{
 "cells": [
  {
   "cell_type": "markdown",
   "metadata": {},
   "source": [
    "# improve printing\n",
    "\n",
    "date: 19/01/26\n",
    "\n",
    "author: Luis Miguel Sanchez Brea\n",
    "\n",
    "When we have a polarizer and rotate it several times, we get names as:\n",
    "\n",
    "    M1 @45.00º @45.00º @45.00º @45.00º @45.00º @45.00º @45.00º \n",
    "\n",
    "Here I try to obtain\n",
    "\n",
    "    M1 @135.00º \n",
    "    \n",
    "The function is yet implemented in rotate functions:\n"
   ]
  },
  {
   "cell_type": "code",
   "execution_count": 1,
   "metadata": {},
   "outputs": [],
   "source": [
    "from math import sqrt\n",
    "from py_pol.mueller import Mueller\n",
    "from py_pol import degrees\n",
    "import numpy as np"
   ]
  },
  {
   "cell_type": "code",
   "execution_count": 2,
   "metadata": {},
   "outputs": [
    {
     "name": "stdout",
     "output_type": "stream",
     "text": [
      "M1 @45.00º = \n",
      "  [+0.500, +0.000, +0.500, +0.000]\n",
      "  [+0.000, +0.000, +0.000, +0.000]\n",
      "  [+0.500, +0.000, +0.500, +0.000]\n",
      "  [+0.000, +0.000, +0.000, +0.000]\n",
      "\n"
     ]
    }
   ],
   "source": [
    "M1 = Mueller('M1')\n",
    "M1.diattenuator_linear(p1=1, p2=0, angle=45*degrees)\n",
    "print(M1)"
   ]
  },
  {
   "cell_type": "code",
   "execution_count": 3,
   "metadata": {},
   "outputs": [],
   "source": [
    "M1.rotate(angle=-45*degrees, keep=True)\n",
    "M1.rotate(angle=-45*degrees, keep=True)\n",
    "M1.rotate(angle=-45*degrees, keep=True);\n",
    "M1.rotate(angle=-45*degrees, keep=True);\n",
    "M1.rotate(angle=-45*degrees, keep=True);\n",
    "M1.rotate(angle=-45*degrees, keep=True);\n"
   ]
  },
  {
   "cell_type": "code",
   "execution_count": 4,
   "metadata": {},
   "outputs": [
    {
     "name": "stdout",
     "output_type": "stream",
     "text": [
      "M1 @135.00º = \n",
      "  [+0.500, +0.000, -0.500, +0.000]\n",
      "  [+0.000, +0.000, -0.000, +0.000]\n",
      "  [-0.500, -0.000, +0.500, +0.000]\n",
      "  [+0.000, +0.000, +0.000, +0.000]\n",
      "\n"
     ]
    }
   ],
   "source": [
    "print(M1)"
   ]
  },
  {
   "cell_type": "code",
   "execution_count": 5,
   "metadata": {},
   "outputs": [
    {
     "name": "stdout",
     "output_type": "stream",
     "text": [
      "[[ 0.5  0.  -0.5  0. ]\n",
      " [ 0.   0.  -0.   0. ]\n",
      " [-0.5 -0.   0.5  0. ]\n",
      " [ 0.   0.   0.   0. ]]\n"
     ]
    }
   ],
   "source": [
    "print(np.round(M1.M,3))"
   ]
  }
 ],
 "metadata": {
  "kernelspec": {
   "display_name": "Python 3",
   "language": "python",
   "name": "python3"
  },
  "language_info": {
   "codemirror_mode": {
    "name": "ipython",
    "version": 3
   },
   "file_extension": ".py",
   "mimetype": "text/x-python",
   "name": "python",
   "nbconvert_exporter": "python",
   "pygments_lexer": "ipython3",
   "version": "3.6.7"
  }
 },
 "nbformat": 4,
 "nbformat_minor": 2
}
