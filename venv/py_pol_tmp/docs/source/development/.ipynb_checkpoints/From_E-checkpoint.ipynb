{
 "cells": [
  {
   "cell_type": "markdown",
   "metadata": {},
   "source": [
    "# From_E\n",
    "\n",
    "## Jones_vector"
   ]
  },
  {
   "cell_type": "code",
   "execution_count": 1,
   "metadata": {},
   "outputs": [],
   "source": [
    "%load_ext autoreload\n",
    "%autoreload 2\n",
    "%matplotlib notebook \n",
    "from py_pol import degrees, np\n",
    "from py_pol.jones_vector import Jones_vector\n",
    "from py_pol.stokes import Stokes\n",
    "import matplotlib.pyplot as plt"
   ]
  },
  {
   "cell_type": "code",
   "execution_count": 4,
   "metadata": {},
   "outputs": [],
   "source": [
    "angle = np.linspace(0,2*np.pi, 11)\n",
    "Ex = 2 * np.exp(1j*angle)\n",
    "Ey = np.exp(1j*(angle+np.pi/2))\n",
    "E_join = np.vstack((Ex, Ey)).transpose()\n",
    "# print(Ex, '\\n', Ey, '\\n', E_join)\n",
    "# print((np.angle(Ey) - np.angle(Ex))%(np.pi*2))\n",
    "# print(np.angle(E_join[:,0]) - np.angle(E_join[:,1]))\n",
    "# print(np.mean(np.angle(E_join[:,0]) - np.angle(E_join[:,1])))\n",
    "# print(np.mean(np.angle(E_join[:,0]) - np.angle(E_join[:,1])).real)"
   ]
  },
  {
   "cell_type": "code",
   "execution_count": 3,
   "metadata": {},
   "outputs": [
    {
     "name": "stdout",
     "output_type": "stream",
     "text": [
      "[1.57079633 1.57079633 1.57079633 1.57079633 1.57079633 1.57079633\n",
      " 1.57079633 1.57079633 1.57079633 1.57079633 1.57079633]\n",
      "89.99999999999999\n",
      "parameters of J:\n",
      "    intensity        : 0.000 arb.u\n",
      "    alpha            : 0.000 deg\n",
      "    delay            : 0.000 deg\n",
      "    azimuth          : 0.000 deg\n",
      "    ellipticity angle: 0.000 deg\n",
      "    a, b             : 0.000  0.000\n",
      "    phase            : 0.000 deg\n",
      "\n"
     ]
    },
    {
     "data": {
      "text/plain": [
       "parameters of J:\n",
       "    intensity        : 8.000 arb.u\n",
       "    alpha            : 45.000 deg\n",
       "    delay            : 108.000 deg\n",
       "    azimuth          : 45.000 deg\n",
       "    ellipticity angle: 36.000 deg\n",
       "    a, b             : 1.663  2.288\n",
       "    phase            : 0.000 deg"
      ]
     },
     "execution_count": 3,
     "metadata": {},
     "output_type": "execute_result"
    }
   ],
   "source": [
    "J = Jones_vector()\n",
    "J.from_E(E_join)\n",
    "J.parameters"
   ]
  },
  {
   "cell_type": "markdown",
   "metadata": {},
   "source": [
    "## Stokes"
   ]
  },
  {
   "cell_type": "code",
   "execution_count": null,
   "metadata": {},
   "outputs": [],
   "source": [
    "angle = np.linspace(0,2*np.pi, 11)\n",
    "Ex = 2 * np.exp(1j*angle)\n",
    "Ey = np.exp(1j*(angle+np.pi/2))\n",
    "E_join = np.vstack((Ex, Ey)).transpose()"
   ]
  },
  {
   "cell_type": "code",
   "execution_count": 5,
   "metadata": {},
   "outputs": [
    {
     "data": {
      "text/plain": [
       "parameters of J:\n",
       "    intensity             : 5.000 arb. u.\n",
       "    amplitudes            : E0x 2.000, E0y 1.000, E0_unpol 0.000 \n",
       "    degree polarization   : 1.000\n",
       "    degree linear pol.    : 0.600\n",
       "    degree   circular pol.: 0.800\n",
       "    alpha                 : 26.565 deg\n",
       "    delay                 : 90.000 deg\n",
       "    azimuth               : 0.000 deg\n",
       "    ellipticity  angle    : 26.565 deg\n",
       "    ellipticity  param    : 0.500\n",
       "    eccentricity          : 0.866\n",
       "    polarized vector      : [+5.000; +3.000; +0.000; +4.000]'\n",
       "    unpolarized vector    : [+0.000; +0.000; +0.000; +0.000]'"
      ]
     },
     "execution_count": 5,
     "metadata": {},
     "output_type": "execute_result"
    }
   ],
   "source": [
    "J = Stokes()\n",
    "J.from_E(E_join)\n",
    "J.parameters"
   ]
  },
  {
   "cell_type": "code",
   "execution_count": 17,
   "metadata": {},
   "outputs": [],
   "source": [
    "N = 100001\n",
    "angle = np.linspace(0,2*np.pi, N)\n",
    "amp = 2\n",
    "Ex = 2 * np.exp(1j*angle) + np.random.normal(size=N, scale=amp)\n",
    "Ey = 2 * np.exp(1j*(angle+np.pi/2)) + np.random.normal(size=N, scale=amp)\n",
    "E_join = np.vstack((Ex, Ey)).transpose()"
   ]
  },
  {
   "cell_type": "code",
   "execution_count": 18,
   "metadata": {},
   "outputs": [
    {
     "data": {
      "text/plain": [
       "parameters of J:\n",
       "    intensity             : 15.990 arb. u.\n",
       "    amplitudes            : E0x 2.003, E0y 2.002, E0_unpol 2.824 \n",
       "    degree polarization   : 0.501\n",
       "    degree linear pol.    : 0.002\n",
       "    degree   circular pol.: 0.501\n",
       "    alpha                 : 44.988 deg\n",
       "    delay                 : 89.782 deg\n",
       "    azimuth               : 41.851 deg\n",
       "    ellipticity  angle    : 44.890 deg\n",
       "    ellipticity  param    : 0.996\n",
       "    eccentricity          : 0.087\n",
       "    polarized vector      : [+8.017; +0.003; +0.030; +8.017]'\n",
       "    unpolarized vector    : [+7.973; +0.000; +0.000; +0.000]'"
      ]
     },
     "execution_count": 18,
     "metadata": {},
     "output_type": "execute_result"
    }
   ],
   "source": [
    "J = Stokes()\n",
    "J.from_E(E_join)\n",
    "J.parameters"
   ]
  },
  {
   "cell_type": "code",
   "execution_count": null,
   "metadata": {},
   "outputs": [],
   "source": []
  }
 ],
 "metadata": {
  "kernelspec": {
   "display_name": "Python 3",
   "language": "python",
   "name": "python3"
  },
  "language_info": {
   "codemirror_mode": {
    "name": "ipython",
    "version": 3
   },
   "file_extension": ".py",
   "mimetype": "text/x-python",
   "name": "python",
   "nbconvert_exporter": "python",
   "pygments_lexer": "ipython3",
   "version": "3.7.1"
  }
 },
 "nbformat": 4,
 "nbformat_minor": 2
}
