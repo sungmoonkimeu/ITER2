{
 "cells": [
  {
   "cell_type": "markdown",
   "metadata": {},
   "source": [
    "# Rotate\n",
    "\n",
    "Luis Miguel Sanchez Brea\n",
    "\n",
    "190129: I give the possibility to returns a matrix or an object\n",
    "\n"
   ]
  },
  {
   "cell_type": "code",
   "execution_count": 1,
   "metadata": {},
   "outputs": [],
   "source": [
    "from py_pol import degrees, np\n",
    "from py_pol.jones_matrix import Jones_matrix"
   ]
  },
  {
   "cell_type": "markdown",
   "metadata": {},
   "source": [
    "## Jones Matrix"
   ]
  },
  {
   "cell_type": "markdown",
   "metadata": {},
   "source": [
    "### Keep on\n",
    "Keep is used to actualize object or provide a new object\n",
    "\n",
    "Note that name has angle (and only one)"
   ]
  },
  {
   "cell_type": "code",
   "execution_count": 2,
   "metadata": {},
   "outputs": [
    {
     "name": "stdout",
     "output_type": "stream",
     "text": [
      "m1 = \n",
      "      [+1, +0]\n",
      "      [+0, +0] \n",
      "\n",
      "m1 @45.00º = \n",
      "      [+0.500, +0.500]\n",
      "      [+0.500, +0.500]\n"
     ]
    }
   ],
   "source": [
    "m1 = Jones_matrix('m1')\n",
    "m1.diattenuator_linear(p1=1, p2=0, angle=0*degrees)\n",
    "print(m1,'\\n')\n",
    "\n",
    "m1.rotate(angle=22.5*degrees, keep=True)\n",
    "m1.rotate(angle=22.5*degrees, keep=True)\n",
    "print(m1)"
   ]
  },
  {
   "cell_type": "markdown",
   "metadata": {},
   "source": [
    "### Keep False"
   ]
  },
  {
   "cell_type": "code",
   "execution_count": 3,
   "metadata": {},
   "outputs": [
    {
     "name": "stdout",
     "output_type": "stream",
     "text": [
      "m1 = \n",
      "      [+1, +0]\n",
      "      [+0, +0] \n",
      "\n",
      "[[0.85355339+0.j 0.35355339+0.j]\n",
      " [0.35355339+0.j 0.14644661+0.j]] \n",
      "\n",
      "m1 @22.50º = \n",
      "      [+0.854, +0.354]\n",
      "      [+0.354, +0.146] \n",
      "\n"
     ]
    }
   ],
   "source": [
    "m1 = Jones_matrix('m1')\n",
    "m1.diattenuator_linear(p1=1, p2=0, angle=0*degrees)\n",
    "print(m1,'\\n')\n",
    "\n",
    "m2_matrix=m1.rotate(angle=22.5*degrees, keep=False, returns_matrix=True)\n",
    "print(m2_matrix,'\\n')\n",
    "\n",
    "m2_object=m1.rotate(angle=22.5*degrees, keep=False, returns_matrix=False)\n",
    "print(m2_object,'\\n')"
   ]
  },
  {
   "cell_type": "markdown",
   "metadata": {},
   "source": [
    "### Repair name"
   ]
  },
  {
   "cell_type": "code",
   "execution_count": 4,
   "metadata": {},
   "outputs": [
    {
     "name": "stdout",
     "output_type": "stream",
     "text": [
      "m1 = \n",
      "      [+1, +0]\n",
      "      [+0, +0] \n",
      "\n",
      "m1 @22.50º @22.50º @22.50º = \n",
      "      [+0.146, +0.354]\n",
      "      [+0.354, +0.854] \n",
      "\n",
      "m1 @90.00º = \n",
      "      [+0, -0]\n",
      "      [-0, +1] \n",
      "\n"
     ]
    }
   ],
   "source": [
    "m1 = Jones_matrix('m1')\n",
    "m1.diattenuator_linear(p1=1, p2=0, angle=0*degrees)\n",
    "print(m1,'\\n')\n",
    "\n",
    "m1.rotate(angle=22.5*degrees, keep=True, is_repair_name=False)\n",
    "m1.rotate(angle=22.5*degrees, keep=True, is_repair_name=False)\n",
    "m1.rotate(angle=22.5*degrees, keep=True, is_repair_name=False)\n",
    "print(m1,'\\n')\n",
    "m1.rotate(angle=22.5*degrees, keep=True, is_repair_name=True)\n",
    "print(m1,'\\n')\n"
   ]
  },
  {
   "cell_type": "markdown",
   "metadata": {},
   "source": [
    "## Jones Vector"
   ]
  },
  {
   "cell_type": "code",
   "execution_count": 5,
   "metadata": {},
   "outputs": [],
   "source": [
    "from py_pol.jones_vector import Jones_vector"
   ]
  },
  {
   "cell_type": "code",
   "execution_count": 6,
   "metadata": {},
   "outputs": [
    {
     "name": "stdout",
     "output_type": "stream",
     "text": [
      "s0 = [1.0; 0.0]'\n",
      "s0 @22.50º = [0.9239; 0.3827]'\n",
      "s0 @45.00º = [0.7071; 0.7071]'\n",
      "s0 @67.50º = [0.3827; 0.9239]'\n",
      "s0 @90.00º = [-0.0; 1.0]'\n"
     ]
    },
    {
     "name": "stderr",
     "output_type": "stream",
     "text": [
      "/home/luismiguel/bitbucket/py_pol/py_pol/jones_vector.py:626: RuntimeWarning: invalid value encountered in sqrt\n",
      "  b = np.sqrt(b2)\n"
     ]
    }
   ],
   "source": [
    "s0=Jones_vector('s0')\n",
    "s0.linear_light(angle=0, amplitude=1)\n",
    "print(s0)\n",
    "s0.rotate(angle=22.5*degrees, keep=True)\n",
    "print(s0)\n",
    "s0.rotate(angle=22.5*degrees, keep=True)\n",
    "print(s0)\n",
    "s0.rotate(angle=22.5*degrees, keep=True)\n",
    "print(s0)\n",
    "s0.rotate(angle=22.5*degrees, keep=True)\n",
    "print(s0)"
   ]
  },
  {
   "cell_type": "markdown",
   "metadata": {},
   "source": [
    "## Stokes"
   ]
  },
  {
   "cell_type": "code",
   "execution_count": 7,
   "metadata": {},
   "outputs": [],
   "source": [
    "from py_pol.stokes import Stokes"
   ]
  },
  {
   "cell_type": "code",
   "execution_count": 8,
   "metadata": {},
   "outputs": [
    {
     "name": "stdout",
     "output_type": "stream",
     "text": [
      "s0 = [ +1;  +1;  +0;  +0]\n",
      "\n",
      "s0 @22.50º = [+1.000; +0.707; +0.707; +0.000]\n",
      "\n",
      "s0 @45.00º = [ +1;  +0;  +1;  +0]\n",
      "\n"
     ]
    }
   ],
   "source": [
    "s0=Stokes('s0')\n",
    "s0.linear_light(angle=0, intensity=1)\n",
    "print(s0)\n",
    "s0.rotate(angle=22.5*degrees, keep=True)\n",
    "print(s0)\n",
    "s0.rotate(angle=22.5*degrees, keep=True)\n",
    "print(s0)"
   ]
  },
  {
   "cell_type": "markdown",
   "metadata": {},
   "source": [
    "## Mueller"
   ]
  },
  {
   "cell_type": "code",
   "execution_count": 9,
   "metadata": {},
   "outputs": [],
   "source": [
    "from py_pol.mueller import Mueller"
   ]
  },
  {
   "cell_type": "code",
   "execution_count": 10,
   "metadata": {},
   "outputs": [
    {
     "name": "stdout",
     "output_type": "stream",
     "text": [
      "M0 = \n",
      "  [+0.500, +0.500, +0.000, +0.000]\n",
      "  [+0.500, +0.500, +0.000, +0.000]\n",
      "  [+0.000, +0.000, +0.000, +0.000]\n",
      "  [+0.000, +0.000, +0.000, +0.000]\n",
      " \n",
      "\n"
     ]
    }
   ],
   "source": [
    "m1=Mueller('M0')\n",
    "m1.diattenuator_linear(p1=1, p2=0, angle=0)\n",
    "print(m1,'\\n')"
   ]
  },
  {
   "cell_type": "code",
   "execution_count": 11,
   "metadata": {},
   "outputs": [
    {
     "name": "stdout",
     "output_type": "stream",
     "text": [
      "M0 @45.00º = \n",
      "  [+0.500, +0.000, +0.500, +0.000]\n",
      "  [+0.000, +0.000, +0.000, +0.000]\n",
      "  [+0.500, +0.000, +0.500, +0.000]\n",
      "  [+0.000, +0.000, +0.000, +0.000]\n",
      "\n"
     ]
    }
   ],
   "source": [
    "m1.rotate(angle=22.5*degrees, keep=True)\n",
    "m1.rotate(angle=22.5*degrees, keep=True)\n",
    "print(m1)"
   ]
  },
  {
   "cell_type": "code",
   "execution_count": null,
   "metadata": {},
   "outputs": [],
   "source": []
  }
 ],
 "metadata": {
  "kernelspec": {
   "display_name": "Python 3",
   "language": "python",
   "name": "python3"
  },
  "language_info": {
   "codemirror_mode": {
    "name": "ipython",
    "version": 3
   },
   "file_extension": ".py",
   "mimetype": "text/x-python",
   "name": "python",
   "nbconvert_exporter": "python",
   "pygments_lexer": "ipython3",
   "version": "3.6.7"
  }
 },
 "nbformat": 4,
 "nbformat_minor": 2
}
