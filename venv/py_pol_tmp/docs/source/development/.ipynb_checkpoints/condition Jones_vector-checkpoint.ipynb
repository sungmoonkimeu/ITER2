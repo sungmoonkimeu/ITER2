{
 "cells": [
  {
   "cell_type": "markdown",
   "metadata": {},
   "source": [
    "# Condition Jones Vectors\n",
    "\n",
    "Sometimes, the Jones vector presents complex numbers in both elements, which make them not very clear. \n",
    "Here we try to simplify the representation of Jones Vectors"
   ]
  },
  {
   "cell_type": "markdown",
   "metadata": {},
   "source": [
    "## Stokes vectors"
   ]
  },
  {
   "cell_type": "code",
   "execution_count": 1,
   "metadata": {},
   "outputs": [
    {
     "name": "stdout",
     "output_type": "stream",
     "text": [
      "2.1.2\n"
     ]
    }
   ],
   "source": [
    "%matplotlib notebook \n",
    "from py_pol import degrees, np\n",
    "from py_pol.jones_vector import Jones_vector\n",
    "import matplotlib.pyplot as plt\n",
    "\n",
    "np.set_printoptions(precision=4)\n",
    "np.set_printoptions(suppress=True)\n",
    "\n"
   ]
  },
  {
   "cell_type": "markdown",
   "metadata": {},
   "source": [
    "### Only 1 vector - no function"
   ]
  },
  {
   "cell_type": "code",
   "execution_count": 13,
   "metadata": {},
   "outputs": [
    {
     "name": "stdout",
     "output_type": "stream",
     "text": [
      "j0 = [(1-1j); (1+1j)]'\n",
      "parameters of j0:\n",
      "    intensity        : 4.000 arb.u\n",
      "    alpha            : 45.000 deg\n",
      "    delay            : 90.000 deg\n",
      "    azimuth          : 25.955 deg\n",
      "    ellipticity angle: -45.000 deg\n",
      "    a, b             : 1.414  1.414\n",
      "\n"
     ]
    }
   ],
   "source": [
    "j0 = Jones_vector('j0')\n",
    "j0.general_charac_angles(\n",
    "    alpha=45*degrees, delay=90*degrees, amplitude=2)\n",
    "# j0.general_azimuth_ellipticity(azimuth=45*degrees, ellipticity=22.5*degrees,  amplitude=2)\n",
    "print(j0)\n",
    "\n",
    "print(j0.parameters)"
   ]
  },
  {
   "cell_type": "code",
   "execution_count": 14,
   "metadata": {},
   "outputs": [
    {
     "name": "stdout",
     "output_type": "stream",
     "text": [
      "j0 = [(1-1j); (1+1j)]'\n"
     ]
    }
   ],
   "source": [
    "j0_M=j0.M\n",
    "print(j0)"
   ]
  },
  {
   "cell_type": "code",
   "execution_count": 15,
   "metadata": {},
   "outputs": [
    {
     "name": "stdout",
     "output_type": "stream",
     "text": [
      "-44.99999999999999\n"
     ]
    }
   ],
   "source": [
    "# Global phase of vector\n",
    "global_phase=np.angle(j0_M[0,0])\n",
    "print(global_phase/degrees)"
   ]
  },
  {
   "cell_type": "code",
   "execution_count": 16,
   "metadata": {},
   "outputs": [
    {
     "name": "stdout",
     "output_type": "stream",
     "text": [
      "2.0\n"
     ]
    }
   ],
   "source": [
    "# Modulus of vector\n",
    "modulus=np.linalg.norm(j0_M)\n",
    "print(modulus)"
   ]
  },
  {
   "cell_type": "code",
   "execution_count": 17,
   "metadata": {},
   "outputs": [
    {
     "name": "stdout",
     "output_type": "stream",
     "text": [
      "[[1.4142+0.    j]\n",
      " [0.    +1.4142j]]\n"
     ]
    }
   ],
   "source": [
    "j0_conditioned=j0_M/(np.exp(1j*global_phase))\n",
    "print(j0_conditioned)"
   ]
  },
  {
   "cell_type": "code",
   "execution_count": 18,
   "metadata": {},
   "outputs": [
    {
     "name": "stdout",
     "output_type": "stream",
     "text": [
      "2.0\n"
     ]
    }
   ],
   "source": [
    "modulus_conditioned=np.linalg.norm(j0_conditioned)\n",
    "print(modulus_conditioned)"
   ]
  },
  {
   "cell_type": "code",
   "execution_count": 19,
   "metadata": {},
   "outputs": [
    {
     "name": "stdout",
     "output_type": "stream",
     "text": [
      "[[0.7071+0.    j]\n",
      " [0.    +0.7071j]]\n"
     ]
    }
   ],
   "source": [
    "j0_modulus1 = j0_conditioned / modulus\n",
    "print(j0_modulus1)"
   ]
  },
  {
   "cell_type": "code",
   "execution_count": 20,
   "metadata": {},
   "outputs": [
    {
     "name": "stdout",
     "output_type": "stream",
     "text": [
      "(matrix([[1.4142+0.    j],\n",
      "        [0.    +1.4142j]]), 2.0, -44.99999999999999)\n"
     ]
    }
   ],
   "source": [
    "print(j0_conditioned, modulus_conditioned, global_phase/degrees)"
   ]
  },
  {
   "cell_type": "code",
   "execution_count": 12,
   "metadata": {},
   "outputs": [
    {
     "name": "stdout",
     "output_type": "stream",
     "text": [
      "0.5\n"
     ]
    }
   ],
   "source": [
    "print(np.linalg.norm(j0_modulus1))\n"
   ]
  },
  {
   "cell_type": "markdown",
   "metadata": {},
   "source": [
    "## Now, we get that first element is 1, for comparison"
   ]
  },
  {
   "cell_type": "code",
   "execution_count": 22,
   "metadata": {},
   "outputs": [
    {
     "name": "stdout",
     "output_type": "stream",
     "text": [
      "[[1.+0.j]\n",
      " [0.+1.j]]\n"
     ]
    }
   ],
   "source": [
    "j0_conditioned2=j0_M/j0_M[0,0]\n",
    "print(j0_conditioned2)"
   ]
  },
  {
   "cell_type": "code",
   "execution_count": 26,
   "metadata": {},
   "outputs": [
    {
     "name": "stdout",
     "output_type": "stream",
     "text": [
      "1.4142135623730951\n"
     ]
    }
   ],
   "source": [
    "normalization_factor=np.abs(j0_M[0,0])\n",
    "print(normalization_factor)"
   ]
  },
  {
   "cell_type": "code",
   "execution_count": null,
   "metadata": {},
   "outputs": [],
   "source": [
    "normalization_factor=np.abs(j0_M[0,0])\n"
   ]
  }
 ],
 "metadata": {
  "kernelspec": {
   "display_name": "Python 3",
   "language": "python",
   "name": "python3"
  },
  "language_info": {
   "codemirror_mode": {
    "name": "ipython",
    "version": 2
   },
   "file_extension": ".py",
   "mimetype": "text/x-python",
   "name": "python",
   "nbconvert_exporter": "python",
   "pygments_lexer": "ipython2",
   "version": "2.7.14"
  },
  "toc": {
   "base_numbering": 1,
   "nav_menu": {},
   "number_sections": true,
   "sideBar": true,
   "skip_h1_title": false,
   "title_cell": "Table of Contents",
   "title_sidebar": "Contents",
   "toc_cell": false,
   "toc_position": {},
   "toc_section_display": true,
   "toc_window_display": false
  },
  "varInspector": {
   "cols": {
    "lenName": 16,
    "lenType": 16,
    "lenVar": 40
   },
   "kernels_config": {
    "python": {
     "delete_cmd_postfix": "",
     "delete_cmd_prefix": "del ",
     "library": "var_list.py",
     "varRefreshCmd": "print(var_dic_list())"
    },
    "r": {
     "delete_cmd_postfix": ") ",
     "delete_cmd_prefix": "rm(",
     "library": "var_list.r",
     "varRefreshCmd": "cat(var_dic_list()) "
    }
   },
   "types_to_exclude": [
    "module",
    "function",
    "builtin_function_or_method",
    "instance",
    "_Feature"
   ],
   "window_display": false
  }
 },
 "nbformat": 4,
 "nbformat_minor": 2
}
