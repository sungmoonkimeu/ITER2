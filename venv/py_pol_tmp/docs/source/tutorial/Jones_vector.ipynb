{
 "cells": [
  {
   "cell_type": "markdown",
   "metadata": {},
   "source": [
    "# Jones_vector class\n",
    "\n",
    "Jones_Vector is a class that manages Jones vectors. It allows the user to create and manipulate them.\n",
    "\n",
    "## Creating an instance\n",
    "\n",
    "An instance must be created before starting to operate with the Jones vector. The initialization accepts one argument: the name of the vector. This name will be used for printing:"
   ]
  },
  {
   "cell_type": "code",
   "execution_count": 1,
   "metadata": {},
   "outputs": [],
   "source": [
    "from py_pol.jones_vector import Jones_vector, create_Jones_vectors\n",
    "from py_pol.utils import degrees\n",
    "import numpy as np"
   ]
  },
  {
   "cell_type": "code",
   "execution_count": 2,
   "metadata": {},
   "outputs": [
    {
     "name": "stdout",
     "output_type": "stream",
     "text": [
      "Source 1 is empty\n",
      "\n"
     ]
    }
   ],
   "source": [
    "E = Jones_vector(\"Source 1\")\n",
    "print(E)"
   ]
  },
  {
   "cell_type": "markdown",
   "metadata": {},
   "source": [
    "Several Jones_vector objects can be created at the same time using the function *create_Jones_vectors*."
   ]
  },
  {
   "cell_type": "code",
   "execution_count": 3,
   "metadata": {},
   "outputs": [
    {
     "name": "stdout",
     "output_type": "stream",
     "text": [
      "Source 2 is empty\n",
      " Source 3 is empty\n",
      "\n",
      "[E is empty\n",
      ", E is empty\n",
      ", E is empty\n",
      "]\n"
     ]
    }
   ],
   "source": [
    "E1, E2 = create_Jones_vectors(name=('Source 2', 'Source 3'))\n",
    "print(E1, E2)\n",
    "\n",
    "list_of_E = create_Jones_vectors(N=3)\n",
    "print(list_of_E)"
   ]
  },
  {
   "cell_type": "markdown",
   "metadata": {},
   "source": [
    "## Jones_vector class fields\n",
    "\n",
    "Jones_vector class objects have some fields where some methods and information  stored:\n",
    "\n",
    "* **M**: 2xN array containing all the Jones vectors.\n",
    "* **name**: Name of the object for print purposes.\n",
    "* **size**: Number of stores Jones vectors.\n",
    "* **shape**: Shape desired for the outputs.\n",
    "* **ndim**: Number of dimensions for representation purposes.\n",
    "* **_type**: Type of the object ('Jones_vector'). This is used for determining the object class as using isinstance may throw unexpected results in .ipynb files.\n",
    "* **parameters**: Object of class *Parameters_Jones_vector*.\n",
    "* **checks**: Object of class *Checks_Jones_vector*."
   ]
  },
  {
   "cell_type": "code",
   "execution_count": 4,
   "metadata": {},
   "outputs": [
    {
     "name": "stdout",
     "output_type": "stream",
     "text": [
      "Array:  [[0.28624656+0.j 0.11973767+0.j 0.97968768+0.j 0.99468157+0.j\n",
      "  0.99510716+0.j 0.07129474+0.j 0.04592814+0.j 0.34646498+0.j\n",
      "  0.90516581+0.j]\n",
      " [0.        +0.j 0.        +0.j 0.        +0.j 0.        +0.j\n",
      "  0.        +0.j 0.        +0.j 0.        +0.j 0.        +0.j\n",
      "  0.        +0.j]]\n",
      "Name:  Source 1\n",
      "Size:  9\n",
      "Shape:  [3, 3]\n",
      "Number of dimensions:  2\n",
      "Type:  Jones_vector \n",
      "\n",
      "Parameters (intensity): \n",
      " [[0.08193709 0.01433711 0.95978795]\n",
      " [0.98939142 0.99023826 0.00508294]\n",
      " [0.00210939 0.12003798 0.81932515]] \n",
      "\n",
      "Checks (circularly polarized): \n",
      " [[False False False]\n",
      " [False False False]\n",
      " [False False False]] \n",
      "\n"
     ]
    }
   ],
   "source": [
    "E = Jones_vector(\"Source 1\")\n",
    "amp = np.random.rand(3,3)\n",
    "E.linear_light(azimuth = 0, amplitude=amp)\n",
    "\n",
    "print('Array: ', E.M)\n",
    "print('Name: ', E.name)\n",
    "print('Size: ', E.size)\n",
    "print('Shape: ', E.shape)\n",
    "print('Number of dimensions: ', E.ndim)\n",
    "print('Type: ', E._type, '\\n')\n",
    "\n",
    "print('Parameters (intensity): \\n', E.parameters.intensity(), '\\n')\n",
    "print('Checks (circularly polarized): \\n', E.checks.is_circular(), '\\n')"
   ]
  },
  {
   "cell_type": "markdown",
   "metadata": {},
   "source": [
    "## Generating polarization states\n",
    "\n",
    "As shown in the previous example, the Jones vector is initialized with all elements equal to zero. There are many methods that can be used to generate a more desirable vector:\n",
    "\n",
    "* **from_components**: Creates a Jones_vector object directly from the electric field components $E_x$ and $E_y$.\n",
    "* **from_matrix**: Creates a Jones_vector object directly from a 2xN numpy array.\n",
    "* **from_list**: Creates a Jones_vector object directly from a list of 2 or 2x1 numpy arrays.\n",
    "* **from_distribution**: Creates a Jones vector from the temporal evolution of the electric field components.\n",
    "* **from_Stokes**: Creates a Jones vector from a Stokes object. Take into account that only pure (totally polarized) Stokes vectors must be transformed to Jones vectors, and thet even for them, the global phase is unknown.\n",
    "* **linear_light**: Creates a state of linear polarization with the desired angle.\n",
    "* **circular_light**: Creates a state of circular polarization.\n",
    "* **eliptical_light**: Creates a state of eliptical polarization.\n",
    "* **general_azimuth_ellipticity**: Creates a Jones vector from the azimuth, ellipticity and amplitude parameters.\n",
    "* **general_charac_angles**: Creates a Jones vector from the characteristic angles and amplitude parameters.\n",
    "\n",
    "\n",
    "For a more detailed description of each method, refer to the individual documentation of each one.\n",
    "\n",
    "Example:"
   ]
  },
  {
   "cell_type": "code",
   "execution_count": 3,
   "metadata": {},
   "outputs": [
    {
     "name": "stdout",
     "output_type": "stream",
     "text": [
      "Source 1 = \n",
      "[+0.866]   \n",
      "[+0.500]   \n",
      "\n"
     ]
    },
    {
     "name": "stderr",
     "output_type": "stream",
     "text": [
      "d:\\codigo\\py_pol\\py_pol\\jones_vector.py:437: ComplexWarning: Casting complex values to real discards the imaginary part\n",
      "  self.M = np.array(self.M, dtype=float)\n"
     ]
    }
   ],
   "source": [
    "E = Jones_vector(\"Source 1\")\n",
    "E.linear_light(azimuth = 30*degrees, amplitude=1)\n",
    "print(E)"
   ]
  },
  {
   "cell_type": "markdown",
   "metadata": {},
   "source": [
    "The previous example only stores one Jones vector. It is possible to store many Jones vectors in the same object. This is useful specially when the same operation is performed upon all of them, as rotation. In this way, it is not required to use for loops, reducing significantly the computation time.\n",
    "\n",
    "There are many ways of creating several Jones vectors in the same object. The first way is creating an object with several identical vectors. This is performed using the *length* argument:"
   ]
  },
  {
   "cell_type": "code",
   "execution_count": 4,
   "metadata": {},
   "outputs": [
    {
     "name": "stdout",
     "output_type": "stream",
     "text": [
      "Source 1 = \n",
      "[+1.414]   [+1.414]   [+1.414]   [+1.414]   [+1.414]   \n",
      "[+1.414]   [+1.414]   [+1.414]   [+1.414]   [+1.414]   \n",
      "\n"
     ]
    }
   ],
   "source": [
    "E = Jones_vector(\"Source 1\")\n",
    "E.linear_light(azimuth = 45*degrees, amplitude=2, length = 5)\n",
    "print(E)"
   ]
  },
  {
   "cell_type": "markdown",
   "metadata": {},
   "source": [
    "A second way of creating several vectors at the same time is using an array as one of the parameters. Take into account that, if you use this option, all parameters must have the same number of elements or just one element. Otherwise, the program will throw an exception."
   ]
  },
  {
   "cell_type": "code",
   "execution_count": 5,
   "metadata": {},
   "outputs": [
    {
     "name": "stdout",
     "output_type": "stream",
     "text": [
      "Source 1 = \n",
      "[+2.000]   [+1.848]   [+1.414]   [+0.765]   [+0.000]   \n",
      "[+0.000]   [+0.765]   [+1.414]   [+1.848]   [+2.000]   \n",
      "\n"
     ]
    }
   ],
   "source": [
    "E = Jones_vector(\"Source 1\")\n",
    "angles = np.linspace(0, 90*degrees, 5)\n",
    "E.linear_light(azimuth = angles, amplitude=2)\n",
    "print(E)"
   ]
  },
  {
   "cell_type": "markdown",
   "metadata": {},
   "source": [
    "If the parameters have dimension higher than 1, the program will store that information in order to make prints and plots. In that case, the *print* function separates the two components Jones vectors:\n",
    "\n",
    "$$E=\\left[\\begin{array}{c}\n",
    "E_{x}\\\\\n",
    "E_y\n",
    "\\end{array}\\right]$$"
   ]
  },
  {
   "cell_type": "code",
   "execution_count": 6,
   "metadata": {},
   "outputs": [
    {
     "name": "stdout",
     "output_type": "stream",
     "text": [
      "Source 1 Ex = \n",
      "[[0.14705498 0.35563656 0.75997111]\n",
      " [0.65238533 0.15627041 0.39708065]\n",
      " [0.36409903 0.48662385 0.86122583]]\n",
      "Source 1 Ey = \n",
      "[[0. 0. 0.]\n",
      " [0. 0. 0.]\n",
      " [0. 0. 0.]]\n",
      "\n"
     ]
    }
   ],
   "source": [
    "E = Jones_vector(\"Source 1\")\n",
    "amp = np.random.rand(3,3)\n",
    "E.linear_light(azimuth = 0, amplitude=amp)\n",
    "print(E)"
   ]
  },
  {
   "cell_type": "markdown",
   "metadata": {},
   "source": [
    "### Features of creation methods"
   ]
  },
  {
   "cell_type": "markdown",
   "metadata": {},
   "source": [
    "*py_pol* model sets the origin of phase in $E_x$. It means that the parameter *global_phase* of most creation methods and the methods *remove_global_phase* and *set_global_phase* (see below) will take it as the reference."
   ]
  },
  {
   "cell_type": "code",
   "execution_count": 12,
   "metadata": {},
   "outputs": [
    {
     "name": "stdout",
     "output_type": "stream",
     "text": [
      "Source 1 = \n",
      "[+0.000+0.707j]   \n",
      "[+0.000+0.707j]   \n",
      "\n",
      "Source 1 = \n",
      "[+0.707]   \n",
      "[+0.707]   \n",
      "\n"
     ]
    },
    {
     "name": "stderr",
     "output_type": "stream",
     "text": [
      "d:\\codigo\\py_pol\\py_pol\\jones_vector.py:437: ComplexWarning: Casting complex values to real discards the imaginary part\n",
      "  self.M = np.array(self.M, dtype=float)\n"
     ]
    }
   ],
   "source": [
    "E = Jones_vector(\"Source 1\")\n",
    "E.linear_light(azimuth = 45*degrees, global_phase=90*degrees)\n",
    "print(E)\n",
    "\n",
    "E.remove_global_phase()\n",
    "print(E)"
   ]
  },
  {
   "cell_type": "markdown",
   "metadata": {},
   "source": [
    "All creation methods that accepts an *amplitude* or an *intensity* parameter ($a$ and $b$ for *elliptical_light*) in order to set the electric field amplitude (the norm of the electric field vector) or the intensity. If both of them are given together to the method, it will use the *amplitude*:"
   ]
  },
  {
   "cell_type": "code",
   "execution_count": 13,
   "metadata": {},
   "outputs": [
    {
     "name": "stdout",
     "output_type": "stream",
     "text": [
      "Source 1 = \n",
      "[+3.536]   \n",
      "[+3.536]   \n",
      "\n",
      "The intensity of Source 1 is (a.u.):\n",
      "[25.]\n",
      "\n",
      "Source 2 = \n",
      "[+1.000]   \n",
      "[+1.000]   \n",
      "\n",
      "The intensity of Source 2 is (a.u.):\n",
      "[2.]\n",
      "\n",
      "Source 3 = \n",
      "[+3.536]   \n",
      "[+3.536]   \n",
      "\n",
      "The intensity of Source 3 is (a.u.):\n",
      "[25.]\n",
      "\n"
     ]
    }
   ],
   "source": [
    "E = Jones_vector(\"Source 1\")\n",
    "E.linear_light(azimuth = 45*degrees, amplitude=5)\n",
    "print(E)\n",
    "_ = E.parameters.intensity(verbose=True)\n",
    "\n",
    "E = Jones_vector(\"Source 2\")\n",
    "E.linear_light(azimuth = 45*degrees, intensity=2)\n",
    "print(E)\n",
    "_ = E.parameters.intensity(verbose=True)\n",
    "\n",
    "E = Jones_vector(\"Source 3\")\n",
    "E.linear_light(azimuth = 45*degrees, intensity=2, amplitude=5)\n",
    "print(E)\n",
    "_ = E.parameters.intensity(verbose=True)"
   ]
  },
  {
   "cell_type": "markdown",
   "metadata": {},
   "source": [
    "## Basic operations\n",
    "\n",
    "Some physical phenomena that affects polarized light is described by simple operations performed to their Jones vectors.\n",
    "\n",
    "### Addition of two Jones vectors\n",
    "\n",
    "The interference of two light waves can be represented by the sum of their Jones vectors."
   ]
  },
  {
   "cell_type": "code",
   "execution_count": 19,
   "metadata": {},
   "outputs": [
    {
     "name": "stdout",
     "output_type": "stream",
     "text": [
      "Source 1 = \n",
      "[+1.000]   \n",
      "[+0.000]   \n",
      "\n",
      "Source 2 = \n",
      "[+0.500+0.500j]   \n",
      "[+0.500+0.500j]   \n",
      "\n",
      "Source 1 + Source 2 = \n",
      "[+1.500+0.500j]   \n",
      "[+0.500+0.500j]   \n",
      "\n"
     ]
    }
   ],
   "source": [
    "E1 = Jones_vector(\"Source 1\")\n",
    "E1.linear_light(azimuth = 0*degrees, amplitude=1)\n",
    "print(E1)\n",
    "E2 = Jones_vector(\"Source 2\")\n",
    "E2.linear_light(azimuth = 45*degrees, amplitude=1, global_phase = 45*degrees)\n",
    "print(E2)\n",
    "E3 = E1 + E2\n",
    "print(E3)"
   ]
  },
  {
   "cell_type": "markdown",
   "metadata": {},
   "source": [
    "### Multiply by a constant\n",
    "\n",
    "The absorption and gain experienced by a light wave is described by multiplying its Jones vector by a real positive number $c$. The light wave will experience absorption if $c<0$ and gain if $c>0$:"
   ]
  },
  {
   "cell_type": "code",
   "execution_count": 22,
   "metadata": {},
   "outputs": [
    {
     "name": "stdout",
     "output_type": "stream",
     "text": [
      "Source 1 = \n",
      "[+0.500]   \n",
      "[+0.000]   \n",
      "\n",
      "Source 1 * 2 = \n",
      "[+1.000]   \n",
      "[+0.000]   \n",
      "\n",
      "Source 1 * 3 = \n",
      "[+1.500]   \n",
      "[+0.000]   \n",
      "\n",
      "Source 1 / 3 = \n",
      "[+0.167]   \n",
      "[+0.000]   \n",
      "\n"
     ]
    }
   ],
   "source": [
    "E1 = Jones_vector(\"Source 1\")\n",
    "E1.linear_light(azimuth = 0*degrees, amplitude = 0.5)\n",
    "print(E1)\n",
    "\n",
    "E2 = 2 * E1\n",
    "print(E2)\n",
    "\n",
    "E2 =  E1*3\n",
    "print(E2)\n",
    "\n",
    "E2 =  E1/3\n",
    "print(E2)"
   ]
  },
  {
   "cell_type": "markdown",
   "metadata": {},
   "source": [
    "If the constant is complex, the constant phase will be added to the global phase of the light, while its absolute value will increase or decrease the electric field amplitude. \n",
    "\n",
    "Take into account that real negative values are a special case of complex numbers whose phase is 180º."
   ]
  },
  {
   "cell_type": "code",
   "execution_count": 25,
   "metadata": {},
   "outputs": [
    {
     "name": "stdout",
     "output_type": "stream",
     "text": [
      "Source 1 = \n",
      "[+0.500]   \n",
      "[+0.000]   \n",
      "\n",
      "Source 1 * (0.5-0.5j) = \n",
      "[+0.250-0.250j]   \n",
      "[+0.000+0.000j]   \n",
      "\n",
      "Source 1 * 1j = \n",
      "[+0.000+0.500j]   \n",
      "[+0.000+0.000j]   \n",
      "\n"
     ]
    }
   ],
   "source": [
    "E1 = Jones_vector(\"Source 1\")\n",
    "E1.linear_light(azimuth = 0*degrees, amplitude = 0.5)\n",
    "print(E1)\n",
    "\n",
    "c = 0.5-0.5j\n",
    "E2 = c * E1\n",
    "print(E2)\n",
    "\n",
    "c = 1j\n",
    "E2 = c * E1\n",
    "print(E2)"
   ]
  },
  {
   "cell_type": "markdown",
   "metadata": {},
   "source": [
    "### Equality\n",
    "\n",
    "It is possible to compare two *Jones_vector* objects and tell if they are the same. It just compares electric field, not the rest of object fields."
   ]
  },
  {
   "cell_type": "code",
   "execution_count": 46,
   "metadata": {},
   "outputs": [
    {
     "name": "stdout",
     "output_type": "stream",
     "text": [
      "Source 1 = \n",
      "[+1.000]   \n",
      "[+0.000]   \n",
      "\n",
      "Source 2 = \n",
      "[+1.000]   \n",
      "[+0.000]   \n",
      "\n",
      "Comparison:  [False]\n"
     ]
    }
   ],
   "source": [
    "E1 = Jones_vector(\"Source 1\")\n",
    "E1.linear_light(azimuth = 0*degrees)\n",
    "print(E1)\n",
    "E2 = Jones_vector(\"Source 2\")\n",
    "E2.linear_light(azimuth = 0.01*degrees)\n",
    "print(E2)\n",
    "\n",
    "print('Comparison: ', E1==E2)"
   ]
  },
  {
   "cell_type": "markdown",
   "metadata": {},
   "source": [
    "### Operations and multidimensionality\n",
    "\n",
    "The basic operations of *Jones_vector* objects are subject to the same casting rules as numpy arrays. This means that they can be easily used even if one or both elements of the operation have more than one element.\n",
    "\n",
    "Here are some examples:"
   ]
  },
  {
   "cell_type": "code",
   "execution_count": 26,
   "metadata": {},
   "outputs": [
    {
     "name": "stdout",
     "output_type": "stream",
     "text": [
      "Source 1 = \n",
      "[+1.000]   \n",
      "[+0.000]   \n",
      "\n",
      "Source 2 = \n",
      "[+0.707+0.707j]   [+0.653+0.653j]   [+0.500+0.500j]   [+0.271+0.271j]   [+0.000+0.000j]   \n",
      "[+0.000+0.000j]   [+0.271+0.271j]   [+0.500+0.500j]   [+0.653+0.653j]   [+0.707+0.707j]   \n",
      "\n",
      "Source 1 + Source 2 = \n",
      "[+1.707+0.707j]   [+1.653+0.653j]   [+1.500+0.500j]   [+1.271+0.271j]   [+1.000+0.000j]   \n",
      "[+0.000+0.000j]   [+0.271+0.271j]   [+0.500+0.500j]   [+0.653+0.653j]   [+0.707+0.707j]   \n",
      "\n"
     ]
    }
   ],
   "source": [
    "E1 = Jones_vector(\"Source 1\")\n",
    "E1.linear_light(azimuth = 0*degrees, amplitude=1)\n",
    "print(E1)\n",
    "E2 = Jones_vector(\"Source 2\")\n",
    "angles = np.linspace(0, 90*degrees, 5)\n",
    "E2.linear_light(azimuth = angles, amplitude=1, global_phase = 45*degrees)\n",
    "print(E2)\n",
    "\n",
    "E3 = E1 + E2\n",
    "print(E3)"
   ]
  },
  {
   "cell_type": "code",
   "execution_count": 29,
   "metadata": {},
   "outputs": [
    {
     "name": "stdout",
     "output_type": "stream",
     "text": [
      "Source 1 = \n",
      "[+0.866]   \n",
      "[+0.500]   \n",
      "\n",
      "E = \n",
      "[+0.087]   [+0.563]   [+1.039]   [+1.516]   [+1.992]   \n",
      "[+0.050]   [+0.325]   [+0.600]   [+0.875]   [+1.150]   \n",
      "\n"
     ]
    }
   ],
   "source": [
    "E1 = Jones_vector(\"Source 1\")\n",
    "E1.linear_light(azimuth = 30*degrees, amplitude = 1)\n",
    "print(E1)\n",
    "\n",
    "c = np.linspace(0.1, 2.3, 5)\n",
    "E2 = c * E1\n",
    "print(E2)"
   ]
  },
  {
   "cell_type": "code",
   "execution_count": 31,
   "metadata": {},
   "outputs": [
    {
     "name": "stdout",
     "output_type": "stream",
     "text": [
      "Source 1 = \n",
      "[+0.000]   [-0.383]   [-0.707]   [-0.924]   [-1.000]   \n",
      "[+1.000]   [+0.924]   [+0.707]   [+0.383]   [+0.000]   \n",
      "\n",
      "Source 2 = \n",
      "[+0.707+0.707j]   [+0.653+0.653j]   [+0.500+0.500j]   [+0.271+0.271j]   [+0.000+0.000j]   \n",
      "[+0.000+0.000j]   [+0.271+0.271j]   [+0.500+0.500j]   [+0.653+0.653j]   [+0.707+0.707j]   \n",
      "\n",
      "Source 1 - Source 2 = \n",
      "[-0.707-0.707j]   [-1.036-0.653j]   [-1.207-0.500j]   [-1.194-0.271j]   [-1.000-0.000j]   \n",
      "[+1.000+0.000j]   [+0.653-0.271j]   [+0.207-0.500j]   [-0.271-0.653j]   [-0.707-0.707j]   \n",
      "\n"
     ]
    }
   ],
   "source": [
    "E1 = Jones_vector(\"Source 1\")\n",
    "angles = np.linspace(0, 90*degrees, 5)\n",
    "E1.linear_light(azimuth = 90*degrees + angles, amplitude=1)\n",
    "print(E1)\n",
    "E2 = Jones_vector(\"Source 2\")\n",
    "E2.linear_light(azimuth = angles, amplitude=1, global_phase = 45*degrees)\n",
    "print(E2)\n",
    "\n",
    "E3 = E1 - E2\n",
    "print(E3)"
   ]
  },
  {
   "cell_type": "markdown",
   "metadata": {},
   "source": [
    "## Jones vector manipulation\n",
    "\n",
    "There are several operations that can be applied to a Jones vector.\n",
    "\n",
    "* **get**:  Gets a matrix with the electric field components.\n",
    "* **clear**:  Removes data and name form Jones vector.\n",
    "* **copy**:  Creates a copy of the Jones_vector object.\n",
    "* **stretch**:  Stretches a Jones vector of size 1.\n",
    "* **shape_like**:  Takes the shape of another object to use as its own.\n",
    "* **simplify**:  Simplifies the Jones vector in several ways.\n",
    "* **rotate**: Rotates the Jones vector.\n",
    "* **sum**: Calculates the summatory of the Jones vectors in the object.\n",
    "* **flip**: Flips the object along some dimensions.\n",
    "* **reciprocal**: Calculates the Jones vector that propagates backwards.\n",
    "* **orthogonal**: Calculates the orthogonal Jones vector.\n",
    "* **normalize**: Normalize the electric field to be normalized in electric field amplitude or intensity.\n",
    "* **rotate_to_azimuth**: Rotates the Jones vector to have a certain azimuth.\n",
    "* **remove_global_phase**: Calculates the global phase of the electric field (respect to the X component) and removes it.\n",
    "* **add_global_phase**: Adds a global phase to the Jones vector.\n",
    "* **set_global_phase**: Sets the global phase of the Jones vector.\n",
    "* **add_delay**: Adds a phase to the Y component of the electric field of the Jones vector.\n",
    "* **draw_ellipse**:  Draws the polarization ellipse of the Jones vector.\n",
    "\n",
    "All the functions return the *Jones_vector* object. For a more detailed description of each method, refer to the individual documentation of each one.\n",
    "\n",
    "Example:"
   ]
  },
  {
   "cell_type": "code",
   "execution_count": 11,
   "metadata": {},
   "outputs": [
    {
     "name": "stdout",
     "output_type": "stream",
     "text": [
      "J1 = \n",
      "[+1.000+0.000j    \n",
      " +0.000+0.000j]   \n",
      "\n",
      "J1 @ 45.00 deg = \n",
      "[+0.707+0.000j    \n",
      " +0.707+0.000j]   \n",
      "\n"
     ]
    }
   ],
   "source": [
    "E1 = Jones_vector('Source 1')\n",
    "E1.linear_light(azimuth=0*degrees)\n",
    "print(E1)\n",
    "\n",
    "E1.rotate(angle=45*degrees)\n",
    "print(E1)"
   ]
  },
  {
   "cell_type": "markdown",
   "metadata": {},
   "source": [
    "All manipulation methods have the *keep* argument that specifies if the originial object must be preserved or transformed. If *keep* is *True* (default is *False*), a new object is created:"
   ]
  },
  {
   "cell_type": "code",
   "execution_count": 35,
   "metadata": {},
   "outputs": [
    {
     "name": "stdout",
     "output_type": "stream",
     "text": [
      "Source 1 = \n",
      "[+1.000]   \n",
      "[+0.000]   \n",
      " Source 2 = \n",
      "[+0.707]   \n",
      "[+0.707]   \n",
      "\n",
      "Source 2 = \n",
      "[+0.707]   \n",
      "[+0.707]   \n",
      " Source 2 = \n",
      "[+0.707]   \n",
      "[+0.707]   \n",
      "\n"
     ]
    }
   ],
   "source": [
    "E1 = Jones_vector('Source 1')\n",
    "E1.linear_light(azimuth=0*degrees)\n",
    "\n",
    "E2 = E1.rotate(angle=45*degrees, keep=True)\n",
    "E2.name = 'Source 2'\n",
    "print(E1, E2)\n",
    "\n",
    "E2 = E1.rotate(angle=45*degrees, keep=False)\n",
    "E2.name = 'Source 2'\n",
    "print(E1, E2)"
   ]
  },
  {
   "cell_type": "markdown",
   "metadata": {},
   "source": [
    "*Jones_vector* objects allow taking elements and changing them through indices like a *numpy.ndarray*.\n",
    "\n",
    "Examples:"
   ]
  },
  {
   "cell_type": "code",
   "execution_count": 3,
   "metadata": {},
   "outputs": [
    {
     "name": "stdout",
     "output_type": "stream",
     "text": [
      "Original Ex = \n",
      "[[0.76391771 0.25261728 0.12738687 0.77604704 0.01344751]\n",
      " [0.87583672 0.60297489 0.51885497 0.62999151 0.55408275]\n",
      " [0.8195069  0.61450581 0.55938626 0.13103594 0.42282717]]\n",
      "Original Ey = \n",
      "[[4.93617825e-01 7.49591355e-01 9.79955083e-01 5.69925338e-01\n",
      "  1.16985999e-01]\n",
      " [4.61566780e-01 6.35933024e-01 4.24619398e-04 5.57630800e-01\n",
      "  5.89298333e-01]\n",
      " [7.16426185e-01 5.83381823e-02 5.79120119e-01 3.74386416e-01\n",
      "  5.51787068e-01]]\n",
      "\n",
      "Original_picked = \n",
      "[+0.764]   [+0.253]   [+0.127]   \n",
      "[+0.494]   [+0.750]   [+0.980]   \n",
      "\n"
     ]
    }
   ],
   "source": [
    "M = np.random.rand(2, 3, 5)\n",
    "E = Jones_vector('Original')\n",
    "E.from_matrix(M)\n",
    "print(E)\n",
    "\n",
    "E2 = E[0:3]\n",
    "print(E2)"
   ]
  },
  {
   "cell_type": "code",
   "execution_count": 7,
   "metadata": {},
   "outputs": [
    {
     "name": "stdout",
     "output_type": "stream",
     "text": [
      "Cambiado Ex = \n",
      "[[1.         1.         0.12738687 0.77604704 0.01344751]\n",
      " [1.         1.         0.51885497 0.62999151 0.55408275]\n",
      " [1.         1.         0.55938626 0.13103594 0.42282717]]\n",
      "Cambiado Ey = \n",
      "[[0.00000000e+00 0.00000000e+00 9.79955083e-01 5.69925338e-01\n",
      "  1.16985999e-01]\n",
      " [0.00000000e+00 0.00000000e+00 4.24619398e-04 5.57630800e-01\n",
      "  5.89298333e-01]\n",
      " [0.00000000e+00 0.00000000e+00 5.79120119e-01 3.74386416e-01\n",
      "  5.51787068e-01]]\n",
      "\n"
     ]
    }
   ],
   "source": [
    "E2.linear_light()\n",
    "E3 = E.copy()\n",
    "E3.name = 'Cambiado'\n",
    "E3[0:3,0:2] = E2\n",
    "print(E3)"
   ]
  },
  {
   "cell_type": "markdown",
   "metadata": {},
   "source": [
    "# Parameters of Jones_vector\n",
    "\n",
    "Several parameters can be measured from a Jones vector. They are implemented in the independent class *Parameters_Jones_vector*, which is stored in the *parameters* field of *Jones_vector* class.\n",
    "\n",
    "* **components**: Calculates the electric field components of the Jones vector.\n",
    "* **amplitudes**: Calculates the electric field amplitudes of the Jones vector.\n",
    "* **intensity**: Calculates the intensity of the Jones vector.\n",
    "* **irradiance**: Calculates the irradiance of the Jones vector.\n",
    "* **alpha**: Calculates the ratio between electric field amplitudes ($E_x$/$E_y$).\n",
    "* **delay / delta**: Calculates the delay (phase shift) between Ex and Ey components of the electric field.\n",
    "* **charac_angles**: Calculates both alpha and delay, the characteristic angles of the Jones vector.\n",
    "* **azimuth**: Calculates azimuth, that is, the orientation angle of the major axis.\n",
    "* **ellipticity_angle**: Calculates the ellipticity angle.\n",
    "* **azimuth_ellipticity**: Calculates both azimuth and ellipticity angles.\n",
    "* **ellipse_axes**: Calculates the length of major and minor axis (a,b).\n",
    "* **ellipticity_param**: Calculates the ellipticity parameter, b/a.\n",
    "* **eccentricity**: Calculates the eccentricity, the complementary of the ellipticity parameter.\n",
    "* **global_phase**: Calculates the global phase of the Jones vector (respect to the X component of the electric field).\n",
    "* **degree_linear_polarization**: Calculates the degree of linear polarization of the Jones vector.\n",
    "* **degree_circular_polarization**: Calculates the degree of circular polarization of the Jones vector.\n",
    "* **norm**: Calculates the norm of the Jones vector.\n",
    "\n",
    "\n",
    "* **get_all**: Returns a dictionary with all the parameters of Jones vector.\n",
    "\n",
    "For a more detailed description of each method, refer to the individual documentation of each one.\n",
    "\n",
    "Example:"
   ]
  },
  {
   "cell_type": "code",
   "execution_count": 17,
   "metadata": {},
   "outputs": [
    {
     "name": "stdout",
     "output_type": "stream",
     "text": [
      "[1.]\n"
     ]
    }
   ],
   "source": [
    "E = Jones_vector(\"Source 1\")\n",
    "E.linear_light(azimuth = 45*degrees)\n",
    "I0 = E.parameters.intensity()\n",
    "print(I0)"
   ]
  },
  {
   "cell_type": "markdown",
   "metadata": {},
   "source": [
    "When several Jones vectors are stored in the object, setting *verbose* argument to *True* makes the method print the values in screen. Also, 1D or 2D figures can be shown if the *draw* argument is set to *True*:"
   ]
  },
  {
   "cell_type": "code",
   "execution_count": 19,
   "metadata": {},
   "outputs": [
    {
     "name": "stdout",
     "output_type": "stream",
     "text": [
      "The azimuth of Source 1 is (deg.):\n",
      "[  0.          16.36363636  32.72727273  49.09090909  65.45454545\n",
      "  81.81818182  98.18181818 114.54545455 130.90909091 147.27272727\n",
      " 163.63636364   0.        ]\n",
      "The mean value is 75.0 +- 54.46016058467962\n",
      "\n"
     ]
    },
    {
     "data": {
      "image/png": "[encoded data removed]",
      "text/plain": [
       "<Figure size 360x360 with 1 Axes>"
      ]
     },
     "metadata": {
      "needs_background": "light"
     },
     "output_type": "display_data"
    }
   ],
   "source": [
    "az = np.linspace(0, 180*degrees, 12)\n",
    "E = Jones_vector(\"Source 1\")\n",
    "E.general_azimuth_ellipticity(azimuth=az)\n",
    "az = E.parameters.azimuth(draw=True, verbose=True)"
   ]
  },
  {
   "cell_type": "code",
   "execution_count": 25,
   "metadata": {},
   "outputs": [
    {
     "name": "stdout",
     "output_type": "stream",
     "text": [
      "[128, 128]\n",
      "The azimuth and ellipticity angles of Source 1 are (deg.):\n",
      "The mean value of param Azimuth (deg.) is 88.59375 +- 52.35018764032151\n",
      "The mean value of param Ellipticity angle (deg.) is 1.7763568394002505e-15 +- 26.184535918359188\n",
      "\n"
     ]
    },
    {
     "data": {
      "image/png": "[encoded data removed]",
      "text/plain": [
       "<Figure size 720x360 with 4 Axes>"
      ]
     },
     "metadata": {
      "needs_background": "light"
     },
     "output_type": "display_data"
    }
   ],
   "source": [
    "az = np.linspace(0, 180*degrees, 128)\n",
    "el = np.linspace(-45*degrees, 45*degrees, 128)\n",
    "AZ, EL = np.meshgrid(az, el)\n",
    "\n",
    "E = Jones_vector(\"Source 1\")\n",
    "E.general_azimuth_ellipticity(azimuth=AZ, ellipticity=EL)\n",
    "AZ, EL = E.parameters.azimuth_ellipticity(draw=True)"
   ]
  },
  {
   "cell_type": "markdown",
   "metadata": {},
   "source": [
    "There is a method in *Parameters_Jones_vector* class, *get_all* that computes all the parameters available and stores in a dictionary *.dict_params()*. Using the *print* function upon the *Parameters_Jones_vector* class invokes the method *get_all*.\n",
    "\n",
    "Example:"
   ]
  },
  {
   "cell_type": "code",
   "execution_count": 42,
   "metadata": {},
   "outputs": [
    {
     "name": "stdout",
     "output_type": "stream",
     "text": [
      "Source 1 = \n",
      "[+0.707]   \n",
      "[+0.707]   \n",
      " \n",
      "\n",
      "The elctric field components of Source 1 are (V/m):\n",
      "  Ex (V/m)\n",
      "0.7071067811865476\n",
      "  Ey (V/m)\n",
      "0.7071067811865476\n",
      "Low dimensionality, figure not available.\n",
      "\n",
      "The elctric field amplitudes of Source 1 are (V/m):\n",
      "  Ex (V/m)\n",
      "0.7071067811865476\n",
      "  Ey (V/m)\n",
      "0.7071067811865476\n",
      "Low dimensionality, figure not available.\n",
      "\n",
      "The intensity of Source 1 is (a.u.):\n",
      "[1.]\n",
      "Low dimensionality, figure not available.\n",
      "\n",
      "The intensity of Source 1 is (a.u.):\n",
      "[1.]\n",
      "Low dimensionality, figure not available.\n",
      "\n",
      "The irradiance of Source 1 is (W/m^2):\n",
      "[0.00132721]\n",
      "Low dimensionality, figure not available.\n",
      "\n",
      "The ratio angle between electric field amplitudes of Source 1 is (deg.):\n",
      "45.0\n",
      "Low dimensionality, figure not available.\n",
      "\n",
      "Delay between electric field components of Source 1 is (deg.):\n",
      "0.0\n",
      "Low dimensionality, figure not available.\n",
      "\n",
      "The azimuth of Source 1 is (deg.):\n",
      "45.0\n",
      "Low dimensionality, figure not available.\n",
      "\n",
      "The ellipticity angle of Source 1 is (deg.):\n",
      "0.0\n",
      "Low dimensionality, figure not available.\n",
      "\n",
      "The global phase of Source 1 is (deg.):\n",
      "0.0\n",
      "Low dimensionality, figure not available.\n",
      "\n",
      "The ellipse axes of Source 1 are (V/m):\n",
      "  a (V/m)\n",
      "1.0000000000000002\n",
      "  b (V/m)\n",
      "1.0536712127723509e-08\n",
      "Low dimensionality, figure not available.\n",
      "\n",
      "The ellipticity parameter of Source 1 is:\n",
      "1.0536712127723507e-08\n",
      "Low dimensionality, figure not available.\n",
      "\n",
      "The eccentricity of Source 1 is:\n",
      "0.9999999999999999\n",
      "Low dimensionality, figure not available.\n",
      "\n",
      "The degree of circular polarization of Source 1 is:\n",
      "-0.0\n",
      "Low dimensionality, figure not available.\n",
      "\n",
      "The degree of linear polarization of Source 1 is:\n",
      "1.0\n",
      "Low dimensionality, figure not available.\n",
      "\n",
      "\n"
     ]
    }
   ],
   "source": [
    "E = Jones_vector(\"Source 1\")\n",
    "E.linear_light(azimuth = 45*degrees)\n",
    "print(E,'\\n')      \n",
    "print(E.parameters)"
   ]
  },
  {
   "cell_type": "markdown",
   "metadata": {},
   "source": [
    "# Checks of Jones_vector\n",
    "\n",
    "There are several checks that can be performed upon a Jones vector. They are implemented in the independent class *Checks_Jones_vector*, which is stored in the *checks* field of *Jones_vector* class.\n",
    "\n",
    "* **is_linear**: Checks if the Jones vector is lienarly polarized.\n",
    "* **is_circular**: Checks if the Jones vector is circularly polarized.\n",
    "* **is_right_handed**: Checks if the Jones vector rotation direction is right handed.\n",
    "* **is_left_handed**: Checks if the Jones vector rotation direction is left handed.\n",
    "\n",
    "* **get_all**: Returns a dictionary with all the checks of Jones vector.\n",
    "\n",
    "For a more detailed description of each method, refer to the individual documentation of each one.\n",
    "\n",
    "Example:"
   ]
  },
  {
   "cell_type": "code",
   "execution_count": 26,
   "metadata": {},
   "outputs": [
    {
     "name": "stdout",
     "output_type": "stream",
     "text": [
      "True\n"
     ]
    }
   ],
   "source": [
    "E = Jones_vector(\"Source 1\")\n",
    "E.linear_light(azimuth = 45*degrees)\n",
    "cond = E.checks.is_linear()\n",
    "print(cond)"
   ]
  },
  {
   "cell_type": "markdown",
   "metadata": {},
   "source": [
    "1D and 2D plot draws are also implemented for this class:"
   ]
  },
  {
   "cell_type": "code",
   "execution_count": 44,
   "metadata": {},
   "outputs": [
    {
     "name": "stdout",
     "output_type": "stream",
     "text": [
      "Source 1 is right handed:\n",
      "The mean value is nan +- nan\n",
      "\n"
     ]
    },
    {
     "data": {
      "image/png": "[encoded data removed]",
      "text/plain": [
       "<Figure size 360x360 with 2 Axes>"
      ]
     },
     "metadata": {
      "needs_background": "light"
     },
     "output_type": "display_data"
    }
   ],
   "source": [
    "alpha = np.linspace(45*degrees, 45*degrees, 56)\n",
    "delay = np.linspace(0, 360*degrees, 56)\n",
    "Alpha, Delay = np.meshgrid(alpha, delay)\n",
    "\n",
    "E = Jones_vector(\"Source 1\")\n",
    "E.general_charac_angles(alpha=Alpha, delay=Delay)\n",
    "_ = E.checks.is_right_handed(draw=True)"
   ]
  },
  {
   "cell_type": "code",
   "execution_count": null,
   "metadata": {},
   "outputs": [],
   "source": []
  }
 ],
 "metadata": {
  "kernelspec": {
   "display_name": "Python 3",
   "language": "python",
   "name": "python3"
  },
  "language_info": {
   "codemirror_mode": {
    "name": "ipython",
    "version": 3
   },
   "file_extension": ".py",
   "mimetype": "text/x-python",
   "name": "python",
   "nbconvert_exporter": "python",
   "pygments_lexer": "ipython3",
   "version": "3.7.1"
  },
  "toc": {
   "base_numbering": 1,
   "nav_menu": {},
   "number_sections": true,
   "sideBar": true,
   "skip_h1_title": false,
   "title_cell": "Table of Contents",
   "title_sidebar": "Contents",
   "toc_cell": false,
   "toc_position": {},
   "toc_section_display": true,
   "toc_window_display": false
  },
  "varInspector": {
   "cols": {
    "lenName": 16,
    "lenType": 16,
    "lenVar": 40
   },
   "kernels_config": {
    "python": {
     "delete_cmd_postfix": "",
     "delete_cmd_prefix": "del ",
     "library": "var_list.py",
     "varRefreshCmd": "print(var_dic_list())"
    },
    "r": {
     "delete_cmd_postfix": ") ",
     "delete_cmd_prefix": "rm(",
     "library": "var_list.r",
     "varRefreshCmd": "cat(var_dic_list()) "
    }
   },
   "types_to_exclude": [
    "module",
    "function",
    "builtin_function_or_method",
    "instance",
    "_Feature"
   ],
   "window_display": false
  }
 },
 "nbformat": 4,
 "nbformat_minor": 4
}
