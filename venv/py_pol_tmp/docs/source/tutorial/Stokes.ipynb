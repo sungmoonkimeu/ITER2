{
 "cells": [
  {
   "cell_type": "markdown",
   "metadata": {},
   "source": [
    "# Stokes class\n",
    "\n",
    "Stokes is a class that manages Stokes vectors. It allows the user to create and manipulate them. The difference between Stokes and Jones formalisms is that Stokes vectors can handle partially polarized light, while Jones vectors can track the global phase of the electric field. However, Stokes objects store the global phase (if any) and use it when it is relevant.\n",
    "\n",
    "## Creating an instance\n",
    "\n",
    "An instance must be created before starting to operate with the Stokes vector. The initialization accepts one argument: the name of the vector. This name will be used for printing:"
   ]
  },
  {
   "cell_type": "code",
   "execution_count": 2,
   "metadata": {},
   "outputs": [
    {
     "name": "stdout",
     "output_type": "stream",
     "text": [
      "Source 1 is empty\n",
      "\n"
     ]
    }
   ],
   "source": [
    "from py_pol.stokes import Stokes, create_Stokes, degrees\n",
    "import numpy as np\n",
    "\n",
    "\n",
    "S1 = Stokes(\"Source 1\")\n",
    "print(S1)"
   ]
  },
  {
   "cell_type": "markdown",
   "metadata": {},
   "source": [
    "Several Stokes objects can be created at the same time using the function *create_Stokes*."
   ]
  },
  {
   "cell_type": "code",
   "execution_count": 7,
   "metadata": {},
   "outputs": [
    {
     "name": "stdout",
     "output_type": "stream",
     "text": [
      "Source 2 is empty\n",
      " Source 3 is empty\n",
      "\n",
      "[S is empty\n",
      ", S is empty\n",
      ", S is empty\n",
      "]\n"
     ]
    }
   ],
   "source": [
    "S2, S3 = create_Stokes(name=('Source 2', 'Source 3'))\n",
    "print(S2, S3)\n",
    "\n",
    "list_of_S = create_Stokes(N=3)\n",
    "print(list_of_S)"
   ]
  },
  {
   "cell_type": "markdown",
   "metadata": {},
   "source": [
    "## Generating polarization states\n",
    "\n",
    "As shown in the previous example, the Stokes matrix is initialized with all elements equal to zero. There are many methods that can be used to generate a more desirable vector:\n",
    "\n",
    "* **from_components**: Creates Stokes vectors directly from the 4 elements $S_0$, $S_1$, $S_2$, $S_3$.\n",
    "* **from_matrix**: Creates Stokes vectors from an external 4 x shape numpy array.\n",
    "* **from_list**: Creates a Jones_vector object directly from a list of 4 or 4x1 numpy arrays.\n",
    "* **from_Jones**: Creates Stokes vectors from a Jones_vector object.\n",
    "* **linear_light**: Creates Stokes vectors for pure linear polarizer light.\n",
    "* **circular_light**: Creates Stokes vectors for pure circular polarizer light.\n",
    "* **elliptical_light** Creates Stokes vectors for polarizer elliptical light.\n",
    "* **general_charac_angles** Creates Stokes vectors given by their characteristic angles.\n",
    "* **general_azimuth_ellipticity** Creates Stokes vectors given by their azimuth and ellipticity.\n",
    "\n",
    "\n",
    "For a more detailed description of each method, refer to the individual documentation of each one.\n",
    "\n",
    "Example: Light linearly polarized."
   ]
  },
  {
   "cell_type": "code",
   "execution_count": 10,
   "metadata": {},
   "outputs": [
    {
     "name": "stdout",
     "output_type": "stream",
     "text": [
      "Linear polarization @ 30.00 deg = \n",
      "[+1.000]   \n",
      "[+0.500]   \n",
      "[+0.866]   \n",
      "[+0.000]   \n",
      "\n"
     ]
    }
   ],
   "source": [
    "S1 = Stokes(\"Linear polarization\")\n",
    "S1.linear_light(azimuth=30*degrees)\n",
    "print(S1)"
   ]
  },
  {
   "cell_type": "markdown",
   "metadata": {},
   "source": [
    "The previous example only stores one Stokes vector. However, it is possible to store many Stokes vectors in the same object. This is useful specially when the same operation is performed upon all of them, as rotation. In this way, it is not required to use for loops, reducing significantly the computation time.\n",
    "\n",
    "There are many ways of creating several Stokes vectors in the same object. The first way is creating an object with several identical vectors. This is performed using the *length* argument present in most creation methods:"
   ]
  },
  {
   "cell_type": "code",
   "execution_count": 12,
   "metadata": {},
   "outputs": [
    {
     "name": "stdout",
     "output_type": "stream",
     "text": [
      "Source 1 = \n",
      "[+2.000]   [+2.000]   [+2.000]   [+2.000]   [+2.000]   \n",
      "[+0.000]   [+0.000]   [+0.000]   [+0.000]   [+0.000]   \n",
      "[+2.000]   [+2.000]   [+2.000]   [+2.000]   [+2.000]   \n",
      "[+0.000]   [+0.000]   [+0.000]   [+0.000]   [+0.000]   \n",
      "\n"
     ]
    }
   ],
   "source": [
    "S = Stokes(\"Source 1\")\n",
    "S.linear_light(azimuth = 45*degrees, intensity=2, length = 5)\n",
    "print(S)"
   ]
  },
  {
   "cell_type": "markdown",
   "metadata": {},
   "source": [
    "A second way of creating several vectors at the same time is using an array as one (or more) of the parameters of the creation methods. Take into account that, if you use this option, all parameters must have the same number of elements or just one element. Otherwise, the program will throw an exception."
   ]
  },
  {
   "cell_type": "code",
   "execution_count": 13,
   "metadata": {},
   "outputs": [
    {
     "name": "stdout",
     "output_type": "stream",
     "text": [
      "Source 1 = \n",
      "[+2.000]   [+2.000]   [+2.000]   [+2.000]   [+2.000]   \n",
      "[+2.000]   [+1.414]   [+0.000]   [-1.414]   [-2.000]   \n",
      "[+0.000]   [+1.414]   [+2.000]   [+1.414]   [+0.000]   \n",
      "[+0.000]   [+0.000]   [+0.000]   [+0.000]   [+0.000]   \n",
      "\n"
     ]
    }
   ],
   "source": [
    "S = Stokes(\"Source 1\")\n",
    "angles = np.linspace(0, 90*degrees, 5)\n",
    "S.linear_light(azimuth = angles, intensity=2)\n",
    "print(S)"
   ]
  },
  {
   "cell_type": "markdown",
   "metadata": {},
   "source": [
    "If the parameters have dimension higher than 1, the program will store that information in order to make prints and plots. In that case, the *print* function separates the four components of the Stokes vectors:\n",
    "\n",
    "$$S=\\left[\\begin{array}{c}\n",
    "S_0\\\\\n",
    "S_1\\\\\n",
    "S_2\\\\\n",
    "S_3\\\\\n",
    "\\end{array}\\right]$$"
   ]
  },
  {
   "cell_type": "code",
   "execution_count": 14,
   "metadata": {},
   "outputs": [
    {
     "name": "stdout",
     "output_type": "stream",
     "text": [
      "Source 1 S0 = \n",
      "[[0.78909397 0.77521026 0.80856979]\n",
      " [0.00536159 0.45265541 0.38059019]\n",
      " [0.8828771  0.52652519 0.12394933]]\n",
      "Source 1 S1 = \n",
      "[[0.39454699 0.38760513 0.40428489]\n",
      " [0.00268079 0.2263277  0.1902951 ]\n",
      " [0.44143855 0.26326259 0.06197467]]\n",
      "Source 1 S2 = \n",
      "[[0.68337543 0.67135178 0.70024197]\n",
      " [0.00464327 0.39201108 0.32960078]\n",
      " [0.76459399 0.45598419 0.10734327]]\n",
      "Source 1 S3 = \n",
      "[[0. 0. 0.]\n",
      " [0. 0. 0.]\n",
      " [0. 0. 0.]]\n",
      "\n"
     ]
    }
   ],
   "source": [
    "S = Stokes(\"Source 1\")\n",
    "I = np.random.rand(3,3)\n",
    "S.linear_light(azimuth = 30*degrees, intensity=I)\n",
    "print(S)"
   ]
  },
  {
   "cell_type": "markdown",
   "metadata": {},
   "source": [
    "### Features of creation methods\n",
    "\n",
    "Stokes formalism does not take into account the global phase of the light states. However, *Stokes* objects store it in the *global_phase* field. Use *None* if the global phase is unknown.\n",
    "\n",
    "Most creation methods accept a *global_phase* argument that can be used to introduce it."
   ]
  },
  {
   "cell_type": "code",
   "execution_count": 23,
   "metadata": {},
   "outputs": [
    {
     "name": "stdout",
     "output_type": "stream",
     "text": [
      "[90.]\n",
      "0\n"
     ]
    }
   ],
   "source": [
    "S = Stokes(\"Source 1\")\n",
    "S.linear_light(azimuth = 45*degrees, global_phase=90*degrees)\n",
    "print(S.global_phase / degrees)\n",
    "\n",
    "S.remove_global_phase()\n",
    "print(S.global_phase)"
   ]
  },
  {
   "cell_type": "markdown",
   "metadata": {},
   "source": [
    "Many creation methods accept an *amplitude* or an *intensity* parameter ($a$ and $b$ for *elliptical_light*) in order to set the electric field amplitude (the norm of the electric field vector) or the intensity. If both of them are given together to the method, it will use the *amplitude*:"
   ]
  },
  {
   "cell_type": "code",
   "execution_count": 24,
   "metadata": {},
   "outputs": [
    {
     "name": "stdout",
     "output_type": "stream",
     "text": [
      "Source 1 @ 45.00 deg = \n",
      "[+25.000]   \n",
      "[+0.000]   \n",
      "[+25.000]   \n",
      "[+0.000]   \n",
      "\n",
      "The intensity of Source 1 @ 45.00 deg is (a.u.):\n",
      "25.0\n",
      "\n",
      "Source 2 @ 45.00 deg = \n",
      "[+2.000]   \n",
      "[+0.000]   \n",
      "[+2.000]   \n",
      "[+0.000]   \n",
      "\n",
      "The intensity of Source 2 @ 45.00 deg is (a.u.):\n",
      "2.0\n",
      "\n",
      "Source 3 @ 45.00 deg = \n",
      "[+25.000]   \n",
      "[+0.000]   \n",
      "[+25.000]   \n",
      "[+0.000]   \n",
      "\n",
      "The intensity of Source 3 @ 45.00 deg is (a.u.):\n",
      "25.0\n",
      "\n"
     ]
    }
   ],
   "source": [
    "S = Stokes(\"Source 1\")\n",
    "S.linear_light(azimuth = 45*degrees, amplitude=5)\n",
    "print(S)\n",
    "_ = S.parameters.intensity(verbose=True)\n",
    "\n",
    "S = Stokes(\"Source 2\")\n",
    "S.linear_light(azimuth = 45*degrees, intensity=2)\n",
    "print(S)\n",
    "_ = S.parameters.intensity(verbose=True)\n",
    "\n",
    "S = Stokes(\"Source 3\")\n",
    "S.linear_light(azimuth = 45*degrees, intensity=2, amplitude=5)\n",
    "print(S)\n",
    "_ = S.parameters.intensity(verbose=True)"
   ]
  },
  {
   "cell_type": "markdown",
   "metadata": {},
   "source": [
    "Also, most creation methods accept two parameters: *degree_pol* and *degree_depol*, which represent the degrees of polarization and depolarization respectively. This allows creating partially polarized light states using the same methods.\n",
    "\n",
    "Both degrees are complementary, so if both of them are given to the method, only *degree_depol* is used."
   ]
  },
  {
   "cell_type": "code",
   "execution_count": 27,
   "metadata": {},
   "outputs": [
    {
     "name": "stdout",
     "output_type": "stream",
     "text": [
      "Source 1 @ 45.00 deg = \n",
      "[+5.000]   \n",
      "[+0.000]   \n",
      "[+4.000]   \n",
      "[+0.000]   \n",
      "\n",
      "Source 2 @ 45.00 deg = \n",
      "[+5.000]   \n",
      "[+0.000]   \n",
      "[+3.000]   \n",
      "[+0.000]   \n",
      "\n",
      "Source 3 @ 45.00 deg = \n",
      "[+5.000]   \n",
      "[+0.000]   \n",
      "[+3.000]   \n",
      "[+0.000]   \n",
      "\n"
     ]
    }
   ],
   "source": [
    "S = Stokes(\"Source 1\")\n",
    "S.linear_light(azimuth = 45*degrees, intensity=5, degree_pol=0.8)\n",
    "print(S)\n",
    "\n",
    "S = Stokes(\"Source 2\")\n",
    "S.linear_light(azimuth = 45*degrees, intensity=5, degree_depol=0.8)\n",
    "print(S)\n",
    "\n",
    "S = Stokes(\"Source 3\")\n",
    "S.linear_light(azimuth = 45*degrees, intensity=5, degree_pol=0.8, degree_depol=0.8)\n",
    "print(S)"
   ]
  },
  {
   "cell_type": "markdown",
   "metadata": {},
   "source": [
    "## Basic operations\n",
    "\n",
    "Some physical phenomena that affects polarized light are described by simple operations performed to their Stokes vectors.\n",
    "\n",
    "### Addition of two Stokes vectors\n",
    "\n",
    "The interference of two light waves can be represented by the sum of their Stokes vectors. However, the global phase is important when two light states interfere, i.e., two vectors are added together. If both global phases are known (coherent sum), the polarized part of the Stokes vectors are transformed into Jones objects and added together. The result is tranformed back to a Stokes vector and the unpolarized parts are added."
   ]
  },
  {
   "cell_type": "code",
   "execution_count": 29,
   "metadata": {},
   "outputs": [
    {
     "name": "stdout",
     "output_type": "stream",
     "text": [
      "Source 1 = \n",
      "[+1.000]   \n",
      "[+1.000]   \n",
      "[+0.000]   \n",
      "[+0.000]   \n",
      "\n",
      "Source 2 = \n",
      "[+1.000]   \n",
      "[+1.000]   \n",
      "[+0.000]   \n",
      "[+0.000]   \n",
      "\n",
      "Source 1 + Source 2 = \n",
      "[+4.000]   \n",
      "[+4.000]   \n",
      "[+0.000]   \n",
      "[+0.000]   \n",
      "\n"
     ]
    },
    {
     "name": "stderr",
     "output_type": "stream",
     "text": [
      "d:\\codigo\\py_pol\\py_pol\\jones_vector.py:1201: UserWarning: Non-pure Stokes vector transformed into a Jones vector\n",
      "  'Non-pure Stokes vector transformed into a Jones vector')\n",
      "d:\\codigo\\py_pol\\py_pol\\jones_vector.py:454: ComplexWarning: Casting complex values to real discards the imaginary part\n",
      "  self.M = np.array(self.M, dtype=float)\n"
     ]
    }
   ],
   "source": [
    "S1 = Stokes(\"Source 1\")\n",
    "S1.linear_light(azimuth = 0*degrees, amplitude=1, global_phase=0)\n",
    "print(S1)\n",
    "S2 = Stokes(\"Source 2\")\n",
    "S2.linear_light(azimuth = 0*degrees, amplitude=1, global_phase=90*degrees)\n",
    "print(S2)\n",
    "S3 = S1 + S2\n",
    "print(S3)"
   ]
  },
  {
   "cell_type": "markdown",
   "metadata": {},
   "source": [
    "If one or both phases are unknown (they have a *None* value), the Stokes vectors are added directly (incoherent sum)."
   ]
  },
  {
   "cell_type": "code",
   "execution_count": 30,
   "metadata": {},
   "outputs": [
    {
     "name": "stdout",
     "output_type": "stream",
     "text": [
      "Source 1 = \n",
      "[+1.000]   \n",
      "[+1.000]   \n",
      "[+0.000]   \n",
      "[+0.000]   \n",
      "\n",
      "Source 2 = \n",
      "[+1.000]   \n",
      "[+1.000]   \n",
      "[+0.000]   \n",
      "[+0.000]   \n",
      "\n",
      "Source 1 + Source 2 = \n",
      "[+2.000]   \n",
      "[+2.000]   \n",
      "[+0.000]   \n",
      "[+0.000]   \n",
      "\n"
     ]
    }
   ],
   "source": [
    "S1 = Stokes(\"Source 1\")\n",
    "S1.linear_light(azimuth = 0*degrees, amplitude=1, global_phase=None)\n",
    "print(S1)\n",
    "S2 = Stokes(\"Source 2\")\n",
    "S2.linear_light(azimuth = 0*degrees, amplitude=1, global_phase=90*degrees)\n",
    "print(S2)\n",
    "S3 = S1 + S2\n",
    "print(S3)"
   ]
  },
  {
   "cell_type": "markdown",
   "metadata": {},
   "source": [
    "### Multiply by a constant\n",
    "\n",
    "The absorption and gain experienced by a light wave is described by multiplying its Jones vector by a real positive number $c$. The light wave will experience absorption if $c<0$ and gain if $c>0$:"
   ]
  },
  {
   "cell_type": "code",
   "execution_count": 34,
   "metadata": {},
   "outputs": [
    {
     "name": "stdout",
     "output_type": "stream",
     "text": [
      "Source 1 = \n",
      "[+0.250]   \n",
      "[+0.250]   \n",
      "[+0.000]   \n",
      "[+0.000]   \n",
      "\n",
      "2 * Source 1 = \n",
      "[+0.500]   \n",
      "[+0.500]   \n",
      "[+0.000]   \n",
      "[+0.000]   \n",
      "\n",
      "3 * Source 1 = \n",
      "[+0.750]   \n",
      "[+0.750]   \n",
      "[+0.000]   \n",
      "[+0.000]   \n",
      "\n",
      "Source 1 / 3 = \n",
      "[+0.083]   \n",
      "[+0.083]   \n",
      "[+0.000]   \n",
      "[+0.000]   \n",
      "\n"
     ]
    }
   ],
   "source": [
    "S1 = Stokes(\"Source 1\")\n",
    "S1.linear_light(azimuth = 0*degrees, amplitude = 0.5)\n",
    "print(S1)\n",
    "\n",
    "S2 = 2 * S1\n",
    "print(S2)\n",
    "\n",
    "S2 =  S1*3\n",
    "print(S2)\n",
    "\n",
    "S2 =  S1/3\n",
    "print(S2)"
   ]
  },
  {
   "cell_type": "markdown",
   "metadata": {},
   "source": [
    "If the constant is complex, the constant phase will be added to the global phase of the light, while its absolute value will increase or decrease the light intensity. \n",
    "\n",
    "Take into account that real negative values are a special case of complex numbers whose phase is 180º."
   ]
  },
  {
   "cell_type": "code",
   "execution_count": 37,
   "metadata": {},
   "outputs": [
    {
     "name": "stdout",
     "output_type": "stream",
     "text": [
      "Source 1 = \n",
      "[+1.000]   \n",
      "[+1.000]   \n",
      "[+0.000]   \n",
      "[+0.000]   \n",
      "\n",
      "The global phase of Source 1 is (deg):\n",
      "0.0\n",
      "\n",
      "1j * Source 1 = \n",
      "[+1.000]   \n",
      "[+1.000]   \n",
      "[+0.000]   \n",
      "[+0.000]   \n",
      "\n",
      "The global phase of 1j * Source 1 is (deg):\n",
      "90.0\n",
      "\n",
      "(0.5-0.5j) * Source 1 = \n",
      "[+0.707]   \n",
      "[+0.707]   \n",
      "[+0.000]   \n",
      "[+0.000]   \n",
      "\n",
      "The global phase of (0.5-0.5j) * Source 1 is (deg):\n",
      "-45.0\n",
      "\n"
     ]
    }
   ],
   "source": [
    "S1 = Stokes(\"Source 1\")\n",
    "S1.linear_light(azimuth = 0*degrees, intensity = 1)\n",
    "print(S1)\n",
    "_ = S1.parameters.global_phase(verbose=True)\n",
    "\n",
    "c = 1j\n",
    "S2 = c * S1\n",
    "print(S2)\n",
    "_ = S2.parameters.global_phase(verbose=True)\n",
    "\n",
    "c = 0.5-0.5j\n",
    "S2 = c * S1\n",
    "print(S2)\n",
    "_ = S2.parameters.global_phase(verbose=True)"
   ]
  },
  {
   "cell_type": "markdown",
   "metadata": {},
   "source": [
    "### Equality\n",
    "\n",
    "It is possible to compare two *Stokes* objects and tell if they are the same. It just compares the Stokes vectors and the global phase, not the rest of object fields."
   ]
  },
  {
   "cell_type": "code",
   "execution_count": 3,
   "metadata": {},
   "outputs": [
    {
     "name": "stdout",
     "output_type": "stream",
     "text": [
      "Source 1 = \n",
      "[+1.000]   \n",
      "[+1.000]   \n",
      "[+0.000]   \n",
      "[+0.000]   \n",
      "\n",
      "Source 2 = \n",
      "[+1.000]   [+1.000]   [+1.000]   [+1.000]   [+1.000]   \n",
      "[+1.000]   [+0.707]   [+0.000]   [-0.707]   [-1.000]   \n",
      "[+0.000]   [+0.707]   [+1.000]   [+0.707]   [+0.000]   \n",
      "[+0.000]   [+0.000]   [+0.000]   [+0.000]   [+0.000]   \n",
      "\n",
      "Source 1 - Source 2 = \n",
      "[+0.000]   [+0.152]   [+0.586]   [+1.235]   [+2.000]   \n",
      "[+0.000]   [-0.141]   [-0.414]   [-0.472]   [-0.000]   \n",
      "[+0.000]   [-0.058]   [-0.414]   [-1.141]   [-2.000]   \n",
      "[+0.000]   [+0.000]   [+0.000]   [+0.000]   [+0.000]   \n",
      " [0. 0. 0. 0. 0.]\n",
      "Comparison:  [ True False False False False] \n",
      "\n",
      "\n",
      "Source 1 = \n",
      "[+1.000]   \n",
      "[+1.000]   \n",
      "[+0.000]   \n",
      "[+0.000]   \n",
      "\n",
      "Source 2 = \n",
      "[+1.000]   \n",
      "[+1.000]   \n",
      "[+0.000]   \n",
      "[+0.000]   \n",
      "\n",
      "Source 1 - Source 2 = \n",
      "[+0.000]   \n",
      "[+0.000]   \n",
      "[+0.000]   \n",
      "[+0.000]   \n",
      " [0]\n",
      "Comparison:  [False]\n"
     ]
    }
   ],
   "source": [
    "S1 = Stokes(\"Source 1\")\n",
    "S1.linear_light(azimuth = 0*degrees)\n",
    "print(S1)\n",
    "S2 = Stokes(\"Source 2\")\n",
    "angles = np.linspace(0, 90*degrees, 5)\n",
    "S2.linear_light(azimuth = angles)\n",
    "print(S2)\n",
    "print('Comparison: ', S1==S2, '\\n\\n')\n",
    "\n",
    "S1 = Stokes(\"Source 1\")\n",
    "S1.linear_light(azimuth = 0*degrees, global_phase=0)\n",
    "print(S1)\n",
    "S2 = Stokes(\"Source 2\")\n",
    "S2.linear_light(azimuth = 0*degrees, global_phase=0.01)\n",
    "print(S2)\n",
    "print('Comparison: ', S1==S2)"
   ]
  },
  {
   "cell_type": "markdown",
   "metadata": {},
   "source": [
    "### Operations and multidimensionality\n",
    "\n",
    "The basic operations of *Stokes* objects are subject to the same casting rules as numpy arrays. This means that they can be easily used even if one or both elements of the operation have more than one element.\n",
    "\n",
    "Here are some examples:"
   ]
  },
  {
   "cell_type": "code",
   "execution_count": 59,
   "metadata": {},
   "outputs": [
    {
     "name": "stdout",
     "output_type": "stream",
     "text": [
      "Source 1 = \n",
      "[+1.000]   \n",
      "[+1.000]   \n",
      "[+0.000]   \n",
      "[+0.000]   \n",
      "\n",
      "(0.5-0.5j) * Source 1 = \n",
      "[+0.707]   \n",
      "[+0.707]   \n",
      "[+0.000]   \n",
      "[+0.000]   \n",
      "\n",
      "Source 1 + Source 2 = \n",
      "[+3.414]   [+3.307]   [+3.000]   [+2.541]   [+2.000]   \n",
      "[+3.414]   [+3.014]   [+2.000]   [+0.834]   [+0.000]   \n",
      "[+0.000]   [+1.248]   [+2.000]   [+2.014]   [+1.414]   \n",
      "[+0.000]   [+0.541]   [+1.000]   [+1.307]   [+1.414]   \n",
      "\n"
     ]
    }
   ],
   "source": [
    "# Sum\n",
    "S1 = Stokes(\"Source 1\")\n",
    "S1.linear_light(azimuth = 0*degrees, amplitude=1)\n",
    "print(S1)\n",
    "S2 = Stokes(\"Source 2\")\n",
    "angles = np.linspace(0, 90*degrees, 5)\n",
    "S2.linear_light(azimuth = angles, amplitude=1, global_phase = 45*degrees)\n",
    "print(E2)\n",
    "\n",
    "S3 = S1 + S2\n",
    "print(S3)"
   ]
  },
  {
   "cell_type": "code",
   "execution_count": 60,
   "metadata": {},
   "outputs": [
    {
     "name": "stdout",
     "output_type": "stream",
     "text": [
      "Source 1 @ 30.00 deg = \n",
      "[+1.000]   \n",
      "[+0.500]   \n",
      "[+0.866]   \n",
      "[+0.000]   \n",
      "\n",
      "Source 1 @ 30.00 deg = \n",
      "[+0.100]   [+0.650]   [+1.200]   [+1.750]   [+2.300]   \n",
      "[+0.050]   [+0.325]   [+0.600]   [+0.875]   [+1.150]   \n",
      "[+0.087]   [+0.563]   [+1.039]   [+1.516]   [+1.992]   \n",
      "[+0.000]   [+0.000]   [+0.000]   [+0.000]   [+0.000]   \n",
      "\n"
     ]
    }
   ],
   "source": [
    "# Multply by a constant\n",
    "S1 = Stokes(\"Source 1\")\n",
    "S1.linear_light(azimuth = 30*degrees, amplitude = 1)\n",
    "print(S1)\n",
    "\n",
    "c = np.linspace(0.1, 2.3, 5)\n",
    "S2 = c * S1\n",
    "print(S2)"
   ]
  },
  {
   "cell_type": "markdown",
   "metadata": {},
   "source": [
    "## Stokes vectors manipulation\n",
    "\n",
    "There are several operations that can be applied to a Stokes vector.\n",
    "\n",
    "\n",
    "* **get**:  Gets a matrix with the electric field components.\n",
    "* **clear**:  Removes data and name form Stokes vectors.\n",
    "* **copy**:  Creates a copy of the Jones_vector object.\n",
    "* **stretch**:  Stretches a Stokes vectors of size 1.\n",
    "* **shape_like**:  Takes the shape of another object to use as its own.\n",
    "* **simplify**:  Simplifies the Stokes vectors in several ways.\n",
    "* **rotate**: Rotates the Stokes vectors.\n",
    "* **sum**: Calculates the summatory of the Stokes vectors in the object.\n",
    "* **flip**: Flips the object along some dimensions.\n",
    "* **reciprocal**: Calculates the Stokes vectors that propagates backwards.\n",
    "* **orthogonal**: Calculates the orthogonal Stokes vectors.\n",
    "* **normalize**: Normalize the electric field to be normalized in electric field amplitude or intensity.\n",
    "* **rotate_to_azimuth**: Rotates the Stokes vectors to have a certain azimuth.\n",
    "* **remove_global_phase**: Calculates the global phase of the electric field (respect to the X component) and removes it.\n",
    "* **add_global_phase**: Adds a global phase to the Stokes vectors.\n",
    "* **set_global_phase**: Sets the global phase of the Stokes vectors.\n",
    "* **set_depolarization**: Sets the degree of depolarization.\n",
    "* **add_depolarization**: Increases the degree of depolarization.\n",
    "* **draw_ellipse**:  Draws the polarization ellipse of the Stokes vectors.\n",
    "\n",
    "For a more detailed description of each method, refer to the individual documentation of each one.\n",
    "\n",
    "Example:"
   ]
  },
  {
   "cell_type": "code",
   "execution_count": 61,
   "metadata": {},
   "outputs": [
    {
     "name": "stdout",
     "output_type": "stream",
     "text": [
      "Source 1 = \n",
      "[+1.000]   \n",
      "[+1.000]   \n",
      "[+0.000]   \n",
      "[+0.000]   \n",
      "\n",
      "Source 1 @ 45.00 deg = \n",
      "[+1.000]   \n",
      "[+0.000]   \n",
      "[+1.000]   \n",
      "[+0.000]   \n",
      "\n"
     ]
    }
   ],
   "source": [
    "S1 = Stokes('Source 1')\n",
    "S1.linear_light(azimuth=0*degrees)\n",
    "print(S1)\n",
    "\n",
    "S1.rotate(angle=45*degrees)\n",
    "print(S1)"
   ]
  },
  {
   "cell_type": "markdown",
   "metadata": {},
   "source": [
    "Most manipulation methods have the *keep* argument that specifies if the originial object must be preserved or transformed. If *keep* is *True* (default is *False*), a new object is created:"
   ]
  },
  {
   "cell_type": "code",
   "execution_count": 62,
   "metadata": {},
   "outputs": [
    {
     "name": "stdout",
     "output_type": "stream",
     "text": [
      "Source 1 = \n",
      "[+1.000]   \n",
      "[+1.000]   \n",
      "[+0.000]   \n",
      "[+0.000]   \n",
      " Source 2 = \n",
      "[+1.000]   \n",
      "[+0.000]   \n",
      "[+1.000]   \n",
      "[+0.000]   \n",
      "\n",
      "Source 2 = \n",
      "[+1.000]   \n",
      "[+0.000]   \n",
      "[+1.000]   \n",
      "[+0.000]   \n",
      " Source 2 = \n",
      "[+1.000]   \n",
      "[+0.000]   \n",
      "[+1.000]   \n",
      "[+0.000]   \n",
      "\n"
     ]
    }
   ],
   "source": [
    "S1 = Stokes('Source 1')\n",
    "S1.linear_light(azimuth=0*degrees)\n",
    "\n",
    "S2 = S1.rotate(angle=45*degrees, keep=True)\n",
    "S2.name = 'Source 2'\n",
    "print(S1, S2)\n",
    "\n",
    "S2 = S1.rotate(angle=45*degrees, keep=False)\n",
    "S2.name = 'Source 2'\n",
    "print(S1, S2)"
   ]
  },
  {
   "cell_type": "markdown",
   "metadata": {},
   "source": [
    "*Stokes* objects allow taking elements and changing them through indices like a *numpy.ndarray*.\n",
    "\n",
    "Examples:"
   ]
  },
  {
   "cell_type": "code",
   "execution_count": 63,
   "metadata": {},
   "outputs": [
    {
     "name": "stdout",
     "output_type": "stream",
     "text": [
      "Original S0 = \n",
      "[[0.59530271 0.17319846 0.55714191 0.18659247 0.04680568]\n",
      " [0.01256454 0.75467426 0.86669819 0.42953192 0.0673898 ]\n",
      " [0.60421673 0.14588876 0.52971088 0.69828334 0.87542717]]\n",
      "Original S1 = \n",
      "[[0.07082795 0.40458816 0.00406076 0.33722341 0.56133002]\n",
      " [0.35427773 0.32376848 0.58125322 0.91512961 0.70480721]\n",
      " [0.13040209 0.32285786 0.13019929 0.83091635 0.54895833]]\n",
      "Original S2 = \n",
      "[[0.70727841 0.1707769  0.71916438 0.15479135 0.98763534]\n",
      " [0.51879584 0.43941956 0.72104226 0.82847499 0.55679161]\n",
      " [0.69573059 0.29127961 0.51033263 0.33243148 0.0088345 ]]\n",
      "Original S3 = \n",
      "[[0.79386136 0.74534528 0.19717868 0.30582679 0.36740567]\n",
      " [0.68066747 0.49568026 0.58920156 0.00395603 0.26614934]\n",
      " [0.04927714 0.00419555 0.42527159 0.33362667 0.62918284]]\n",
      "\n",
      "Original_picked = \n",
      "[+0.595]   [+0.173]   [+0.557]   \n",
      "[+0.071]   [+0.405]   [+0.004]   \n",
      "[+0.707]   [+0.171]   [+0.719]   \n",
      "[+0.794]   [+0.745]   [+0.197]   \n",
      "\n"
     ]
    }
   ],
   "source": [
    "M = np.random.rand(4, 3, 5)\n",
    "S1 = Stokes('Original')\n",
    "S1.from_matrix(M)\n",
    "print(S1)\n",
    "\n",
    "S2 = S1[0:3]\n",
    "print(S2)"
   ]
  },
  {
   "cell_type": "code",
   "execution_count": 65,
   "metadata": {},
   "outputs": [
    {
     "name": "stdout",
     "output_type": "stream",
     "text": [
      "Cambiado S0 = \n",
      "[[1.         1.         0.55714191 0.18659247 0.04680568]\n",
      " [1.         1.         0.86669819 0.42953192 0.0673898 ]\n",
      " [1.         1.         0.52971088 0.69828334 0.87542717]]\n",
      "Cambiado S1 = \n",
      "[[1.         1.         0.00406076 0.33722341 0.56133002]\n",
      " [1.         1.         0.58125322 0.91512961 0.70480721]\n",
      " [1.         1.         0.13019929 0.83091635 0.54895833]]\n",
      "Cambiado S2 = \n",
      "[[0.         0.         0.71916438 0.15479135 0.98763534]\n",
      " [0.         0.         0.72104226 0.82847499 0.55679161]\n",
      " [0.         0.         0.51033263 0.33243148 0.0088345 ]]\n",
      "Cambiado S3 = \n",
      "[[0.         0.         0.19717868 0.30582679 0.36740567]\n",
      " [0.         0.         0.58920156 0.00395603 0.26614934]\n",
      " [0.         0.         0.42527159 0.33362667 0.62918284]]\n",
      "\n"
     ]
    }
   ],
   "source": [
    "S3.linear_light()\n",
    "S4 = S1.copy()\n",
    "S4.name = 'Cambiado'\n",
    "S4[0:3,0:2] = S3\n",
    "print(S4)"
   ]
  },
  {
   "cell_type": "markdown",
   "metadata": {},
   "source": [
    "# Parameters of Stokes vector\n",
    "\n",
    "Several parameters can be measured from a Stokes vector. They are implemented in the independent class Parameters_Stokes_vector, which is stored in the parameters field of Stokes class.\n",
    "\n",
    "* **components**: Calculates the electric field components of the Stokes vectors.\n",
    "* **amplitudes**: Calculates the electric field amplitudes of the Stokes vectors.\n",
    "* **intensity**: Calculates the intensity of the Stokes vectors.\n",
    "* **irradiance**: Calculates the irradiance of the Stokes vectors.\n",
    "* **alpha**: Calculates the ratio between electric field amplitudes ($E_x$/$E_y$).\n",
    "* **delay / delta**: Calculates the delay (phase shift) between Ex and Ey components of the electric field.\n",
    "* **charac_angles**: Calculates both alpha and delay, the characteristic angles of the Stokes vectors.\n",
    "* **azimuth**: Calculates azimuth, that is, the orientation angle of the major axis.\n",
    "* **ellipticity_angle**: Calculates the ellipticity angle.\n",
    "* **azimuth_ellipticity**: Calculates both azimuth and ellipticity angles.\n",
    "* **ellipse_axes**: Calculates the length of major and minor axis (a,b).\n",
    "* **ellipticity_param**: Calculates the ellipticity parameter, b/a.\n",
    "* **eccentricity**: Calculates the eccentricity, the complementary of the ellipticity parameter.\n",
    "* **global_phase**: Calculates the global phase of the Stokes vectors (respect to the X component of the electric field).\n",
    "* **degree_polarization**: Calculates the degree of polarization of the Stokes vectors.\n",
    "* **degree_depolarization**: Calculates the degree of depolarization of the Stokes vectors.\n",
    "* **degree_linear_polarization**: Calculates the degree of linear polarization of the Stokes vectors.\n",
    "* **degree_circular_polarization**: Calculates the degree of circular polarization of the Stokes vectors.\n",
    "* **norm**: Calculates the norm of the Stokes vectors.\n",
    "* **polarized_unpolarized**: Divides the Stokes vector in Sp+Su, where Sp is fully-polarized and Su fully-unpolarized.\n",
    "\n",
    "* **get_all**: Returns a dictionary with all the parameters of Stokes vectors.\n",
    "\n",
    "For a more detailed description of each method, refer to the individual documentation of each one.\n",
    "\n",
    "Example:"
   ]
  },
  {
   "cell_type": "code",
   "execution_count": 66,
   "metadata": {},
   "outputs": [
    {
     "name": "stdout",
     "output_type": "stream",
     "text": [
      "1.0\n"
     ]
    }
   ],
   "source": [
    "S = Stokes(\"Source 1\")\n",
    "S.linear_light(azimuth = 45*degrees)\n",
    "I0 = S.parameters.intensity()\n",
    "print(I0)"
   ]
  },
  {
   "cell_type": "markdown",
   "metadata": {},
   "source": [
    "When several Stokes vectors are stored in the object, setting *verbose* argument to *True* makes the method print the values in screen. Also, 1D or 2D figures can be shown if the *draw* argument is set to *True*:"
   ]
  },
  {
   "cell_type": "code",
   "execution_count": 67,
   "metadata": {},
   "outputs": [
    {
     "name": "stdout",
     "output_type": "stream",
     "text": [
      "The azimuth of Source 1 is (deg):\n",
      "[  0.          16.36363636  32.72727273  49.09090909  65.45454545\n",
      "  81.81818182  98.18181818 114.54545455 130.90909091 147.27272727\n",
      " 163.63636364   0.        ]\n",
      "The mean value is 75.0 +- 54.46016058467962\n",
      "\n"
     ]
    },
    {
     "data": {
      "image/png": "[encoded data removed]",
      "text/plain": [
       "<Figure size 360x360 with 1 Axes>"
      ]
     },
     "metadata": {
      "needs_background": "light"
     },
     "output_type": "display_data"
    }
   ],
   "source": [
    "az = np.linspace(0, 180*degrees, 12)\n",
    "S = Stokes(\"Source 1\")\n",
    "S.general_azimuth_ellipticity(azimuth=az)\n",
    "az = S.parameters.azimuth(draw=True, verbose=True)"
   ]
  },
  {
   "cell_type": "code",
   "execution_count": 116,
   "metadata": {},
   "outputs": [
    {
     "name": "stdout",
     "output_type": "stream",
     "text": [
      "The azimuth of Source 1 is (deg):\n",
      "The mean value is 87.20947265625 +- 53.089012724898296\n",
      "\n",
      "The ellipticity angle of Source 1 is (deg):\n",
      "The mean value is 1.7763568394002505e-15 +- 26.184535918359188\n",
      "\n"
     ]
    },
    {
     "data": {
      "image/png": "[encoded data removed]",
      "text/plain": [
       "<Figure size 360x360 with 2 Axes>"
      ]
     },
     "metadata": {
      "needs_background": "light"
     },
     "output_type": "display_data"
    },
    {
     "data": {
      "image/png": "[encoded data removed]",
      "text/plain": [
       "<Figure size 360x360 with 2 Axes>"
      ]
     },
     "metadata": {
      "needs_background": "light"
     },
     "output_type": "display_data"
    }
   ],
   "source": [
    "az = np.linspace(0, 180*degrees, 128)\n",
    "el = np.linspace(-45*degrees, 45*degrees, 128)\n",
    "AZ, EL = np.meshgrid(az, el)\n",
    "\n",
    "S = Stokes(\"Source 1\")\n",
    "S.general_azimuth_ellipticity(azimuth=AZ, ellipticity=EL)\n",
    "AZ, EL = S.parameters.azimuth_ellipticity(draw=True, use_nan=False)"
   ]
  },
  {
   "cell_type": "markdown",
   "metadata": {},
   "source": [
    "There is a method in *Parameters_Stokes* class, *get_all* that computes all the parameters available and stores in a dictionary *.dict_params()*. Using the *print* function upon the *Parameters_Stokes* class invokes the method *get_all*.\n",
    "\n",
    "Example:"
   ]
  },
  {
   "cell_type": "code",
   "execution_count": 120,
   "metadata": {},
   "outputs": [
    {
     "name": "stdout",
     "output_type": "stream",
     "text": [
      "Source 1 = \n",
      "[+1.000]   \n",
      "[+0.482]   \n",
      "[+0.000]   \n",
      "[+0.575]   \n",
      " \n",
      "\n",
      "The intensity of Source 1 is (a.u.):\n",
      "1.0\n",
      "Low dimensionality, figure not available.\n",
      "\n",
      "The elctric field amplitudes of Source 1 are (V/m):\n",
      "  Ex (V/m)\n",
      "0.6797308402774875\n",
      "  Ey (V/m)\n",
      "0.31696369630552457\n",
      "  Eu (V/m)\n",
      "0.4999999999999999\n",
      "Low dimensionality, figure not available.\n",
      "\n",
      "The global phase of Source 1 is (deg):\n",
      "0.0\n",
      "Low dimensionality, figure not available.\n",
      "\n",
      "The degree of depolarization of Source 1 is:\n",
      "0.6614378277661475\n",
      "Low dimensionality, figure not available.\n",
      "\n",
      "The degree of polarization of Source 1 is:\n",
      "0.7500000000000001\n",
      "Low dimensionality, figure not available.\n",
      "\n",
      "The degree of linear polarization of Source 1 is:\n",
      "0.48209070726490455\n",
      "Low dimensionality, figure not available.\n",
      "\n",
      "The degree of circular polarization of Source 1 is:\n",
      "0.5745333323392335\n",
      "Low dimensionality, figure not available.\n",
      "\n",
      "The alpha of Source 1 is (deg):\n",
      "24.999999999999996\n",
      "Low dimensionality, figure not available.\n",
      "\n",
      "The delay of Source 1 is (deg):\n",
      "90.0\n",
      "Low dimensionality, figure not available.\n",
      "\n",
      "The ellipticity parameter of Source 1 is:\n",
      "0.4663076581549985\n",
      "Low dimensionality, figure not available.\n",
      "\n",
      "The ellipticity angle of Source 1 is (deg):\n",
      "24.999999999999993\n",
      "Low dimensionality, figure not available.\n",
      "\n",
      "The azimuth of Source 1 is (deg):\n",
      "2.090547128679534e-15\n",
      "Low dimensionality, figure not available.\n",
      "\n",
      "The eccentricity of Source 1 is:\n",
      "0.8846226132911147\n",
      "Low dimensionality, figure not available.\n",
      "\n",
      "Polarized Source 1 = \n",
      "[+0.750]   \n",
      "[+0.482]   \n",
      "[+0.000]   \n",
      "[+0.575]   \n",
      " Unpolarized Source 1 = \n",
      "[+0.250]   \n",
      "[+0.000]   \n",
      "[+0.000]   \n",
      "[+0.000]   \n",
      "\n",
      "The norm of Source 1 is (a.u.):\n",
      "[1.25]\n",
      "Low dimensionality, figure not available.\n",
      "\n",
      "\n"
     ]
    }
   ],
   "source": [
    "S1 = Stokes(\"Source 1\")\n",
    "S1. general_charac_angles(alpha=25*degrees,  delay=90*degrees,  intensity=1,    degree_pol=0.75)\n",
    "print(S1,'\\n')\n",
    "      \n",
    "print(S1.parameters)"
   ]
  },
  {
   "cell_type": "markdown",
   "metadata": {},
   "source": [
    "# Checks of Stokes vectors\n",
    "\n",
    "There are several checks that can be performed upon a Stokes vector. They are implemented in the independent class *Checks_Stokes*, which is stored in the *checks* field of *Stokes* class.\n",
    "\n",
    "* **is_physical**: Checks if the Stokes vectors are physically realizable.\n",
    "* **is_linear**: Checks if the Stokes vectors are lienarly polarized.\n",
    "* **is_circular**: Checks if the Stokes vectors are circularly polarized.\n",
    "* **is_right_handed**: Checks if the Stokes vectors rotation direction are right handed.\n",
    "* **is_left_handed**: Checks if the Stokes vectors rotation direction are left handed.\n",
    "* **is_polarized**: Checks if the Stokes vectors are at least partially polarized.\n",
    "* **is_totally_polarized**: Checks if the Stokes vectors are totally polarized.\n",
    "* **is_depolarized**: Checks if the Stokes vectors are at least partially depolarized.\n",
    "* **is_totally_depolarized**: Checks if the Stokes vectors are totally depolarized.\n",
    "\n",
    "* **get_all**: Returns a dictionary with all the checks of Stokes vectors.\n",
    "\n",
    "For a more detailed description of each method, refer to the individual documentation of each one.\n",
    "\n",
    "Example:"
   ]
  },
  {
   "cell_type": "code",
   "execution_count": 124,
   "metadata": {},
   "outputs": [
    {
     "name": "stdout",
     "output_type": "stream",
     "text": [
      "1.0\n"
     ]
    }
   ],
   "source": [
    "S = Stokes(\"Source 1\")\n",
    "S.linear_light(azimuth = 45*degrees)\n",
    "cond = S.checks.is_linear()\n",
    "print(cond)"
   ]
  },
  {
   "cell_type": "markdown",
   "metadata": {},
   "source": [
    "1D and 2D plot draws are also implemented for this class:"
   ]
  },
  {
   "cell_type": "code",
   "execution_count": 143,
   "metadata": {},
   "outputs": [
    {
     "name": "stdout",
     "output_type": "stream",
     "text": [
      "Source 1 is right handed:\n",
      "[[False False False ... False False False]\n",
      " [ True  True  True ...  True  True  True]\n",
      " [ True  True  True ...  True  True  True]\n",
      " ...\n",
      " [False False False ... False False False]\n",
      " [False False False ... False False False]\n",
      " [False False False ... False False False]]\n",
      "The mean value is 0.4921875 +- 0.4999389611180049\n",
      "\n"
     ]
    },
    {
     "name": "stderr",
     "output_type": "stream",
     "text": [
      "d:\\codigo\\py_pol\\py_pol\\stokes.py:2032: RuntimeWarning: invalid value encountered in sqrt\n",
      "  # Print the result if required\n",
      "d:\\codigo\\py_pol\\py_pol\\stokes.py:3291: RuntimeWarning: invalid value encountered in greater\n",
      "  return cond\n"
     ]
    },
    {
     "data": {
      "image/png": "[encoded data removed]",
      "text/plain": [
       "<Figure size 360x360 with 2 Axes>"
      ]
     },
     "metadata": {
      "needs_background": "light"
     },
     "output_type": "display_data"
    }
   ],
   "source": [
    "alpha = np.linspace(30*degrees, 30*degrees, 128)\n",
    "delay = np.linspace(0, 360*degrees, 128)\n",
    "Alpha, Delay = np.meshgrid(alpha, delay)\n",
    "\n",
    "S = Stokes(\"Source 1\")\n",
    "S.general_charac_angles(alpha=Alpha, delay=Delay)\n",
    "_ = S.checks.is_right_handed(verbose=True, draw=True, use_nan=False)"
   ]
  },
  {
   "cell_type": "markdown",
   "metadata": {},
   "source": [
    "# Analysis of Stokes vectors\n",
    "\n",
    "There there is one analysis that can be performed upon a Stokes vector. It is implemented in the independent class *Analysis_Stokes*, which is stored in the *analysis* field of *Stokes* class.\n",
    "\n",
    "* **filter_physical_conditions**: Forces the Stokes vectors to be physically realizable.\n",
    "\n",
    "For a more detailed description, refer to its documentation.\n",
    "\n",
    "Example:"
   ]
  },
  {
   "cell_type": "code",
   "execution_count": 145,
   "metadata": {},
   "outputs": [
    {
     "name": "stdout",
     "output_type": "stream",
     "text": [
      "Source 1 = \n",
      "[+0.367]   [-0.933]   [+0.036]   [+0.259]   [+0.959]   [+0.260]   \n",
      "[-0.118]   [+0.042]   [-0.172]   [-0.772]   [+0.072]   [-0.700]   \n",
      "[+0.240]   [+0.902]   [+0.241]   [-0.236]   [+0.555]   [-0.101]   \n",
      "[+0.015]   [-0.715]   [-0.995]   [+0.956]   [-0.105]   [+0.642]   \n",
      "\n",
      "Corrected source = \n",
      "[+0.367]   [+0.933]   [+0.036]   [+0.259]   [+0.959]   [+0.260]   \n",
      "[-0.118]   [+0.034]   [-0.006]   [-0.160]   [+0.072]   [-0.191]   \n",
      "[+0.240]   [+0.730]   [+0.008]   [-0.049]   [+0.555]   [-0.028]   \n",
      "[+0.015]   [-0.579]   [-0.035]   [+0.198]   [-0.105]   [+0.175]   \n",
      "\n"
     ]
    }
   ],
   "source": [
    "S1 = Stokes(\"Source 1\")\n",
    "M = np.random.rand(4,6) * 2 - 1\n",
    "S1.from_matrix(M)\n",
    "print(S1)\n",
    "\n",
    "S2 = S1.analysis.filter_physical_conditions(keep=True)\n",
    "S2.name = 'Corrected source'\n",
    "print(S2)"
   ]
  },
  {
   "cell_type": "code",
   "execution_count": null,
   "metadata": {},
   "outputs": [],
   "source": []
  }
 ],
 "metadata": {
  "kernelspec": {
   "display_name": "Python 3",
   "language": "python",
   "name": "python3"
  },
  "language_info": {
   "codemirror_mode": {
    "name": "ipython",
    "version": 3
   },
   "file_extension": ".py",
   "mimetype": "text/x-python",
   "name": "python",
   "nbconvert_exporter": "python",
   "pygments_lexer": "ipython3",
   "version": "3.7.1"
  },
  "toc": {
   "base_numbering": 1,
   "nav_menu": {},
   "number_sections": true,
   "sideBar": true,
   "skip_h1_title": false,
   "title_cell": "Table of Contents",
   "title_sidebar": "Contents",
   "toc_cell": false,
   "toc_position": {},
   "toc_section_display": true,
   "toc_window_display": false
  },
  "varInspector": {
   "cols": {
    "lenName": 16,
    "lenType": 16,
    "lenVar": 40
   },
   "kernels_config": {
    "python": {
     "delete_cmd_postfix": "",
     "delete_cmd_prefix": "del ",
     "library": "var_list.py",
     "varRefreshCmd": "print(var_dic_list())"
    },
    "r": {
     "delete_cmd_postfix": ") ",
     "delete_cmd_prefix": "rm(",
     "library": "var_list.r",
     "varRefreshCmd": "cat(var_dic_list()) "
    }
   },
   "types_to_exclude": [
    "module",
    "function",
    "builtin_function_or_method",
    "instance",
    "_Feature"
   ],
   "window_display": false
  }
 },
 "nbformat": 4,
 "nbformat_minor": 2
}
