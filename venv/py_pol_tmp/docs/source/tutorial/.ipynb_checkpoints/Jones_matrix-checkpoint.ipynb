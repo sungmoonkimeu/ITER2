{
 "cells": [
  {
   "cell_type": "markdown",
   "metadata": {},
   "source": [
    "# Jones_matrix class\n",
    "\n",
    "Jones_matrix is a class that manages Jones matrices. It allows the user to create and manipulate them.\n",
    "\n",
    "## Creating an instance\n",
    "\n",
    "An instance must be created before starting to operate with the Jones matrix. The initialization accepts one argument: the name of the vector. This name will be used for printing:"
   ]
  },
  {
   "cell_type": "code",
   "execution_count": 1,
   "metadata": {},
   "outputs": [
    {
     "name": "stdout",
     "output_type": "stream",
     "text": [
      "empty_polarizer is empty\n",
      "\n"
     ]
    }
   ],
   "source": [
    "from py_pol.jones_matrix import Jones_matrix, create_Jones_matrices\n",
    "from py_pol.utils import degrees\n",
    "import numpy as np\n",
    "\n",
    "J = Jones_matrix(\"empty_polarizer\")\n",
    "print(J)"
   ]
  },
  {
   "cell_type": "markdown",
   "metadata": {},
   "source": [
    "Several Jones_matrix objects can be created at the same time using the function *create_Jones_matrices*."
   ]
  },
  {
   "cell_type": "code",
   "execution_count": 16,
   "metadata": {},
   "outputs": [
    {
     "name": "stdout",
     "output_type": "stream",
     "text": [
      "Source 2 is empty\n",
      " Source 3 is empty\n",
      "\n",
      "[J is empty\n",
      ", J is empty\n",
      ", J is empty\n",
      "]\n"
     ]
    }
   ],
   "source": [
    "J1, J2 = create_Jones_matrices(name=('Element 1', 'Element 2'))\n",
    "print(J1, J2)\n",
    "\n",
    "list_of_J = create_Jones_matrices(N=3)\n",
    "print(list_of_J)"
   ]
  },
  {
   "cell_type": "markdown",
   "metadata": {},
   "source": [
    "## Jones_matrix class fields\n",
    "\n",
    "Jones_matrix class objects have some fields where some methods and information is stored:\n",
    "\n",
    "* **M**: 2x2xN array containing all the Jones matrices.\n",
    "* **name**: Name of the object for print purposes.\n",
    "* **shape**: Shape desired for the outputs.\n",
    "* **size**: Number of stored Jones matrices.\n",
    "* **ndim**: Number of dimensions for representation purposes.\n",
    "* **no_rotation**: If True, rotation method do not act upon the object. Useful for objects that shouldn't be rotated as mirrors.\n",
    "* **_type**: Type of the object ('Jones_matrix'). This is used for determining the object class as using isinstance may throw unexpected results in .ipynb files.\n",
    "\n",
    "\n",
    "* **parameters**: Object of class *Parameters_Jones_matrix*.\n",
    "* **checks**: Object of class *Checks_Jones_matrix*.\n",
    "* **analysis**: Object of class *Analysis_Jones_matrix*."
   ]
  },
  {
   "cell_type": "code",
   "execution_count": 37,
   "metadata": {},
   "outputs": [
    {
     "name": "stdout",
     "output_type": "stream",
     "text": [
      "Array:  [[[1.00000000e+00 8.68198052e-01 5.50000000e-01 2.31801948e-01\n",
      "   1.00000000e-01]\n",
      "  [0.00000000e+00 3.18198052e-01 4.50000000e-01 3.18198052e-01\n",
      "   5.51091060e-17]]\n",
      "\n",
      " [[0.00000000e+00 3.18198052e-01 4.50000000e-01 3.18198052e-01\n",
      "   5.51091060e-17]\n",
      "  [1.00000000e-01 2.31801948e-01 5.50000000e-01 8.68198052e-01\n",
      "   1.00000000e+00]]]\n",
      "Name:  Linear diattenuator\n",
      "Shape:  [5]\n",
      "Size:  5\n",
      "Size:  1\n",
      "Type:  Jones_matrix \n",
      "\n",
      "Parameters (global phase): \n",
      " [0. 0. 0. 0. 0.] \n",
      "\n",
      "Checks (element is homogeneous): \n",
      " [ True  True  True  True  True] \n",
      "\n",
      "Analysis (as diattenuator): \n",
      " {'is_diattenuator': array([ True,  True,  True,  True,  True]), 'is_polarizer': array([ True,  True,  True,  True,  True]), 'T_max': array([1., 1., 1., 1., 1.]), 'T_min': array([0.01, 0.01, 0.01, 0.01, 0.01]), 'p1': array([1., 1., 1., 1., 1.]), 'p2': array([0.01, 0.01, 0.01, 0.01, 0.01]), 'T_mean': array([0.495, 0.495, 0.495, 0.495, 0.495]), 'diattenuation': array([0.98019802, 0.98019802, 0.98019802, 0.98019802, 0.98019802]), 'polarizance': array([0.98019802, 0.98019802, 0.98019802, 0.98019802, 0.98019802]), 'e1': array([[ 0.00000000e+00,  3.82683432e-01, -7.07106781e-01,\n",
      "        -9.23879533e-01, -1.00000000e+00],\n",
      "       [ 1.00000000e+00, -9.23879533e-01,  7.07106781e-01,\n",
      "         3.82683432e-01,  6.12323400e-17]]), 'e2': array([[ 1.00000000e+00, -9.23879533e-01,  7.07106781e-01,\n",
      "         3.82683432e-01,  6.12323400e-17],\n",
      "       [ 0.00000000e+00, -3.82683432e-01,  7.07106781e-01,\n",
      "         9.23879533e-01,  1.00000000e+00]]), 'azimuth_1': array([1.57079633, 1.96349541, 2.35619449, 2.74889357, 0.        ]), 'ellipticity_1': array([ 0.0000000e+00,  0.0000000e+00, -1.2246468e-16, -1.2246468e-16,\n",
      "       -1.2246468e-16]), 'alpha_1': array([1.57079633e+00, 1.17809725e+00, 7.85398163e-01, 3.92699082e-01,\n",
      "       6.12323400e-17]), 'delay_1': array([0.        , 3.14159265, 3.14159265, 3.14159265, 3.14159265]), 'azimuth_2': array([0.        , 0.39269908, 0.78539816, 1.17809725, 1.57079633]), 'ellipticity_2': array([ 0.0000000e+00, -1.2246468e-16,  0.0000000e+00,  0.0000000e+00,\n",
      "        0.0000000e+00]), 'alpha_2': array([0.        , 0.39269908, 0.78539816, 1.17809725, 1.57079633]), 'delay_2': array([0., 0., 0., 0., 0.])} \n",
      "\n"
     ]
    }
   ],
   "source": [
    "J = Jones_matrix(\"Linear diattenuator\")\n",
    "angles = np.linspace(0, 90*degrees, 5)\n",
    "J.diattenuator_linear(p1=1, p2=0.1, azimuth=angles)\n",
    "\n",
    "print('Array: ', J.M)\n",
    "print('Name: ', J.name)\n",
    "print('Shape: ', J.shape)\n",
    "print('Size: ', J.size)\n",
    "print('Size: ', J.ndim)\n",
    "print('Type: ', J._type, '\\n')\n",
    "\n",
    "print('Parameters (global phase): \\n', J.parameters.global_phase(), '\\n')\n",
    "print('Checks (element is homogeneous): \\n', J.checks.is_homogeneous(), '\\n')\n",
    "print('Analysis (as diattenuator): \\n', J.analysis.diattenuator(), '\\n')"
   ]
  },
  {
   "cell_type": "markdown",
   "metadata": {},
   "source": [
    "That is, the output beam is linearly polarized in the direction of the linear polarized axis, and some light is absorbed by the polarized."
   ]
  },
  {
   "cell_type": "markdown",
   "metadata": {},
   "source": [
    "## Generating of optical elements\n",
    "\n",
    "As shown in the previous example, the Jones matrix is initialized with all elements equal to zero. There are many methods that can be used to generate a more desirable vector:\n",
    "\n",
    "* **from_components**: Creates a Jones_matrix object directly from the 4 elements (m00, m01, m10, m11).\n",
    "* **from_matrix**: Creates a Jones_matrix object directly from a 2x2 numpy arrays.\n",
    "* **from_list**: Creates a Jones_matrix object directly from a list of 2x2 numpy arrays.\n",
    "* **from_Mueller**: Takes a non-depolarizing Mueller Matrix and converts into Jones matrix.\n",
    "* **vacuum**:  Creates the matrix for vacuum.\n",
    "* **mirror**: Creates the matrix for a mirror. NOTE: Don't rotate this matrix.\n",
    "* **filter_amplifier**: Creates the matrix for a neutral filter or amplifier element\n",
    "* **diattenuator_perfect**: Creates a perfect linear diattenuator.\n",
    "* **diattenuator_linear**: Creates a real polarizer with perpendicular axes.\n",
    "* **diattenuator_retarder_linear**: Creates a linear diattenuator retarder with the same axes for diattenuation and retardance.\n",
    "* **diattenuator_charac_angles**: Creates the most general homogeneous diattenuator with orthogonal eigenstates from the characteristic angles of the main eigenstate.\n",
    "* **diattenuator_azimuth_ellipticity**: Creates the general homogeneous diattenuator with orthogonal eigenstates from the characteristic angles of the main eigenstate.\n",
    "* **quarter_waveplate**: Creates a quarter-waveplate.\n",
    "* **half_waveplate**: Creates a half-waveplate.\n",
    "* **retarder_linear**: Creates a retarder using delay.\n",
    "* **retarder_material**: Creates a retarder using physical properties of a anisotropic material.\n",
    "* **retarder_charac_angles**: Creates the most general homogenous retarder with orthogonal eigenstates from the characteristic angles of the main eigenstate.\n",
    "* **retarder_azimuth_ellipticity**: Creates the general homogeneous retarder with orthogonal eigenstates from the characteristic angles of the main eigenstate.\n",
    "\n",
    "For a more detailed description of each method, refer to the individual documentation of each one.\n",
    "\n",
    "Example: Linear polarizer."
   ]
  },
  {
   "cell_type": "code",
   "execution_count": 10,
   "metadata": {},
   "outputs": [
    {
     "name": "stdout",
     "output_type": "stream",
     "text": [
      "Polarizer = \n",
      "[+1.000 +0.000]   \n",
      "[+0.000 +0.000]   \n",
      "\n"
     ]
    },
    {
     "name": "stderr",
     "output_type": "stream",
     "text": [
      "d:\\codigo\\py_pol\\py_pol\\jones_matrix.py:485: ComplexWarning: Casting complex values to real discards the imaginary part\n",
      "  self.M = np.array(self.M, dtype=float)\n"
     ]
    }
   ],
   "source": [
    "J = Jones_matrix(\"Polarizer\")\n",
    "J.diattenuator_perfect(azimuth=0*degrees)\n",
    "print(J)"
   ]
  },
  {
   "cell_type": "markdown",
   "metadata": {},
   "source": [
    "The previous example only stores one Jones matrix. It is possible to store many Jones matrices in the same object. This is useful specially when the same operation is performed upon all of them, as rotation. In this way, it is not required to use for loops, reducing significantly the computation time.\n",
    "\n",
    "There are many ways of creating several Jones matrices in the same object. The first way is creating an object with several identical vectors. This is performed using the *length* argument of most of creation methods:"
   ]
  },
  {
   "cell_type": "code",
   "execution_count": 11,
   "metadata": {},
   "outputs": [
    {
     "name": "stdout",
     "output_type": "stream",
     "text": [
      "Polarizer = \n",
      "[+0.750 +0.433]   [+0.750 +0.433]   [+0.750 +0.433]   \n",
      "[+0.433 +0.250]   [+0.433 +0.250]   [+0.433 +0.250]   \n",
      "\n"
     ]
    }
   ],
   "source": [
    "J = Jones_matrix(\"Polarizer\")\n",
    "J.diattenuator_perfect(azimuth = 30*degrees, length = 3)\n",
    "print(J)"
   ]
  },
  {
   "cell_type": "markdown",
   "metadata": {},
   "source": [
    "A second way of creating several Jones matrices at the same time is using an array as one of the parameters. Take into account that, if you use this option, all parameters must have the same number of elements or just one element. Otherwise, the program will throw an exception."
   ]
  },
  {
   "cell_type": "code",
   "execution_count": 14,
   "metadata": {},
   "outputs": [
    {
     "name": "stdout",
     "output_type": "stream",
     "text": [
      "Polarizer = \n",
      "[+1.000 +0.000]   [+0.854 +0.354]   [+0.500 +0.500]   [+0.146 +0.354]   [+0.000 +0.000]   \n",
      "[+0.000 +0.000]   [+0.354 +0.146]   [+0.500 +0.500]   [+0.354 +0.854]   [+0.000 +1.000]   \n",
      "\n"
     ]
    }
   ],
   "source": [
    "J = Jones_matrix(\"Polarizer\")\n",
    "angles = np.linspace(0, 90*degrees, 5)\n",
    "J.diattenuator_perfect(azimuth = angles)\n",
    "print(J)"
   ]
  },
  {
   "cell_type": "markdown",
   "metadata": {},
   "source": [
    "If the parameters have dimension higher than 1, the program will store that information in order to make prints and plots. In that case, the *print* function separates the four components Jones matrices:\n",
    "\n",
    "$$J=\\left[\\begin{array}{cc}\n",
    "J_{00} & J_{01}\\\\\n",
    "J_{10} & J_{11}\n",
    "\\end{array}\\right]$$"
   ]
  },
  {
   "cell_type": "code",
   "execution_count": 15,
   "metadata": {},
   "outputs": [
    {
     "name": "stdout",
     "output_type": "stream",
     "text": [
      "Polarizer J00 = \n",
      "[[0.6974945  0.99771042 0.44842892]\n",
      " [0.04559131 0.77414244 0.06607699]\n",
      " [0.75838907 0.01401246 0.65238646]]\n",
      "Polarizer J01 = \n",
      "[[-0.45934292 -0.04779477  0.49733331]\n",
      " [ 0.20859708 -0.41814582 -0.24841663]\n",
      " [-0.42805968 -0.11754195  0.47621252]]\n",
      "Polarizer J10 = \n",
      "[[-0.45934292 -0.04779477  0.49733331]\n",
      " [ 0.20859708 -0.41814582 -0.24841663]\n",
      " [-0.42805968 -0.11754195  0.47621252]]\n",
      "Polarizer J11 = \n",
      "[[0.3025055  0.00228958 0.55157108]\n",
      " [0.95440869 0.22585756 0.93392301]\n",
      " [0.24161093 0.98598754 0.34761354]]\n",
      "\n"
     ]
    }
   ],
   "source": [
    "J = Jones_matrix(\"Polarizer\")\n",
    "angles = np.random.rand(3,3) * 180*degrees\n",
    "J.diattenuator_perfect(azimuth = angles)\n",
    "print(J)"
   ]
  },
  {
   "cell_type": "markdown",
   "metadata": {},
   "source": [
    "It is possible to transform *Mueller* objects into *Jones_matrix* objects and viceversa."
   ]
  },
  {
   "cell_type": "code",
   "execution_count": null,
   "metadata": {},
   "outputs": [],
   "source": [
    "#TODO"
   ]
  },
  {
   "cell_type": "markdown",
   "metadata": {},
   "source": [
    "### Features of creation methods\n",
    "\n",
    "*py_pol* model sets the origin of phase in $J_{00}$. It means that the parameter *global_phase* of most creation methods and the methods *remove_global_phase* and *set_global_phase* (see below) will take it as the reference."
   ]
  },
  {
   "cell_type": "code",
   "execution_count": 21,
   "metadata": {},
   "outputs": [
    {
     "name": "stdout",
     "output_type": "stream",
     "text": [
      "Polarizer @ 45.00 deg = \n",
      "[+0.000+0.500j +0.000+0.500j]   \n",
      "[+0.000+0.500j +0.000+0.500j]   \n",
      "\n",
      "Polarizer @ 45.00 deg = \n",
      "[+0.500 +0.500]   \n",
      "[+0.500 +0.500]   \n",
      "\n"
     ]
    }
   ],
   "source": [
    "J = Jones_matrix(\"Polarizer\")\n",
    "J.diattenuator_perfect(azimuth = 45*degrees, global_phase = 90*degrees)\n",
    "print(J)\n",
    "\n",
    "J.remove_global_phase()\n",
    "print(J)"
   ]
  },
  {
   "cell_type": "markdown",
   "metadata": {},
   "source": [
    "## Basic operations\n",
    "\n",
    "Some physical phenomena that affects polarization optical elements is described by simple operations performed to their Jones matrices.\n",
    "\n",
    "### Multiplication of a Jones matrix by a Jones vector\n",
    "\n",
    "When a light beam $E_1$ goes through a polarization optical element $J_1$, the polarization state of the output beam can be determined as: $E_2 = J_1 * E_1$. This can be implemented in *py_pol* as:"
   ]
  },
  {
   "cell_type": "code",
   "execution_count": 43,
   "metadata": {},
   "outputs": [
    {
     "name": "stdout",
     "output_type": "stream",
     "text": [
      "J1 = \n",
      "[+1.000 +0.000]   \n",
      "[+0.000 +0.000]   \n",
      "\n",
      "E1 = \n",
      "[+0.707]   \n",
      "[+0.707]   \n",
      "\n",
      "J1 * E1 = \n",
      "[+0.707]   \n",
      "[+0.000]   \n",
      "\n"
     ]
    }
   ],
   "source": [
    "from py_pol.jones_vector import Jones_vector\n",
    "J1 = Jones_matrix(\"J1\")\n",
    "J1.diattenuator_perfect(azimuth=0*degrees)\n",
    "print(J1)\n",
    "\n",
    "E1 = Jones_vector(\"E1\")\n",
    "E1.linear_light(azimuth=45*degrees)\n",
    "print(E1)\n",
    "\n",
    "E2 = J1 * E1\n",
    "print(E2)"
   ]
  },
  {
   "cell_type": "markdown",
   "metadata": {},
   "source": [
    "### Multiplication of 2 Jones matrices\n",
    "\n",
    "When two polarizing elementsare placed one after the other in the light path, first $J_1$ and then $J_2$, the system composed of both elements can be described by a single Jones matrix $J_3$, which is calculated as $J_3 = J_2 * J_1$.\n",
    "\n",
    "Example: Matrix representing a perfect linear polarized and a $\\lambda/4$ retarder."
   ]
  },
  {
   "cell_type": "code",
   "execution_count": 44,
   "metadata": {},
   "outputs": [
    {
     "name": "stdout",
     "output_type": "stream",
     "text": [
      "Polarizer = \n",
      "[+1.000 +0.000]   \n",
      "[+0.000 +0.000]   \n",
      "\n",
      "Retarder @ 45.00 deg = \n",
      "[+0.500-0.500j +0.500+0.500j]   \n",
      "[+0.500+0.500j +0.500-0.500j]   \n",
      "\n",
      "Retarder @ 45.00 deg * Polarizer = \n",
      "[+0.500-0.500j +0.000+0.000j]   \n",
      "[+0.500+0.500j +0.000+0.000j]   \n",
      "\n"
     ]
    }
   ],
   "source": [
    "J1 = Jones_matrix(\"Polarizer\")\n",
    "J1.diattenuator_perfect()\n",
    "print(J1)\n",
    "J2 = Jones_matrix(\"Retarder\")\n",
    "J2.quarter_waveplate(azimuth=45*degrees)\n",
    "print(J2)\n",
    "\n",
    "J3 = J2 * J1\n",
    "print(J3)"
   ]
  },
  {
   "cell_type": "markdown",
   "metadata": {},
   "source": [
    "### Multiplication by a constant\n",
    "\n",
    "The absorption and gain experienced by a light wave that goes through a polarization optical element can be increased or decreased by multiplying its Jones matrix by a real number."
   ]
  },
  {
   "cell_type": "code",
   "execution_count": 46,
   "metadata": {},
   "outputs": [
    {
     "name": "stdout",
     "output_type": "stream",
     "text": [
      "Polarizer @ 30.00 deg = \n",
      "[+0.750 +0.433]   \n",
      "[+0.433 +0.250]   \n",
      "\n",
      "Polarizer @ 30.00 deg * 2 = \n",
      "[+1.500 +0.866]   \n",
      "[+0.866 +0.500]   \n",
      "\n",
      "Polarizer @ 30.00 deg / 2 = \n",
      "[+0.375 +0.217]   \n",
      "[+0.217 +0.125]   \n",
      "\n"
     ]
    }
   ],
   "source": [
    "J1 = Jones_matrix(\"Polarizer\")\n",
    "J1.diattenuator_perfect(azimuth=30*degrees)\n",
    "print(J1)\n",
    "\n",
    "J2 = 2 * J1\n",
    "print(J2)\n",
    "\n",
    "J2 = J1 / 2\n",
    "print(J2)"
   ]
  },
  {
   "cell_type": "markdown",
   "metadata": {},
   "source": [
    "The global phase change experienced by the light wave can also be changed by multiplying the Jones matrix of the element by a complex number."
   ]
  },
  {
   "cell_type": "code",
   "execution_count": 47,
   "metadata": {},
   "outputs": [
    {
     "name": "stdout",
     "output_type": "stream",
     "text": [
      "Polarizer @ 30.00 deg = \n",
      "[+0.750 +0.433]   \n",
      "[+0.433 +0.250]   \n",
      "\n",
      "Polarizer @ 30.00 deg * 1j = \n",
      "[+0.000+0.750j +0.000+0.433j]   \n",
      "[+0.000+0.433j +0.000+0.250j]   \n",
      "\n"
     ]
    }
   ],
   "source": [
    "J1 = Jones_matrix(\"Polarizer\")\n",
    "J1.diattenuator_perfect(azimuth=30*degrees)\n",
    "print(J1)\n",
    "\n",
    "c = 1j\n",
    "J2 = c * J1\n",
    "print(J2)"
   ]
  },
  {
   "cell_type": "markdown",
   "metadata": {},
   "source": [
    "### Addition of two Jones matrices\n",
    "\n",
    "The physical meaning of this operation is a little bit more complex. Imagine a light wave $E_0$ which goes through two spatially separated polarization optical elements $J_1$ and $J_2$. If the light waves are then coherently added, the behavior of the two elements can be described by a single Jones matrix $J_3 = J_1 + J_2$."
   ]
  },
  {
   "cell_type": "code",
   "execution_count": 51,
   "metadata": {},
   "outputs": [
    {
     "name": "stdout",
     "output_type": "stream",
     "text": [
      "Polarizer = \n",
      "[+1.000 +0.000]   \n",
      "[+0.000 +0.000]   \n",
      "\n",
      "Retarder @ 45.00 deg = \n",
      "[+0.500-0.500j +0.500+0.500j]   \n",
      "[+0.500+0.500j +0.500-0.500j]   \n",
      "\n",
      "Retarder @ 45.00 deg + Polarizer = \n",
      "[+1.500-0.500j +0.500+0.500j]   \n",
      "[+0.500+0.500j +0.500-0.500j]   \n",
      "\n"
     ]
    },
    {
     "name": "stderr",
     "output_type": "stream",
     "text": [
      "d:\\codigo\\py_pol\\py_pol\\jones_matrix.py:492: ComplexWarning: Casting complex values to real discards the imaginary part\n",
      "  self.shape, self.ndim = select_shape(self)\n"
     ]
    }
   ],
   "source": [
    "J1 = Jones_matrix(\"Polarizer\")\n",
    "J1.diattenuator_perfect()\n",
    "print(J1)\n",
    "J2 = Jones_matrix(\"Retarder\")\n",
    "J2.quarter_waveplate(azimuth=45*degrees)\n",
    "print(J2)\n",
    "\n",
    "J3 = J2 + J1\n",
    "print(J3)"
   ]
  },
  {
   "cell_type": "markdown",
   "metadata": {},
   "source": [
    "### Equality\n",
    "\n",
    "It is possible to compare two *Jones_matrix* objects and tell if they are the same. It just compares the matrix components, not the rest of object fields."
   ]
  },
  {
   "cell_type": "code",
   "execution_count": 84,
   "metadata": {},
   "outputs": [
    {
     "name": "stdout",
     "output_type": "stream",
     "text": [
      "Retarder 1 = \n",
      "[+1.000+0.000j +0.000+0.000j]   \n",
      "[+0.000+0.000j +0.000-1.000j]   \n",
      "\n",
      "Retarder 2 @ 0.01 deg = \n",
      "[+1.000-0.000j +0.000+0.000j]   \n",
      "[+0.000+0.000j +0.000-1.000j]   \n",
      "\n",
      "Comparison:  [False]\n"
     ]
    }
   ],
   "source": [
    "J1 = Jones_matrix(\"Retarder 1\")\n",
    "J1.quarter_waveplate(azimuth=0*degrees)\n",
    "print(J1)\n",
    "J2 = Jones_matrix(\"Retarder 2\")\n",
    "J2.quarter_waveplate(azimuth=0.01*degrees)\n",
    "print(J2)\n",
    "\n",
    "print('Comparison: ', E1==E2)"
   ]
  },
  {
   "cell_type": "markdown",
   "metadata": {},
   "source": [
    "### Operations and multidimensionality\n",
    "\n",
    "The basic operations of *Jones_matrix* objects are subject to the same casting rules as numpy arrays. This means that they can be easily used even if one or both elements of the operation have more than one element.\n",
    "\n",
    "Here are some examples:"
   ]
  },
  {
   "cell_type": "code",
   "execution_count": 49,
   "metadata": {},
   "outputs": [
    {
     "name": "stdout",
     "output_type": "stream",
     "text": [
      "Polarizer = \n",
      "[+1.000 +0.000]   \n",
      "[+0.000 +0.000]   \n",
      "\n",
      "Retarder = \n",
      "[+1.000+0.000j +0.000+0.000j]   [+0.750-0.250j +0.433+0.433j]   [+0.250-0.750j +0.433+0.433j]   [+0.000-1.000j +0.000+0.000j]   \n",
      "[+0.000+0.000j +0.000-1.000j]   [+0.433+0.433j +0.250-0.750j]   [+0.433+0.433j +0.750-0.250j]   [+0.000+0.000j +1.000-0.000j]   \n",
      "\n",
      "Retarder * Polarizer = \n",
      "[+1.000+0.000j +0.000+0.000j]   [+0.750-0.250j +0.000+0.000j]   [+0.250-0.750j +0.000+0.000j]   [+0.000-1.000j +0.000+0.000j]   \n",
      "[+0.000+0.000j +0.000+0.000j]   [+0.433+0.433j +0.000+0.000j]   [+0.433+0.433j +0.000+0.000j]   [+0.000+0.000j +0.000+0.000j]   \n",
      "\n"
     ]
    }
   ],
   "source": [
    "# Multiplication of two Jones matrices\n",
    "J1 = Jones_matrix(\"Polarizer\")\n",
    "J1.diattenuator_perfect()\n",
    "print(J1)\n",
    "J2 = Jones_matrix(\"Retarder\")\n",
    "angles = np.linspace(0, 90*degrees, 4)\n",
    "J2.quarter_waveplate(azimuth=angles)\n",
    "print(J2)\n",
    "\n",
    "J3 = J2 * J1\n",
    "print(J3)"
   ]
  },
  {
   "cell_type": "code",
   "execution_count": 53,
   "metadata": {},
   "outputs": [
    {
     "name": "stdout",
     "output_type": "stream",
     "text": [
      "Polarizer @ 30.00 deg = \n",
      "[+0.750 +0.433]   \n",
      "[+0.433 +0.250]   \n",
      "\n",
      "J = \n",
      "[+0.239+0.750j +0.138+0.433j]   [+0.050+0.750j +0.029+0.433j]   [+0.500+0.750j +0.289+0.433j]   [+0.309+0.750j +0.179+0.433j]   \n",
      "[+0.138+0.433j +0.080+0.250j]   [+0.029+0.433j +0.017+0.250j]   [+0.289+0.433j +0.167+0.250j]   [+0.179+0.433j +0.103+0.250j]   \n",
      "\n"
     ]
    }
   ],
   "source": [
    "J1 = Jones_matrix(\"Polarizer\")\n",
    "J1.diattenuator_perfect(azimuth=30*degrees)\n",
    "print(J1)\n",
    "\n",
    "c = 1j + np.random.rand(4)\n",
    "J2 = c * J1\n",
    "print(J2)"
   ]
  },
  {
   "cell_type": "code",
   "execution_count": 54,
   "metadata": {},
   "outputs": [
    {
     "name": "stdout",
     "output_type": "stream",
     "text": [
      "Polarizer = \n",
      "[+1.000 +0.000]   [+0.750 +0.433]   [+0.250 +0.433]   [+0.000 +0.000]   \n",
      "[+0.000 +0.000]   [+0.433 +0.250]   [+0.433 +0.750]   [+0.000 +1.000]   \n",
      "\n",
      "Retarder = \n",
      "[+0.000-1.000j +0.000+0.000j]   [+0.250-0.750j -0.433-0.433j]   [+0.750-0.250j -0.433-0.433j]   [+1.000-0.000j -0.000-0.000j]   \n",
      "[+0.000+0.000j +1.000-0.000j]   [-0.433-0.433j +0.750-0.250j]   [-0.433-0.433j +0.250-0.750j]   [-0.000-0.000j +0.000-1.000j]   \n",
      "\n",
      "Retarder + Polarizer = \n",
      "[+1.000-1.000j +0.000+0.000j]   [+1.000-0.750j +0.000-0.433j]   [+1.000-0.250j -0.000-0.433j]   [+1.000-0.000j -0.000-0.000j]   \n",
      "[+0.000+0.000j +1.000-0.000j]   [+0.000-0.433j +1.000-0.250j]   [-0.000-0.433j +1.000-0.750j]   [-0.000-0.000j +1.000-1.000j]   \n",
      "\n"
     ]
    }
   ],
   "source": [
    "J1 = Jones_matrix(\"Polarizer\")\n",
    "angles = np.linspace(0, 90*degrees, 4)\n",
    "J1.diattenuator_perfect(azimuth=angles)\n",
    "print(J1)\n",
    "J2 = Jones_matrix(\"Retarder\")\n",
    "J2.quarter_waveplate(azimuth=90*degrees+angles)\n",
    "print(J2)\n",
    "\n",
    "J3 = J2 + J1\n",
    "print(J3)"
   ]
  },
  {
   "cell_type": "markdown",
   "metadata": {},
   "source": [
    "## Jones matrix manipulation\n",
    "\n",
    "There are other operations implemented for the *Jones_matrix* class:\n",
    "\n",
    "* **get**:  Gets a matrix with the electric field components.\n",
    "* **clear**:  Removes data and name form the object.\n",
    "* **copy**:  Creates a copy of the object.\n",
    "* **stretch**:  Stretches an object of size 1.\n",
    "* **shape_like**:  Takes the shape of another object to use as its own.\n",
    "* **rotate**: Rotates the Jones matrix.\n",
    "* **sum**: Calculates the summatory of the Jones matrices in the object.\n",
    "* **prod**: Calculates the product of the Jones matrices in the object.\n",
    "* **flip**: Flips the object along some dimensions.\n",
    "* **remove_global_phase**: Removes the phase introduced by the optical element (respect to J00).\n",
    "* **add_global_phase**: Increases the phase introduced by the optical element.\n",
    "* **set_global_phase**: Sets the phase introduced by the optical element.\n",
    "* **reciprocal**: The optical element is fliped so the light transverses it in the opposite direction.\n",
    "* **transpose**: Transposes the Jones matrix of the element.\n",
    "* **hermitan**: Calculates the hermitan matrix of the Jones matrix.\n",
    "* **inverse**: Calculates the inverse matrix of the Jones matrix.\n",
    "\n",
    "All the methods return a *Jones_matrix* object. For a more detailed description of each method, refer to the individual documentation of each one.\n",
    "\n",
    "Example: inverse."
   ]
  },
  {
   "cell_type": "code",
   "execution_count": 60,
   "metadata": {},
   "outputs": [
    {
     "name": "stdout",
     "output_type": "stream",
     "text": [
      "Polarizer = \n",
      "[+1.000 +0.000]   \n",
      "[+0.000 +0.200]   \n",
      " \n",
      "\n",
      "Inverse of Polarizer = \n",
      "[+1.000 +0.000]   \n",
      "[+0.000 +5.000]   \n",
      "\n"
     ]
    },
    {
     "name": "stderr",
     "output_type": "stream",
     "text": [
      "d:\\codigo\\py_pol\\py_pol\\jones_matrix.py:495: ComplexWarning: Casting complex values to real discards the imaginary part\n",
      "  self.M = np.array(self.M, dtype=float)\n"
     ]
    }
   ],
   "source": [
    "J1 = Jones_matrix(\"Polarizer\")\n",
    "J1.diattenuator_linear(p1=1, p2=0.2)\n",
    "print(J1,'\\n')\n",
    "\n",
    "Inv = J1.inverse()\n",
    "print(Inv)"
   ]
  },
  {
   "cell_type": "markdown",
   "metadata": {},
   "source": [
    "All manipulation methods have the *keep* argument that specifies if the originial object must be preserved or transformed. If *keep* is True (default is False), a new object is created:"
   ]
  },
  {
   "cell_type": "code",
   "execution_count": 61,
   "metadata": {},
   "outputs": [
    {
     "name": "stdout",
     "output_type": "stream",
     "text": [
      "Polarizer = \n",
      "[+1.000 +0.000]   \n",
      "[+0.000 +0.200]   \n",
      " J2 = \n",
      "[+0.600 +0.400]   \n",
      "[+0.400 +0.600]   \n",
      "\n",
      "J2 = \n",
      "[+0.600 +0.400]   \n",
      "[+0.400 +0.600]   \n",
      " J2 = \n",
      "[+0.600 +0.400]   \n",
      "[+0.400 +0.600]   \n",
      "\n"
     ]
    },
    {
     "name": "stderr",
     "output_type": "stream",
     "text": [
      "d:\\codigo\\py_pol\\py_pol\\jones_matrix.py:495: ComplexWarning: Casting complex values to real discards the imaginary part\n",
      "  self.M = np.array(self.M, dtype=float)\n"
     ]
    }
   ],
   "source": [
    "J1 = Jones_matrix(\"Polarizer\")\n",
    "J1.diattenuator_linear(p1=1, p2=0.2)\n",
    "\n",
    "J2 = J1.rotate(angle=45*degrees, keep=True)\n",
    "J2.name = 'J2'\n",
    "print(J1, J2)\n",
    "\n",
    "J2 = J1.rotate(angle=45*degrees, keep=False)\n",
    "J2.name = 'J2'\n",
    "print(J1, J2)"
   ]
  },
  {
   "cell_type": "markdown",
   "metadata": {},
   "source": [
    "*Jones_matrix* objects allow taking elements and changing them through indices like a *numpy.ndarray*.\n",
    "\n",
    "Examples:"
   ]
  },
  {
   "cell_type": "code",
   "execution_count": 62,
   "metadata": {},
   "outputs": [
    {
     "name": "stdout",
     "output_type": "stream",
     "text": [
      "Original J00 = \n",
      "[[0.34832504 0.36887991 0.27453425 0.44715309 0.1987909 ]\n",
      " [0.85107005 0.78918623 0.09306543 0.90482436 0.92555114]\n",
      " [0.12216588 0.94499457 0.16477374 0.81657203 0.01190661]]\n",
      "Original J01 = \n",
      "[[0.79324237 0.92320892 0.14667898 0.3967667  0.90631136]\n",
      " [0.58247869 0.61361532 0.28155447 0.71369984 0.00946341]\n",
      " [0.03674595 0.43015609 0.04870326 0.10040607 0.74299884]]\n",
      "Original J10 = \n",
      "[[0.64540415 0.04073948 0.57993857 0.24292656 0.38113021]\n",
      " [0.23096085 0.3119768  0.6234661  0.69576117 0.28963771]\n",
      " [0.65892642 0.67784261 0.86587798 0.02864546 0.77587305]]\n",
      "Original J11 = \n",
      "[[0.45443291 0.48175895 0.37320336 0.98069989 0.00561981]\n",
      " [0.00120138 0.46180176 0.68761075 0.22239512 0.03838405]\n",
      " [0.41042132 0.88711789 0.41909474 0.15502836 0.09075664]]\n",
      "\n",
      "Original_picked = \n",
      "[+0.348 +0.793]   [+0.369 +0.923]   [+0.275 +0.147]   \n",
      "[+0.645 +0.454]   [+0.041 +0.482]   [+0.580 +0.373]   \n",
      "\n"
     ]
    }
   ],
   "source": [
    "M = np.random.rand(2, 2, 3, 5)\n",
    "J = Jones_matrix('Original')\n",
    "J.from_matrix(M)\n",
    "print(J)\n",
    "\n",
    "J2 = J[0:3]\n",
    "print(J2)"
   ]
  },
  {
   "cell_type": "code",
   "execution_count": 64,
   "metadata": {},
   "outputs": [
    {
     "name": "stdout",
     "output_type": "stream",
     "text": [
      "Polarizer = \n",
      "[+1.000 +0.000]   [+0.750 +0.433]   [+0.250 +0.433]   [+0.000 +0.000]   \n",
      "[+0.000 +0.000]   [+0.433 +0.250]   [+0.433 +0.750]   [+0.000 +1.000]   \n",
      "\n",
      "Retarder = \n",
      "[+1.000+0.000j +0.000+0.000j]   \n",
      "[+0.000+0.000j +0.000-1.000j]   \n",
      "\n",
      "Modified = \n",
      "[+1.000+0.000j +0.000+0.000j]   [+0.750+0.000j +0.433+0.000j]   [+1.000+0.000j +0.000+0.000j]   [+0.000+0.000j +0.000+0.000j]   \n",
      "[+0.000+0.000j +0.000+0.000j]   [+0.433+0.000j +0.250+0.000j]   [+0.000+0.000j +0.000-1.000j]   [+0.000+0.000j +1.000+0.000j]   \n",
      "\n"
     ]
    }
   ],
   "source": [
    "J1 = Jones_matrix(\"Polarizer\")\n",
    "angles = np.linspace(0, 90*degrees, 4)\n",
    "J1.diattenuator_perfect(azimuth=angles)\n",
    "print(J1)\n",
    "\n",
    "J2 = Jones_matrix(\"Retarder\")\n",
    "J2.quarter_waveplate()\n",
    "print(J2)\n",
    "\n",
    "J1[2] = J2\n",
    "J1.name = 'Modified'\n",
    "print(J1)"
   ]
  },
  {
   "cell_type": "markdown",
   "metadata": {},
   "source": [
    "# Parameters of Jones_matrix\n",
    "\n",
    "Several parameters can be measured from a Jones matrix. They are implemented in the independent class *Parameters_Jones_Matrix*, which is stored in the *parameters* field of *Jones_matrix* class.\n",
    "\n",
    "* **matrix**:  Gets a numpy array with all the matrices.\n",
    "* **components**: Extracts the four components of the Jones matrix.\n",
    "* **inhomogeneity**: Calculates the inhomogeneity parameter.\n",
    "* **diattenuation / polarizance**:   Calculates the diattenuation of the matrix.\n",
    "* **retardance**: Calculates the retardance (or delay) introduced between the fast and slow axes.\n",
    "* **global_phase**: Calculates the phase introduced by the optical element (respect to J00).\n",
    "* **transmissions**: Calculates the maximum and minimum field and/or intensity transmissions.\n",
    "* **mean_transmission**: Calculates the mean intensity transmission.\n",
    "* **eig**: Calculates the eigenvalues and eigenstates (eigenvectors) of the Jones matrices.\n",
    "* **eigenvalues**: Calculates the eigenvalues and of the Jones matrices.\n",
    "* **eigenstates**: Calculates the eigenstates (eigenvectors) of the Jones matrices.\n",
    "* **det**: Calculates the determinant and of the Jones matrices.\n",
    "* **trace**: Calculates the trace of the Jones matrices.\n",
    "* **norm**: Calculates the norm of the Jones matrices.\n",
    "\n",
    "* **get_all**: Returns a dictionary with all the parameters of the object.\n",
    "\n",
    "For a more detailed description of each method, refer to the individual documentation of each one.\n",
    "\n",
    "Example:"
   ]
  },
  {
   "cell_type": "code",
   "execution_count": 70,
   "metadata": {},
   "outputs": [
    {
     "name": "stdout",
     "output_type": "stream",
     "text": [
      "Retardance = 90.0º\n"
     ]
    }
   ],
   "source": [
    "J = Jones_matrix(\"Diattenuator retarder\")\n",
    "J.diattenuator_retarder_linear(R=90*degrees, p1=1, p2=0.5, azimuth=30*degrees)\n",
    "R = J.parameters.retardance()\n",
    "print(\"Retardance = {:2.1f}º\".format(R/degrees))"
   ]
  },
  {
   "cell_type": "markdown",
   "metadata": {},
   "source": [
    "When several Jones matrices are stored in the object, setting *verbose* argument to *True* makes the method print the values in screen. Also, 1D or 2D figures can be shown if the *draw* argument is set to *True*::"
   ]
  },
  {
   "cell_type": "code",
   "execution_count": 72,
   "metadata": {},
   "outputs": [
    {
     "name": "stdout",
     "output_type": "stream",
     "text": [
      "The retardance of Diattenuator retarder is (deg.):\n",
      "[  0.  15.  30.  45.  60.  75.  90. 105. 120. 135. 150. 165. 180.]\n",
      "The mean value is 90.0 +- 56.124860801609124\n",
      "\n"
     ]
    },
    {
     "data": {
      "image/png": "[encoded data removed]",
      "text/plain": [
       "<Figure size 360x360 with 1 Axes>"
      ]
     },
     "metadata": {
      "needs_background": "light"
     },
     "output_type": "display_data"
    }
   ],
   "source": [
    "J = Jones_matrix(\"Diattenuator retarder\")\n",
    "R = np.linspace(0, 180*degrees, 13)\n",
    "J.diattenuator_retarder_linear(R=R, p1=1, p2=0.5, azimuth=30*degrees)\n",
    "R = J.parameters.retardance(verbose=True, draw=True)"
   ]
  },
  {
   "cell_type": "code",
   "execution_count": 74,
   "metadata": {},
   "outputs": [
    {
     "name": "stdout",
     "output_type": "stream",
     "text": [
      "The field transmissions of Diattenuator are:\n",
      "The mean value of param p1 is 0.7500000000003215 +- 0.14546964399033177\n",
      "The mean value of param p2 is 0.24999999999967848 +- 0.14546964399033177\n",
      "\n"
     ]
    },
    {
     "data": {
      "image/png": "[encoded data removed]",
      "text/plain": [
       "<Figure size 720x360 with 4 Axes>"
      ]
     },
     "metadata": {
      "needs_background": "light"
     },
     "output_type": "display_data"
    }
   ],
   "source": [
    "J = Jones_matrix(\"Diattenuator\")\n",
    "p1 = np.linspace(0.5, 1, 128)\n",
    "p2 = np.linspace(0, 0.5, 128)\n",
    "P1, P2 = np.meshgrid(p1, p2)\n",
    "J.diattenuator_linear(p1=P1, p2=P2, azimuth=30*degrees)\n",
    "P1, P2 = J.parameters.field_transmissions(draw=True)"
   ]
  },
  {
   "cell_type": "markdown",
   "metadata": {},
   "source": [
    "There is a function in *Parameters_Jones_Matrix* class, **.get_all()** that computes all the parameters available and stores in a dictionary **.dict_params()**. This function is called when using print upon the *Parameters_Jones_Matrix* class.\n",
    "\n",
    "Example:"
   ]
  },
  {
   "cell_type": "code",
   "execution_count": 76,
   "metadata": {},
   "outputs": [
    {
     "name": "stdout",
     "output_type": "stream",
     "text": [
      "Diattenuator retarder @ 30.00 deg = \n",
      "[+0.750+0.125j +0.433-0.217j]   \n",
      "[+0.433-0.217j +0.250+0.375j]   \n",
      " \n",
      "\n",
      "The matrix components of Diattenuator retarder @ 30.00 deg are:\n",
      "  J00\n",
      "(0.7500000000000001+0.12499999999999997j)\n",
      "  J01\n",
      "(0.4330127018922193-0.21650635094610965j)\n",
      "  J10\n",
      "(0.4330127018922193-0.21650635094610965j)\n",
      "  J11\n",
      "(0.24999999999999997+0.37500000000000006j)\n",
      "Low dimensionality, figure not available.\n",
      "\n",
      "The diattenuation of Diattenuator retarder @ 30.00 deg is:\n",
      "[0.6]\n",
      "Low dimensionality, figure not available.\n",
      "\n",
      "The retardance of Diattenuator retarder @ 30.00 deg is (deg.):\n",
      "90.00000000000001\n",
      "Low dimensionality, figure not available.\n",
      "\n",
      "The global phase of Diattenuator retarder @ 30.00 deg is (deg.):\n",
      "9.462322208025613\n",
      "Low dimensionality, figure not available.\n",
      "\n",
      "The inhomogeneity parameter of Diattenuator retarder @ 30.00 deg is:\n",
      "8.881784197001253e-17\n",
      "Low dimensionality, figure not available.\n",
      "\n",
      "The transmissions of Diattenuator retarder @ 30.00 deg are:\n",
      "  Maximum\n",
      "1.0000000000000004\n",
      "  Minimum\n",
      "0.2499999999999999\n",
      "Low dimensionality, figure not available.\n",
      "\n",
      "The field transmissions of Diattenuator retarder @ 30.00 deg are:\n",
      "  p1\n",
      "1.0000000000000002\n",
      "  p2\n",
      "0.4999999999999999\n",
      "Low dimensionality, figure not available.\n",
      "\n",
      "The mean transmission of Diattenuator retarder @ 30.00 deg is:\n",
      "0.3750000000000003\n",
      "Low dimensionality, figure not available.\n",
      "\n",
      "The determinant of Diattenuator retarder @ 30.00 deg is:\n",
      "(2.775557561562892e-17+0.5j)\n",
      "Low dimensionality, figure not available.\n",
      "\n",
      "The trace of Diattenuator retarder @ 30.00 deg is:\n",
      "(1+0.5j)\n",
      "Low dimensionality, figure not available.\n",
      "\n",
      "The norm of Diattenuator retarder @ 30.00 deg is:\n",
      "1.118033988749895\n",
      "Low dimensionality, figure not available.\n",
      "\n",
      "The eigenvalues of Diattenuator retarder @ 30.00 deg are:\n",
      "  v1\n",
      "[1.+0.j]\n",
      "  v2\n",
      "[4.16333634e-17+0.5j]\n",
      "Low dimensionality, figure not available.\n",
      "\n",
      "The eigenvectors of Diattenuator retarder @ 30.00 deg are:\n",
      "  e1x\n",
      "[0.8660254+0.j]\n",
      "  e1y\n",
      "[0.5-1.21579299e-17j]\n",
      "  e2x\n",
      "[-0.5-3.20579308e-17j]\n",
      "  e2y\n",
      "[0.8660254+0.j]\n",
      "Low dimensionality, figure not available.\n",
      "\n",
      "\n"
     ]
    }
   ],
   "source": [
    "J = Jones_matrix(\"Diattenuator retarder\")\n",
    "J.diattenuator_retarder_linear(R=90*degrees, p1=1, p2=0.5, azimuth=30*degrees)\n",
    "print(J,'\\n')      \n",
    "print(J.parameters)"
   ]
  },
  {
   "cell_type": "markdown",
   "metadata": {},
   "source": [
    "# Checks of Jones_matrix\n",
    "\n",
    "There are several checks that can be performed upon a Jones vector. They are implemented in the independent class *Checks_Jones_matrix*, which is stored in the *checks* field of *Jones_matrix* class.\n",
    "\n",
    "* **is_phisycall**: Check if the Jones matrices correspond to physically realizable optical elements.\n",
    "* **is_homogeneous**: Determines if the matrices correspond to homogeneous optical elements.\n",
    "* **is_retarder**: Checks if the Jones matrices correspond to homogeneous retarders.\n",
    "* **is_diattenuator / is_polarizer**: Checks if the Jones matrices correspond to homogeneous diattenuators.\n",
    "* **is_symmetric**: Checks if the Jones matrices are symmetric.\n",
    "* **is_conjugate_symmetric**: Checks if the Jones matrices are conjugate symmetric.\n",
    "\n",
    "* **get_all**: Returns a dictionary with all the checks of the object.\n",
    "\n",
    "For a more detailed description of each method, refer to the individual documentation of each one.\n",
    "\n",
    "Example:"
   ]
  },
  {
   "cell_type": "code",
   "execution_count": 77,
   "metadata": {},
   "outputs": [
    {
     "name": "stdout",
     "output_type": "stream",
     "text": [
      "Diattenuator retarder @ 30.00 deg is an homogeneous retarder:\n",
      "False\n",
      "\n"
     ]
    }
   ],
   "source": [
    "J = Jones_matrix(\"Diattenuator retarder\")\n",
    "J.diattenuator_retarder_linear(R=90*degrees, p1=1, p2=0.5, azimuth=30*degrees)\n",
    "cond = J.checks.is_retarder(verbose=True)"
   ]
  },
  {
   "cell_type": "markdown",
   "metadata": {},
   "source": [
    "As with the *Parameters_Jones_matrix* class, 1D and 2D plot draws are also implemented for this class. Also, the *print* function calls to *get_all*:"
   ]
  },
  {
   "cell_type": "code",
   "execution_count": 79,
   "metadata": {},
   "outputs": [
    {
     "name": "stdout",
     "output_type": "stream",
     "text": [
      "Diattenuator retarder is an homogeneous diattenuator:\n",
      "The mean value is 0.3 +- 0.45825756949558394\n",
      "\n"
     ]
    },
    {
     "data": {
      "image/png": "[encoded data removed]",
      "text/plain": [
       "<Figure size 360x360 with 1 Axes>"
      ]
     },
     "metadata": {
      "needs_background": "light"
     },
     "output_type": "display_data"
    }
   ],
   "source": [
    "R = np.random.rand(20) * 180*degrees\n",
    "R[R < 50*degrees] = 0 # In some cases, the diattenuator retarder is reduced to a pure diattenuator\n",
    "\n",
    "J = Jones_matrix(\"Diattenuator retarder\")\n",
    "J.diattenuator_retarder_linear(R=R, p1=1, p2=0.5, azimuth=30*degrees)\n",
    "cond = J.checks.is_diattenuator(draw=True)"
   ]
  },
  {
   "cell_type": "markdown",
   "metadata": {},
   "source": [
    "# Analysis of Jones_matrix\n",
    "\n",
    "There are several analysis that can be performed upon a Jones vector. They are implemented in the independent class *Analysis_Jones_matrix*, which is stored in the *analysis* field of *Jones_matrix* class.\n",
    "\n",
    "* **decompose_pure**: Decomposes the Jones matrices in two: an homogeneous retarder and diattenuator.\n",
    "* **diattenuator / polarizer**: Analyzes the Jones matrices as if they were diattenuators.\n",
    "* **retarder**: Analyzes the Jones matrices as if they were retarders.\n",
    "\n",
    "* **get_all**: Returns a dictionary with all the analysis information of the object.\n",
    "\n",
    "Note: Some methods are still to be finished.\n",
    "\n",
    "For a more detailed description of each method, refer to the individual documentation of each one.\n",
    "\n",
    "Example:"
   ]
  },
  {
   "cell_type": "code",
   "execution_count": 83,
   "metadata": {},
   "outputs": [
    {
     "name": "stdout",
     "output_type": "stream",
     "text": [
      "Diattenuator = \n",
      "[+0.173+0.000j +0.085+0.001j]   \n",
      "[+0.085-0.001j +0.925+0.000j]   \n",
      "\n",
      "Retarder = \n",
      "[+0.991+0.000j -0.120-0.060j]   \n",
      "[+0.123+0.055j +0.629+0.766j]   \n",
      "\n",
      "Product Diattenuator = \n",
      "[+0.173+0.000j +0.085+0.001j]   \n",
      "[+0.085-0.001j +0.925+0.000j]   \n",
      " Product Retarder = \n",
      "[+0.991+0.000j -0.120-0.060j]   \n",
      "[+0.123+0.055j +0.629+0.766j]   \n",
      "\n"
     ]
    }
   ],
   "source": [
    "# Create a random diattenuator\n",
    "p1, p2 = np.random.rand(2)\n",
    "alpha, delta = np.random.rand(2) * 90*degrees\n",
    "delta = delta*4\n",
    "Jd = Jones_matrix(\"Diattenuator\")\n",
    "Jd.diattenuator_charac_angles(p1=p1, p2=p2, alpha=alpha, delta=delta)\n",
    "print(Jd)\n",
    "# Create a random retarder\n",
    "R, alpha, delta = np.random.rand(3) * 90*degrees\n",
    "(R, delta) = (R*2, delta*4)\n",
    "Jr = Jones_matrix(\"Retarder\")\n",
    "Jr.retarder_charac_angles(R=R, alpha=alpha, delta=delta)\n",
    "print(Jr)\n",
    "\n",
    "# Multiply them and try to decompose\n",
    "J = Jr * Jd\n",
    "J.name = 'Product'\n",
    "Jr2, Jd2 = J.analysis.decompose_pure(decomposition='RD')\n",
    "print(Jd2, Jr2)"
   ]
  },
  {
   "cell_type": "code",
   "execution_count": null,
   "metadata": {},
   "outputs": [],
   "source": []
  }
 ],
 "metadata": {
  "kernelspec": {
   "display_name": "Python 3",
   "language": "python",
   "name": "python3"
  },
  "language_info": {
   "codemirror_mode": {
    "name": "ipython",
    "version": 3
   },
   "file_extension": ".py",
   "mimetype": "text/x-python",
   "name": "python",
   "nbconvert_exporter": "python",
   "pygments_lexer": "ipython3",
   "version": "3.7.1"
  },
  "toc": {
   "base_numbering": 1,
   "nav_menu": {},
   "number_sections": true,
   "sideBar": true,
   "skip_h1_title": false,
   "title_cell": "Table of Contents",
   "title_sidebar": "Contents",
   "toc_cell": false,
   "toc_position": {},
   "toc_section_display": true,
   "toc_window_display": false
  },
  "varInspector": {
   "cols": {
    "lenName": 16,
    "lenType": 16,
    "lenVar": 40
   },
   "kernels_config": {
    "python": {
     "delete_cmd_postfix": "",
     "delete_cmd_prefix": "del ",
     "library": "var_list.py",
     "varRefreshCmd": "print(var_dic_list())"
    },
    "r": {
     "delete_cmd_postfix": ") ",
     "delete_cmd_prefix": "rm(",
     "library": "var_list.r",
     "varRefreshCmd": "cat(var_dic_list()) "
    }
   },
   "types_to_exclude": [
    "module",
    "function",
    "builtin_function_or_method",
    "instance",
    "_Feature"
   ],
   "window_display": false
  }
 },
 "nbformat": 4,
 "nbformat_minor": 4
}
