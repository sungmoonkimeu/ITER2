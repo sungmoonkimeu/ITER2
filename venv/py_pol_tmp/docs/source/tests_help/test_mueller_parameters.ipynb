{
 "cells": [
  {
   "cell_type": "markdown",
   "metadata": {},
   "source": [
    "# Mueller module"
   ]
  },
  {
   "cell_type": "code",
   "execution_count": 2,
   "metadata": {},
   "outputs": [],
   "source": [
    "# %run ../config_jupyter.ipynb\n",
    "%autoreload 2\n",
    "\n",
    "from math import sqrt\n",
    "\n",
    "from py_pol.mueller import Mueller\n",
    "from py_pol.stokes import Stokes\n",
    "from py_pol.jones_matrix import Jones_matrix\n",
    "from py_pol.utils import rotation_matrix_Mueller, isrow, iscolumn, azimuth_elipt_2_charac_angles\n",
    "\n",
    "from py_pol import degrees\n",
    "import numpy as np\n",
    "\n",
    "eps = 1e-6"
   ]
  },
  {
   "cell_type": "markdown",
   "metadata": {},
   "source": [
    "## Parameters"
   ]
  },
  {
   "cell_type": "code",
   "execution_count": 15,
   "metadata": {},
   "outputs": [
    {
     "name": "stdout",
     "output_type": "stream",
     "text": [
      "[0.30363677797612026, 0.930750068030336]\n",
      "Parameters of M1:\n",
      "    Transmissions:\n",
      "        - Mean                  : 30.4 %.\n",
      "        - Maximum               : 58.6 %.\n",
      "        - Minimum               : 2.1 %.\n",
      "    Diattenuation:\n",
      "        - Total                 : 0.931.\n",
      "        - Linear                : 0.931.\n",
      "        - Circular              : 0.000.\n",
      "    Polarizance:\n",
      "        - Total                 : 0.931.\n",
      "        - Linear                : 0.931.\n",
      "        - Circular              : 0.000.\n",
      "    Spheric purity              : 0.650.\n",
      "    Retardance                  : 1.196.\n",
      "    Polarimetric purity         : 1.000.\n",
      "    Depolarization degree       : 0.000.\n",
      "    Depolarization factors:\n",
      "        - Euclidean distance    : 1.732.\n",
      "        - Depolarization factor : 0.000.\n",
      "    Polarimetric purity indices:\n",
      "        - P1                    : 1.000.\n",
      "        - P2                    : 1.000.\n",
      "        - P3                    : 1.000.\n",
      "\n"
     ]
    },
    {
     "name": "stderr",
     "output_type": "stream",
     "text": [
      "e:\\codigo_ucm\\py_pol\\py_pol\\mueller.py:1545: RuntimeWarning: invalid value encountered in sqrt\n",
      "  4 * m00 - abs(T)**2 + abs(T**2 - 4 * det**0.25))\n"
     ]
    }
   ],
   "source": [
    "# Print\n",
    "(a, b) = np.random.rand(2)\n",
    "M1 = Mueller('M1')\n",
    "M1.diattenuator_linear(p1=sqrt(a), p2=sqrt(b), angle=0*degrees)\n",
    "print(M1.parameters)"
   ]
  },
  {
   "cell_type": "code",
   "execution_count": 2,
   "metadata": {},
   "outputs": [
    {
     "name": "stdout",
     "output_type": "stream",
     "text": [
      "0.5634192276932921\n",
      "0.0\n"
     ]
    }
   ],
   "source": [
    "# mean_transmission\n",
    "(a, b) = np.random.rand(2)\n",
    "solution = (a+b)/2\n",
    "M1 = Mueller('M1')\n",
    "M1.diattenuator_linear(p1=sqrt(a), p2=sqrt(b), angle=0*degrees)\n",
    "proposal = M1.parameters.mean_transmission()\n",
    "print(proposal)\n",
    "print(np.linalg.norm(proposal - solution))"
   ]
  },
  {
   "cell_type": "code",
   "execution_count": 3,
   "metadata": {},
   "outputs": [
    {
     "name": "stdout",
     "output_type": "stream",
     "text": [
      "2.1073424255447017e-08\n",
      "2.1073424255447017e-08\n",
      "1.0\n",
      "0.0\n",
      "0.7071067811865476\n",
      "0.0\n"
     ]
    },
    {
     "name": "stderr",
     "output_type": "stream",
     "text": [
      "d:\\codigo\\py_pol\\py_pol\\mueller.py:1395: RuntimeWarning: invalid value encountered in cdouble_scalars\n",
      "  ) / sqrt(m00 + M[1, 1] + M[1, 0] + M[0, 1])\n"
     ]
    }
   ],
   "source": [
    "# inhomogeneity\n",
    "solution = 0\n",
    "P1 = Mueller('P1')\n",
    "P1.diattenuator_linear(p1=1, p2=0, angle=0*degrees)\n",
    "proposal = P1.parameters.inhomogeneity()\n",
    "assert np.linalg.norm(proposal - solution) < eps, sys._getframe(\n",
    ").f_code.co_name + \"@ Polarizer + Retarder @45 deg\"\n",
    "print(proposal)\n",
    "print(np.linalg.norm(proposal - solution))\n",
    "\n",
    "solution = 1\n",
    "P1 = Mueller('P1')\n",
    "P1.diattenuator_linear(p1=1, p2=0, angle=0*degrees)\n",
    "P2 = Mueller('P2')\n",
    "P2.diattenuator_linear(p1=1, p2=0, angle=90*degrees)\n",
    "R1 = Mueller('R1')\n",
    "R1.quarter_waveplate(angle=45*degrees)\n",
    "M1 = (P1*R1)*P2\n",
    "proposal = M1.parameters.inhomogeneity()\n",
    "print(proposal)\n",
    "print(np.linalg.norm(proposal - solution))\n",
    "\n",
    "\n",
    "solution = sqrt(2)/2\n",
    "P1 = Mueller('P1')\n",
    "P1.diattenuator_linear(p1=1, p2=0, angle=0*degrees)\n",
    "R1 = Mueller('R1')\n",
    "R1.quarter_waveplate(angle=45*degrees)\n",
    "M1 = (P1*R1)\n",
    "proposal = M1.parameters.inhomogeneity()\n",
    "print(proposal)\n",
    "print(np.linalg.norm(proposal - solution))"
   ]
  },
  {
   "cell_type": "code",
   "execution_count": 4,
   "metadata": {},
   "outputs": [
    {
     "name": "stdout",
     "output_type": "stream",
     "text": [
      "0.41434631543920064\n",
      "0.0\n"
     ]
    }
   ],
   "source": [
    "# diattenuation\n",
    "D = 2*(np.matrix(np.random.rand(3))-0.5)/3\n",
    "solution = np.linalg.norm(D)\n",
    "M1 = Mueller('M1')\n",
    "M1.diattenuator_from_vector(D)\n",
    "proposal = M1.parameters.diattenuation()\n",
    "print(proposal)\n",
    "print(np.linalg.norm(proposal - solution))"
   ]
  },
  {
   "cell_type": "code",
   "execution_count": 5,
   "metadata": {},
   "outputs": [
    {
     "name": "stdout",
     "output_type": "stream",
     "text": [
      "0.08268210425971344\n",
      "0.0\n"
     ]
    }
   ],
   "source": [
    "# diattenuation_linear\n",
    "D = 2*(np.matrix(np.random.rand(3))-0.5)/3\n",
    "solution = np.linalg.norm(D[0:2])\n",
    "M1 = Mueller('M1')\n",
    "M1.diattenuator_from_vector(D)\n",
    "proposal = M1.parameters.diattenuation_linear()\n",
    "print(proposal)\n",
    "print(np.linalg.norm(proposal - solution))"
   ]
  },
  {
   "cell_type": "code",
   "execution_count": 6,
   "metadata": {},
   "outputs": [
    {
     "name": "stdout",
     "output_type": "stream",
     "text": [
      "0.05532487372269301\n",
      "0.0\n"
     ]
    }
   ],
   "source": [
    "# diattenuation_circular\n",
    "D = 2*(np.matrix(np.random.rand(3))-0.5)/3\n",
    "solution = D[0,2]\n",
    "M1 = Mueller('M1')\n",
    "M1.diattenuator_from_vector(D)\n",
    "proposal = M1.parameters.diattenuation_circular()\n",
    "print(proposal)\n",
    "print(np.linalg.norm(proposal - solution))"
   ]
  },
  {
   "cell_type": "code",
   "execution_count": 7,
   "metadata": {},
   "outputs": [
    {
     "name": "stdout",
     "output_type": "stream",
     "text": [
      "0.34453809347753106\n",
      "0.0\n"
     ]
    }
   ],
   "source": [
    "# polarizance\n",
    "D = 2*(np.matrix(np.random.rand(3))-0.5)/3\n",
    "solution = np.linalg.norm(D)\n",
    "M1 = Mueller('M1')\n",
    "M1.diattenuator_from_vector(D)\n",
    "proposal = M1.parameters.polarizance()\n",
    "print(proposal)\n",
    "print(np.linalg.norm(proposal - solution))"
   ]
  },
  {
   "cell_type": "code",
   "execution_count": 8,
   "metadata": {},
   "outputs": [
    {
     "name": "stdout",
     "output_type": "stream",
     "text": [
      "0.32044133439509215\n",
      "0.0\n"
     ]
    }
   ],
   "source": [
    "# polarizance_linear\n",
    "D = 2*(np.matrix(np.random.rand(3))-0.5)/3\n",
    "solution = np.linalg.norm(D[0,0:2])\n",
    "M1 = Mueller('M1')\n",
    "M1.diattenuator_from_vector(D)\n",
    "proposal = M1.parameters.polarizance_linear()\n",
    "print(proposal)\n",
    "print(np.linalg.norm(proposal - solution))"
   ]
  },
  {
   "cell_type": "code",
   "execution_count": 9,
   "metadata": {},
   "outputs": [
    {
     "name": "stdout",
     "output_type": "stream",
     "text": [
      "[[-0.18767971]]\n",
      "0.0\n"
     ]
    }
   ],
   "source": [
    "# polarizance_circular\n",
    "D = 2*(np.matrix(np.random.rand(3))-0.5)/3\n",
    "solution = D[0,2]\n",
    "M1 = Mueller('M1')\n",
    "M1.diattenuator_from_vector(D)\n",
    "proposal = M1.parameters.polarizance_circular()\n",
    "print(proposal)\n",
    "print(np.linalg.norm(proposal - solution))"
   ]
  },
  {
   "cell_type": "code",
   "execution_count": 10,
   "metadata": {},
   "outputs": [
    {
     "name": "stdout",
     "output_type": "stream",
     "text": [
      "0.4978298059207746\n",
      "0.0\n"
     ]
    }
   ],
   "source": [
    "# polarizance\n",
    "D = 2*(np.matrix(np.random.rand(3))-0.5)/3\n",
    "solution = np.linalg.norm(D)\n",
    "M1 = Mueller('M1')\n",
    "M1.diattenuator_from_vector(D)\n",
    "proposal = M1.parameters.polarizance_degree()\n",
    "print(proposal)\n",
    "print(np.linalg.norm(proposal - solution))"
   ]
  },
  {
   "cell_type": "code",
   "execution_count": 11,
   "metadata": {},
   "outputs": [
    {
     "name": "stdout",
     "output_type": "stream",
     "text": [
      "0.5773502691896258\n",
      "0.0\n",
      "0.9999999999999999\n",
      "1.1102230246251565e-16\n"
     ]
    }
   ],
   "source": [
    "# spheric_purity\n",
    "a = np.random.rand(1)\n",
    "solution = 1/sqrt(3)\n",
    "M1 = Mueller('M1')\n",
    "M1.diattenuator_linear(p1=1, p2=0, angle=a[0]*180*degrees)\n",
    "proposal = M1.parameters.spheric_purity()\n",
    "print(proposal)\n",
    "print(np.linalg.norm(proposal - solution))\n",
    "\n",
    "solution = 1\n",
    "(D, alpha, delta) = np.random.rand(3) \n",
    "M1 = Mueller('M1')\n",
    "M1.retarder_charac_angles_from_Jones(D*360*degrees, alpha*90*degrees, delta*360*degrees)\n",
    "proposal = M1.parameters.spheric_purity()\n",
    "print(proposal)\n",
    "print(np.linalg.norm(proposal - solution))"
   ]
  },
  {
   "cell_type": "code",
   "execution_count": 12,
   "metadata": {},
   "outputs": [
    {
     "name": "stdout",
     "output_type": "stream",
     "text": [
      "[0.2934123098461404, 0.2934123098461411, 0.09339603895204819, 1.0]\n",
      "6.661338147750939e-16\n",
      "M1 = \n",
      "  [+1.000, +0.000, +0.000, +0.000]\n",
      "  [+0.000, +0.993, -0.109, -0.052]\n",
      "  [+0.000, +0.115, +0.986, +0.122]\n",
      "  [+0.000, +0.038, -0.128, +0.991]\n",
      "\n",
      "Measured delay is: 10.00000000000005 deg\n",
      "M1 = \n",
      "  [+1.000, +0.000, +0.000, +0.000]\n",
      "  [+0.000, +0.993, +0.115, +0.038]\n",
      "  [+0.000, -0.109, +0.986, -0.128]\n",
      "  [+0.000, -0.052, +0.122, +0.991]\n",
      "\n",
      "Measured delay is: 10.00000000000005 deg\n"
     ]
    }
   ],
   "source": [
    "# delay\n",
    "(D, alpha, delta) = np.random.rand(3)\n",
    "solution = D*np.pi\n",
    "M1 = Mueller('M1') \n",
    "M1.retarder_charac_angles_from_vector(D*180*degrees, alpha*90*degrees, delta*360*degrees)\n",
    "#M1.retarder_charac_angles_from_vector(120*degrees, 0*degrees, 0*degrees)\n",
    "proposal = M1.parameters.retardance()\n",
    "print([proposal, solution, (proposal+solution)/(2*np.pi), np.linalg.det(M1.M)])\n",
    "print(np.linalg.norm(proposal - solution))\n",
    "\n",
    "# Issue: Formula can't discriminate 0 -> pi from pi -> 2*pi\n",
    "M1 = Mueller('M1') \n",
    "M1.retarder_azimuth_ellipticity_from_vector(10*degrees, 10*degrees, -20*degrees)\n",
    "print(M1)\n",
    "print('Measured delay is: {} deg'.format(M1.parameters.delay()/degrees))\n",
    "M1.retarder_azimuth_ellipticity_from_vector(350*degrees, 10*degrees, -20*degrees)\n",
    "print(M1)\n",
    "print('Measured delay is: {} deg'.format(M1.parameters.delay()/degrees))"
   ]
  },
  {
   "cell_type": "code",
   "execution_count": 16,
   "metadata": {},
   "outputs": [
    {
     "name": "stdout",
     "output_type": "stream",
     "text": [
      "[[0.82986253 0.53895212 0.14442573]]\n",
      "8.326672684688674e-17\n",
      "[[1.20755842 1.48305833 1.8188376 ]]\n",
      "4.965068306494546e-16\n"
     ]
    }
   ],
   "source": [
    "# retardance\n",
    "D = np.pi * np.random.rand(1)\n",
    "D = D[0]\n",
    "ur = np.random.rand(3)\n",
    "ur = ur / np.linalg.norm(ur)\n",
    "solution = ur\n",
    "M1 = Mueller('M1') \n",
    "M1.retarder_from_vector(D, ur, kind='norm')\n",
    "proposal = M1.parameters.retardance_vector(kind='norm')\n",
    "print(proposal)\n",
    "print(np.linalg.norm(proposal - solution))\n",
    "\n",
    "D = np.pi * np.random.rand(1)\n",
    "D = D[0]\n",
    "ur = np.random.rand(3)\n",
    "ur = ur / np.linalg.norm(ur)\n",
    "solution = ur*D\n",
    "M1 = Mueller('M1') \n",
    "M1.retarder_from_vector(D, ur*D, kind='ret')\n",
    "proposal = M1.parameters.retardance_vector(kind='ret')\n",
    "print(proposal)\n",
    "print(np.linalg.norm(proposal - solution))"
   ]
  },
  {
   "cell_type": "code",
   "execution_count": 17,
   "metadata": {},
   "outputs": [
    {
     "name": "stdout",
     "output_type": "stream",
     "text": [
      "1.0\n",
      "0.0\n",
      "0\n",
      "0.0\n",
      "1.0\n",
      "0.0\n",
      "0\n",
      "0.0\n",
      "0.022577099863042793\n",
      "0.0\n",
      "0.9997451047951044\n",
      "0.0\n"
     ]
    }
   ],
   "source": [
    "# polarimetric_purity\n",
    "solution = 1\n",
    "(p1, p2, alpha, delta) = np.random.rand(4)\n",
    "M1 = Mueller('M1')\n",
    "M1.diattenuator_charac_angles_from_Jones(p1, p2, alpha*90*degrees, delta*360*degrees)\n",
    "proposal = M1.parameters.polarimetric_purity()\n",
    "print(proposal)\n",
    "print(np.linalg.norm(proposal - solution))\n",
    "solution = 0\n",
    "proposal = M1.parameters.depolarization_index()\n",
    "print(proposal)\n",
    "print(np.linalg.norm(proposal - solution))\n",
    "\n",
    "solution = 1\n",
    "(D, alpha, delta) = np.random.rand(3)\n",
    "M1 = Mueller('M1')\n",
    "M1.retarder_charac_angles_from_Jones(D*180*degrees, alpha*90*degrees, delta*360*degrees)\n",
    "proposal = M1.parameters.polarimetric_purity()\n",
    "print(proposal)\n",
    "print(np.linalg.norm(proposal - solution))\n",
    "solution = 0\n",
    "proposal = M1.parameters.depolarization_index()\n",
    "print(proposal)\n",
    "print(np.linalg.norm(proposal - solution))\n",
    "\n",
    "dep = np.random.rand(1)\n",
    "solution = dep[0]\n",
    "M1 = Mueller('M1')\n",
    "M1.depolarizer(dep[0])\n",
    "proposal = M1.parameters.polarimetric_purity()\n",
    "print(proposal)\n",
    "print(np.linalg.norm(proposal - solution))\n",
    "solution = sqrt(1 - dep[0]**2)\n",
    "proposal = M1.parameters.depolarization_index()\n",
    "print(proposal)\n",
    "print(np.linalg.norm(proposal - solution))"
   ]
  },
  {
   "cell_type": "code",
   "execution_count": 18,
   "metadata": {},
   "outputs": [
    {
     "name": "stdout",
     "output_type": "stream",
     "text": [
      "M1 = \n",
      "  [+1.000, -0.309, +0.004, +0.238]\n",
      "  [-0.309, +1.000, +0.000, +0.000]\n",
      "  [+0.004, +0.000, +1.000, +0.000]\n",
      "  [+0.238, +0.000, +0.000, +1.000]\n",
      "\n",
      "[1.0, 0.39055529524370025]\n",
      "(1.3905552952437001, 0.6094447047562997)\n",
      "0.8120591605344577\n"
     ]
    }
   ],
   "source": [
    "# Transmissions\n",
    "D = 2*(np.matrix(np.random.rand(3))-0.5)/3\n",
    "m00 = np.random.rand(1)[0]\n",
    "solution = m00*np.array([1.0+np.linalg.norm(D), 1.0-np.linalg.norm(D)])\n",
    "M1 = Mueller('M1')\n",
    "M1.diattenuator_from_vector(D)\n",
    "print(M1)\n",
    "proposal = M1.parameters.transmissions()\n",
    "print(proposal)\n",
    "print(np.linalg.norm(proposal - solution))"
   ]
  },
  {
   "cell_type": "code",
   "execution_count": 19,
   "metadata": {},
   "outputs": [
    {
     "name": "stdout",
     "output_type": "stream",
     "text": [
      "M = \n",
      "  [+0.405, +0.405, +0.000, +0.000]\n",
      "  [+0.405, +0.405, +0.000, +0.000]\n",
      "  [+0.000, +0.000, +0.000, +0.000]\n",
      "  [+0.000, +0.000, +0.000, +0.000]\n",
      "\n",
      "1.0\n",
      "[[1. 0. 0.]]\n"
     ]
    }
   ],
   "source": [
    "M=Mueller()\n",
    "M.diattenuator_linear(p1=0.9, p2=0)\n",
    "print(M)\n",
    "print(M.parameters.diattenuation())\n",
    "print(M.D)"
   ]
  },
  {
   "cell_type": "code",
   "execution_count": null,
   "metadata": {},
   "outputs": [],
   "source": []
  },
  {
   "cell_type": "code",
   "execution_count": null,
   "metadata": {},
   "outputs": [],
   "source": []
  }
 ],
 "metadata": {
  "kernelspec": {
   "display_name": "Python 3",
   "language": "python",
   "name": "python3"
  },
  "language_info": {
   "codemirror_mode": {
    "name": "ipython",
    "version": 3
   },
   "file_extension": ".py",
   "mimetype": "text/x-python",
   "name": "python",
   "nbconvert_exporter": "python",
   "pygments_lexer": "ipython3",
   "version": "3.7.1"
  },
  "toc": {
   "base_numbering": 1,
   "nav_menu": {},
   "number_sections": true,
   "sideBar": true,
   "skip_h1_title": false,
   "title_cell": "Table of Contents",
   "title_sidebar": "Contents",
   "toc_cell": false,
   "toc_position": {},
   "toc_section_display": true,
   "toc_window_display": false
  },
  "varInspector": {
   "cols": {
    "lenName": 16,
    "lenType": 16,
    "lenVar": 40
   },
   "kernels_config": {
    "python": {
     "delete_cmd_postfix": "",
     "delete_cmd_prefix": "del ",
     "library": "var_list.py",
     "varRefreshCmd": "print(var_dic_list())"
    },
    "r": {
     "delete_cmd_postfix": ") ",
     "delete_cmd_prefix": "rm(",
     "library": "var_list.r",
     "varRefreshCmd": "cat(var_dic_list()) "
    }
   },
   "types_to_exclude": [
    "module",
    "function",
    "builtin_function_or_method",
    "instance",
    "_Feature"
   ],
   "window_display": false
  }
 },
 "nbformat": 4,
 "nbformat_minor": 2
}
