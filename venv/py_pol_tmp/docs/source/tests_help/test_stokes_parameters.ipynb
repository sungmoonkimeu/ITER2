{
 "cells": [
  {
   "cell_type": "markdown",
   "metadata": {},
   "source": [
    "# Parameters of Stokes vectors"
   ]
  },
  {
   "cell_type": "markdown",
   "metadata": {},
   "source": [
    "## import module"
   ]
  },
  {
   "cell_type": "code",
   "execution_count": 1,
   "metadata": {},
   "outputs": [
    {
     "name": "stdout",
     "output_type": "stream",
     "text": [
      "{'commit_hash': '523ed2fe5',\n",
      " 'commit_source': 'installation',\n",
      " 'default_encoding': 'UTF-8',\n",
      " 'ipython_path': '/home/luismiguel/.local/lib/python3.6/site-packages/IPython',\n",
      " 'ipython_version': '7.2.0',\n",
      " 'os_name': 'posix',\n",
      " 'platform': 'Linux-4.15.0-43-generic-x86_64-with-Ubuntu-18.04-bionic',\n",
      " 'sys_executable': '/usr/bin/python3',\n",
      " 'sys_platform': 'linux',\n",
      " 'sys_version': '3.6.7 (default, Oct 22 2018, 11:32:17) \\n[GCC 8.2.0]'}\n"
     ]
    }
   ],
   "source": [
    "%run ../config_jupyter.ipynb"
   ]
  },
  {
   "cell_type": "code",
   "execution_count": 2,
   "metadata": {},
   "outputs": [
    {
     "name": "stdout",
     "output_type": "stream",
     "text": [
      "3.6.7 (default, Oct 22 2018, 11:32:17) \n",
      "[GCC 8.2.0]\n"
     ]
    }
   ],
   "source": [
    "from py_pol import degrees, np\n",
    "from py_pol.stokes import Stokes\n",
    "from py_pol.jones_vector import Jones_vector #no quiero, hasta que saco ellipticityíptica"
   ]
  },
  {
   "cell_type": "markdown",
   "metadata": {},
   "source": [
    "## Tipos de luz"
   ]
  },
  {
   "cell_type": "code",
   "execution_count": 4,
   "metadata": {
    "scrolled": true
   },
   "outputs": [
    {
     "name": "stdout",
     "output_type": "stream",
     "text": [
      "S_linear_0 = [ +1,  +1,  +0.  +0]\n",
      "\n",
      "parameters:\n",
      "    'intensity': 1.0\n",
      "     'degree_pol': 1.0\n",
      "     'degree_linear_pol': 1.0\n",
      "     'degree_circular_pol': 0.0\n",
      "     'ellipticity': 0.0\n",
      "     'azimuth': 0.0\n",
      "     'eccentricity': 1.0\n",
      "     'ellipse_parameters': (0.0, 0.0, 1.0), \n",
      "     'polarized': [1.0, 1.0, 0.0, 0.0], + 'unpolarized': [0.0, 0.0, 0.0, 0.0]\n",
      "Here we explain the meaning of parameters.\n",
      "    intensity: intensity of the light beam.\n",
      "    TODO\n",
      "None\n"
     ]
    }
   ],
   "source": [
    "S_linear_0=Stokes('S_linear_0')\n",
    "S_linear_0.linear_light(angle=0*degrees, intensity=1)\n",
    "print(S_linear_0)\n",
    "print(S_linear_0.parameters)\n",
    "print(S_linear_0.parameters.help())\n"
   ]
  },
  {
   "cell_type": "code",
   "execution_count": 5,
   "metadata": {},
   "outputs": [
    {
     "name": "stdout",
     "output_type": "stream",
     "text": [
      "S_linear_45 = [ +1,  +0,  +1.  +0]\n",
      "\n",
      "parameters:\n",
      "    'intensity': 1.0\n",
      "     'degree_pol': 1.0\n",
      "     'degree_linear_pol': 1.0\n",
      "     'degree_circular_pol': 0.0\n",
      "     'ellipticity': 0.0\n",
      "     'azimuth': 0.7853981633974482\n",
      "     'eccentricity': 1.0\n",
      "     'ellipse_parameters': (0.0, 0.7853981633974482, 1.0), \n",
      "     'polarized': [1.0, 2.220446049250313e-16, 1.0, 0.0], + 'unpolarized': [0.0, 0.0, 0.0, 0.0]\n"
     ]
    }
   ],
   "source": [
    "S_linear_45=Stokes('S_linear_45')\n",
    "S_linear_45.linear_light(angle=45*degrees, intensity=1)\n",
    "print(S_linear_45)\n",
    "print(S_linear_45.parameters)"
   ]
  },
  {
   "cell_type": "code",
   "execution_count": 6,
   "metadata": {},
   "outputs": [
    {
     "name": "stdout",
     "output_type": "stream",
     "text": [
      "S_linear_90 = [ +1,  -1,  +0.  +0]\n",
      "\n",
      "parameters:\n",
      "    'intensity': 1.0\n",
      "     'degree_pol': 1.0\n",
      "     'degree_linear_pol': 1.0\n",
      "     'degree_circular_pol': 0.0\n",
      "     'ellipticity': 0.0\n",
      "     'azimuth': -6.123233995736766e-17\n",
      "     'eccentricity': 1.0\n",
      "     'ellipse_parameters': (0.0, -6.123233995736766e-17, 1.0), \n",
      "     'polarized': [1.0, -1.0, 1.2246467991473532e-16, 0.0], + 'unpolarized': [0.0, 0.0, 0.0, 0.0]\n"
     ]
    }
   ],
   "source": [
    "S_linear_90=Stokes('S_linear_90')\n",
    "S_linear_90.linear_light(angle=90*degrees, intensity=1)\n",
    "print(S_linear_90)\n",
    "print(S_linear_90.parameters)"
   ]
  },
  {
   "cell_type": "code",
   "execution_count": 7,
   "metadata": {},
   "outputs": [
    {
     "name": "stdout",
     "output_type": "stream",
     "text": [
      "S_unpolarized = [ +1,  +0,  +0.  +0]\n",
      "\n",
      "parameters:\n",
      "    'intensity': 1.0\n",
      "     'degree_pol': 0.0\n",
      "     'degree_linear_pol': 0.0\n",
      "     'degree_circular_pol': 0.0\n",
      "     'ellipticity': nan\n",
      "     'azimuth': nan\n",
      "     'eccentricity': nan\n",
      "     'ellipse_parameters': (nan, nan, nan), \n",
      "     'polarized': [0.0, 0.0, 0.0, 0.0], + 'unpolarized': [1.0, 0.0, 0.0, 0.0]\n"
     ]
    }
   ],
   "source": [
    "S_unpolarized=Stokes('S_unpolarized')\n",
    "S_unpolarized.general(alpha=0*degrees, delta=0*degrees,  intensity=1, pol_degree=0)\n",
    "print(S_unpolarized)\n",
    "print(S_unpolarized.parameters)"
   ]
  },
  {
   "cell_type": "code",
   "execution_count": 8,
   "metadata": {},
   "outputs": [
    {
     "name": "stdout",
     "output_type": "stream",
     "text": [
      "l_pol = [+1.000, +0.500, +0.000. +0.000]\n",
      "\n",
      "parameters:\n",
      "    'intensity': 1.0\n",
      "     'degree_pol': 0.5\n",
      "     'degree_linear_pol': 0.5\n",
      "     'degree_circular_pol': 0.0\n",
      "     'ellipticity': 0.0\n",
      "     'azimuth': 0.0\n",
      "     'eccentricity': 1.0\n",
      "     'ellipse_parameters': (0.0, 0.0, 1.0), \n",
      "     'polarized': [0.5, 0.5, 0.0, 0.0], + 'unpolarized': [0.5, 0.0, 0.0, 0.0]\n"
     ]
    }
   ],
   "source": [
    "S_partial_polarized=Stokes('l_pol')\n",
    "S_partial_polarized.polarized_light(intensity=1, angle=0, phase=0, pol_degree=0.5)\n",
    "print(S_partial_polarized)\n",
    "print(S_partial_polarized.parameters)"
   ]
  },
  {
   "cell_type": "code",
   "execution_count": 9,
   "metadata": {},
   "outputs": [
    {
     "name": "stdout",
     "output_type": "stream",
     "text": [
      "S_right = [ +1,  +0,  +0.  +1]\n",
      "\n",
      "parameters:\n",
      "    'intensity': 1.0\n",
      "     'degree_pol': 1.0\n",
      "     'degree_linear_pol': 2.303328157969851e-16\n",
      "     'degree_circular_pol': 1.0\n",
      "     'ellipticity': 0.9999999999999998\n",
      "     'azimuth': 0.13453908143157545\n",
      "     'eccentricity': 2.1073424255447017e-08\n",
      "     'ellipse_parameters': (0.9999999999999998, 0.13453908143157545, 2.1073424255447017e-08), \n",
      "     'polarized': [1.0, 2.220446049250313e-16, 6.123233995736766e-17, 1.0], + 'unpolarized': [0.0, 0.0, 0.0, 0.0]\n"
     ]
    }
   ],
   "source": [
    "S_right=Stokes('S_right')\n",
    "S_right.circular_light(kind='r', intensity=1)\n",
    "print(S_right)\n",
    "print(S_right.parameters)"
   ]
  },
  {
   "cell_type": "code",
   "execution_count": 10,
   "metadata": {},
   "outputs": [
    {
     "name": "stdout",
     "output_type": "stream",
     "text": [
      "S_left = [ +1,  +0,  +0.  -1]\n",
      "\n",
      "parameters:\n",
      "    'intensity': 1.0\n",
      "     'degree_pol': 1.0\n",
      "     'degree_linear_pol': 2.303328157969851e-16\n",
      "     'degree_circular_pol': 1.0\n",
      "     'ellipticity': -0.9999999999999998\n",
      "     'azimuth': 0.13453908143157545\n",
      "     'eccentricity': 2.1073424255447017e-08\n",
      "     'ellipse_parameters': (-0.9999999999999998, 0.13453908143157545, 2.1073424255447017e-08), \n",
      "     'polarized': [1.0, 2.220446049250313e-16, 6.123233995736766e-17, -1.0], + 'unpolarized': [0.0, 0.0, 0.0, 0.0]\n",
      "[[ 1.00000000e+00]\n",
      " [ 2.22044605e-16]\n",
      " [ 6.12323400e-17]\n",
      " [-1.00000000e+00]]\n"
     ]
    }
   ],
   "source": [
    "S_left=Stokes('S_left')\n",
    "S_left.circular_light(kind='l', intensity=1)\n",
    "print(S_left)\n",
    "print(S_left.parameters)\n",
    "print(S_left.M)"
   ]
  },
  {
   "cell_type": "code",
   "execution_count": 41,
   "metadata": {},
   "outputs": [
    {
     "name": "stdout",
     "output_type": "stream",
     "text": [
      "S_elliptical_1 = [+1.000, +0.000, +0.707. +0.707]\n",
      "\n",
      "parameters:\n",
      "    'intensity': 1.0\n",
      "     'degree_pol': 1.0\n",
      "     'degree_linear_pol': 0.7071067811865476\n",
      "     'degree_circular_pol': 0.7071067811865475\n",
      "     'ellipticity': 0.41421356237309503\n",
      "     'azimuth': 0.7853981633974482\n",
      "     'eccentricity': 0.9101797211244547\n",
      "     'ellipse_parameters': (0.41421356237309503, 0.7853981633974482, 0.9101797211244547), \n",
      "     'polarized': [1.0, 2.220446049250313e-16, 0.7071067811865476, 0.7071067811865475], + 'unpolarized': [0.0, 0.0, 0.0, 0.0]\n"
     ]
    }
   ],
   "source": [
    "S_elliptical_1=Stokes('S_elliptical_1')\n",
    "S_elliptical_1.polarized_light(intensity=1, angle=45*degrees, phase=45*degrees, pol_degree=1)\n",
    "print(S_elliptical_1)\n",
    "print(S_elliptical_1.parameters)"
   ]
  },
  {
   "cell_type": "code",
   "execution_count": 42,
   "metadata": {},
   "outputs": [
    {
     "name": "stdout",
     "output_type": "stream",
     "text": [
      "S_elliptical_2 = [+1.000, +0.577, +0.577. +0.577]\n",
      "\n",
      "parameters:\n",
      "    'intensity': 1.0\n",
      "     'degree_pol': 1.0\n",
      "     'degree_linear_pol': 0.816496580927726\n",
      "     'degree_circular_pol': 0.5773502691896257\n",
      "     'ellipticity': 0.3178372451957822\n",
      "     'azimuth': 0.39269908169872414\n",
      "     'eccentricity': 0.9481452871613908\n",
      "     'ellipse_parameters': (0.3178372451957822, 0.39269908169872414, 0.9481452871613908), \n",
      "     'polarized': [1.0, 0.5773502691896257, 0.5773502691896257, 0.5773502691896257], + 'unpolarized': [0.0, 0.0, 0.0, 0.0]\n"
     ]
    }
   ],
   "source": [
    "S_elliptical_2=Stokes('S_elliptical_2')\n",
    "S_elliptical_2.from_elements(1,np.sqrt(1/3),np.sqrt(1/3),np.sqrt(1/3))\n",
    "print(S_elliptical_2)\n",
    "print(S_elliptical_2.parameters)"
   ]
  },
  {
   "cell_type": "code",
   "execution_count": 44,
   "metadata": {},
   "outputs": [
    {
     "name": "stdout",
     "output_type": "stream",
     "text": [
      "J = [+1.000, +0.500, +0.000. +0.866]\n",
      "\n",
      "parameters:\n",
      "    'intensity': 0.9999999999999999\n",
      "     'degree_pol': 1.0\n",
      "     'degree_linear_pol': 0.49999999999999994\n",
      "     'degree_circular_pol': 0.8660254037844387\n",
      "     'ellipticity': 0.5773502691896258\n",
      "     'azimuth': 5.302876193624535e-17\n",
      "     'eccentricity': 0.8164965809277259\n",
      "     'ellipse_parameters': (0.5773502691896258, 5.302876193624535e-17, 0.8164965809277259), \n",
      "     'polarized': [0.9999999999999999, 0.4999999999999999, 5.302876193624534e-17, 0.8660254037844386], + 'unpolarized': [0.0, 0.0, 0.0, 0.0]\n"
     ]
    }
   ],
   "source": [
    "S_elliptical_3=Jones_vector('S_elliptical_3')\n",
    "S_elliptical_3.elliptical_light(a=np.sqrt(0.75), b=np.sqrt(0.25), phase=90*degrees, angle=0*degrees)\n",
    "S_elliptical_3=S_elliptical_3.to_Stokes()\n",
    "print(S_elliptical_3)\n",
    "print(S_elliptical_3.parameters)"
   ]
  },
  {
   "cell_type": "markdown",
   "metadata": {},
   "source": [
    "## Parametros"
   ]
  },
  {
   "cell_type": "markdown",
   "metadata": {},
   "source": [
    "### Intensity"
   ]
  },
  {
   "cell_type": "code",
   "execution_count": 37,
   "metadata": {},
   "outputs": [
    {
     "name": "stdout",
     "output_type": "stream",
     "text": [
      "1.0\n"
     ]
    }
   ],
   "source": [
    "print(S_linear_0.parameters.intensity())"
   ]
  },
  {
   "cell_type": "markdown",
   "metadata": {},
   "source": [
    "### Degree of polarization"
   ]
  },
  {
   "cell_type": "code",
   "execution_count": 38,
   "metadata": {},
   "outputs": [
    {
     "name": "stdout",
     "output_type": "stream",
     "text": [
      "1.0\n"
     ]
    }
   ],
   "source": [
    "print(S_linear_0.parameters.degree_polarization())"
   ]
  },
  {
   "cell_type": "code",
   "execution_count": 39,
   "metadata": {},
   "outputs": [
    {
     "name": "stdout",
     "output_type": "stream",
     "text": [
      "0.5\n"
     ]
    }
   ],
   "source": [
    "print(S_partial_polarized.parameters.degree_polarization())"
   ]
  },
  {
   "cell_type": "code",
   "execution_count": 40,
   "metadata": {},
   "outputs": [
    {
     "name": "stdout",
     "output_type": "stream",
     "text": [
      "0.0\n"
     ]
    }
   ],
   "source": [
    "print(S_unpolarized.parameters.degree_polarization())"
   ]
  },
  {
   "cell_type": "markdown",
   "metadata": {},
   "source": [
    "### Degree of linear polarization"
   ]
  },
  {
   "cell_type": "code",
   "execution_count": 52,
   "metadata": {},
   "outputs": [
    {
     "name": "stdout",
     "output_type": "stream",
     "text": [
      "1.0\n"
     ]
    }
   ],
   "source": [
    "print(S_linear_0.parameters.degree_linear_polarization())"
   ]
  },
  {
   "cell_type": "code",
   "execution_count": 53,
   "metadata": {},
   "outputs": [
    {
     "name": "stdout",
     "output_type": "stream",
     "text": [
      "2.303328157969851e-16\n"
     ]
    }
   ],
   "source": [
    "print(S_right.parameters.degree_linear_polarization())"
   ]
  },
  {
   "cell_type": "code",
   "execution_count": 54,
   "metadata": {},
   "outputs": [
    {
     "name": "stdout",
     "output_type": "stream",
     "text": [
      "2.303328157969851e-16\n"
     ]
    }
   ],
   "source": [
    "print(S_left.parameters.degree_linear_polarization())"
   ]
  },
  {
   "cell_type": "code",
   "execution_count": 55,
   "metadata": {},
   "outputs": [
    {
     "name": "stdout",
     "output_type": "stream",
     "text": [
      "0.49999999999999994\n"
     ]
    }
   ],
   "source": [
    "print(S_elliptical_3.parameters.degree_linear_polarization())\n"
   ]
  },
  {
   "cell_type": "markdown",
   "metadata": {},
   "source": [
    "### Degree of circular polarization"
   ]
  },
  {
   "cell_type": "code",
   "execution_count": 56,
   "metadata": {},
   "outputs": [
    {
     "name": "stdout",
     "output_type": "stream",
     "text": [
      "0.0\n"
     ]
    }
   ],
   "source": [
    "print(S_linear_0.parameters.degree_circular_polarization())"
   ]
  },
  {
   "cell_type": "code",
   "execution_count": 57,
   "metadata": {},
   "outputs": [
    {
     "name": "stdout",
     "output_type": "stream",
     "text": [
      "1.0\n"
     ]
    }
   ],
   "source": [
    "print(S_right.parameters.degree_circular_polarization())"
   ]
  },
  {
   "cell_type": "code",
   "execution_count": 58,
   "metadata": {},
   "outputs": [
    {
     "name": "stdout",
     "output_type": "stream",
     "text": [
      "0.8660254037844387\n"
     ]
    }
   ],
   "source": [
    "print(S_elliptical_3.parameters.degree_circular_polarization())\n"
   ]
  },
  {
   "cell_type": "code",
   "execution_count": 73,
   "metadata": {},
   "outputs": [
    {
     "name": "stdout",
     "output_type": "stream",
     "text": [
      "0.5773502691896257\n"
     ]
    }
   ],
   "source": [
    "print(S_elliptical_2.parameters.degree_circular_polarization())"
   ]
  },
  {
   "cell_type": "code",
   "execution_count": 74,
   "metadata": {},
   "outputs": [
    {
     "name": "stdout",
     "output_type": "stream",
     "text": [
      "0.7071067811865475\n"
     ]
    }
   ],
   "source": [
    "print(S_elliptical_1.parameters.degree_circular_polarization())"
   ]
  },
  {
   "cell_type": "markdown",
   "metadata": {},
   "source": [
    "### Polarized_unpolarized"
   ]
  },
  {
   "cell_type": "code",
   "execution_count": 63,
   "metadata": {},
   "outputs": [
    {
     "name": "stdout",
     "output_type": "stream",
     "text": [
      "[[1.00000000e+00]\n",
      " [2.22044605e-16]\n",
      " [6.12323400e-17]\n",
      " [1.00000000e+00]]\n",
      "[[0.]\n",
      " [0.]\n",
      " [0.]\n",
      " [0.]]\n"
     ]
    }
   ],
   "source": [
    "Sp, Su = S_right.parameters.polarized_unpolarized()\n",
    "print(Sp)\n",
    "print(Su)"
   ]
  },
  {
   "cell_type": "code",
   "execution_count": 65,
   "metadata": {},
   "outputs": [
    {
     "name": "stdout",
     "output_type": "stream",
     "text": [
      "[[1.00000000e+00]\n",
      " [2.22044605e-16]\n",
      " [6.12323400e-17]\n",
      " [1.00000000e+00]]\n",
      "[[0.]\n",
      " [0.]\n",
      " [0.]\n",
      " [0.]]\n"
     ]
    }
   ],
   "source": [
    "Sp, Su = S_partial_polarized.parameters.polarized_unpolarized()\n",
    "print(Sp)\n",
    "print(Su)"
   ]
  },
  {
   "cell_type": "code",
   "execution_count": 67,
   "metadata": {},
   "outputs": [
    {
     "name": "stdout",
     "output_type": "stream",
     "text": [
      "[[1.00000000e+00]\n",
      " [5.00000000e-01]\n",
      " [5.30287619e-17]\n",
      " [8.66025404e-01]]\n",
      "[[0.]\n",
      " [0.]\n",
      " [0.]\n",
      " [0.]]\n"
     ]
    }
   ],
   "source": [
    "Sp, Su = S_elliptical_3.parameters.polarized_unpolarized()\n",
    "print(Sp)\n",
    "print(Su)"
   ]
  },
  {
   "cell_type": "markdown",
   "metadata": {},
   "source": [
    "### Ellipticity"
   ]
  },
  {
   "cell_type": "code",
   "execution_count": 64,
   "metadata": {},
   "outputs": [
    {
     "name": "stdout",
     "output_type": "stream",
     "text": [
      "0.0\n"
     ]
    }
   ],
   "source": [
    "print(S_linear_0.parameters.ellipticity())"
   ]
  },
  {
   "cell_type": "code",
   "execution_count": 66,
   "metadata": {},
   "outputs": [
    {
     "name": "stdout",
     "output_type": "stream",
     "text": [
      "0.9999999999999998\n"
     ]
    }
   ],
   "source": [
    "print(S_right.parameters.ellipticity())"
   ]
  },
  {
   "cell_type": "code",
   "execution_count": 68,
   "metadata": {},
   "outputs": [
    {
     "name": "stdout",
     "output_type": "stream",
     "text": [
      "0.5773502691896258\n"
     ]
    }
   ],
   "source": [
    "print(S_elliptical_3.parameters.ellipticity())"
   ]
  },
  {
   "cell_type": "markdown",
   "metadata": {},
   "source": [
    "### Azimut"
   ]
  },
  {
   "cell_type": "code",
   "execution_count": 69,
   "metadata": {},
   "outputs": [
    {
     "name": "stdout",
     "output_type": "stream",
     "text": [
      "0.0\n"
     ]
    }
   ],
   "source": [
    "print(S_linear_0.parameters.azimuth())"
   ]
  },
  {
   "cell_type": "code",
   "execution_count": 70,
   "metadata": {},
   "outputs": [
    {
     "name": "stdout",
     "output_type": "stream",
     "text": [
      "0.13453908143157545\n"
     ]
    }
   ],
   "source": [
    "print(S_right.parameters.azimuth())"
   ]
  },
  {
   "cell_type": "code",
   "execution_count": 72,
   "metadata": {},
   "outputs": [
    {
     "name": "stdout",
     "output_type": "stream",
     "text": [
      "5.302876193624535e-17\n"
     ]
    }
   ],
   "source": [
    "print(S_elliptical_3.parameters.azimuth())"
   ]
  },
  {
   "cell_type": "code",
   "execution_count": 75,
   "metadata": {},
   "outputs": [
    {
     "name": "stdout",
     "output_type": "stream",
     "text": [
      "0.39269908169872414\n"
     ]
    }
   ],
   "source": [
    "print(S_elliptical_2.parameters.azimuth())"
   ]
  },
  {
   "cell_type": "code",
   "execution_count": 76,
   "metadata": {},
   "outputs": [
    {
     "name": "stdout",
     "output_type": "stream",
     "text": [
      "0.7853981633974482\n"
     ]
    }
   ],
   "source": [
    "print(S_elliptical_1.parameters.azimuth())"
   ]
  },
  {
   "cell_type": "markdown",
   "metadata": {},
   "source": [
    "### Eccentricity"
   ]
  },
  {
   "cell_type": "code",
   "execution_count": 77,
   "metadata": {},
   "outputs": [
    {
     "name": "stdout",
     "output_type": "stream",
     "text": [
      "1.0\n"
     ]
    }
   ],
   "source": [
    "print(S_linear_0.parameters.eccentricity())"
   ]
  },
  {
   "cell_type": "code",
   "execution_count": 78,
   "metadata": {},
   "outputs": [
    {
     "name": "stdout",
     "output_type": "stream",
     "text": [
      "2.1073424255447017e-08\n"
     ]
    }
   ],
   "source": [
    "print(S_right.parameters.eccentricity())"
   ]
  },
  {
   "cell_type": "code",
   "execution_count": 80,
   "metadata": {},
   "outputs": [
    {
     "name": "stdout",
     "output_type": "stream",
     "text": [
      "0.8164965809277259\n"
     ]
    }
   ],
   "source": [
    "print(S_elliptical_3.parameters.eccentricity())"
   ]
  },
  {
   "cell_type": "code",
   "execution_count": 81,
   "metadata": {},
   "outputs": [
    {
     "name": "stdout",
     "output_type": "stream",
     "text": [
      "0.9481452871613908\n"
     ]
    }
   ],
   "source": [
    "print(S_elliptical_2.parameters.eccentricity())"
   ]
  },
  {
   "cell_type": "code",
   "execution_count": 82,
   "metadata": {},
   "outputs": [
    {
     "name": "stdout",
     "output_type": "stream",
     "text": [
      "0.9101797211244547\n"
     ]
    }
   ],
   "source": [
    "print(S_elliptical_1.parameters.eccentricity())"
   ]
  }
 ],
 "metadata": {
  "kernelspec": {
   "display_name": "Python 3",
   "language": "python",
   "name": "python3"
  },
  "language_info": {
   "codemirror_mode": {
    "name": "ipython",
    "version": 3
   },
   "file_extension": ".py",
   "mimetype": "text/x-python",
   "name": "python",
   "nbconvert_exporter": "python",
   "pygments_lexer": "ipython3",
   "version": "3.6.7"
  },
  "varInspector": {
   "cols": {
    "lenName": 16,
    "lenType": 16,
    "lenVar": 40
   },
   "kernels_config": {
    "python": {
     "delete_cmd_postfix": "",
     "delete_cmd_prefix": "del ",
     "library": "var_list.py",
     "varRefreshCmd": "print(var_dic_list())"
    },
    "r": {
     "delete_cmd_postfix": ") ",
     "delete_cmd_prefix": "rm(",
     "library": "var_list.r",
     "varRefreshCmd": "cat(var_dic_list()) "
    }
   },
   "types_to_exclude": [
    "module",
    "function",
    "builtin_function_or_method",
    "instance",
    "_Feature"
   ],
   "window_display": false
  }
 },
 "nbformat": 4,
 "nbformat_minor": 2
}
