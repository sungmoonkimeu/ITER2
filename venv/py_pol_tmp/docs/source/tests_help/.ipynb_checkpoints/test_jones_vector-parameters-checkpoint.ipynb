{
 "cells": [
  {
   "cell_type": "markdown",
   "metadata": {},
   "source": [
    "# Fast checks on Jones_vector parameters module"
   ]
  },
  {
   "cell_type": "markdown",
   "metadata": {},
   "source": [
    "## import module"
   ]
  },
  {
   "cell_type": "code",
   "execution_count": 1,
   "metadata": {},
   "outputs": [
    {
     "name": "stdout",
     "output_type": "stream",
     "text": [
      "{'commit_hash': u'1149d1700',\n",
      " 'commit_source': 'installation',\n",
      " 'default_encoding': 'UTF-8',\n",
      " 'ipython_path': '/home/luismiguel/anaconda2/lib/python2.7/site-packages/IPython',\n",
      " 'ipython_version': '5.4.1',\n",
      " 'os_name': 'posix',\n",
      " 'platform': 'Linux-4.15.0-45-generic-x86_64-with-debian-buster-sid',\n",
      " 'sys_executable': '/home/luismiguel/anaconda2/bin/python',\n",
      " 'sys_platform': 'linux2',\n",
      " 'sys_version': '2.7.14 |Anaconda, Inc.| (default, Dec  7 2017, 17:05:42) \\n[GCC 7.2.0]'}\n",
      "The autoreload extension is already loaded. To reload it, use:\n",
      "  %reload_ext autoreload\n",
      "The line_profiler extension is already loaded. To reload it, use:\n",
      "  %reload_ext line_profiler\n"
     ]
    }
   ],
   "source": [
    "%run ../config_jupyter.ipynb\n",
    "%load_ext autoreload\n",
    "%autoreload 2\n",
    "%load_ext line_profiler"
   ]
  },
  {
   "cell_type": "code",
   "execution_count": 2,
   "metadata": {},
   "outputs": [
    {
     "name": "stdout",
     "output_type": "stream",
     "text": [
      "2.1.2\n"
     ]
    }
   ],
   "source": [
    "from numpy import matrix, array, cos, sin, pi\n",
    "from py_pol import degrees, np\n",
    "from py_pol.utils import rotation_matrix_Jones\n",
    "\n",
    "from py_pol.stokes import Stokes\n",
    "from py_pol.jones_vector import Jones_vector\n"
   ]
  },
  {
   "cell_type": "markdown",
   "metadata": {},
   "source": [
    "##  Extract info\n",
    "This is to make tests with many parameters"
   ]
  },
  {
   "cell_type": "code",
   "execution_count": 3,
   "metadata": {},
   "outputs": [],
   "source": [
    "\n",
    "def params_to_list(J, verbose=False):\n",
    "    \n",
    "    params = J.parameters.dict_params\n",
    "    \n",
    "    intensity = params['intensity']\n",
    "    alpha = params['alpha']\n",
    "    delay = params['delay']\n",
    "    azimuth = params['azimuth']\n",
    "    ellipticity_angle = params['ellipticity_angle']\n",
    "    a, b = params['ellipse_axes'][0], params['ellipse_axes'][1]\n",
    "    \n",
    "    if verbose is True:\n",
    "        print(\"[{}, {}, {}, {}, {}, {}, {}]\".format(intensity, alpha, delay, azimuth,\n",
    "                                                    ellipticity_angle, a, b))\n",
    "\n",
    "    return np.array([intensity, alpha, delay, azimuth, ellipticity_angle, a, b])\n"
   ]
  },
  {
   "cell_type": "code",
   "execution_count": 4,
   "metadata": {},
   "outputs": [
    {
     "name": "stdout",
     "output_type": "stream",
     "text": [
      "(J1 = [1; 1]', '\\n')\n",
      "parameters of J1:\n",
      "    intensity        : 2.000 arb.u\n",
      "    alpha            : 45.000º\n",
      "    delay            : 0.000º\n",
      "    azimuth          : 45.000º\n",
      "    ellipticity angle: 0.000º\n",
      "    a, b             : 1.414  0.000\n",
      "\n",
      "[2.0, 0.785398163397, 0.0, 0.785398163397, 0.0, 1.41421356237, 0.0]\n"
     ]
    }
   ],
   "source": [
    "J1 = Jones_vector('J1')\n",
    "J1.from_elements(1,1)\n",
    "print(J1,'\\n')\n",
    "print(J1.parameters)\n",
    "\n",
    "proposal = params_to_list(J1, verbose=True)\n"
   ]
  },
  {
   "cell_type": "code",
   "execution_count": 5,
   "metadata": {},
   "outputs": [
    {
     "data": {
      "text/plain": [
       "0.0"
      ]
     },
     "execution_count": 5,
     "metadata": {},
     "output_type": "execute_result"
    }
   ],
   "source": [
    "solution= np.array([2.0, 0.7853981633974483, 0.0, 0.7853981633974483, 0.0, 1.4142135623730951, 0.0])\n",
    "np.linalg.norm(proposal - solution) "
   ]
  },
  {
   "cell_type": "markdown",
   "metadata": {},
   "source": [
    "## Jones Vector: Generation of light"
   ]
  },
  {
   "cell_type": "markdown",
   "metadata": {},
   "source": [
    "### Linear light"
   ]
  },
  {
   "cell_type": "code",
   "execution_count": 6,
   "metadata": {},
   "outputs": [
    {
     "name": "stdout",
     "output_type": "stream",
     "text": [
      "(J1 = [1.0; 0.0]', '\\n')\n",
      "parameters of J1:\n",
      "    intensity        : 1.000 arb.u\n",
      "    alpha            : 0.000º\n",
      "    delay            : 0.000º\n",
      "    azimuth          : 0.000º\n",
      "    ellipticity angle: 0.000º\n",
      "    a, b             : 1.000  0.000\n",
      "\n",
      "[1.0, 0.0, 0.0, 0.0, 0.0, 1.0, 0.0]\n"
     ]
    }
   ],
   "source": [
    "J1 = Jones_vector('J1')\n",
    "J1.linear_light(angle=0*degrees)\n",
    "print(J1,'\\n')\n",
    "print(J1.parameters)\n",
    "proposal = params_to_list(J1, verbose=True)\n"
   ]
  },
  {
   "cell_type": "code",
   "execution_count": 7,
   "metadata": {},
   "outputs": [
    {
     "name": "stdout",
     "output_type": "stream",
     "text": [
      "(J1 = [0.7071; 0.7071]', '\\n')\n",
      "parameters of J1:\n",
      "    intensity        : 1.000 arb.u\n",
      "    alpha            : 45.000º\n",
      "    delay            : 0.000º\n",
      "    azimuth          : 45.000º\n",
      "    ellipticity angle: 0.000º\n",
      "    a, b             : 1.000  0.000\n",
      "\n",
      "[1.0, 0.785398163397, 0.0, 0.785398163397, 0.0, 1.0, 0.0]\n"
     ]
    }
   ],
   "source": [
    "J1 = Jones_vector('J1')\n",
    "J1.linear_light(angle=45*degrees)\n",
    "print(J1,'\\n')\n",
    "print(J1.parameters)\n",
    "proposal = params_to_list(J1, verbose=True)\n"
   ]
  },
  {
   "cell_type": "code",
   "execution_count": 8,
   "metadata": {},
   "outputs": [
    {
     "name": "stdout",
     "output_type": "stream",
     "text": [
      "(J1 = [0.0; 1.0]', '\\n')\n",
      "parameters of J1:\n",
      "    intensity        : 1.000 arb.u\n",
      "    alpha            : 90.000º\n",
      "    delay            : 0.000º\n",
      "    azimuth          : 90.000º\n",
      "    ellipticity angle: 0.000º\n",
      "    a, b             : 1.000  0.000\n",
      "\n",
      "[1.0, 1.57079632679, 0.0, 1.57079632679, 0.0, 1.0, 0.0]\n"
     ]
    }
   ],
   "source": [
    "J1 = Jones_vector('J1')\n",
    "J1.linear_light(angle=90*degrees)\n",
    "print(J1,'\\n')\n",
    "print(J1.parameters)\n",
    "proposal = params_to_list(J1, verbose=True)\n"
   ]
  },
  {
   "cell_type": "code",
   "execution_count": 9,
   "metadata": {},
   "outputs": [
    {
     "name": "stdout",
     "output_type": "stream",
     "text": [
      "(J1 = [-0.7071; 0.7071]', '\\n')\n",
      "parameters of J1:\n",
      "    intensity        : 1.000 arb.u\n",
      "    alpha            : 45.000º\n",
      "    delay            : 180.000º\n",
      "    azimuth          : 45.000º\n",
      "    ellipticity angle: 0.000º\n",
      "    a, b             : 0.000  1.000\n",
      "\n",
      "[1.0, 0.785398163397, 3.14159265359, 0.785398163397, 6.12323399574e-17, 0.0, 1.0]\n"
     ]
    }
   ],
   "source": [
    "# TODO: ellipticity delay no es 180, sino 0. Es lo mismo, pero no cuadra, será por ellipticity signo\n",
    "J1 = Jones_vector('J1')\n",
    "J1.linear_light(angle=135*degrees)\n",
    "print(J1,'\\n')\n",
    "print(J1.parameters)\n",
    "proposal = params_to_list(J1, verbose=True)\n"
   ]
  },
  {
   "cell_type": "code",
   "execution_count": 12,
   "metadata": {},
   "outputs": [
    {
     "name": "stdout",
     "output_type": "stream",
     "text": [
      "J1 = [-1; +0]' \n",
      "\n",
      "parameters of J1:\n",
      "    intensity        : 1.000 arb.u\n",
      "    alpha            : 0.000º\n",
      "    delay            : 180.000º\n",
      "    azimuth          : 0.000º\n",
      "    ellipticity angle: 0.000º\n",
      "    a, b             : 1.000  0.000\n",
      "\n",
      "[1.0, 1.2246467991473532e-16, 3.141592653589793, 0.0, 1.4997597826618576e-32, 1.0, 1.2246467991473532e-16]\n"
     ]
    }
   ],
   "source": [
    "# TODO: tiene ellipticity error de que 180 no lo pasa a 0 en delay, pero 180.01 sí\n",
    "J1 = Jones_vector('J1')\n",
    "J1.linear_light(angle=180*degrees)\n",
    "print(J1,'\\n')\n",
    "print(J1.parameters)\n",
    "proposal = params_to_list(J1, verbose=True)\n"
   ]
  },
  {
   "cell_type": "markdown",
   "metadata": {},
   "source": [
    "###  Circular light"
   ]
  },
  {
   "cell_type": "code",
   "execution_count": 16,
   "metadata": {},
   "outputs": [
    {
     "name": "stdout",
     "output_type": "stream",
     "text": [
      "J1 = [+1+0j; +0+1j]' \n",
      "\n",
      "parameters of J1:\n",
      "    intensity        : 2.000 arb.u\n",
      "    alpha            : 45.000º\n",
      "    delay            : 90.000º\n",
      "    azimuth          : 45.000º\n",
      "    ellipticity angle: -45.000º\n",
      "    a, b             : 1.000  1.000\n",
      "\n"
     ]
    }
   ],
   "source": [
    "J1 = Jones_vector('J1')\n",
    "J1.circular_light(amplitude=np.sqrt(2),kind='r')\n",
    "print(J1,'\\n')\n",
    "print(J1.parameters)"
   ]
  },
  {
   "cell_type": "code",
   "execution_count": 17,
   "metadata": {},
   "outputs": [
    {
     "name": "stdout",
     "output_type": "stream",
     "text": [
      "J1 = [+1+0j; -0-1j]' \n",
      "\n",
      "parameters of J1:\n",
      "    intensity        : 2.000 arb.u\n",
      "    alpha            : 45.000º\n",
      "    delay            : 270.000º\n",
      "    azimuth          : 45.000º\n",
      "    ellipticity angle: 45.000º\n",
      "    a, b             : 1.000  1.000\n",
      "\n"
     ]
    }
   ],
   "source": [
    "J1 = Jones_vector('J1')\n",
    "J1.circular_light(amplitude=np.sqrt(2),kind='l')\n",
    "print(J1,'\\n')\n",
    "print(J1.parameters)"
   ]
  },
  {
   "cell_type": "markdown",
   "metadata": {},
   "source": [
    "### Eliptical light"
   ]
  },
  {
   "cell_type": "code",
   "execution_count": 18,
   "metadata": {},
   "outputs": [
    {
     "name": "stdout",
     "output_type": "stream",
     "text": [
      "J1 = [+1+0j; +1+0j]' \n",
      "\n",
      "parameters of J1:\n",
      "    intensity        : 2.000 arb.u\n",
      "    alpha            : 45.000º\n",
      "    delay            : 0.000º\n",
      "    azimuth          : 45.000º\n",
      "    ellipticity angle: 0.000º\n",
      "    a, b             : 1.414  0.000\n",
      "\n"
     ]
    }
   ],
   "source": [
    "J1 = Jones_vector('J1')\n",
    "J1.elliptical_light(a=1, b=1, phase=0*degrees, angle=0*degrees)\n",
    "print(J1,'\\n')\n",
    "print(J1.parameters)"
   ]
  },
  {
   "cell_type": "code",
   "execution_count": 20,
   "metadata": {},
   "outputs": [
    {
     "name": "stdout",
     "output_type": "stream",
     "text": [
      "J1 = [+1+0j; +0+1j]' \n",
      "\n",
      "parameters of J1:\n",
      "    intensity        : 2.000 arb.u\n",
      "    alpha            : 45.000º\n",
      "    delay            : 90.000º\n",
      "    azimuth          : 45.000º\n",
      "    ellipticity angle: -45.000º\n",
      "    a, b             : 1.000  1.000\n",
      "\n"
     ]
    }
   ],
   "source": [
    "J1 = Jones_vector('J1')\n",
    "J1.elliptical_light(a=1, b=1, phase=90*degrees, angle=0*degrees)\n",
    "print(J1,'\\n')\n",
    "print(J1.parameters)"
   ]
  },
  {
   "cell_type": "code",
   "execution_count": 21,
   "metadata": {},
   "outputs": [
    {
     "name": "stdout",
     "output_type": "stream",
     "text": [
      "J1 = [+1+1j; -1+1j]' \n",
      "\n",
      "parameters of J1:\n",
      "    intensity        : 4.000 arb.u\n",
      "    alpha            : 45.000º\n",
      "    delay            : 90.000º\n",
      "    azimuth          : 45.000º\n",
      "    ellipticity angle: -45.000º\n",
      "    a, b             : 1.414  1.414\n",
      "\n"
     ]
    }
   ],
   "source": [
    "J1 = Jones_vector('J1')\n",
    "J1.elliptical_light(a=np.sqrt(2), b=np.sqrt(2), phase=90*degrees, angle=45*degrees)\n",
    "print(J1,'\\n')\n",
    "print(J1.parameters)"
   ]
  },
  {
   "cell_type": "code",
   "execution_count": 22,
   "metadata": {},
   "outputs": [
    {
     "name": "stdout",
     "output_type": "stream",
     "text": [
      "J1 = [+1+0j; -1+0j]' \n",
      "\n",
      "parameters of J1:\n",
      "    intensity        : 2.000 arb.u\n",
      "    alpha            : 45.000º\n",
      "    delay            : 180.000º\n",
      "    azimuth          : 45.000º\n",
      "    ellipticity angle: 0.000º\n",
      "    a, b             : 0.000  1.414\n",
      "\n"
     ]
    }
   ],
   "source": [
    "J1 = Jones_vector('J1')\n",
    "J1.elliptical_light(a=np.sqrt(2), b=0, phase=0*degrees, angle=45*degrees)\n",
    "print(J1,'\\n')\n",
    "print(J1.parameters)"
   ]
  },
  {
   "cell_type": "markdown",
   "metadata": {},
   "source": [
    "### general_azimulth_ellipticity "
   ]
  },
  {
   "cell_type": "code",
   "execution_count": 23,
   "metadata": {},
   "outputs": [
    {
     "name": "stdout",
     "output_type": "stream",
     "text": [
      "J1 = [+1+0j; +0+0j]' \n",
      "\n",
      "parameters of J1:\n",
      "    intensity        : 1.000 arb.u\n",
      "    alpha            : 0.000º\n",
      "    delay            : 0.000º\n",
      "    azimuth          : 0.000º\n",
      "    ellipticity angle: 0.000º\n",
      "    a, b             : 1.000  0.000\n",
      "\n"
     ]
    }
   ],
   "source": [
    "J1 = Jones_vector('J1')\n",
    "J1.general_azimuth_ellipticity( azimuth=0, ellipticity=0, amplitude=1)\n",
    "print(J1,'\\n')\n",
    "print(J1.parameters)"
   ]
  },
  {
   "cell_type": "code",
   "execution_count": 24,
   "metadata": {},
   "outputs": [
    {
     "name": "stdout",
     "output_type": "stream",
     "text": [
      "J1 = [+0.707+0.000j; +0.707+0.000j]' \n",
      "\n",
      "parameters of J1:\n",
      "    intensity        : 1.000 arb.u\n",
      "    alpha            : 45.000º\n",
      "    delay            : 0.000º\n",
      "    azimuth          : 45.000º\n",
      "    ellipticity angle: 0.000º\n",
      "    a, b             : 1.000  0.000\n",
      "\n"
     ]
    }
   ],
   "source": [
    "J1 = Jones_vector('J1')\n",
    "J1.general_azimuth_ellipticity( azimuth=45*degrees, ellipticity=0, amplitude=1)\n",
    "print(J1,'\\n')\n",
    "print(J1.parameters)"
   ]
  },
  {
   "cell_type": "code",
   "execution_count": 25,
   "metadata": {},
   "outputs": [
    {
     "name": "stdout",
     "output_type": "stream",
     "text": [
      "J1 = [+0.500-0.500j; +0.500+0.500j]' \n",
      "\n",
      "parameters of J1:\n",
      "    intensity        : 1.000 arb.u\n",
      "    alpha            : 45.000º\n",
      "    delay            : 90.000º\n",
      "    azimuth          : 45.000º\n",
      "    ellipticity angle: -45.000º\n",
      "    a, b             : 0.707  0.707\n",
      "\n"
     ]
    }
   ],
   "source": [
    "J1 = Jones_vector('J1')\n",
    "J1.general_azimuth_ellipticity( azimuth=45*degrees, ellipticity=45*degrees, amplitude=1)\n",
    "print(J1,'\\n')\n",
    "print(J1.parameters)"
   ]
  },
  {
   "cell_type": "markdown",
   "metadata": {},
   "source": [
    "### general_charac_angles"
   ]
  },
  {
   "cell_type": "code",
   "execution_count": 26,
   "metadata": {},
   "outputs": [
    {
     "name": "stdout",
     "output_type": "stream",
     "text": [
      "J1 = [+1+0j; +0+0j]' \n",
      "\n",
      "parameters of J1:\n",
      "    intensity        : 1.000 arb.u\n",
      "    alpha            : 0.000º\n",
      "    delay            : 0.000º\n",
      "    azimuth          : 0.000º\n",
      "    ellipticity angle: 0.000º\n",
      "    a, b             : 1.000  0.000\n",
      "\n"
     ]
    }
   ],
   "source": [
    "J1 = Jones_vector('J1')\n",
    "J1.general_charac_angles(alpha=0, delta=0, amplitude=1)\n",
    "print(J1,'\\n')\n",
    "print(J1.parameters)"
   ]
  },
  {
   "cell_type": "code",
   "execution_count": 27,
   "metadata": {},
   "outputs": [
    {
     "name": "stdout",
     "output_type": "stream",
     "text": [
      "J1 = [+0.707+0.000j; +0.707+0.000j]' \n",
      "\n",
      "parameters of J1:\n",
      "    intensity        : 1.000 arb.u\n",
      "    alpha            : 45.000º\n",
      "    delay            : 0.000º\n",
      "    azimuth          : 45.000º\n",
      "    ellipticity angle: 0.000º\n",
      "    a, b             : 1.000  0.000\n",
      "\n"
     ]
    }
   ],
   "source": [
    "J1 = Jones_vector('J1')\n",
    "J1.general_charac_angles(alpha=45*degrees, delta=0, amplitude=1)\n",
    "print(J1,'\\n')\n",
    "print(J1.parameters)"
   ]
  },
  {
   "cell_type": "code",
   "execution_count": 28,
   "metadata": {},
   "outputs": [
    {
     "name": "stdout",
     "output_type": "stream",
     "text": [
      "J1 = [+0.500-0.500j; +0.500+0.500j]' \n",
      "\n",
      "parameters of J1:\n",
      "    intensity        : 1.000 arb.u\n",
      "    alpha            : 45.000º\n",
      "    delay            : 90.000º\n",
      "    azimuth          : 25.955º\n",
      "    ellipticity angle: -45.000º\n",
      "    a, b             : 0.707  0.707\n",
      "\n"
     ]
    }
   ],
   "source": [
    "J1 = Jones_vector('J1')\n",
    "J1.general_charac_angles(alpha=45*degrees, delta=90*degrees, amplitude=1)\n",
    "print(J1,'\\n')\n",
    "print(J1.parameters)"
   ]
  },
  {
   "cell_type": "markdown",
   "metadata": {},
   "source": [
    "### To_stokes"
   ]
  },
  {
   "cell_type": "markdown",
   "metadata": {},
   "source": [
    "#### Not implemented yet\n",
    "J1 = Jones_vector('J1')\n",
    "J1.linear_light(angle=0*degrees)\n",
    "print(J1)\n",
    "\n",
    "S1=J1.to_Stokes(p=1)\n",
    "type(S1)\n"
   ]
  },
  {
   "cell_type": "markdown",
   "metadata": {},
   "source": [
    "## Operations "
   ]
  },
  {
   "cell_type": "markdown",
   "metadata": {},
   "source": [
    "### Rotate"
   ]
  },
  {
   "cell_type": "code",
   "execution_count": 29,
   "metadata": {},
   "outputs": [
    {
     "name": "stdout",
     "output_type": "stream",
     "text": [
      "J1 = [+1; +0]'\n",
      "J1 @  45.00º = [+0.707; +0.707]'\n",
      "J2 = [+0.707; +0.707]' \n",
      "\n",
      "parameters of J2:\n",
      "    intensity        : 1.000 arb.u\n",
      "    alpha            : 45.000º\n",
      "    delay            : 0.000º\n",
      "    azimuth          : 45.000º\n",
      "    ellipticity angle: 0.000º\n",
      "    a, b             : 1.000  0.000\n",
      "\n"
     ]
    }
   ],
   "source": [
    "J1 = Jones_vector('J1')\n",
    "J1.linear_light(angle=0*degrees)\n",
    "print(J1)\n",
    "\n",
    "J1.rotate(angle=45*degrees)\n",
    "print(J1)\n",
    "\n",
    "J2 = Jones_vector('J2')\n",
    "J2.linear_light(angle=45*degrees)\n",
    "print(J2,'\\n')\n",
    "print(J2.parameters)"
   ]
  },
  {
   "cell_type": "markdown",
   "metadata": {},
   "source": [
    "### Sum"
   ]
  },
  {
   "cell_type": "code",
   "execution_count": 31,
   "metadata": {},
   "outputs": [
    {
     "name": "stdout",
     "output_type": "stream",
     "text": [
      "J1 + J2 = [+1; +1]' \n",
      "\n",
      "parameters of J1 + J2:\n",
      "    intensity        : 2.000 arb.u\n",
      "    alpha            : 45.000º\n",
      "    delay            : 0.000º\n",
      "    azimuth          : 45.000º\n",
      "    ellipticity angle: 0.000º\n",
      "    a, b             : 1.414  0.000\n",
      "\n"
     ]
    }
   ],
   "source": [
    "J1 = Jones_vector('J1')\n",
    "J1.linear_light(angle=0*degrees)\n",
    "\n",
    "J2 = Jones_vector('J2')\n",
    "J2.linear_light(angle=90*degrees)\n",
    "\n",
    "\n",
    "J3=J1+J2\n",
    "print(J3,'\\n')\n",
    "print(J3.parameters)"
   ]
  },
  {
   "cell_type": "markdown",
   "metadata": {},
   "source": [
    "### Substraction"
   ]
  },
  {
   "cell_type": "code",
   "execution_count": 32,
   "metadata": {},
   "outputs": [
    {
     "name": "stdout",
     "output_type": "stream",
     "text": [
      "J1 - J2 = [+1; -1]' \n",
      "\n",
      "parameters of J1 - J2:\n",
      "    intensity        : 2.000 arb.u\n",
      "    alpha            : 45.000º\n",
      "    delay            : 180.000º\n",
      "    azimuth          : 45.000º\n",
      "    ellipticity angle: 0.000º\n",
      "    a, b             : 0.000  1.414\n",
      "\n"
     ]
    }
   ],
   "source": [
    "J1 = Jones_vector('J1')\n",
    "J1.linear_light(angle=0*degrees)\n",
    "\n",
    "J2 = Jones_vector('J2')\n",
    "J2.linear_light(angle=90*degrees)\n",
    "\n",
    "\n",
    "J4=J1-J2\n",
    "print(J4,'\\n')\n",
    "print(J4.parameters)"
   ]
  },
  {
   "cell_type": "markdown",
   "metadata": {},
   "source": [
    "### Multiplication by number"
   ]
  },
  {
   "cell_type": "code",
   "execution_count": 33,
   "metadata": {},
   "outputs": [
    {
     "name": "stdout",
     "output_type": "stream",
     "text": [
      "J1 = [+1; +0]'\n",
      "J = [+2; +0]'\n",
      "J = [+3; +0]' \n",
      "\n",
      "parameters of J:\n",
      "    intensity        : 9.000 arb.u\n",
      "    alpha            : 0.000º\n",
      "    delay            : 0.000º\n",
      "    azimuth          : 0.000º\n",
      "    ellipticity angle: 0.000º\n",
      "    a, b             : 3.000  0.000\n",
      "\n"
     ]
    }
   ],
   "source": [
    "J1 = Jones_vector('J1')\n",
    "J1.linear_light(angle=0*degrees)\n",
    "print(J1)\n",
    "\n",
    "J2=2*J1\n",
    "print(J2)\n",
    "\n",
    "J3=J1*3\n",
    "print(J3,'\\n')\n",
    "print(J3.parameters)"
   ]
  },
  {
   "cell_type": "code",
   "execution_count": 34,
   "metadata": {},
   "outputs": [
    {
     "name": "stdout",
     "output_type": "stream",
     "text": [
      "J + J = [+3; +2]' \n",
      "\n",
      "parameters of J + J:\n",
      "    intensity        : 13.000 arb.u\n",
      "    alpha            : 33.690º\n",
      "    delay            : 0.000º\n",
      "    azimuth          : 33.690º\n",
      "    ellipticity angle: 0.000º\n",
      "    a, b             : 3.606  0.000\n",
      "\n"
     ]
    }
   ],
   "source": [
    "J1 = Jones_vector('J1')\n",
    "J1.linear_light(angle=0*degrees)\n",
    "\n",
    "J2 = Jones_vector('J2')\n",
    "J2.linear_light(angle=90*degrees)\n",
    "\n",
    "J3=3*J1 + 2*J2\n",
    "print(J3,'\\n')\n",
    "print(J3.parameters)"
   ]
  }
 ],
 "metadata": {
  "kernelspec": {
   "display_name": "Python 3",
   "language": "python",
   "name": "python3"
  },
  "language_info": {
   "codemirror_mode": {
    "name": "ipython",
    "version": 2
   },
   "file_extension": ".py",
   "mimetype": "text/x-python",
   "name": "python",
   "nbconvert_exporter": "python",
   "pygments_lexer": "ipython2",
   "version": "2.7.14"
  },
  "toc": {
   "base_numbering": 1,
   "nav_menu": {},
   "number_sections": true,
   "sideBar": true,
   "skip_h1_title": false,
   "title_cell": "Table of Contents",
   "title_sidebar": "Contents",
   "toc_cell": false,
   "toc_position": {},
   "toc_section_display": true,
   "toc_window_display": false
  },
  "varInspector": {
   "cols": {
    "lenName": 16,
    "lenType": 16,
    "lenVar": 40
   },
   "kernels_config": {
    "python": {
     "delete_cmd_postfix": "",
     "delete_cmd_prefix": "del ",
     "library": "var_list.py",
     "varRefreshCmd": "print(var_dic_list())"
    },
    "r": {
     "delete_cmd_postfix": ") ",
     "delete_cmd_prefix": "rm(",
     "library": "var_list.r",
     "varRefreshCmd": "cat(var_dic_list()) "
    }
   },
   "types_to_exclude": [
    "module",
    "function",
    "builtin_function_or_method",
    "instance",
    "_Feature"
   ],
   "window_display": false
  }
 },
 "nbformat": 4,
 "nbformat_minor": 2
}
