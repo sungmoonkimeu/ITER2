{
 "cells": [
  {
   "cell_type": "markdown",
   "metadata": {},
   "source": [
    "# Mueller module"
   ]
  },
  {
   "cell_type": "code",
   "execution_count": 5,
   "metadata": {},
   "outputs": [
    {
     "name": "stdout",
     "output_type": "stream",
     "text": [
      "The autoreload extension is already loaded. To reload it, use:\n",
      "  %reload_ext autoreload\n",
      "The line_profiler extension is already loaded. To reload it, use:\n",
      "  %reload_ext line_profiler\n",
      "{'commit_hash': '523ed2fe5',\n",
      " 'commit_source': 'installation',\n",
      " 'default_encoding': 'cp1252',\n",
      " 'ipython_path': 'C:\\\\Users\\\\Jesus\\\\Anaconda3\\\\lib\\\\site-packages\\\\IPython',\n",
      " 'ipython_version': '7.2.0',\n",
      " 'os_name': 'nt',\n",
      " 'platform': 'Windows-10-10.0.17134-SP0',\n",
      " 'sys_executable': 'C:\\\\Users\\\\Jesus\\\\Anaconda3\\\\python.exe',\n",
      " 'sys_platform': 'win32',\n",
      " 'sys_version': '3.7.1 (default, Dec 10 2018, 22:54:23) [MSC v.1915 64 bit '\n",
      "                '(AMD64)]'}\n"
     ]
    }
   ],
   "source": [
    "%run ../config_jupyter.ipynb\n",
    "%autoreload 3\n",
    "\n",
    "from math import sqrt\n",
    "\n",
    "from py_pol.mueller import Mueller\n",
    "from py_pol.stokes import Stokes\n",
    "from py_pol.jones_matrix import Jones_matrix\n",
    "from py_pol.utils import rotation_matrix_Mueller, isrow, iscolumn, azimuth_elipt_2_charac_angles\n",
    "\n",
    "from py_pol import degrees\n",
    "import numpy as np\n",
    "\n",
    "eps = 1e-6"
   ]
  },
  {
   "cell_type": "markdown",
   "metadata": {},
   "source": [
    "## Parameters"
   ]
  },
  {
   "cell_type": "code",
   "execution_count": 2,
   "metadata": {},
   "outputs": [
    {
     "name": "stdout",
     "output_type": "stream",
     "text": [
      "0.6457027503243677\n",
      "2.220446049250313e-16\n"
     ]
    }
   ],
   "source": [
    "# mean_transmission\n",
    "(a, b) = np.random.rand(2)\n",
    "solution = (a+b)/2\n",
    "M1 = Mueller('M1')\n",
    "M1.diattenuator_linear(p1=sqrt(a), p2=sqrt(b), angle=0*degrees)\n",
    "proposal = M1.parameters.mean_transmission()\n",
    "print(proposal)\n",
    "print(np.linalg.norm(proposal - solution))"
   ]
  },
  {
   "cell_type": "code",
   "execution_count": 13,
   "metadata": {},
   "outputs": [
    {
     "name": "stdout",
     "output_type": "stream",
     "text": [
      "2.1073424255447017e-08\n",
      "2.1073424255447017e-08\n",
      "1.0\n",
      "0.0\n",
      "0.7071067811865476\n",
      "0.0\n"
     ]
    }
   ],
   "source": [
    "# inhomogeneity\n",
    "solution = 0\n",
    "P1 = Mueller('P1')\n",
    "P1.diattenuator_linear(p1=1, p2=0, angle=0*degrees)\n",
    "proposal = P1.parameters.inhomogeneity()\n",
    "assert np.linalg.norm(proposal - solution) < eps, sys._getframe(\n",
    ").f_code.co_name + \"@ Polarizer + Retarder @45 deg\"\n",
    "print(proposal)\n",
    "print(np.linalg.norm(proposal - solution))\n",
    "\n",
    "solution = 1\n",
    "P1 = Mueller('P1')\n",
    "P1.diattenuator_linear(p1=1, p2=0, angle=0*degrees)\n",
    "P2 = Mueller('P2')\n",
    "P2.diattenuator_linear(p1=1, p2=0, angle=90*degrees)\n",
    "R1 = Mueller('R1')\n",
    "R1.quarter_waveplate(angle=45*degrees)\n",
    "M1 = (P1*R1)*P2\n",
    "proposal = M1.parameters.inhomogeneity()\n",
    "print(proposal)\n",
    "print(np.linalg.norm(proposal - solution))\n",
    "\n",
    "\n",
    "solution = sqrt(2)/2\n",
    "P1 = Mueller('P1')\n",
    "P1.diattenuator_linear(p1=1, p2=0, angle=0*degrees)\n",
    "R1 = Mueller('R1')\n",
    "R1.quarter_waveplate(angle=45*degrees)\n",
    "M1 = (P1*R1)\n",
    "proposal = M1.parameters.inhomogeneity()\n",
    "print(proposal)\n",
    "print(np.linalg.norm(proposal - solution))"
   ]
  },
  {
   "cell_type": "code",
   "execution_count": 3,
   "metadata": {},
   "outputs": [
    {
     "name": "stdout",
     "output_type": "stream",
     "text": [
      "0.27801811692662026\n",
      "0.0\n"
     ]
    }
   ],
   "source": [
    "# diattenuation\n",
    "D = 2*(np.matrix(np.random.rand(3))-0.5)/3\n",
    "solution = np.linalg.norm(D)\n",
    "M1 = Mueller('M1')\n",
    "M1.diattenuator_from_vector(D)\n",
    "proposal = M1.parameters.diattenuation()\n",
    "print(proposal)\n",
    "print(np.linalg.norm(proposal - solution))"
   ]
  },
  {
   "cell_type": "code",
   "execution_count": 4,
   "metadata": {},
   "outputs": [
    {
     "name": "stdout",
     "output_type": "stream",
     "text": [
      "0.31553154873970835\n",
      "0.0\n"
     ]
    }
   ],
   "source": [
    "# diattenuation_linear\n",
    "D = 2*(np.matrix(np.random.rand(3))-0.5)/3\n",
    "solution = np.linalg.norm(D[0:2])\n",
    "M1 = Mueller('M1')\n",
    "M1.diattenuator_from_vector(D)\n",
    "proposal = M1.parameters.diattenuation_linear()\n",
    "print(proposal)\n",
    "print(np.linalg.norm(proposal - solution))"
   ]
  },
  {
   "cell_type": "code",
   "execution_count": 5,
   "metadata": {},
   "outputs": [
    {
     "name": "stdout",
     "output_type": "stream",
     "text": [
      "-0.2337096600220588\n",
      "0.0\n"
     ]
    }
   ],
   "source": [
    "# diattenuation_circular\n",
    "D = 2*(np.matrix(np.random.rand(3))-0.5)/3\n",
    "solution = D[0,2]\n",
    "M1 = Mueller('M1')\n",
    "M1.diattenuator_from_vector(D)\n",
    "proposal = M1.parameters.diattenuation_circular()\n",
    "print(proposal)\n",
    "print(np.linalg.norm(proposal - solution))"
   ]
  },
  {
   "cell_type": "code",
   "execution_count": 6,
   "metadata": {},
   "outputs": [
    {
     "name": "stdout",
     "output_type": "stream",
     "text": [
      "0.37101596059011327\n",
      "0.0\n"
     ]
    }
   ],
   "source": [
    "# polarizance\n",
    "D = 2*(np.matrix(np.random.rand(3))-0.5)/3\n",
    "solution = np.linalg.norm(D)\n",
    "M1 = Mueller('M1')\n",
    "M1.diattenuator_from_vector(D)\n",
    "proposal = M1.parameters.polarizance()\n",
    "print(proposal)\n",
    "print(np.linalg.norm(proposal - solution))"
   ]
  },
  {
   "cell_type": "code",
   "execution_count": 9,
   "metadata": {},
   "outputs": [
    {
     "name": "stdout",
     "output_type": "stream",
     "text": [
      "0.2637154495634199\n",
      "0.0\n"
     ]
    }
   ],
   "source": [
    "# polarizance_linear\n",
    "D = 2*(np.matrix(np.random.rand(3))-0.5)/3\n",
    "solution = np.linalg.norm(D[0,0:2])\n",
    "M1 = Mueller('M1')\n",
    "M1.diattenuator_from_vector(D)\n",
    "proposal = M1.parameters.polarizance_linear()\n",
    "print(proposal)\n",
    "print(np.linalg.norm(proposal - solution))"
   ]
  },
  {
   "cell_type": "code",
   "execution_count": 6,
   "metadata": {},
   "outputs": [
    {
     "ename": "IndexError",
     "evalue": "index 2 is out of bounds for axis 0 with size 1",
     "output_type": "error",
     "traceback": [
      "\u001b[1;31m---------------------------------------------------------------------------\u001b[0m",
      "\u001b[1;31mIndexError\u001b[0m                                Traceback (most recent call last)",
      "\u001b[1;32m<ipython-input-6-33f17dc744c9>\u001b[0m in \u001b[0;36m<module>\u001b[1;34m\u001b[0m\n\u001b[0;32m      1\u001b[0m \u001b[1;31m# polarizance_circular\u001b[0m\u001b[1;33m\u001b[0m\u001b[1;33m\u001b[0m\u001b[1;33m\u001b[0m\u001b[0m\n\u001b[0;32m      2\u001b[0m \u001b[0mD\u001b[0m \u001b[1;33m=\u001b[0m \u001b[1;36m2\u001b[0m\u001b[1;33m*\u001b[0m\u001b[1;33m(\u001b[0m\u001b[0mnp\u001b[0m\u001b[1;33m.\u001b[0m\u001b[0mmatrix\u001b[0m\u001b[1;33m(\u001b[0m\u001b[0mnp\u001b[0m\u001b[1;33m.\u001b[0m\u001b[0mrandom\u001b[0m\u001b[1;33m.\u001b[0m\u001b[0mrand\u001b[0m\u001b[1;33m(\u001b[0m\u001b[1;36m3\u001b[0m\u001b[1;33m)\u001b[0m\u001b[1;33m)\u001b[0m\u001b[1;33m-\u001b[0m\u001b[1;36m0.5\u001b[0m\u001b[1;33m)\u001b[0m\u001b[1;33m/\u001b[0m\u001b[1;36m3\u001b[0m\u001b[1;33m\u001b[0m\u001b[1;33m\u001b[0m\u001b[0m\n\u001b[1;32m----> 3\u001b[1;33m \u001b[0msolution\u001b[0m \u001b[1;33m=\u001b[0m \u001b[0mD\u001b[0m\u001b[1;33m[\u001b[0m\u001b[1;36m2\u001b[0m\u001b[1;33m]\u001b[0m\u001b[1;33m\u001b[0m\u001b[1;33m\u001b[0m\u001b[0m\n\u001b[0m\u001b[0;32m      4\u001b[0m \u001b[0mM1\u001b[0m \u001b[1;33m=\u001b[0m \u001b[0mMueller\u001b[0m\u001b[1;33m(\u001b[0m\u001b[1;34m'M1'\u001b[0m\u001b[1;33m)\u001b[0m\u001b[1;33m\u001b[0m\u001b[1;33m\u001b[0m\u001b[0m\n\u001b[0;32m      5\u001b[0m \u001b[0mM1\u001b[0m\u001b[1;33m.\u001b[0m\u001b[0mdiattenuator_from_vector\u001b[0m\u001b[1;33m(\u001b[0m\u001b[0mD\u001b[0m\u001b[1;33m)\u001b[0m\u001b[1;33m\u001b[0m\u001b[1;33m\u001b[0m\u001b[0m\n",
      "\u001b[1;32m~\\Anaconda3\\lib\\site-packages\\numpy\\matrixlib\\defmatrix.py\u001b[0m in \u001b[0;36m__getitem__\u001b[1;34m(self, index)\u001b[0m\n\u001b[0;32m    188\u001b[0m \u001b[1;33m\u001b[0m\u001b[0m\n\u001b[0;32m    189\u001b[0m         \u001b[1;32mtry\u001b[0m\u001b[1;33m:\u001b[0m\u001b[1;33m\u001b[0m\u001b[1;33m\u001b[0m\u001b[0m\n\u001b[1;32m--> 190\u001b[1;33m             \u001b[0mout\u001b[0m \u001b[1;33m=\u001b[0m \u001b[0mN\u001b[0m\u001b[1;33m.\u001b[0m\u001b[0mndarray\u001b[0m\u001b[1;33m.\u001b[0m\u001b[0m__getitem__\u001b[0m\u001b[1;33m(\u001b[0m\u001b[0mself\u001b[0m\u001b[1;33m,\u001b[0m \u001b[0mindex\u001b[0m\u001b[1;33m)\u001b[0m\u001b[1;33m\u001b[0m\u001b[1;33m\u001b[0m\u001b[0m\n\u001b[0m\u001b[0;32m    191\u001b[0m         \u001b[1;32mfinally\u001b[0m\u001b[1;33m:\u001b[0m\u001b[1;33m\u001b[0m\u001b[1;33m\u001b[0m\u001b[0m\n\u001b[0;32m    192\u001b[0m             \u001b[0mself\u001b[0m\u001b[1;33m.\u001b[0m\u001b[0m_getitem\u001b[0m \u001b[1;33m=\u001b[0m \u001b[1;32mFalse\u001b[0m\u001b[1;33m\u001b[0m\u001b[1;33m\u001b[0m\u001b[0m\n",
      "\u001b[1;31mIndexError\u001b[0m: index 2 is out of bounds for axis 0 with size 1"
     ]
    }
   ],
   "source": [
    "# polarizance_circular\n",
    "D = 2*(np.matrix(np.random.rand(3))-0.5)/3\n",
    "solution = D[0,2]\n",
    "M1 = Mueller('M1')\n",
    "M1.diattenuator_from_vector(D)\n",
    "proposal = M1.parameters.polarizance_circular()\n",
    "print(proposal)\n",
    "print(np.linalg.norm(proposal - solution))"
   ]
  },
  {
   "cell_type": "code",
   "execution_count": 8,
   "metadata": {},
   "outputs": [
    {
     "name": "stdout",
     "output_type": "stream",
     "text": [
      "0.27707182447432677\n",
      "0.0\n"
     ]
    }
   ],
   "source": [
    "# polarizance\n",
    "D = 2*(np.matrix(np.random.rand(3))-0.5)/3\n",
    "solution = np.linalg.norm(D)\n",
    "M1 = Mueller('M1')\n",
    "M1.diattenuator_from_vector(D)\n",
    "proposal = M1.parameters.polarizance_degree()\n",
    "print(proposal)\n",
    "print(np.linalg.norm(proposal - solution))"
   ]
  },
  {
   "cell_type": "code",
   "execution_count": 15,
   "metadata": {},
   "outputs": [
    {
     "name": "stdout",
     "output_type": "stream",
     "text": [
      "0.5773502691896257\n",
      "1.1102230246251565e-16\n",
      "1.0000000000000002\n",
      "2.220446049250313e-16\n"
     ]
    }
   ],
   "source": [
    "# spheric_purity\n",
    "a = np.random.rand(1)\n",
    "solution = 1/sqrt(3)\n",
    "M1 = Mueller('M1')\n",
    "M1.diattenuator_linear(p1=1, p2=0, angle=a[0]*180*degrees)\n",
    "proposal = M1.parameters.spheric_purity()\n",
    "print(proposal)\n",
    "print(np.linalg.norm(proposal - solution))\n",
    "\n",
    "solution = 1\n",
    "(D, alpha, delta) = np.random.rand(3) \n",
    "M1 = Mueller('M1')\n",
    "M1.retarder_charac_angles_from_Jones(D*360*degrees, alpha*90*degrees, delta*360*degrees)\n",
    "proposal = M1.parameters.spheric_purity()\n",
    "print(proposal)\n",
    "print(np.linalg.norm(proposal - solution))"
   ]
  },
  {
   "cell_type": "code",
   "execution_count": 88,
   "metadata": {},
   "outputs": [
    {
     "name": "stdout",
     "output_type": "stream",
     "text": [
      "[2.203144513638223, 2.2031445136382226, 0.7012826793826256, 0.9999999999999999]\n",
      "4.440892098500626e-16\n"
     ]
    }
   ],
   "source": [
    "# delay\n",
    "(D, alpha, delta) = np.random.rand(3)\n",
    "solution = D*np.pi\n",
    "M1 = Mueller('M1') \n",
    "M1.retarder_charac_angles_from_vector(D*180*degrees, alpha*90*degrees, delta*360*degrees)\n",
    "#M1.retarder_charac_angles_from_vector(120*degrees, 0*degrees, 0*degrees)\n",
    "proposal = M1.parameters.delay()\n",
    "print([proposal, solution, (proposal+solution)/(2*np.pi), np.linalg.det(M1.M)])\n",
    "print(np.linalg.norm(proposal - solution))\n",
    "\n",
    "# Issue: Formula can't discriminate 0 -> pi from pi -> 2*pi\n",
    "M1 = Mueller('M1') \n",
    "M1.retarder_azimuth_ellipticity_from_vector(10*degrees, 10*degrees, -20*degrees)\n",
    "print(M1)\n",
    "print('Measured delay is: {} deg'.format(M1.parameters.delay()/degrees))\n",
    "M1.retarder_azimuth_ellipticity_from_vector(350*degrees, 10*degrees, -20*degrees)\n",
    "print(M1)\n",
    "print('Measured delay is: {} deg'.format(M1.parameters.delay()/degrees))"
   ]
  },
  {
   "cell_type": "code",
   "execution_count": 101,
   "metadata": {},
   "outputs": [
    {
     "name": "stdout",
     "output_type": "stream",
     "text": [
      "[0.7080673  0.70395514 0.05556847]\n",
      "1.1188630228279524e-16\n",
      "[0.26790649 0.5538731  0.63898059]\n",
      "1.2412670766236366e-16\n"
     ]
    }
   ],
   "source": [
    "# retardance\n",
    "D = np.pi * np.random.rand(1)\n",
    "D = D[0]\n",
    "ur = np.random.rand(3)\n",
    "ur = ur / np.linalg.norm(ur)\n",
    "solution = ur\n",
    "M1 = Mueller('M1') \n",
    "M1.retarder_from_vector(D, ur, unitary=True)\n",
    "proposal = M1.parameters.retardance(unitary=True)\n",
    "print(proposal)\n",
    "print(np.linalg.norm(proposal - solution))\n",
    "\n",
    "D = np.pi * np.random.rand(1)\n",
    "D = D[0]\n",
    "ur = np.random.rand(3)\n",
    "ur = ur / np.linalg.norm(ur)\n",
    "solution = ur*D\n",
    "M1 = Mueller('M1') \n",
    "M1.retarder_from_vector(D, ur*D, unitary=False)\n",
    "proposal = M1.parameters.retardance(unitary=False)\n",
    "print(proposal)\n",
    "print(np.linalg.norm(proposal - solution))"
   ]
  },
  {
   "cell_type": "code",
   "execution_count": 115,
   "metadata": {},
   "outputs": [
    {
     "name": "stdout",
     "output_type": "stream",
     "text": [
      "1.0\n",
      "0.0\n",
      "0\n",
      "0.0\n",
      "1.0\n",
      "0.0\n",
      "0\n",
      "0.0\n",
      "0.44932743390590807\n",
      "5.551115123125783e-17\n",
      "0.893367145769046\n",
      "0.0\n"
     ]
    }
   ],
   "source": [
    "# polarimetric_purity\n",
    "solution = 1\n",
    "(p1, p2, alpha, delta) = np.random.rand(4)\n",
    "M1 = Mueller('M1')\n",
    "M1.diattenuator_charac_angles_from_Jones(p1, p2, alpha*90*degrees, delta*360*degrees)\n",
    "proposal = M1.parameters.polarimetric_purity()\n",
    "print(proposal)\n",
    "print(np.linalg.norm(proposal - solution))\n",
    "solution = 0\n",
    "proposal = M1.parameters.depolarization_index()\n",
    "print(proposal)\n",
    "print(np.linalg.norm(proposal - solution))\n",
    "\n",
    "solution = 1\n",
    "(D, alpha, delta) = np.random.rand(3)\n",
    "M1 = Mueller('M1')\n",
    "M1.retarder_charac_angles_from_Jones(D*180*degrees, alpha*90*degrees, delta*360*degrees)\n",
    "proposal = M1.parameters.polarimetric_purity()\n",
    "print(proposal)\n",
    "print(np.linalg.norm(proposal - solution))\n",
    "solution = 0\n",
    "proposal = M1.parameters.depolarization_index()\n",
    "print(proposal)\n",
    "print(np.linalg.norm(proposal - solution))\n",
    "\n",
    "dep = np.random.rand(1)\n",
    "solution = dep[0]\n",
    "M1 = Mueller('M1')\n",
    "M1.depolarizer(dep[0])\n",
    "proposal = M1.parameters.polarimetric_purity()\n",
    "print(proposal)\n",
    "print(np.linalg.norm(proposal - solution))\n",
    "solution = sqrt(1 - dep[0]**2)\n",
    "proposal = M1.parameters.depolarization_index()\n",
    "print(proposal)\n",
    "print(np.linalg.norm(proposal - solution))"
   ]
  },
  {
   "cell_type": "code",
   "execution_count": null,
   "metadata": {},
   "outputs": [],
   "source": [
    "# Transmissions\n",
    "(p1, p2, alpha, delta) = np.random.rand(4)\n",
    "solution = []"
   ]
  },
  {
   "cell_type": "code",
   "execution_count": null,
   "metadata": {},
   "outputs": [],
   "source": []
  }
 ],
 "metadata": {
  "kernelspec": {
   "display_name": "Python 3",
   "language": "python",
   "name": "python3"
  },
  "language_info": {
   "codemirror_mode": {
    "name": "ipython",
    "version": 3
   },
   "file_extension": ".py",
   "mimetype": "text/x-python",
   "name": "python",
   "nbconvert_exporter": "python",
   "pygments_lexer": "ipython3",
   "version": "3.7.1"
  },
  "toc": {
   "base_numbering": 1,
   "nav_menu": {},
   "number_sections": true,
   "sideBar": true,
   "skip_h1_title": false,
   "title_cell": "Table of Contents",
   "title_sidebar": "Contents",
   "toc_cell": false,
   "toc_position": {},
   "toc_section_display": true,
   "toc_window_display": false
  },
  "varInspector": {
   "cols": {
    "lenName": 16,
    "lenType": 16,
    "lenVar": 40
   },
   "kernels_config": {
    "python": {
     "delete_cmd_postfix": "",
     "delete_cmd_prefix": "del ",
     "library": "var_list.py",
     "varRefreshCmd": "print(var_dic_list())"
    },
    "r": {
     "delete_cmd_postfix": ") ",
     "delete_cmd_prefix": "rm(",
     "library": "var_list.r",
     "varRefreshCmd": "cat(var_dic_list()) "
    }
   },
   "types_to_exclude": [
    "module",
    "function",
    "builtin_function_or_method",
    "instance",
    "_Feature"
   ],
   "window_display": false
  }
 },
 "nbformat": 4,
 "nbformat_minor": 2
}
