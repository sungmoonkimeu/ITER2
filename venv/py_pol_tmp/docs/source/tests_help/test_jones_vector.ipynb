{
 "cells": [
  {
   "cell_type": "markdown",
   "metadata": {},
   "source": [
    "# Fast checks on Jones_vector module"
   ]
  },
  {
   "cell_type": "markdown",
   "metadata": {},
   "source": [
    "## import module"
   ]
  },
  {
   "cell_type": "code",
   "execution_count": 2,
   "metadata": {},
   "outputs": [
    {
     "name": "stdout",
     "output_type": "stream",
     "text": [
      "{'commit_hash': '523ed2fe5',\n",
      " 'commit_source': 'installation',\n",
      " 'default_encoding': 'UTF-8',\n",
      " 'ipython_path': '/home/luismiguel/.local/lib/python3.6/site-packages/IPython',\n",
      " 'ipython_version': '7.2.0',\n",
      " 'os_name': 'posix',\n",
      " 'platform': 'Linux-4.15.0-45-generic-x86_64-with-Ubuntu-18.04-bionic',\n",
      " 'sys_executable': '/usr/bin/python3',\n",
      " 'sys_platform': 'linux',\n",
      " 'sys_version': '3.6.7 (default, Oct 22 2018, 11:32:17) \\n[GCC 8.2.0]'}\n",
      "The autoreload extension is already loaded. To reload it, use:\n",
      "  %reload_ext autoreload\n",
      "The line_profiler extension is already loaded. To reload it, use:\n",
      "  %reload_ext line_profiler\n"
     ]
    }
   ],
   "source": [
    "%run ../config_jupyter.ipynb\n",
    "%load_ext autoreload\n",
    "%autoreload 2\n",
    "%load_ext line_profiler"
   ]
  },
  {
   "cell_type": "code",
   "execution_count": 3,
   "metadata": {},
   "outputs": [
    {
     "name": "stdout",
     "output_type": "stream",
     "text": [
      "3.0.2\n"
     ]
    }
   ],
   "source": [
    "from numpy import matrix, array, cos, sin, pi\n",
    "from py_pol import degrees, np\n",
    "from py_pol.utils import rotation_matrix_Jones\n",
    "\n",
    "from py_pol.stokes import Stokes\n",
    "from py_pol.jones_vector import Jones_vector\n"
   ]
  },
  {
   "cell_type": "markdown",
   "metadata": {},
   "source": [
    "## imported functions"
   ]
  },
  {
   "cell_type": "markdown",
   "metadata": {},
   "source": [
    "### Rotation Matrix"
   ]
  },
  {
   "cell_type": "code",
   "execution_count": 4,
   "metadata": {},
   "outputs": [
    {
     "data": {
      "text/plain": [
       "matrix([[ 0.70710678,  0.70710678],\n",
       "        [-0.70710678,  0.70710678]])"
      ]
     },
     "execution_count": 4,
     "metadata": {},
     "output_type": "execute_result"
    }
   ],
   "source": [
    "rotation_matrix_Jones(angle=45*degrees)\n"
   ]
  },
  {
   "cell_type": "markdown",
   "metadata": {},
   "source": [
    "## Simplifying view of Jones_vector"
   ]
  },
  {
   "cell_type": "code",
   "execution_count": 21,
   "metadata": {},
   "outputs": [
    {
     "name": "stdout",
     "output_type": "stream",
     "text": [
      "J1 = [1; 0]' \n",
      "\n",
      "J1_cond: [1.000+0.000j; 0.000+0.000j]', amplitude: 1.000, angle: 0.00 deg\n",
      "\n",
      "J1_cond: [1.000+0.000j; 0.000+0.000j]', amplitude: 1.000, angle: 0.00 deg\n",
      "\n",
      "J1_cond: [1.000; 0.000]', amplitude: 1.000, angle: 0.00 deg\n",
      "\n",
      "[1. 0.] 1 0.0\n"
     ]
    }
   ],
   "source": [
    "J1 = Jones_vector('J1')\n",
    "J1.from_elements(1,0)\n",
    "print(J1,'\\n')\n",
    "\n",
    "J1.simplify(kind=1, verbose=True);\n",
    "J1.simplify(kind=2, verbose=True);\n",
    "j,a,an=J1.simplify(kind=3, verbose=True);\n",
    "print(j,a,an/degrees)"
   ]
  },
  {
   "cell_type": "code",
   "execution_count": 22,
   "metadata": {},
   "outputs": [
    {
     "name": "stdout",
     "output_type": "stream",
     "text": [
      "J1 = [2; 2]' \n",
      "\n",
      "J1_cond: [2.000+0.000j; 2.000+0.000j]', amplitude: 1.000, angle: 0.00 deg\n",
      "\n",
      "J1_cond: [0.707+0.000j; 0.707+0.000j]', amplitude: 2.828, angle: 0.00 deg\n",
      "\n",
      "J1_cond: [1.000; 1.000]', amplitude: 2.000, angle: 0.00 deg\n",
      "\n",
      "[1. 1.] 2 0.0\n"
     ]
    }
   ],
   "source": [
    "J1 = Jones_vector('J1')\n",
    "J1.from_elements(2,2)\n",
    "print(J1,'\\n')\n",
    "\n",
    "J1.simplify(kind=1, verbose=True);\n",
    "J1.simplify(kind=2, verbose=True);\n",
    "j,a,an=J1.simplify(kind=3, verbose=True);\n",
    "print(j,a,an/degrees)"
   ]
  },
  {
   "cell_type": "code",
   "execution_count": 24,
   "metadata": {},
   "outputs": [
    {
     "name": "stdout",
     "output_type": "stream",
     "text": [
      "J1 = [0; 2]' \n",
      "\n",
      "J1_cond: [0.000+0.000j; 2.000+0.000j]', amplitude: 1.000, angle: 0.00 deg\n",
      "\n",
      "J1_cond: [0.000+0.000j; 1.000+0.000j]', amplitude: 2.000, angle: 0.00 deg\n",
      "\n",
      "J1_cond: [0.000; 1.000]', amplitude: 2.000, angle: 0.00 deg\n",
      "\n",
      "[0. 1.] 2 0.0\n"
     ]
    }
   ],
   "source": [
    "J1 = Jones_vector('J1')\n",
    "J1.from_elements(0,2)\n",
    "print(J1,'\\n')\n",
    "\n",
    "J1.simplify(kind=1, verbose=True);\n",
    "J1.simplify(kind=2, verbose=True);\n",
    "j,a,an=J1.simplify(kind=3, verbose=True);\n",
    "print(j,a,an/degrees)"
   ]
  },
  {
   "cell_type": "code",
   "execution_count": 25,
   "metadata": {},
   "outputs": [
    {
     "name": "stdout",
     "output_type": "stream",
     "text": [
      "J1 = [(2+0j); 2j]' \n",
      "\n",
      "J1_cond: [2.000+0.000j; 0.000+2.000j]', amplitude: 1.000, angle: 0.00 deg\n",
      "\n",
      "J1_cond: [0.707+0.000j; 0.000+0.707j]', amplitude: 2.828, angle: 0.00 deg\n",
      "\n",
      "J1_cond: [1.000+0.000j; 0.000+1.000j]', amplitude: 2.000, angle: 0.00 deg\n",
      "\n",
      "[1.+0.j 0.+1.j] 2.0 0.0\n"
     ]
    }
   ],
   "source": [
    "J1 = Jones_vector('J1')\n",
    "J1.from_elements(2,2j)\n",
    "print(J1,'\\n')\n",
    "\n",
    "J1.simplify(kind=1, verbose=True);\n",
    "J1.simplify(kind=2, verbose=True);\n",
    "j,a,an=J1.simplify(kind=3, verbose=True);\n",
    "print(j,a,an/degrees)"
   ]
  },
  {
   "cell_type": "code",
   "execution_count": 26,
   "metadata": {},
   "outputs": [
    {
     "name": "stdout",
     "output_type": "stream",
     "text": [
      "J1 = [(1-1j); (1+1j)]' \n",
      "\n",
      "J1_cond: [1.414-0.000j; 0.000+1.414j]', amplitude: 1.000, angle: -0.79 deg\n",
      "\n",
      "J1_cond: [0.707-0.000j; 0.000+0.707j]', amplitude: 2.000, angle: -0.79 deg\n",
      "\n",
      "J1_cond: [1.000+0.000j; 0.000+1.000j]', amplitude: 1.414, angle: -0.79 deg\n",
      "\n",
      "[1.+0.j 0.+1.j] 1.4142135623730951 -45.0\n"
     ]
    }
   ],
   "source": [
    "J1 = Jones_vector('J1')\n",
    "J1.from_elements(1-1j, 1+1j)\n",
    "print(J1,'\\n')\n",
    "\n",
    "J1.simplify(kind=1, verbose=True);\n",
    "J1.simplify(kind=2, verbose=True);\n",
    "j,a,an=J1.simplify(kind=3, verbose=True);\n",
    "print(j,a,an/degrees)"
   ]
  },
  {
   "cell_type": "markdown",
   "metadata": {},
   "source": [
    "## Jones Vector: Generation of light"
   ]
  },
  {
   "cell_type": "markdown",
   "metadata": {},
   "source": [
    "### Custom: from elements"
   ]
  },
  {
   "cell_type": "code",
   "execution_count": 6,
   "metadata": {},
   "outputs": [
    {
     "name": "stdout",
     "output_type": "stream",
     "text": [
      "J1 = [1; 0]'\n"
     ]
    }
   ],
   "source": [
    "J1 = Jones_vector('J1')\n",
    "J1.from_elements(1,0)\n",
    "print(J1)"
   ]
  },
  {
   "cell_type": "code",
   "execution_count": 8,
   "metadata": {},
   "outputs": [
    {
     "name": "stdout",
     "output_type": "stream",
     "text": [
      "J1 = [+2+0j; +2+2j]'\n"
     ]
    }
   ],
   "source": [
    "J1 = Jones_vector('J1')\n",
    "J1.from_elements(2,2+2j)\n",
    "print(J1)"
   ]
  },
  {
   "cell_type": "markdown",
   "metadata": {},
   "source": [
    "### Custom: from_matrix "
   ]
  },
  {
   "cell_type": "code",
   "execution_count": 9,
   "metadata": {},
   "outputs": [
    {
     "name": "stdout",
     "output_type": "stream",
     "text": [
      "J1 = [+1+0j; +0+1j]'\n"
     ]
    }
   ],
   "source": [
    "J1 = Jones_vector('J1')\n",
    "M1=np.matrix([[1], [1j]])\n",
    "J1.from_matrix(M1)\n",
    "print(J1)"
   ]
  },
  {
   "cell_type": "markdown",
   "metadata": {},
   "source": [
    "### Custom: from Stokes "
   ]
  },
  {
   "cell_type": "code",
   "execution_count": 30,
   "metadata": {},
   "outputs": [
    {
     "name": "stdout",
     "output_type": "stream",
     "text": [
      "J = [ +1;  +1;  +0;  +0]\n",
      "\n",
      "J1 = [+1+0j; +0+0j]'\n"
     ]
    }
   ],
   "source": [
    "S=Stokes()\n",
    "S.from_elements(1,1,0,0)\n",
    "print(S)\n",
    "J1 = Jones_vector('J1')\n",
    "J1.from_Stokes(S)\n",
    "print(J1)\n"
   ]
  },
  {
   "cell_type": "code",
   "execution_count": 31,
   "metadata": {},
   "outputs": [
    {
     "name": "stdout",
     "output_type": "stream",
     "text": [
      "J = [ +1;  -1;  +0;  +0]\n",
      "\n",
      "J1 = [+0+0j; +1+0j]'\n"
     ]
    }
   ],
   "source": [
    "S=Stokes()\n",
    "S.from_elements(1,-1,0,0)\n",
    "print(S)\n",
    "J1 = Jones_vector('J1')\n",
    "J1.from_Stokes(S)\n",
    "print(J1)\n"
   ]
  },
  {
   "cell_type": "code",
   "execution_count": 32,
   "metadata": {},
   "outputs": [
    {
     "name": "stdout",
     "output_type": "stream",
     "text": [
      "J = [ +1;  +0;  +1;  +0]\n",
      "\n",
      "J1 = [+0.707+0.000j; +0.707+0.000j]'\n"
     ]
    }
   ],
   "source": [
    "S=Stokes()\n",
    "S.from_elements(1,0,1,0)\n",
    "print(S)\n",
    "J1 = Jones_vector('J1')\n",
    "J1.from_Stokes(S)\n",
    "print(J1)"
   ]
  },
  {
   "cell_type": "code",
   "execution_count": 6,
   "metadata": {},
   "outputs": [
    {
     "name": "stdout",
     "output_type": "stream",
     "text": [
      "J = [ +1;  +0;  -1;  +0]\n",
      "\n",
      "J1 = [(-0.7071+0j); (0.7071+0j)]'\n"
     ]
    }
   ],
   "source": [
    "S=Stokes()\n",
    "S.from_elements(1,0,-1,0)\n",
    "print(S)\n",
    "J1 = Jones_vector('J1')\n",
    "J1.from_Stokes(S)\n",
    "print(J1)"
   ]
  },
  {
   "cell_type": "code",
   "execution_count": 19,
   "metadata": {},
   "outputs": [
    {
     "data": {
      "text/plain": [
       "True"
      ]
     },
     "execution_count": 19,
     "metadata": {},
     "output_type": "execute_result"
    }
   ],
   "source": [
    "solution = matrix([[-1 / np.sqrt(2)], [1 / np.sqrt(2)]])\n",
    "S = Stokes()\n",
    "S.from_elements(1, 0, -1, 0)\n",
    "M1 = Jones_vector('J1')\n",
    "M1.from_Stokes(S)\n",
    "proposal = M1.get()\n",
    "\n",
    "np.linalg.norm(proposal - solution) < 1e-6"
   ]
  },
  {
   "cell_type": "code",
   "execution_count": 18,
   "metadata": {},
   "outputs": [
    {
     "data": {
      "text/plain": [
       "3.141592653589793"
      ]
     },
     "execution_count": 18,
     "metadata": {},
     "output_type": "execute_result"
    }
   ],
   "source": [
    "np.arccos(-1)"
   ]
  },
  {
   "cell_type": "code",
   "execution_count": 14,
   "metadata": {},
   "outputs": [
    {
     "name": "stdout",
     "output_type": "stream",
     "text": [
      "J = [ +1;  +0;  +0;  +1]\n",
      "\n",
      "J1 = [+0.707+0.000j; +0.000+0.707j]'\n"
     ]
    }
   ],
   "source": [
    "S=Stokes()\n",
    "S.from_elements(1,0,0,1)\n",
    "print(S)\n",
    "J1 = Jones_vector('J1')\n",
    "J1.from_Stokes(S)\n",
    "print(J1)\n"
   ]
  },
  {
   "cell_type": "markdown",
   "metadata": {},
   "source": [
    "### Linear light"
   ]
  },
  {
   "cell_type": "code",
   "execution_count": 15,
   "metadata": {},
   "outputs": [
    {
     "name": "stdout",
     "output_type": "stream",
     "text": [
      "J1 = [+1; +0]'\n"
     ]
    }
   ],
   "source": [
    "J1 = Jones_vector('J1')\n",
    "J1.linear_light(angle=0*degrees)\n",
    "print(J1)"
   ]
  },
  {
   "cell_type": "code",
   "execution_count": 16,
   "metadata": {},
   "outputs": [
    {
     "name": "stdout",
     "output_type": "stream",
     "text": [
      "J1 = [+0.707; +0.707]'\n"
     ]
    }
   ],
   "source": [
    "J1 = Jones_vector('J1')\n",
    "J1.linear_light(angle=45*degrees)\n",
    "print(J1)"
   ]
  },
  {
   "cell_type": "code",
   "execution_count": 17,
   "metadata": {},
   "outputs": [
    {
     "name": "stdout",
     "output_type": "stream",
     "text": [
      "J1 = [+0; +1]'\n"
     ]
    }
   ],
   "source": [
    "J1 = Jones_vector('J1')\n",
    "J1.linear_light(angle=90*degrees)\n",
    "print(J1)"
   ]
  },
  {
   "cell_type": "code",
   "execution_count": 18,
   "metadata": {},
   "outputs": [
    {
     "name": "stdout",
     "output_type": "stream",
     "text": [
      "J1 = [-0.707; +0.707]'\n"
     ]
    }
   ],
   "source": [
    "J1 = Jones_vector('J1')\n",
    "J1.linear_light(angle=135*degrees)\n",
    "print(J1)"
   ]
  },
  {
   "cell_type": "code",
   "execution_count": 19,
   "metadata": {},
   "outputs": [
    {
     "name": "stdout",
     "output_type": "stream",
     "text": [
      "J1 = [-1; +0]'\n"
     ]
    }
   ],
   "source": [
    "J1 = Jones_vector('J1')\n",
    "J1.linear_light(angle=180*degrees)\n",
    "print(J1)"
   ]
  },
  {
   "cell_type": "markdown",
   "metadata": {},
   "source": [
    "###  Circular light"
   ]
  },
  {
   "cell_type": "code",
   "execution_count": 20,
   "metadata": {},
   "outputs": [
    {
     "name": "stdout",
     "output_type": "stream",
     "text": [
      "J1 = [+1+0j; +0+1j]'\n"
     ]
    }
   ],
   "source": [
    "J1 = Jones_vector('J1')\n",
    "J1.circular_light(amplitude=np.sqrt(2),kind='r')\n",
    "print(J1)"
   ]
  },
  {
   "cell_type": "code",
   "execution_count": 21,
   "metadata": {},
   "outputs": [
    {
     "name": "stdout",
     "output_type": "stream",
     "text": [
      "J1 = [+1+0j; -0-1j]'\n"
     ]
    }
   ],
   "source": [
    "J1 = Jones_vector('J1')\n",
    "J1.circular_light(amplitude=np.sqrt(2),kind='l')\n",
    "print(J1)"
   ]
  },
  {
   "cell_type": "markdown",
   "metadata": {},
   "source": [
    "### Eliptical light"
   ]
  },
  {
   "cell_type": "code",
   "execution_count": 22,
   "metadata": {},
   "outputs": [
    {
     "name": "stdout",
     "output_type": "stream",
     "text": [
      "J1 = [+1+0j; +1+0j]'\n"
     ]
    }
   ],
   "source": [
    "J1 = Jones_vector('J1')\n",
    "J1.elliptical_light(a=1, b=1, phase=0*degrees, angle=0*degrees)\n",
    "print(J1)"
   ]
  },
  {
   "cell_type": "code",
   "execution_count": 23,
   "metadata": {},
   "outputs": [
    {
     "name": "stdout",
     "output_type": "stream",
     "text": [
      "J1 = [+1+0j; +0+1j]'\n"
     ]
    }
   ],
   "source": [
    "J1 = Jones_vector('J1')\n",
    "J1.elliptical_light(a=1, b=1, phase=90*degrees, angle=0*degrees)\n",
    "print(J1)"
   ]
  },
  {
   "cell_type": "code",
   "execution_count": 24,
   "metadata": {},
   "outputs": [
    {
     "name": "stdout",
     "output_type": "stream",
     "text": [
      "J1 = [+1+1j; -1+1j]'\n"
     ]
    }
   ],
   "source": [
    "J1 = Jones_vector('J1')\n",
    "J1.elliptical_light(a=np.sqrt(2), b=np.sqrt(2), phase=90*degrees, angle=45*degrees)\n",
    "print(J1)"
   ]
  },
  {
   "cell_type": "code",
   "execution_count": 25,
   "metadata": {},
   "outputs": [
    {
     "name": "stdout",
     "output_type": "stream",
     "text": [
      "J1 = [+1+0j; -1+0j]'\n"
     ]
    }
   ],
   "source": [
    "J1 = Jones_vector('J1')\n",
    "J1.elliptical_light(a=np.sqrt(2), b=0, phase=0*degrees, angle=45*degrees)\n",
    "print(J1)"
   ]
  },
  {
   "cell_type": "markdown",
   "metadata": {},
   "source": [
    "### general_azimulth_ellipticity "
   ]
  },
  {
   "cell_type": "code",
   "execution_count": 26,
   "metadata": {},
   "outputs": [
    {
     "name": "stdout",
     "output_type": "stream",
     "text": [
      "J1 = [+1+0j; +0+0j]'\n"
     ]
    }
   ],
   "source": [
    "J1 = Jones_vector('J1')\n",
    "J1.general_azimuth_ellipticity( azimuth=0, ellipticity=0, amplitude=1)\n",
    "print(J1)"
   ]
  },
  {
   "cell_type": "code",
   "execution_count": 27,
   "metadata": {},
   "outputs": [
    {
     "name": "stdout",
     "output_type": "stream",
     "text": [
      "J1 = [+0.707+0.000j; +0.707+0.000j]'\n"
     ]
    }
   ],
   "source": [
    "J1 = Jones_vector('J1')\n",
    "J1.general_azimuth_ellipticity( azimuth=45*degrees, ellipticity=0, amplitude=1)\n",
    "print(J1)"
   ]
  },
  {
   "cell_type": "code",
   "execution_count": 28,
   "metadata": {},
   "outputs": [
    {
     "name": "stdout",
     "output_type": "stream",
     "text": [
      "J1 = [+0.500-0.500j; +0.500+0.500j]'\n"
     ]
    }
   ],
   "source": [
    "J1 = Jones_vector('J1')\n",
    "J1.general_azimuth_ellipticity( azimuth=45*degrees, ellipticity=45*degrees, amplitude=1)\n",
    "print(J1)"
   ]
  },
  {
   "cell_type": "code",
   "execution_count": 29,
   "metadata": {},
   "outputs": [
    {
     "name": "stdout",
     "output_type": "stream",
     "text": [
      "J1 = [+0+0j; +0+1j]'\n"
     ]
    }
   ],
   "source": [
    "J1 = Jones_vector('J1')\n",
    "J1.general_azimuth_ellipticity( azimuth=0*degrees, ellipticity=90*degrees, amplitude=1)\n",
    "print(J1)"
   ]
  },
  {
   "cell_type": "markdown",
   "metadata": {},
   "source": [
    "### general_charac_angles"
   ]
  },
  {
   "cell_type": "code",
   "execution_count": 25,
   "metadata": {},
   "outputs": [
    {
     "name": "stdout",
     "output_type": "stream",
     "text": [
      "J1 = [+1+0j; +0+0j]'\n"
     ]
    }
   ],
   "source": [
    "J1 = Jones_vector('J1')\n",
    "J1.general_charac_angles(alpha=0, delay=0, amplitude=1)\n",
    "print(J1)"
   ]
  },
  {
   "cell_type": "code",
   "execution_count": 26,
   "metadata": {},
   "outputs": [
    {
     "name": "stdout",
     "output_type": "stream",
     "text": [
      "J1 = [+0.707+0.000j; +0.707+0.000j]'\n"
     ]
    }
   ],
   "source": [
    "J1 = Jones_vector('J1')\n",
    "J1.general_charac_angles(alpha=45*degrees, delay=0, amplitude=1)\n",
    "print(J1)"
   ]
  },
  {
   "cell_type": "code",
   "execution_count": 27,
   "metadata": {},
   "outputs": [
    {
     "name": "stdout",
     "output_type": "stream",
     "text": [
      "J1 = [+0.500-0.500j; +0.500+0.500j]'\n"
     ]
    }
   ],
   "source": [
    "J1 = Jones_vector('J1')\n",
    "J1.general_charac_angles(alpha=45*degrees, delay=90*degrees, amplitude=1)\n",
    "print(J1)"
   ]
  },
  {
   "cell_type": "markdown",
   "metadata": {},
   "source": [
    "### To_stokes"
   ]
  },
  {
   "cell_type": "markdown",
   "metadata": {},
   "source": [
    "#### Not implemented yet\n",
    "J1 = Jones_vector('J1')\n",
    "J1.linear_light(angle=0*degrees)\n",
    "print(J1)\n",
    "\n",
    "S1=J1.to_Stokes(p=1)\n",
    "type(S1)\n"
   ]
  },
  {
   "cell_type": "markdown",
   "metadata": {},
   "source": [
    "## Operations "
   ]
  },
  {
   "cell_type": "markdown",
   "metadata": {},
   "source": [
    "### Rotate"
   ]
  },
  {
   "cell_type": "code",
   "execution_count": 28,
   "metadata": {},
   "outputs": [
    {
     "name": "stdout",
     "output_type": "stream",
     "text": [
      "J1 = [+1; +0]'\n",
      "J1 @  45.00º = [+0.707; +0.707]'\n",
      "J2 = [+0.707; +0.707]'\n"
     ]
    }
   ],
   "source": [
    "J1 = Jones_vector('J1')\n",
    "J1.linear_light(angle=0*degrees)\n",
    "print(J1)\n",
    "\n",
    "J1.rotate(angle=45*degrees)\n",
    "print(J1)\n",
    "\n",
    "J2 = Jones_vector('J2')\n",
    "J2.linear_light(angle=45*degrees)\n",
    "print(J2)"
   ]
  },
  {
   "cell_type": "markdown",
   "metadata": {},
   "source": [
    "### Clear"
   ]
  },
  {
   "cell_type": "code",
   "execution_count": 33,
   "metadata": {},
   "outputs": [
    {
     "name": "stdout",
     "output_type": "stream",
     "text": [
      " = [+0; +0]' [[0]\n",
      " [0]]\n"
     ]
    }
   ],
   "source": [
    "J1 = Jones_vector('J1')\n",
    "J1.linear_light(angle=0*degrees)\n",
    "J1.clear()\n",
    "proposal=J1.get()\n",
    "\n",
    "print(J1, proposal)"
   ]
  },
  {
   "cell_type": "markdown",
   "metadata": {},
   "source": [
    "### Sum"
   ]
  },
  {
   "cell_type": "code",
   "execution_count": null,
   "metadata": {},
   "outputs": [],
   "source": [
    "J1 = Jones_vector('J1')\n",
    "J1.linear_light(angle=0*degrees)\n",
    "\n",
    "J2 = Jones_vector('J2')\n",
    "J2.linear_light(angle=90*degrees)\n",
    "\n",
    "\n",
    "J3=J1+J2\n",
    "print(J3)"
   ]
  },
  {
   "cell_type": "markdown",
   "metadata": {},
   "source": [
    "### Substraction"
   ]
  },
  {
   "cell_type": "code",
   "execution_count": null,
   "metadata": {},
   "outputs": [],
   "source": [
    "J1 = Jones_vector('J1')\n",
    "J1.linear_light(angle=0*degrees)\n",
    "\n",
    "J2 = Jones_vector('J2')\n",
    "J2.linear_light(angle=90*degrees)\n",
    "\n",
    "\n",
    "J4=J1-J2\n",
    "print(J4)"
   ]
  },
  {
   "cell_type": "markdown",
   "metadata": {},
   "source": [
    "### Multiplication by number"
   ]
  },
  {
   "cell_type": "code",
   "execution_count": null,
   "metadata": {},
   "outputs": [],
   "source": [
    "J1 = Jones_vector('J1')\n",
    "J1.linear_light(angle=0*degrees)\n",
    "print(J1)\n",
    "\n",
    "J2=2*J1\n",
    "print(J2)\n",
    "\n",
    "J3=J1*3\n",
    "print(J3)"
   ]
  },
  {
   "cell_type": "code",
   "execution_count": null,
   "metadata": {},
   "outputs": [],
   "source": [
    "J1 = Jones_vector('J1')\n",
    "J1.linear_light(angle=0*degrees)\n",
    "\n",
    "J2 = Jones_vector('J2')\n",
    "J2.linear_light(angle=90*degrees)\n",
    "\n",
    "J3=3*J1 + 2*J2\n",
    "print(J3)"
   ]
  },
  {
   "cell_type": "markdown",
   "metadata": {},
   "source": [
    "### Get_matrix"
   ]
  },
  {
   "cell_type": "code",
   "execution_count": null,
   "metadata": {},
   "outputs": [],
   "source": [
    "J1 = Jones_vector('J1')\n",
    "J1.circular_light(kind='r')\n",
    "print(J1)\n",
    "\n",
    "j1=J1.get()\n",
    "print('\\n',j1)\n",
    "\n"
   ]
  },
  {
   "cell_type": "markdown",
   "metadata": {},
   "source": [
    "## Parameters extracted from Jones Vector"
   ]
  },
  {
   "cell_type": "code",
   "execution_count": null,
   "metadata": {},
   "outputs": [],
   "source": [
    "J1 = Jones_vector('J1')\n",
    "J1.from_elements(1,1)\n",
    "print(J1.parameters)"
   ]
  },
  {
   "cell_type": "code",
   "execution_count": null,
   "metadata": {},
   "outputs": [],
   "source": [
    "J1 = Jones_vector('J1')\n",
    "J1.from_elements(np.cos(30*degrees), np.sin(30*degrees))\n",
    "print(J1.parameters)"
   ]
  },
  {
   "cell_type": "code",
   "execution_count": null,
   "metadata": {},
   "outputs": [],
   "source": [
    "J1 = Jones_vector('J1')\n",
    "J1.from_elements(1,1j)\n",
    "print(J1.parameters)\n"
   ]
  },
  {
   "cell_type": "code",
   "execution_count": null,
   "metadata": {},
   "outputs": [],
   "source": [
    "J1 = Jones_vector('J1')\n",
    "J1.from_elements(np.sqrt(3)/2, 0.5j)\n",
    "print(J1.parameters)"
   ]
  },
  {
   "cell_type": "code",
   "execution_count": null,
   "metadata": {},
   "outputs": [],
   "source": [
    "J1 = Jones_vector('J1')\n",
    "J1.from_elements(1j,1/1j)\n",
    "print(J1.parameters)"
   ]
  },
  {
   "cell_type": "markdown",
   "metadata": {},
   "source": [
    "## Problem 1: multiplications in python 2 and python 3"
   ]
  },
  {
   "cell_type": "markdown",
   "metadata": {},
   "source": [
    "\n",
    "When doing tests in python 3:\n",
    "\n",
    "      /home/luismiguel/bitbucket/py_pol/tests/test_jones_vector.py:25:\n",
    "      PendingDeprecationWarning: the matrix subclass is not the\n",
    "      recommended way to represent matrices or deal with linear algebra\n",
    "      (see https://docs.scipy.org/doc/numpy/user/numpy-for-matlab-users.html). Please adjust your code to use regular ndarray.\n",
    "\n",
    "     solution = matrix([[1], [0]])\n",
    "\n",
    "In python 3 we can do matrix multiplication using arrays:\n",
    "\n",
    "      c = a @ b  (in Matlab c = a * b)\n",
    "\n",
    "      while\n",
    "\n",
    "      c = a * b  (in Matlab c = a.* b)\n",
    "\n",
    "Since this is not implemented in Python 2 we will maintain matrix. However in the future we could change it.\n",
    "\n",
    "https://alysivji.github.io/python-matrix-multiplication-operator.html"
   ]
  },
  {
   "cell_type": "code",
   "execution_count": null,
   "metadata": {},
   "outputs": [],
   "source": [
    "proposal=np.matrix([[1], [1+1j]])"
   ]
  },
  {
   "cell_type": "code",
   "execution_count": null,
   "metadata": {},
   "outputs": [],
   "source": [
    "proposal*proposal.transpose()"
   ]
  },
  {
   "cell_type": "code",
   "execution_count": null,
   "metadata": {},
   "outputs": [],
   "source": [
    "asdf=np.squeeze(np.asarray(proposal))\n",
    "type(asdf)"
   ]
  },
  {
   "cell_type": "code",
   "execution_count": null,
   "metadata": {},
   "outputs": [],
   "source": [
    "asdf @ asdf.transpose()"
   ]
  },
  {
   "cell_type": "code",
   "execution_count": null,
   "metadata": {},
   "outputs": [],
   "source": [
    "np.matmul(asdf,asdf.transpose())"
   ]
  },
  {
   "cell_type": "code",
   "execution_count": null,
   "metadata": {},
   "outputs": [],
   "source": [
    "a=np.ones((2,2))\n",
    "asdf = np.ones((2,1))\n",
    "print(a)\n",
    "print(asdf)"
   ]
  },
  {
   "cell_type": "code",
   "execution_count": null,
   "metadata": {},
   "outputs": [],
   "source": [
    "a*asdf"
   ]
  },
  {
   "cell_type": "code",
   "execution_count": null,
   "metadata": {},
   "outputs": [],
   "source": [
    "a @ asdf"
   ]
  },
  {
   "cell_type": "markdown",
   "metadata": {},
   "source": [
    "I think that this is not possible in Python 2: check again"
   ]
  },
  {
   "cell_type": "code",
   "execution_count": null,
   "metadata": {},
   "outputs": [],
   "source": [
    "solution = matrix([[1., 1., 0., 0.]])\n",
    "M1 = Jones_vector('M1')\n",
    "M1.linear_light(angle=0 * degrees)\n",
    "S1 = M1.to_Stokes()\n",
    "proposal = S1.get()"
   ]
  },
  {
   "cell_type": "code",
   "execution_count": null,
   "metadata": {},
   "outputs": [],
   "source": []
  }
 ],
 "metadata": {
  "kernelspec": {
   "display_name": "Python 3",
   "language": "python",
   "name": "python3"
  },
  "language_info": {
   "codemirror_mode": {
    "name": "ipython",
    "version": 3
   },
   "file_extension": ".py",
   "mimetype": "text/x-python",
   "name": "python",
   "nbconvert_exporter": "python",
   "pygments_lexer": "ipython3",
   "version": "3.6.7"
  },
  "toc": {
   "base_numbering": 1,
   "nav_menu": {},
   "number_sections": true,
   "sideBar": true,
   "skip_h1_title": false,
   "title_cell": "Table of Contents",
   "title_sidebar": "Contents",
   "toc_cell": false,
   "toc_position": {},
   "toc_section_display": true,
   "toc_window_display": false
  },
  "varInspector": {
   "cols": {
    "lenName": 16,
    "lenType": 16,
    "lenVar": 40
   },
   "kernels_config": {
    "python": {
     "delete_cmd_postfix": "",
     "delete_cmd_prefix": "del ",
     "library": "var_list.py",
     "varRefreshCmd": "print(var_dic_list())"
    },
    "r": {
     "delete_cmd_postfix": ") ",
     "delete_cmd_prefix": "rm(",
     "library": "var_list.r",
     "varRefreshCmd": "cat(var_dic_list()) "
    }
   },
   "types_to_exclude": [
    "module",
    "function",
    "builtin_function_or_method",
    "instance",
    "_Feature"
   ],
   "window_display": false
  }
 },
 "nbformat": 4,
 "nbformat_minor": 2
}
