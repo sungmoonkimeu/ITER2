{
 "cells": [
  {
   "cell_type": "markdown",
   "metadata": {},
   "source": [
    "# Operations on Jones_matrix_parameters class"
   ]
  },
  {
   "cell_type": "code",
   "execution_count": 11,
   "metadata": {},
   "outputs": [
    {
     "name": "stdout",
     "output_type": "stream",
     "text": [
      "The autoreload extension is already loaded. To reload it, use:\n",
      "  %reload_ext autoreload\n",
      "The line_profiler extension is already loaded. To reload it, use:\n",
      "  %reload_ext line_profiler\n",
      "{'commit_hash': '523ed2fe5',\n",
      " 'commit_source': 'installation',\n",
      " 'default_encoding': 'UTF-8',\n",
      " 'ipython_path': '/home/luismiguel/.local/lib/python3.6/site-packages/IPython',\n",
      " 'ipython_version': '7.2.0',\n",
      " 'os_name': 'posix',\n",
      " 'platform': 'Linux-4.15.0-43-generic-x86_64-with-Ubuntu-18.04-bionic',\n",
      " 'sys_executable': '/usr/bin/python3',\n",
      " 'sys_platform': 'linux',\n",
      " 'sys_version': '3.6.7 (default, Oct 22 2018, 11:32:17) \\n[GCC 8.2.0]'}\n"
     ]
    }
   ],
   "source": [
    "%run ../config_jupyter.ipynb"
   ]
  },
  {
   "cell_type": "code",
   "execution_count": 12,
   "metadata": {},
   "outputs": [],
   "source": [
    "from py_pol import degrees, np, um\n",
    "from py_pol.jones_matrix import Jones_matrix\n",
    "from py_pol.utils import rotation_matrix_Jones"
   ]
  },
  {
   "cell_type": "code",
   "execution_count": 21,
   "metadata": {},
   "outputs": [
    {
     "name": "stdout",
     "output_type": "stream",
     "text": [
      "retarder_linear - diattenuation: 0.000\n",
      "\n",
      "0.0\n",
      "retarder_linear - is_homogeneous: True\n",
      "\n",
      "True\n",
      "retarder_linear - delay: 90.000º\n",
      "\n",
      "1.5707963267948966\n"
     ]
    }
   ],
   "source": [
    "M1= Jones_matrix('retarder_linear')\n",
    "M1.retarder_linear(delay=90*degrees, angle=0)\n",
    "\n",
    "d=M1.parameters.diattenuation(verbose=True)\n",
    "print(d)\n",
    "\n",
    "is_hom=M1.parameters.is_homogeneous(verbose=True)\n",
    "print(is_hom)\n",
    "\n",
    "delay=M1.parameters.delay(verbose=True)\n",
    "print(d1)"
   ]
  },
  {
   "cell_type": "code",
   "execution_count": 22,
   "metadata": {},
   "outputs": [
    {
     "data": {
      "text/plain": [
       "{'delay': 1.5707963267948966, 'diattenuation': 0.0, 'is_homogeneous': True}"
      ]
     },
     "execution_count": 22,
     "metadata": {},
     "output_type": "execute_result"
    }
   ],
   "source": [
    "M1= Jones_matrix('retarder_linear')\n",
    "M1.retarder_linear(delay=90*degrees, angle=0)\n",
    "M1.parameters.get_all()\n",
    "M1.parameters.dict_params"
   ]
  },
  {
   "cell_type": "code",
   "execution_count": 23,
   "metadata": {},
   "outputs": [
    {
     "name": "stdout",
     "output_type": "stream",
     "text": [
      "M1 = \n",
      "      [+1, +0]\n",
      "      [+0, +1]\n",
      "\n",
      "parameters of M1:\n",
      "    is_homogeneous: True\n",
      "    delay:          0.000ª\n",
      "    diattenuation:  0.000\n",
      "\n"
     ]
    }
   ],
   "source": [
    "M1 = Jones_matrix('M1')\n",
    "M1.from_elements(1,0,0,1)\n",
    "M1.parameters.get_all()\n",
    "print(M1)\n",
    "print()\n",
    "print(M1.parameters)"
   ]
  },
  {
   "cell_type": "code",
   "execution_count": 16,
   "metadata": {},
   "outputs": [
    {
     "name": "stdout",
     "output_type": "stream",
     "text": [
      "M_linear = \n",
      "      [+1, +0]\n",
      "      [+0, +0]\n",
      "\n",
      "parameters of M_linear:\n",
      "    is_homogeneous: True\n",
      "    delay:          0.000ª\n",
      "    diattenuation:  1.000\n",
      "\n"
     ]
    }
   ],
   "source": [
    "M1 = Jones_matrix('M_linear')\n",
    "M1.diattenuator_perfect(angle=0*degrees)\n",
    "M1.parameters.get_all()\n",
    "print(M1)\n",
    "print()\n",
    "print(M1.parameters)"
   ]
  },
  {
   "cell_type": "code",
   "execution_count": 17,
   "metadata": {},
   "outputs": [
    {
     "name": "stdout",
     "output_type": "stream",
     "text": [
      "M_diattenuator_linear = \n",
      "      [+0.750, +0.000]\n",
      "      [+0.000, +0.250]\n",
      "\n",
      "parameters of M_diattenuator_linear:\n",
      "    is_homogeneous: True\n",
      "    delay:          0.000ª\n",
      "    diattenuation:  0.800\n",
      "\n"
     ]
    }
   ],
   "source": [
    "M1 = Jones_matrix('M_diattenuator_linear')\n",
    "M1.diattenuator_linear(p1=.75, p2=0.25, angle=0*degrees)\n",
    "M1.parameters.get_all()\n",
    "print(M1)\n",
    "print()\n",
    "print(M1.parameters)"
   ]
  },
  {
   "cell_type": "code",
   "execution_count": 18,
   "metadata": {},
   "outputs": [
    {
     "name": "stdout",
     "output_type": "stream",
     "text": [
      "retarder_linear = \n",
      "      [+1+0j, +0+0j]\n",
      "      [+0+0j, +0+1j]\n",
      "\n",
      "parameters of retarder_linear:\n",
      "    is_homogeneous: True\n",
      "    delay:          90.000ª\n",
      "    diattenuation:  0.000\n",
      "\n"
     ]
    }
   ],
   "source": [
    "M1= Jones_matrix('retarder_linear')\n",
    "M1.retarder_linear(delay=90*degrees, angle=0)\n",
    "M1.parameters.get_all()\n",
    "print(M1)\n",
    "print()\n",
    "print(M1.parameters)"
   ]
  },
  {
   "cell_type": "code",
   "execution_count": 19,
   "metadata": {},
   "outputs": [
    {
     "name": "stdout",
     "output_type": "stream",
     "text": [
      "M_diat = \n",
      "      [+1.000+0.000j, +0.000+0.000j]\n",
      "      [+0.000+0.000j, +0.000+0.500j]\n",
      "\n",
      "parameters of M_diat:\n",
      "    is_homogeneous: True\n",
      "    delay:          90.000ª\n",
      "    diattenuation:  0.600\n",
      "\n"
     ]
    }
   ],
   "source": [
    "M1 = Jones_matrix('M_diat')\n",
    "M1.diattenuator_retarder_linear(delay=90*degrees, p1=1, p2=.5, angle=0)\n",
    "M1.parameters.get_all()\n",
    "print(M1)\n",
    "print()\n",
    "print(M1.parameters)"
   ]
  },
  {
   "cell_type": "code",
   "execution_count": 20,
   "metadata": {},
   "outputs": [
    {
     "name": "stdout",
     "output_type": "stream",
     "text": [
      "diat_az_el = \n",
      "      [+0.500, +0.250]\n",
      "      [+0.250, +0.500]\n",
      "\n",
      "parameters of diat_az_el:\n",
      "    is_homogeneous: True\n",
      "    delay:          0.000ª\n",
      "    diattenuation:  0.800\n",
      "\n"
     ]
    }
   ],
   "source": [
    "M1 = Jones_matrix('diat_az_el')\n",
    "M1.diattenuator_azimuth_ellipticity(\n",
    "            p1=0.75, p2=0.25, azimuth=45 * degrees, ellipticity=90 * degrees, angle=0)\n",
    "M1.parameters.get_all()\n",
    "print(M1)\n",
    "print()\n",
    "print(M1.parameters)"
   ]
  }
 ],
 "metadata": {
  "kernelspec": {
   "display_name": "Python 3",
   "language": "python",
   "name": "python3"
  },
  "language_info": {
   "codemirror_mode": {
    "name": "ipython",
    "version": 3
   },
   "file_extension": ".py",
   "mimetype": "text/x-python",
   "name": "python",
   "nbconvert_exporter": "python",
   "pygments_lexer": "ipython3",
   "version": "3.6.7"
  }
 },
 "nbformat": 4,
 "nbformat_minor": 2
}
