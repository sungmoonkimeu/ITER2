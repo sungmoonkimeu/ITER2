{
 "cells": [
  {
   "cell_type": "markdown",
   "metadata": {},
   "source": [
    "# Example 4: Light polarimetry\n",
    "\n",
    "Light polarimetry consists on measuring the polarization information of a light wave, i.e., its Jones or Stokes vector.\n",
    "\n",
    "There are different ways of implementing a light polarimeter. In this example we will describe one of the common ones: a polarimeter composed of a rotating quarter-wave plate (a linear retarder with 90º retardance), a rotating perfect polarizer and a photodetector:\n",
    "\n",
    "<img src=\"Light_polarimeter.png\" width=495 height=320>"
   ]
  },
  {
   "cell_type": "code",
   "execution_count": 1,
   "metadata": {},
   "outputs": [],
   "source": [
    "import numpy as np\n",
    "from scipy.optimize import least_squares\n",
    "import matplotlib.pyplot as plt\n",
    "\n",
    "from py_pol import degrees\n",
    "from py_pol.jones_vector import Jones_vector\n",
    "from py_pol.jones_matrix import Jones_matrix, create_Jones_matrices\n",
    "from py_pol.stokes import Stokes, create_Stokes\n",
    "from py_pol.mueller import Mueller, create_Mueller"
   ]
  },
  {
   "cell_type": "markdown",
   "metadata": {},
   "source": [
    "## Jones formalism\n",
    "\n",
    "During the previous example, it was explained that a Jones vector can be described using a set of four parameters. There are several possibilities. We will use intensity, alpha, delay and global phase during this example:\n",
    "\n",
    "$E_i=\\left[\\begin{array}{c}\n",
    "\\sqrt{I}\\cos(\\alpha)e^{i\\varphi}\\\\\n",
    "\\sqrt{I}\\sin(\\alpha)e^{i\\left(\\varphi+\\delta\\right)}\n",
    "\\end{array}\\right]$.\n",
    "\n",
    "Jones formalism uses the electric field as its main variable. However, the detector we have chosen is an intensity detector. In principle, it is not possible to measure the global phase using an intensity detector, so first we will concentrate in measuring the other three:\n",
    "\n",
    "$E_i=\\left[\\begin{array}{c}\n",
    "\\sqrt{I}\\cos(\\alpha)\\\\\n",
    "\\sqrt{I}\\sin(\\alpha)e^{i\\delta}\n",
    "\\end{array}\\right]$.\n",
    "\n",
    "We can calculate analytically the parameters of the Jones vector if we choose certain angles for the retarder and the polarizer. For example, if we choose $\\theta_R = 0º, 0º and 45º$ and $\\theta_D = 0º, 90º and 0º$:\n",
    "\n",
    "1. $E_{f1}=\\left[\\begin{array}{cc}\n",
    "1 & 0\\\\\n",
    "0 & 0\n",
    "\\end{array}\\right]\\left[\\begin{array}{cc}\n",
    "1 & 0\\\\\n",
    "0 & i\n",
    "\\end{array}\\right]E_{i}\\qquad\\Rightarrow\\qquad I_{f1}=I\\cos(\\alpha)^2$.\n",
    "1. $E_{f2}=\\left[\\begin{array}{cc}\n",
    "0 & 0\\\\\n",
    "0 & 1\n",
    "\\end{array}\\right]\\left[\\begin{array}{cc}\n",
    "1 & 0\\\\\n",
    "0 & i\n",
    "\\end{array}\\right]E_{i}\\qquad\\Rightarrow\\qquad I_{f2}=I\\sin(\\alpha)^2$.\n",
    "1. $E_{f3}=\\left[\\begin{array}{cc}\n",
    "1 & 0\\\\\n",
    "0 & 0\n",
    "\\end{array}\\right]\\frac{1}{2}\\left[\\begin{array}{cc}\n",
    "\\sqrt{2} & -\\sqrt{2}i\\\\\n",
    "-\\sqrt{2}i & \\sqrt{2}\n",
    "\\end{array}\\right]E_{i}\\qquad\\Rightarrow\\qquad I_{f3}=\\frac{I}{2}\\left(1+\\sin(2\\alpha)\\sin(\\delta)\\right)$.\n",
    "\n",
    "From those three equations the Jones vector parameters can be calculated:\n",
    "\n",
    "1. $\\alpha=\\arctan\\left(\\sqrt{\\frac{I_{f2}}{I_{f1}}}\\right)$.\n",
    "1. $I=\\frac{I_{f2}}{\\sin(\\alpha)^{2}}$ if $I_{f1}=0$, $I=\\frac{I_{f1}}{\\cos(\\alpha)^{2}}$ if $I_{f1}\\neq0$\n",
    "1. $\\delta=\\arcsin\\left(\\frac{I-2I_{f3}}{I\\sin(2\\alpha)}\\right)$.\n",
    "\n",
    "Let's simulate the experiment. In order to do that, first we will define a function that simulates the intiensity measurements."
   ]
  },
  {
   "cell_type": "code",
   "execution_count": 2,
   "metadata": {},
   "outputs": [],
   "source": [
    "def light_polarimeter_measurement(E, angleR, angleD):\n",
    "    \"\"\"This function simulates the light polarimeter measurements.\n",
    "    \n",
    "    Parameters:\n",
    "        E: Incident light wave Jones vector.\n",
    "        angleR: Rotation angle of the quarter-wave plate.\n",
    "        angleD: Rotating angle of the diattenuator (polarizer).\n",
    "        \n",
    "    Returns:\n",
    "        I: Measured intensity.\"\"\"\n",
    "    # Rotate the optical elements\n",
    "    Jr_rotated = Jr.rotate(angle=angleR, keep=True)\n",
    "    Jd_rotated = Jd.rotate(angle=angleD, keep=True)\n",
    "    # Multiply all objects\n",
    "    E_final = Jd_rotated * Jr_rotated * E\n",
    "    # Measure the intensity\n",
    "    I = E_final.parameters.intensity()\n",
    "    # Return\n",
    "    return I"
   ]
  },
  {
   "cell_type": "markdown",
   "metadata": {},
   "source": [
    "We can simulate our polarimetry experiment now. We will use random values for the light wave to be sure that it works."
   ]
  },
  {
   "cell_type": "code",
   "execution_count": 3,
   "metadata": {},
   "outputs": [
    {
     "name": "stdout",
     "output_type": "stream",
     "text": [
      "0.7459013803836548 0.33355610783872647 0.25093942401018443\n",
      "Comparison\n",
      "  - Intensity:\n",
      "      o   Original:    [1.07945749]\n",
      "      o   Measured:    1.0794574882223813\n",
      "  - Alpha (deg):\n",
      "      o   Original:    [33.77140383]\n",
      "      o   Measured:    33.771403830664525\n",
      "  - Delay (deg):\n",
      "      o   Original:    [35.37812236]\n",
      "      o   Measured:    35.378122362347256\n"
     ]
    }
   ],
   "source": [
    "# Start by defining the light wave\n",
    "I_wave = np.random.rand(1) * 5\n",
    "alpha_wave = np.random.rand(1) * 90*degrees\n",
    "delay_wave = np.random.rand(1) * 180*degrees - 90*degrees # This is a random number between -90º and 90º\n",
    "E_wave = Jones_vector('Light wave')\n",
    "E_wave.general_charac_angles(intensity=I_wave, alpha=alpha_wave, delay=delay_wave)\n",
    "\n",
    "# Now, define the optical elements\n",
    "Jr, Jd = create_Jones_matrices(('Quarter-wave plate', 'Perfect polarizer'))\n",
    "Jr.quarter_waveplate(azimuth=0)\n",
    "Jd.diattenuator_perfect(azimuth=0)\n",
    "\n",
    "# Now, define the rotation angles for the optical elements\n",
    "angles_R = np.array([0*degrees, 0*degrees, 45*degrees])\n",
    "angles_D = np.array([0*degrees, 90*degrees, 0*degrees])\n",
    "\n",
    "# Make the measurements\n",
    "If1, If2, If3 = light_polarimeter_measurement(E_wave, angles_R, angles_D)\n",
    "print(If1, If2, If3)\n",
    "\n",
    "# Calculate the parameters\n",
    "alpha_calc = np.arctan(np.sqrt(If2/If1))\n",
    "I_calc = If1 / np.cos(alpha_calc)**2\n",
    "delay_calc = np.arcsin((I_calc-2*If3)/(I_calc*np.sin(2*alpha_calc)))\n",
    "\n",
    "# Compare the result\n",
    "print('Comparison')\n",
    "print('  - Intensity:')\n",
    "print('      o   Original:   ', I_wave)\n",
    "print('      o   Measured:   ', I_calc)\n",
    "print('  - Alpha (deg):')\n",
    "print('      o   Original:   ', alpha_wave/degrees)\n",
    "print('      o   Measured:   ', alpha_calc/degrees)\n",
    "print('  - Delay (deg):')\n",
    "print('      o   Original:   ', delay_wave/degrees)\n",
    "print('      o   Measured:   ', delay_calc/degrees)"
   ]
  },
  {
   "cell_type": "markdown",
   "metadata": {},
   "source": [
    "This result is correct. However, the reader might have noticed that the delay used for the light wave is a random number between -90º and 90º, while it should go between 0º and 360º. We chose a different interval due to the fact that the angles we choose do not allow to discriminate between $\\;\\delta\\;\\in\\;(0º, 90º)$ and $\\;\\delta\\;\\in\\;(90º, 180º)$, or between $\\;\\delta\\;\\in\\;(270º, 360º)=(-90º, 0º)$ and $\\;\\delta\\;\\in\\;(180º, 270º)$. Some other angles can be found that allows determining the delay in its full range of possibilities, but the resolution is more complicated.\n",
    "\n",
    "There is a different way of calculating the parameters of the Jones vector. We could use a fitting algorithm in order to find those values. However, finding three parameters using just three measurements is very inaccurate, as the optimization algorithm probably will find a sub-optimal solution. For that reason, more measurements will be used.\n",
    "\n",
    "Now, we need the function that calculates the difference between the measured values and ones which come from a model using the three parameters that we are going to use to define the Jones vector of the light wave. This function is what the fitting algorithm will minimize."
   ]
  },
  {
   "cell_type": "code",
   "execution_count": 4,
   "metadata": {},
   "outputs": [],
   "source": [
    "def intensity_difference(parameters):    \n",
    "    \"\"\"This function calculates the difference between the measurements and the model.\n",
    "    \n",
    "    Parameters:\n",
    "        parameters: List containing the intensity, the alpha and the delay.\n",
    "        \n",
    "    Returns:\n",
    "        dI: Intensity difference.\"\"\"\n",
    "    # Measure the intensity\n",
    "    I_meas = light_polarimeter_measurement(E_wave, angles_R, angles_D)\n",
    "    # Calculate the intensity from the model\n",
    "    E_model = Jones_vector('Test wave')\n",
    "    E_model.general_charac_angles(intensity=parameters[0], alpha=parameters[1], delay=parameters[2])\n",
    "    I_model = light_polarimeter_measurement(E_model, angles_R, angles_D)\n",
    "    # Calculate the difference and return it\n",
    "    dI = I_meas - I_model\n",
    "    return dI"
   ]
  },
  {
   "cell_type": "markdown",
   "metadata": {},
   "source": [
    "Using this function, we can proceed to simulate this new experiment. We will define a function that does it so it is easy to repeat it varying the number of measurements."
   ]
  },
  {
   "cell_type": "code",
   "execution_count": 5,
   "metadata": {},
   "outputs": [],
   "source": [
    "def polarimetry_fit(fun, N, tol=None, verbose=True):\n",
    "    \"\"\"Function that calculates the parameters of the Jones vector using N measurements and a fitting algorithm.\n",
    "    \n",
    "    Parameters:\n",
    "        N (int): Number of measurements.\n",
    "        tol (float): Tolerance of the fitting algorithm.\n",
    "        verbose (bool): If True, the function prints the comparison between real and fit variables.\n",
    "        \n",
    "    Returns.\n",
    "        x (list): List containing the fit parameters.\"\"\"\n",
    "    # Prepare the fitting\n",
    "    sup_limit = np.array([5, 90*degrees, 360*degrees])\n",
    "    inf_limit = np.zeros(3)\n",
    "    x0 = np.random.rand(3) * sup_limit\n",
    "    # Make the fitting\n",
    "    result = least_squares(fun=fun, x0=x0, bounds=(inf_limit, sup_limit), ftol=tol, xtol=tol, gtol=tol)\n",
    "\n",
    "    # Compare the result\n",
    "    if verbose:\n",
    "        print('Comparison')\n",
    "        print('  - Intensity:')\n",
    "        print('      o   Original:   ', I_wave)\n",
    "        print('      o   Measured:   ', result.x[0])\n",
    "        print('  - Alpha (deg):')\n",
    "        print('      o   Original:   ', alpha_wave/degrees)\n",
    "        print('      o   Measured:   ', result.x[1]/degrees)\n",
    "        print('  - Delay (deg):')\n",
    "        print('      o   Original:   ', delay_wave/degrees)\n",
    "        print('      o   Measured:   ', result.x[2]/degrees)\n",
    "    \n",
    "    # Return\n",
    "    return result.x"
   ]
  },
  {
   "cell_type": "markdown",
   "metadata": {},
   "source": [
    "Do the experiment. We can define the delay in its full 360º now."
   ]
  },
  {
   "cell_type": "code",
   "execution_count": 6,
   "metadata": {},
   "outputs": [
    {
     "name": "stdout",
     "output_type": "stream",
     "text": [
      "Comparison\n",
      "  - Intensity:\n",
      "      o   Original:    [3.00925605]\n",
      "      o   Measured:    3.0092560512790096\n",
      "  - Alpha (deg):\n",
      "      o   Original:    [35.89859408]\n",
      "      o   Measured:    35.898594083917956\n",
      "  - Delay (deg):\n",
      "      o   Original:    [153.35924806]\n",
      "      o   Measured:    153.3592480555647\n"
     ]
    }
   ],
   "source": [
    "# Start by defining the light wave\n",
    "I_wave = np.random.rand(1) * 5\n",
    "alpha_wave = np.random.rand(1) * 90*degrees\n",
    "delay_wave = np.random.rand(1) * 360*degrees\n",
    "E_wave = Jones_vector('Light wave')\n",
    "E_wave.general_charac_angles(intensity=I_wave, alpha=alpha_wave, delay=delay_wave)\n",
    "\n",
    "# Make the experiment\n",
    "N = 20\n",
    "tol = 1e-12\n",
    "polarimetry_fit(fun=intensity_difference, N=N, tol=tol);"
   ]
  },
  {
   "cell_type": "markdown",
   "metadata": {},
   "source": [
    "The used parameters usually work, however, the algorithm sometimes finds a sub-optimal solution where $\\delta + \\delta_{fit} = N\\;\\pi$.\n",
    "\n",
    "## Mueller-Stokes formalism\n",
    "\n",
    "Using a Stokes vector to describe the light wave means that we have four independent parameters to characterize the light wave. As none of them is the global phase (which is not considered in Stokes formalism), at least 4 measurements are needed. Mueller formalism main variable is light intensity, which is what the detector measures. This allows calculating much easier the Stokes vector of the light wave.\n",
    "\n",
    "The k-th measurement of the light polarimeter experiment is:\n",
    "\n",
    "$S_{f}^{k}=\\left[\\begin{array}{cccc}\n",
    "A_{00}^{k} & A_{01}^{k} & A_{02}^{k} & A_{03}^{k}\\\\\n",
    "\\bullet & \\bullet & \\bullet & \\bullet\\\\\n",
    "\\bullet & \\bullet & \\bullet & \\bullet\\\\\n",
    "\\bullet & \\bullet & \\bullet & \\bullet\n",
    "\\end{array}\\right]S_{i}=\\left[\\begin{array}{c}\n",
    "I^{k}\\\\\n",
    "\\bullet\\\\\n",
    "\\bullet\\\\\n",
    "\\bullet\n",
    "\\end{array}\\right]$.\n",
    "\n",
    "Being $A^{k}=M_D(\\theta_D^{k})*M_R(\\theta_R^{k})$ the Mueller matrix of the analyzer. Due to the fact that the detector only measures the intensity, only some parts of the Mueller matrices and Stokes vectors are important (the rest of the parameters are replaced by $\\bullet$). Then, if we consider the four required measurements:\n",
    "\n",
    "$\\left[\\begin{array}{cccc}\n",
    "A_{00}^{0} & A_{01}^{0} & A_{02}^{0} & A_{03}^{0}\\\\\n",
    "A_{00}^{1} & A_{01}^{1} & A_{02}^{1} & A_{03}^{1}\\\\\n",
    "A_{00}^{2} & A_{01}^{2} & A_{02}^{2} & A_{03}^{2}\\\\\n",
    "A_{00}^{3} & A_{01}^{3} & A_{02}^{3} & A_{03}^{3}\n",
    "\\end{array}\\right]S_{i}=\\left[\\begin{array}{c}\n",
    "I^{0}\\\\\n",
    "I^{1}\\\\\n",
    "I^{2}\\\\\n",
    "I^{3}\n",
    "\\end{array}\\right]$.\n",
    "\n",
    "$A'S_i=I'$.\n",
    "\n",
    "If $A'$ is invertible ($\\det(A')\\neq0$) then $S_i$ can be easily calculated as $S_i=A'^{-1}I'$. This condition is satisfied if the pair of angles used for the diattenuator and the retarder are not repeated.\n",
    "\n",
    "Let us reproduce this numerically. Let us define a new experiment function similar to the one used in Jones formalism, but which include the calculation of the Ak matrix. Also, we will include an error amplitude which we will use in the future."
   ]
  },
  {
   "cell_type": "code",
   "execution_count": 29,
   "metadata": {},
   "outputs": [],
   "source": [
    "def light_polarimeter_measurement_Mueller(S, angleR, angleD, Ierror=0):\n",
    "    \"\"\"This function simulates the light polarimeter measurements.\n",
    "    \n",
    "    Parameters:\n",
    "        S: Incident light wave Stokes vector.\n",
    "        angleR: Rotation angle of the quarter-wave plate.\n",
    "        angleD: Rotating angle of the diattenuator (polarizer).\n",
    "        \n",
    "    Returns:\n",
    "        Ik: Measured intensities vector.\n",
    "        Ak: Matrix with the first rows of the analizer matrices.\"\"\"\n",
    "    N = angleR.size\n",
    "    # Rotate the optical elements\n",
    "    Mr_rotated = Mr.rotate(angle=angleR, keep=True)\n",
    "    Md_rotated = Md.rotate(angle=angleD, keep=True)\n",
    "    A = Md_rotated * Mr_rotated\n",
    "    # Multiply all objects\n",
    "    S_final = A * S\n",
    "    # Measure the intensity\n",
    "    Ik = S_final.parameters.intensity() + np.random.randn(N) * Ierror\n",
    "    # Calculate the Ak matrix\n",
    "    Ak = A.parameters.matrix()   # Extract the 4x4xN matrix of the py_pol object\n",
    "    Ak = Ak[0,:,:]   # Extract all the first rows\n",
    "    Ak = np.transpose(Ak)   # Transpose so each row of the final matrix corresponds to a first row of the analizer matrices\n",
    "    # Return\n",
    "    return Ik, Ak"
   ]
  },
  {
   "cell_type": "code",
   "execution_count": 30,
   "metadata": {},
   "outputs": [
    {
     "name": "stdout",
     "output_type": "stream",
     "text": [
      "Original = \n",
      "[+1.581]   \n",
      "[-1.238]   \n",
      "[-0.333]   \n",
      "[-0.143]   \n",
      " Calculated = \n",
      "[+1.581]   \n",
      "[-1.238]   \n",
      "[-0.333]   \n",
      "[-0.143]   \n",
      "\n"
     ]
    }
   ],
   "source": [
    "# Start by defining the light wave\n",
    "I_wave = np.random.rand(1) * 5\n",
    "alpha_wave = np.random.rand(1) * 90*degrees\n",
    "delay_wave = np.random.rand(1) * 360*degrees\n",
    "degree_pol = np.random.rand(1)\n",
    "S_wave = Stokes('Original')\n",
    "S_wave.general_charac_angles(intensity=I_wave, alpha=alpha_wave, delay=delay_wave, degree_pol=degree_pol)\n",
    "\n",
    "# Now, define the optical elements\n",
    "Mr, Md = create_Mueller(('Quarter-wave plate', 'Perfect polarizer'))\n",
    "Mr.quarter_waveplate(azimuth=0)\n",
    "Md.diattenuator_perfect(azimuth=0)\n",
    "\n",
    "# Now, define the rotation angles for the optical elements\n",
    "angles_R = np.random.rand(4) * 180*degrees\n",
    "angles_D = np.random.rand(4) * 180*degrees\n",
    "\n",
    "# Make the measurements\n",
    "Ik, Ak = light_polarimeter_measurement_Mueller(S_wave, angles_R, angles_D)\n",
    "\n",
    "# Calculate the original Stokes vector\n",
    "Ak_inv = np.linalg.inv(Ak)\n",
    "Ik = np.reshape(Ik, (4,1))\n",
    "S_calc = Stokes('Calculated')\n",
    "S_calc.from_matrix(M=Ak_inv@Ik)\n",
    "\n",
    "# Compare the result\n",
    "print(S_wave, S_calc)"
   ]
  },
  {
   "cell_type": "markdown",
   "metadata": {},
   "source": [
    "Experiments are subject to errors. This means that the calculated Stokes vector will be wrong. However, the error in the calculated Stokes vector can be reduced by oversampling, i.e., taking more than the minimum 4 measurements. In this case, $A'$ will be a Nx4 matrix and $I'$ a Nx1 vector. Then, $S_i$ can be calculated using the pseudo-inverse of $A'$: \n",
    "\n",
    "$A^+=(A^T*A)^{-1}*A^T$.\n",
    "\n",
    "Let us define a function that performs one polarimetry experiment."
   ]
  },
  {
   "cell_type": "code",
   "execution_count": 52,
   "metadata": {},
   "outputs": [],
   "source": [
    "def light_polariemter_experiment(N, Ierror):\n",
    "    \"\"\"This funcion simulates a polarimetry experiment with errors in the detection.\n",
    "    \n",
    "    Parameters:\n",
    "        N (int): Number of measurements.\n",
    "        Ierror (float): Intensity error amplitude.\n",
    "        \n",
    "    Returns:\n",
    "        dif (numpy.ndarray): Difference between the calculated and the original array.\"\"\"\n",
    "    # Start by defining the light wave\n",
    "    alpha_wave = np.random.rand(1) * 90*degrees\n",
    "    delay_wave = np.random.rand(1) * 360*degrees\n",
    "    degree_pol = np.random.rand(1)\n",
    "    S_wave = Stokes('Original')\n",
    "    S_wave.general_charac_angles(intensity=I_wave, alpha=alpha_wave, delay=delay_wave, degree_pol=degree_pol)\n",
    "\n",
    "    # Now, define the rotation angles for the optical elements\n",
    "    angles_R = np.random.rand(N) * 180*degrees\n",
    "    angles_D = np.random.rand(N) * 180*degrees\n",
    "\n",
    "    # Make the measurements\n",
    "    Ik, Ak = light_polarimeter_measurement_Mueller(S_wave, angles_R, angles_D, Ierror=Ierror)\n",
    "\n",
    "    # Calculate the Stokes vector\n",
    "    Ak_T = np.transpose(Ak)\n",
    "    Ak_inv = np.linalg.inv(Ak_T @ Ak)\n",
    "    Ak_inv = Ak_inv @ Ak_T\n",
    "    Ik = np.reshape(Ik, (N,1))\n",
    "    S_calc = Ak_inv @ Ik\n",
    "    \n",
    "    # Calculate the difference\n",
    "    dif = np.squeeze(S_wave.M - S_calc)\n",
    "\n",
    "    # Return\n",
    "    return dif"
   ]
  },
  {
   "cell_type": "markdown",
   "metadata": {},
   "source": [
    "Now, lets do the experiment many times, changing the number of measurements and the error amplitude. "
   ]
  },
  {
   "cell_type": "code",
   "execution_count": 56,
   "metadata": {},
   "outputs": [],
   "source": [
    "# Define some variables\n",
    "Nstat = 100      # Number of experiments done under the same condition.\n",
    "factors = np.array([0, 0.005, 0.01, 0.02])    # Array of error factors\n",
    "Ns = np.arange(10, 100, 10)    # Array of the number of measurements\n",
    "tol = 1e-12\n",
    "I_wave = 1    # We will maintain this parameter constant so we can compare the errors easily\n",
    "\n",
    "# Create the result variables\n",
    "error = np.zeros((4, Ns.size, factors.size))\n",
    "legend = []\n",
    "\n",
    "# Make the loops changing the variables\n",
    "for indI, factor in enumerate(factors):   # Loop in the error amplitude\n",
    "    for indN, N in enumerate(Ns):   # Loop in the number of measurements\n",
    "        # Create the temporal variables\n",
    "        aux = np.zeros((4, Nstat))\n",
    "        # Repeat the same conditions several times\n",
    "        for indS in range(Nstat):\n",
    "            # Do the experiment\n",
    "            dif = light_polariemter_experiment(N=N, Ierror=I_wave*factor);\n",
    "            # Calculate the errors\n",
    "            aux[:,indS] = dif\n",
    "        # Calculate the mean square error\n",
    "        error[:, indN, indI] = np.linalg.norm(aux, axis=1) / Nstat\n",
    "    # Create the legend for the plots\n",
    "    legend += ['Ierror = {} %'.format(factor*100)]"
   ]
  },
  {
   "cell_type": "code",
   "execution_count": 57,
   "metadata": {},
   "outputs": [
    {
     "data": {
      "text/plain": [
       "Text(0, 0.5, 'S3')"
      ]
     },
     "execution_count": 57,
     "metadata": {},
     "output_type": "execute_result"
    },
    {
     "data": {
      "image/png": "[encoded data removed]",
      "text/plain": [
       "<Figure size 864x864 with 4 Axes>"
      ]
     },
     "metadata": {
      "needs_background": "light"
     },
     "output_type": "display_data"
    }
   ],
   "source": [
    "# Plot the results\n",
    "plt.figure(figsize=(12,12))\n",
    "plt.subplot(2,2,1)\n",
    "plt.plot(Ns, error[0,:,:])\n",
    "plt.legend(legend)\n",
    "plt.xlabel('Number of measurements')\n",
    "plt.ylabel('S0')\n",
    "\n",
    "plt.subplot(2,2,2)\n",
    "plt.plot(Ns, error[1,:,:])\n",
    "plt.legend(legend)\n",
    "plt.xlabel('Number of measurements')\n",
    "plt.ylabel('S1')\n",
    "\n",
    "plt.subplot(2,2,3)\n",
    "plt.plot(Ns, error[2,:,:])\n",
    "plt.legend(legend)\n",
    "plt.xlabel('Number of measurements')\n",
    "plt.ylabel('S2')\n",
    "\n",
    "plt.subplot(2,2,4)\n",
    "plt.plot(Ns, error[3,:,:])\n",
    "plt.legend(legend)\n",
    "plt.xlabel('Number of measurements')\n",
    "plt.ylabel('S3')"
   ]
  },
  {
   "cell_type": "markdown",
   "metadata": {},
   "source": [
    "These plots show that the error in the determination of the Stokes vectors is proportional to the initial error amplitude, and can be decreased increasing the number of measurements."
   ]
  }
 ],
 "metadata": {
  "kernelspec": {
   "display_name": "Python 3",
   "language": "python",
   "name": "python3"
  },
  "language_info": {
   "codemirror_mode": {
    "name": "ipython",
    "version": 3
   },
   "file_extension": ".py",
   "mimetype": "text/x-python",
   "name": "python",
   "nbconvert_exporter": "python",
   "pygments_lexer": "ipython3",
   "version": "3.7.1"
  }
 },
 "nbformat": 4,
 "nbformat_minor": 2
}
