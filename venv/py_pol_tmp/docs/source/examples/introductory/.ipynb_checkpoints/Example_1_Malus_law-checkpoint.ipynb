{
 "cells": [
  {
   "cell_type": "markdown",
   "metadata": {},
   "source": [
    "# Example 1: Malus law\n",
    "\n",
    "In this example, we analyze, from a computational point of view the Malus law (https://en.wikipedia.org/wiki/Polarizer) for Jones and Stokes-Mueller formalisms. We will also analyze the cases of perfect and imperfect polarizers.\n",
    "\n",
    "A polarizer is an ideal optical device that allows light to be transmitted without loss when the electric field vector is parallel to the polarizer transmission axis, and blocks it when perpendicular to the transmission axis (i.e., parallel to the extinction axis). In the case of two ideal polarizers, and a circularly polariced incident light wave, the light intensity that passes through them depends on the angle between their transmission axes: \n",
    "\n",
    "$I(\\theta) = \\frac{I_{0}}{2} * cos(\\theta_1 - \\theta_0)^2$.\n",
    "\n",
    "Being $I_0$ the intensity of the incident wave and $\\theta_i$ the azimuth of the i-th polarizer.\n",
    "\n",
    "The case of imperfect polarizers is slightly different. They block part of the light that passes through them when the electric field is parallel to their transmission axis. This is described by their electric field maximum transmission ($p_1$) or their intensity maximum transmission ($T_{max} = p_1^2$). Also, those polarizers don't block all of the light that passes through them when the electric field is parallel to the extinction axis. This is described by their electric field minimum transmission ($p_2$) or their intensity minimum transmission ($T_{min} = p_2^2$). In that case, the equation of the Malus law gets a little more complicated:\n",
    "\n",
    "$I(\\theta) = \\frac{I_{0}}{2} * [T_{min} + (T_{max} - T_{min}) * cos(\\theta_1 - \\theta_0)^2]$.\n",
    "\n",
    "## Jones formalism\n",
    "\n",
    "Let us start by Jones formalism. Jones formalism is easier to visualize and understand.\n",
    "\n",
    "### Perfect polarizers\n",
    "\n",
    "This is the easiest case. Start by importing all the required modules and classes."
   ]
  },
  {
   "cell_type": "code",
   "execution_count": 5,
   "metadata": {},
   "outputs": [],
   "source": [
    "import numpy as np\n",
    "\n",
    "from py_pol import degrees\n",
    "from py_pol.jones_vector import Jones_vector\n",
    "from py_pol.jones_matrix import Jones_matrix"
   ]
  },
  {
   "cell_type": "markdown",
   "metadata": {},
   "source": [
    "It is usual to work with circular polarization for the incident wave as, in that case, the intensity that passes through the first polarizer is independent of the azimuth of the polarizer."
   ]
  },
  {
   "cell_type": "code",
   "execution_count": 6,
   "metadata": {},
   "outputs": [
    {
     "name": "stdout",
     "output_type": "stream",
     "text": [
      "Incident wave = \n",
      "[+0.707+0.000j]   \n",
      "[+0.000+0.707j]   \n",
      "\n"
     ]
    }
   ],
   "source": [
    "# Incident wave\n",
    "E0 = Jones_vector('Incident wave')\n",
    "E0.circular_light(intensity=1)\n",
    "print(E0)"
   ]
  },
  {
   "cell_type": "markdown",
   "metadata": {},
   "source": [
    "Now, let us define the first ideal polarizer, with the azimuth of the transmission axis at 50º, and a second polarizer with angles between 0º and 360º."
   ]
  },
  {
   "cell_type": "code",
   "execution_count": 21,
   "metadata": {},
   "outputs": [],
   "source": [
    "# First polarizer\n",
    "P0 = Jones_matrix('Polarizer 0')\n",
    "P0.diattenuator_perfect(azimuth=50 * degrees)\n",
    "\n",
    "# Second polarizer\n",
    "P1 = Jones_matrix('Polarizer 0')\n",
    "angles = np.linspace(0, 360*degrees, 361) # Steps of 1 degree\n",
    "P1.diattenuator_perfect(azimuth=angles);"
   ]
  },
  {
   "cell_type": "markdown",
   "metadata": {},
   "source": [
    "The resulting electric field is calculated by multiplying the original field $E_0$ by the two polarizers, first $P_0$ and then $P_1$. In polarization, the first optical element to be passed through must be at the right position:"
   ]
  },
  {
   "cell_type": "code",
   "execution_count": 22,
   "metadata": {},
   "outputs": [],
   "source": [
    "E_final = P1 * P0 * E0\n",
    "E_final.name = 'Output wave'"
   ]
  },
  {
   "cell_type": "markdown",
   "metadata": {},
   "source": [
    "Now, let us plot the intensity in terms of the angle. All the methods in the *parameters* class allow doing it setting the draw argument to True."
   ]
  },
  {
   "cell_type": "code",
   "execution_count": 23,
   "metadata": {},
   "outputs": [
    {
     "name": "stdout",
     "output_type": "stream",
     "text": [
      "The intensity of Output wave is (a.u.):\n",
      "The mean value is 0.2498797450293165 +- 0.1765464271966945\n"
     ]
    },
    {
     "data": {
      "image/png": "[encoded data removed]",
      "text/plain": [
       "<Figure size 360x360 with 1 Axes>"
      ]
     },
     "metadata": {
      "needs_background": "light"
     },
     "output_type": "display_data"
    },
    {
     "name": "stdout",
     "output_type": "stream",
     "text": [
      "\n"
     ]
    }
   ],
   "source": [
    "I_perfect = E_final.parameters.intensity(draw=True)"
   ]
  },
  {
   "cell_type": "markdown",
   "metadata": {},
   "source": [
    "The maximum of intensity is achieved when the transmission angles of $P_0$ and $P_1$ are parallel: when the azimuth of $P_1$ = 50º and 230º.\n",
    "\n",
    "### Imperfect polarizers\n",
    "\n",
    "Imperfect polarizers can be considered a good model for most real polarizers. Again, start by importing the required modules and classes."
   ]
  },
  {
   "cell_type": "code",
   "execution_count": 10,
   "metadata": {},
   "outputs": [],
   "source": [
    "import numpy as np\n",
    "\n",
    "from py_pol import degrees\n",
    "from py_pol.jones_vector import Jones_vector\n",
    "from py_pol.jones_matrix import Jones_matrix"
   ]
  },
  {
   "cell_type": "markdown",
   "metadata": {},
   "source": [
    "It is usual to work with circular polarization for the incident wave as, in that case, the intensity that passes through the first polarizer is independent of the azimuth of the polarizer."
   ]
  },
  {
   "cell_type": "code",
   "execution_count": 11,
   "metadata": {},
   "outputs": [
    {
     "name": "stdout",
     "output_type": "stream",
     "text": [
      "Incident wave = \n",
      "[+0.707+0.000j]   \n",
      "[+0.000+0.707j]   \n",
      "\n"
     ]
    }
   ],
   "source": [
    "# Incident wave\n",
    "E0 = Jones_vector('Incident wave')\n",
    "E0.circular_light(intensity=1)\n",
    "print(E0)"
   ]
  },
  {
   "cell_type": "markdown",
   "metadata": {},
   "source": [
    "The ideal polarizers described by their transmissions and azimuth are called linear polarizers (the states of maximum and minimum transmission are linear polarization states). Let us define the first linear polarizer, with the azimuth of the transmission axis at 50º, and a second polarizer with angles between 0º and 360º. We will use some transmission values far from the ideal behavior."
   ]
  },
  {
   "cell_type": "code",
   "execution_count": 26,
   "metadata": {},
   "outputs": [],
   "source": [
    "# First polarizer\n",
    "P0 = Jones_matrix('Polarizer 0')\n",
    "P0.diattenuator_linear(Tmax=0.8, Tmin=0.2, azimuth=50 * degrees)\n",
    "\n",
    "# Second polarizer\n",
    "P1 = Jones_matrix('Polarizer 0')\n",
    "angles = np.linspace(0, 360*degrees, 361) # Steps of 1 degree\n",
    "P1.diattenuator_linear(Tmax=0.8, Tmin=0.2, azimuth=angles);"
   ]
  },
  {
   "cell_type": "markdown",
   "metadata": {},
   "source": [
    "The resulting electric field is calculated by multiplying the original field $E_0$ by the two polarizers, first $P_0$ and then $P_1$. In polarization, the first optical element to be passed through must be at the right position:"
   ]
  },
  {
   "cell_type": "code",
   "execution_count": 27,
   "metadata": {},
   "outputs": [],
   "source": [
    "E_final = P1 * P0 * E0\n",
    "E_final.name = 'Output wave'"
   ]
  },
  {
   "cell_type": "markdown",
   "metadata": {},
   "source": [
    "Now, let us plot the intensity in terms of the angle. All the methods in the *parameters* class allow doing it setting the draw argument to True."
   ]
  },
  {
   "cell_type": "code",
   "execution_count": 28,
   "metadata": {},
   "outputs": [
    {
     "name": "stdout",
     "output_type": "stream",
     "text": [
      "The intensity of Output wave is (a.u.):\n",
      "The mean value is 0.2499567082105539 +- 0.06355671379081002\n"
     ]
    },
    {
     "data": {
      "image/png": "[encoded data removed]",
      "text/plain": [
       "<Figure size 360x360 with 1 Axes>"
      ]
     },
     "metadata": {
      "needs_background": "light"
     },
     "output_type": "display_data"
    },
    {
     "name": "stdout",
     "output_type": "stream",
     "text": [
      "\n"
     ]
    }
   ],
   "source": [
    "I_imperfect = E_final.parameters.intensity(draw=True)"
   ]
  },
  {
   "cell_type": "markdown",
   "metadata": {},
   "source": [
    "The maximum of intensity is achieved when the transmission angles of $P_0$ and $P_1$ are parallel: when the azimuth of $P_1$ = 50º and 230º. However, this case differs from the case of perfect polarizers as the maximum achieved intensity is smaller and the minimum intensity is higher.\n",
    "\n",
    "## Mueller-Stokes formalism\n",
    "\n",
    "Mueller-Stokes formalism is more complicated than Jones formalism, but allows working with partial polarization states. This example uses completely polarized light, but it is a good example to start using *Mueller* and *Stokes* classes.\n",
    "\n",
    "### Perfect polarizers\n",
    "\n",
    "This is the easiest case. Start by importing all the required modules and classes."
   ]
  },
  {
   "cell_type": "code",
   "execution_count": 2,
   "metadata": {},
   "outputs": [],
   "source": [
    "import numpy as np\n",
    "\n",
    "from py_pol import degrees\n",
    "from py_pol.stokes import Stokes\n",
    "from py_pol.mueller import Mueller"
   ]
  },
  {
   "cell_type": "markdown",
   "metadata": {},
   "source": [
    "It is usual to work with circular polarization for the incident wave as, in that case, the intensity that passes through the first polarizer is independent of the azimuth of the polarizer."
   ]
  },
  {
   "cell_type": "code",
   "execution_count": 3,
   "metadata": {},
   "outputs": [
    {
     "name": "stdout",
     "output_type": "stream",
     "text": [
      "Incident wave = \n",
      "[+1.000]   \n",
      "[+0.000]   \n",
      "[+0.000]   \n",
      "[+1.000]   \n",
      "\n"
     ]
    }
   ],
   "source": [
    "# Incident wave\n",
    "S0 = Stokes('Incident wave')\n",
    "S0.circular_light(intensity=1)\n",
    "print(S0)"
   ]
  },
  {
   "cell_type": "markdown",
   "metadata": {},
   "source": [
    "Now, let us define the first ideal polarizer, with the azimuth of the transmission axis at 50º, and a second polarizer with angles between 0º and 360º."
   ]
  },
  {
   "cell_type": "code",
   "execution_count": 29,
   "metadata": {},
   "outputs": [],
   "source": [
    "# First polarizer\n",
    "P0 = Mueller('Polarizer 0')\n",
    "P0.diattenuator_perfect(azimuth=50 * degrees)\n",
    "\n",
    "# Second polarizer\n",
    "P1 = Mueller('Polarizer 0')\n",
    "angles = np.linspace(0, 360*degrees, 361) # Steps of 1 degree\n",
    "P1.diattenuator_perfect(azimuth=angles);"
   ]
  },
  {
   "cell_type": "markdown",
   "metadata": {},
   "source": [
    "The resulting Stokes vector is calculated by multiplying the original Stokes vector $S_0$ by the two polarizers, first $P_0$ and then $P_1$. In polarization, the first optical element to be passed through must be at the right position:"
   ]
  },
  {
   "cell_type": "code",
   "execution_count": 30,
   "metadata": {},
   "outputs": [
    {
     "name": "stderr",
     "output_type": "stream",
     "text": [
      "d:\\codigo_ucm\\py_pol\\py_pol\\stokes.py:806: RuntimeWarning: divide by zero encountered in true_divide\n",
      "  np.abs(ratio[2])**2 * S3**2) / S0\n"
     ]
    }
   ],
   "source": [
    "S_final = P1 * P0 * S0\n",
    "S_final.name = 'Output wave'"
   ]
  },
  {
   "cell_type": "markdown",
   "metadata": {},
   "source": [
    "Now, let us plot the intensity in terms of the angle. All the methods in the *parameters* class allow doing it setting the draw argument to True."
   ]
  },
  {
   "cell_type": "code",
   "execution_count": 31,
   "metadata": {},
   "outputs": [
    {
     "name": "stdout",
     "output_type": "stream",
     "text": [
      "The intensity of Output wave is (a.u.):\n",
      "The mean value is 0.24987974502931648 +- 0.17654642719669453\n"
     ]
    },
    {
     "data": {
      "image/png": "[encoded data removed]",
      "text/plain": [
       "<Figure size 360x360 with 1 Axes>"
      ]
     },
     "metadata": {
      "needs_background": "light"
     },
     "output_type": "display_data"
    },
    {
     "name": "stdout",
     "output_type": "stream",
     "text": [
      "\n"
     ]
    }
   ],
   "source": [
    "I_perfect = S_final.parameters.intensity(draw=True)"
   ]
  },
  {
   "cell_type": "markdown",
   "metadata": {},
   "source": [
    "The maximum of intensity is achieved when the transmission angles of $P_0$ and $P_1$ are parallel: when the azimuth of $P_1$ = 50º and 230º.\n",
    "\n",
    "### Imperfect polarizers\n",
    "\n",
    "Imperfect polarizers can be considered a good model for most real polarizers. Again, start by importing the required modules and classes."
   ]
  },
  {
   "cell_type": "code",
   "execution_count": 24,
   "metadata": {},
   "outputs": [],
   "source": [
    "import numpy as np\n",
    "\n",
    "from py_pol import degrees\n",
    "from py_pol.stokes import Stokes\n",
    "from py_pol.mueller import Mueller"
   ]
  },
  {
   "cell_type": "markdown",
   "metadata": {},
   "source": [
    "It is usual to work with circular polarization for the incident wave as, in that case, the intensity that passes through the first polarizer is independent of the azimuth of the polarizer."
   ]
  },
  {
   "cell_type": "code",
   "execution_count": 3,
   "metadata": {},
   "outputs": [
    {
     "name": "stdout",
     "output_type": "stream",
     "text": [
      "Incident wave = \n",
      "[+1.000]   \n",
      "[+0.000]   \n",
      "[+0.000]   \n",
      "[+1.000]   \n",
      "\n"
     ]
    }
   ],
   "source": [
    "# Incident wave\n",
    "S0 = Stokes('Incident wave')\n",
    "S0.circular_light(intensity=1)\n",
    "print(S0)"
   ]
  },
  {
   "cell_type": "markdown",
   "metadata": {},
   "source": [
    "The ideal polarizers described by their transmissions and azimuth are called linear polarizers (the states of maximum and minimum transmission are linear polarization states). Let us define the first linear polarizer, with the azimuth of the transmission axis at 50º, and a second polarizer with angles between 0º and 360º. We will use some transmission values far from the ideal behavior."
   ]
  },
  {
   "cell_type": "code",
   "execution_count": 32,
   "metadata": {},
   "outputs": [],
   "source": [
    "# First polarizer\n",
    "P0 = Mueller('Polarizer 0')\n",
    "P0.diattenuator_linear(Tmax=0.8, Tmin=0.2, azimuth=50 * degrees)\n",
    "\n",
    "# Second polarizer\n",
    "P1 = Mueller('Polarizer 0')\n",
    "angles = np.linspace(0, 360*degrees, 361) # Steps of 1 degree\n",
    "P1.diattenuator_linear(Tmax=0.8, Tmin=0.2, azimuth=angles);"
   ]
  },
  {
   "cell_type": "markdown",
   "metadata": {},
   "source": [
    "The resulting Stokes vector is calculated by multiplying the original Stokes vector $S_0$ by the two polarizers, first $P_0$ and then $P_1$. In polarization, the first optical element to be passed through must be at the right position:"
   ]
  },
  {
   "cell_type": "code",
   "execution_count": 33,
   "metadata": {},
   "outputs": [],
   "source": [
    "S_final = P1 * P0 * S0\n",
    "S_final.name = 'Output wave'"
   ]
  },
  {
   "cell_type": "markdown",
   "metadata": {},
   "source": [
    "Now, let us plot the intensity in terms of the angle. All the methods in the *parameters* class allow doing it setting the draw argument to True."
   ]
  },
  {
   "cell_type": "code",
   "execution_count": 34,
   "metadata": {},
   "outputs": [
    {
     "name": "stdout",
     "output_type": "stream",
     "text": [
      "The intensity of Output wave is (a.u.):\n",
      "The mean value is 0.24995670821055394 +- 0.06355671379081004\n"
     ]
    },
    {
     "data": {
      "image/png": "[encoded data removed]",
      "text/plain": [
       "<Figure size 360x360 with 1 Axes>"
      ]
     },
     "metadata": {
      "needs_background": "light"
     },
     "output_type": "display_data"
    },
    {
     "name": "stdout",
     "output_type": "stream",
     "text": [
      "\n"
     ]
    }
   ],
   "source": [
    "I_perfect = S_final.parameters.intensity(draw=True)"
   ]
  },
  {
   "cell_type": "markdown",
   "metadata": {},
   "source": [
    "The maximum of intensity is achieved when the transmission angles of $P_0$ and $P_1$ are parallel: when the azimuth of $P_1$ = 50º and 230º. However, this case differs from the case of perfect polarizers as the maximum achieved intensity is smaller and the minimum intensity is higher."
   ]
  }
 ],
 "metadata": {
  "kernelspec": {
   "display_name": "Python 3",
   "language": "python",
   "name": "python3"
  },
  "language_info": {
   "codemirror_mode": {
    "name": "ipython",
    "version": 3
   },
   "file_extension": ".py",
   "mimetype": "text/x-python",
   "name": "python",
   "nbconvert_exporter": "python",
   "pygments_lexer": "ipython3",
   "version": "3.7.1"
  },
  "latex_envs": {
   "LaTeX_envs_menu_present": true,
   "autocomplete": true,
   "bibliofile": "biblio.bib",
   "cite_by": "apalike",
   "current_citInitial": 1,
   "eqLabelWithNumbers": true,
   "eqNumInitial": 1,
   "hotkeys": {
    "equation": "Ctrl-E",
    "itemize": "Ctrl-I"
   },
   "labels_anchors": false,
   "latex_user_defs": false,
   "report_style_numbering": true,
   "user_envs_cfg": true
  },
  "toc": {
   "base_numbering": 1,
   "nav_menu": {},
   "number_sections": true,
   "sideBar": true,
   "skip_h1_title": false,
   "title_cell": "Table of Contents",
   "title_sidebar": "Contents",
   "toc_cell": false,
   "toc_position": {},
   "toc_section_display": true,
   "toc_window_display": false
  },
  "varInspector": {
   "cols": {
    "lenName": 16,
    "lenType": 16,
    "lenVar": 40
   },
   "kernels_config": {
    "python": {
     "delete_cmd_postfix": "",
     "delete_cmd_prefix": "del ",
     "library": "var_list.py",
     "varRefreshCmd": "print(var_dic_list())"
    },
    "r": {
     "delete_cmd_postfix": ") ",
     "delete_cmd_prefix": "rm(",
     "library": "var_list.r",
     "varRefreshCmd": "cat(var_dic_list()) "
    }
   },
   "types_to_exclude": [
    "module",
    "function",
    "builtin_function_or_method",
    "instance",
    "_Feature"
   ],
   "window_display": true
  }
 },
 "nbformat": 4,
 "nbformat_minor": 2
}
