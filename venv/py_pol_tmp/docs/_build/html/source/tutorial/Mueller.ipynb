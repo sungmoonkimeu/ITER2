{
 "cells": [
  {
   "cell_type": "markdown",
   "metadata": {},
   "source": [
    "# Mueller class\n",
    "\n",
    "Mueller is a class that manages Mueller 4x4 polarization matrix. It allows the user to create and manipulate them. The difference between Mueller and Jones formalisms is that Mueller matrices can depolarize light, while Jones matrices can affect to the global phase of the electric field. However, Mueller objects store the global phase (if any) and use it when it is relevant.\n",
    "\n",
    "## Creating an instance\n",
    "\n",
    "An instance must be created before starting to operate with the Mueller matrix. The initialization accepts one argument: the name of the vector. This name will be used for printing:"
   ]
  },
  {
   "cell_type": "code",
   "execution_count": 1,
   "metadata": {},
   "outputs": [
    {
     "name": "stdout",
     "output_type": "stream",
     "text": [
      "Object 1 is empty\n",
      "\n"
     ]
    }
   ],
   "source": [
    "%load_ext autoreload\n",
    "%autoreload 2\n",
    "# TODO: Remove autoreload\n",
    "\n",
    "from py_pol.mueller import Mueller, create_Mueller, degrees\n",
    "from py_pol.stokes import Stokes\n",
    "import numpy as np\n",
    "\n",
    "M1 = Mueller(\"Object 1\")\n",
    "print(M1)"
   ]
  },
  {
   "cell_type": "markdown",
   "metadata": {},
   "source": [
    "Several Mueller objects can be created at the same time using the function *create_Mueller*."
   ]
  },
  {
   "cell_type": "code",
   "execution_count": 2,
   "metadata": {},
   "outputs": [
    {
     "name": "stdout",
     "output_type": "stream",
     "text": [
      "Object 2 is empty\n",
      " Object 3 is empty\n",
      "\n",
      "[M is empty\n",
      ", M is empty\n",
      ", M is empty\n",
      "]\n"
     ]
    }
   ],
   "source": [
    "M2, M3 = create_Mueller(name=('Object 2', 'Object 3'))\n",
    "print(M2, M3)\n",
    "\n",
    "list_of_M = create_Mueller(N=3)\n",
    "print(list_of_M)"
   ]
  },
  {
   "cell_type": "markdown",
   "metadata": {},
   "source": [
    "## Mueller class fields\n",
    "\n",
    "Mueller class objects have some fields where some methods and information is stored:\n",
    "* **M**: 4x4xN array containing all the Mueller matrices.\n",
    "* **name**: Name of the object for print purposes.\n",
    "* **shape**: Shape desired for the outputs.\n",
    "* **size**: Number of stored Mueller matrices.\n",
    "* **ndim**: Number of dimensions for representation purposes.\n",
    "* **no_rotation**: If True, rotation method do not act upon the object. Useful for objects that shouldn't be rotated as mirrors.\n",
    "* **_type**: Type of the object ('Mueller'). This is used for determining the object class as using isinstance may throw unexpected results in .ipynb files.\n",
    "\n",
    "\n",
    "* **parameters**: parameters of the Mueller matrices.\n",
    "* **checks**: checks of the Mueller matrices.\n",
    "* **analysis**: analysis of the Mueller matrices."
   ]
  },
  {
   "cell_type": "code",
   "execution_count": 3,
   "metadata": {},
   "outputs": [
    {
     "name": "stdout",
     "output_type": "stream",
     "text": [
      "[[[0.5]\n",
      "  [0.5]\n",
      "  [0. ]\n",
      "  [0. ]]\n",
      "\n",
      " [[0.5]\n",
      "  [0.5]\n",
      "  [0. ]\n",
      "  [0. ]]\n",
      "\n",
      " [[0. ]\n",
      "  [0. ]\n",
      "  [0. ]\n",
      "  [0. ]]\n",
      "\n",
      " [[0. ]\n",
      "  [0. ]\n",
      "  [0. ]\n",
      "  [0. ]]]\n"
     ]
    }
   ],
   "source": [
    "M1 = Mueller(\"diattenuator_linear\")\n",
    "M1.diattenuator_linear(p1=1, p2=0, azimuth=0*degrees)\n",
    "print(M1.M)"
   ]
  },
  {
   "cell_type": "markdown",
   "metadata": {},
   "source": [
    "## Generating polarization devices\n",
    "\n",
    "As shown in the previous example, the Mueller matrix is initialized with all elements equal to zero. There are many methods that can be used to generate a more desirable vector:\n",
    "\n",
    "* **from_components**: Creates a Mueller matrix directly from the 16 $M_{ij}$ elements.\n",
    "* **from_matrix**: Creates a Mueller object directly from a 4x4xN matrix.\n",
    "* **from_normalized**: Creates a Mueller matrix directly from a normalized 4x4 matrix ($M_{norm} = M/M_{00}$).\n",
    "* **from_Jones**: Creates a Mueller Matrix equivalent to a Jones matrix.\n",
    "* **from_blocks**: Creates a Mueller matrix from the blocks of its decomposition.\n",
    "* **from_covariance**: Creates a Mueller matrix from the equivalent covariant matrix.\n",
    "* **from_inverse**: Creates a Mueller matrix from the inverse matrix.\n",
    "* **from_list**: Creates a Jones_matrix object directly from a list of 4x4 numpy arrays.\n",
    "* **vacuum**: Creates the matrix for vacuum.\n",
    "* **mirror**: Creates the matrix for a mirror. NOTE: This matrix mus not be rotated.\n",
    "* **filter_amplifier**: Creates the matrix for a neutral filter or amplifier element.\n",
    "* **depolarizer_perfect**: Creates a perfect depolarizer.\n",
    "* **depolarizer_diagonal**: Creates a depolarizer with elements just in the diagonal.\n",
    "* **depolarizer_states**: Creates a general depolarizer from the diattenuation, polarizance and eigenstate vectors.\n",
    "* **diattenuator_perfect**: Creates a perfect linear polarizer.\n",
    "* **diattenuator_linear**: Creates a real diattenuator with perpendicular axes.\n",
    "* **diattenuator_charac_angles**: Creates the most general homogeneous diattenuator with orthogonal eigenstates from the characteristic angles of the main eigenstate.\n",
    "* **diattenuator_azimuth_ellipticity**: Creates the most general homogenous diattenuator from the characteristic angles of the main eigenstate.\n",
    "* **diattenuator_vector**: Creates the most general homogenous diattenuator from the diattenuation vector.\n",
    "* **quarter_waveplate**: Creates a perfect retarder with 90º retardance.\n",
    "* **half_waveplate**: Creates a perfect retarder with 180º retardance.\n",
    "* **retarder_linear**: Creates a linear retarder.\n",
    "* **retarder_charac_angles**: Creates the most general homogeneous retarder from the characteristic angles of the fast eigenstate.\n",
    "* **retarder_azimuth_ellipticity**: Creates the most general homogeneous retarder from the characteristic angles of the fast eigenstate.\n",
    "* **retarder_from_vector**: Creates the most general homogeneous retarder from the retardance vector.\n",
    "* **diattenuator_retarder_linear**: Creates an homogeneous linear diattenuator retarder with the same axes for diattenuation and retardance.\n",
    "* **diattenuator_retarder_azimuth_ellipticity**: Creates the most general homogeneous diattenuator retarder with the same axes for diattenuation and retardance from the azimuth and ellipticity angle.\n",
    "* **diattenuator_retarder_charac_angles**: Creates the most general homogeneous diattenuator retarder with the same axes for diattenuation and retardance from the characteristic angles.\n",
    "* **general_eigenstates**: Generates the most general pure optical element from its eigenstates.\n",
    "\n",
    "For a more detailed description of each method, refer to the individual documentation of each one.\n",
    "\n",
    "Example: Linear diattenuator."
   ]
  },
  {
   "cell_type": "code",
   "execution_count": 4,
   "metadata": {},
   "outputs": [
    {
     "name": "stdout",
     "output_type": "stream",
     "text": [
      "Linear diattenuator = \n",
      "[+0.500 +0.500 +0.000 +0.000]   \n",
      "[+0.500 +0.500 +0.000 +0.000]   \n",
      "[+0.000 +0.000 +0.000 +0.000]   \n",
      "[+0.000 +0.000 +0.000 +0.000]   \n",
      "\n"
     ]
    }
   ],
   "source": [
    "M1 = Mueller(\"Linear diattenuator\")\n",
    "M1.diattenuator_linear(p1=1, p2=0, azimuth=0*degrees)\n",
    "print(M1)"
   ]
  },
  {
   "cell_type": "markdown",
   "metadata": {},
   "source": [
    "The previous example only stores one Mueller matrix. However, it is possible to store many Mueller matrices in the same object. This is useful specially when the same operation is performed upon all of them, as rotation. In this way, it is not required to use for loops, reducing significantly the computation time.\n",
    "\n",
    "There are many ways of creating several Mueller matrices in the same object. The first way is creating an object with several identical matrices. This is performed using the *length* argument present in most creation methods:"
   ]
  },
  {
   "cell_type": "code",
   "execution_count": 5,
   "metadata": {},
   "outputs": [
    {
     "name": "stdout",
     "output_type": "stream",
     "text": [
      "Linear diattenuator = \n",
      "[+0.500 +0.500 +0.000 +0.000]   [+0.500 +0.500 +0.000 +0.000]   [+0.500 +0.500 +0.000 +0.000]   [+0.500 +0.500 +0.000 +0.000]   [+0.500 +0.500 +0.000 +0.000]   \n",
      "[+0.500 +0.500 +0.000 +0.000]   [+0.500 +0.500 +0.000 +0.000]   [+0.500 +0.500 +0.000 +0.000]   [+0.500 +0.500 +0.000 +0.000]   [+0.500 +0.500 +0.000 +0.000]   \n",
      "[+0.000 +0.000 +0.000 +0.000]   [+0.000 +0.000 +0.000 +0.000]   [+0.000 +0.000 +0.000 +0.000]   [+0.000 +0.000 +0.000 +0.000]   [+0.000 +0.000 +0.000 +0.000]   \n",
      "[+0.000 +0.000 +0.000 +0.000]   [+0.000 +0.000 +0.000 +0.000]   [+0.000 +0.000 +0.000 +0.000]   [+0.000 +0.000 +0.000 +0.000]   [+0.000 +0.000 +0.000 +0.000]   \n",
      "\n"
     ]
    }
   ],
   "source": [
    "M1 = Mueller(\"Linear diattenuator\")\n",
    "M1.diattenuator_linear(p1=1, p2=0, azimuth=0*degrees, length=5)\n",
    "print(M1)"
   ]
  },
  {
   "cell_type": "markdown",
   "metadata": {},
   "source": [
    "A second way of creating several matrices at the same time is using an array as one (or more) of the parameters of the creation methods. Take into account that, if you use this option, all parameters must have the same number of elements or just one element. Otherwise, the program will throw an exception."
   ]
  },
  {
   "cell_type": "code",
   "execution_count": 6,
   "metadata": {},
   "outputs": [
    {
     "name": "stdout",
     "output_type": "stream",
     "text": [
      "Linear diattenuator = \n",
      "[+0.500 +0.500 +0.000 +0.000]   [+0.500 +0.354 +0.354 +0.000]   [+0.500 +0.000 +0.500 +0.000]   [+0.500 -0.354 +0.354 +0.000]   [+0.500 -0.500 +0.000 +0.000]   \n",
      "[+0.500 +0.500 +0.000 +0.000]   [+0.354 +0.250 +0.250 +0.000]   [+0.000 +0.000 +0.000 +0.000]   [-0.354 +0.250 -0.250 +0.000]   [-0.500 +0.500 -0.000 +0.000]   \n",
      "[+0.000 +0.000 +0.000 +0.000]   [+0.354 +0.250 +0.250 +0.000]   [+0.500 +0.000 +0.500 +0.000]   [+0.354 -0.250 +0.250 +0.000]   [+0.000 -0.000 +0.000 +0.000]   \n",
      "[+0.000 +0.000 +0.000 +0.000]   [+0.000 +0.000 +0.000 +0.000]   [+0.000 +0.000 +0.000 +0.000]   [+0.000 +0.000 +0.000 +0.000]   [+0.000 +0.000 +0.000 +0.000]   \n",
      "\n"
     ]
    }
   ],
   "source": [
    "angles = np.linspace(0, 90*degrees, 5)\n",
    "\n",
    "M1 = Mueller(\"Linear diattenuator\")\n",
    "M1.diattenuator_linear(p1=1, p2=0, azimuth=angles)\n",
    "print(M1)"
   ]
  },
  {
   "cell_type": "markdown",
   "metadata": {},
   "source": [
    "If the parameters have dimension higher than 1, the program will store that information in order to make prints and plots. In that case, the *print* function separates the two components Jones vectors:\n",
    "\n",
    "$$M=\\left[\\begin{array}{cccc}\n",
    "M_{00} & M_{01} & M_{02} & M_{03}\\\\\n",
    "M_{10} & M_{11} & M_{12} & M_{13}\\\\\n",
    "M_{20} & M_{21} & M_{22} & M_{23}\\\\\n",
    "M_{30} & M_{31} & M_{32} & M_{33}\n",
    "\\end{array}\\right]$$"
   ]
  },
  {
   "cell_type": "code",
   "execution_count": 15,
   "metadata": {},
   "outputs": [
    {
     "name": "stdout",
     "output_type": "stream",
     "text": [
      "Linear diattenuator M00 =\n",
      " [[0.5 0.5 0.5]\n",
      " [0.5 0.5 0.5]\n",
      " [0.5 0.5 0.5]]\n",
      "Linear diattenuator M01 =\n",
      " [[ 0.33880857  0.36122617  0.19703472]\n",
      " [ 0.01181186 -0.49973662  0.26271554]\n",
      " [ 0.4103074  -0.09323501  0.3599804 ]]\n",
      "Linear diattenuator M02 =\n",
      " [[-0.36770742  0.34571036 -0.45954033]\n",
      " [-0.49986046  0.01622677 -0.42541808]\n",
      " [ 0.28574086 -0.49123033  0.34700736]]\n",
      "Linear diattenuator M03 =\n",
      " [[0. 0. 0.]\n",
      " [0. 0. 0.]\n",
      " [0. 0. 0.]]\n",
      "Linear diattenuator M10 =\n",
      " [[ 0.33880857  0.36122617  0.19703472]\n",
      " [ 0.01181186 -0.49973662  0.26271554]\n",
      " [ 0.4103074  -0.09323501  0.3599804 ]]\n",
      "Linear diattenuator M11 =\n",
      " [[2.29582500e-01 2.60968696e-01 7.76453655e-02]\n",
      " [2.79040204e-04 4.99473384e-01 1.38038913e-01]\n",
      " [3.36704322e-01 1.73855355e-02 2.59171781e-01]]\n",
      "Linear diattenuator M12 =\n",
      " [[-0.24916486  0.24975926 -0.18109081]\n",
      " [-0.01180857 -0.01621822 -0.22352788]\n",
      " [ 0.23448318  0.09159973  0.2498317 ]]\n",
      "Linear diattenuator M13 =\n",
      " [[0. 0. 0.]\n",
      " [0. 0. 0.]\n",
      " [0. 0. 0.]]\n",
      "Linear diattenuator M20 =\n",
      " [[-0.36770742  0.34571036 -0.45954033]\n",
      " [-0.49986046  0.01622677 -0.42541808]\n",
      " [ 0.28574086 -0.49123033  0.34700736]]\n",
      "Linear diattenuator M21 =\n",
      " [[-0.24916486  0.24975926 -0.18109081]\n",
      " [-0.01180857 -0.01621822 -0.22352788]\n",
      " [ 0.23448318  0.09159973  0.2498317 ]]\n",
      "Linear diattenuator M22 =\n",
      " [[0.2704175  0.2390313  0.42235463]\n",
      " [0.49972096 0.00052662 0.36196109]\n",
      " [0.16329568 0.48261446 0.24082822]]\n",
      "Linear diattenuator M23 =\n",
      " [[0. 0. 0.]\n",
      " [0. 0. 0.]\n",
      " [0. 0. 0.]]\n",
      "Linear diattenuator M30 =\n",
      " [[0. 0. 0.]\n",
      " [0. 0. 0.]\n",
      " [0. 0. 0.]]\n",
      "Linear diattenuator M31 =\n",
      " [[0. 0. 0.]\n",
      " [0. 0. 0.]\n",
      " [0. 0. 0.]]\n",
      "Linear diattenuator M32 =\n",
      " [[0. 0. 0.]\n",
      " [0. 0. 0.]\n",
      " [0. 0. 0.]]\n",
      "Linear diattenuator M33 =\n",
      " [[0. 0. 0.]\n",
      " [0. 0. 0.]\n",
      " [0. 0. 0.]]\n",
      "\n"
     ]
    }
   ],
   "source": [
    "angles = np.random.rand(3,3) * 180*degrees\n",
    "\n",
    "M1 = Mueller(\"Linear diattenuator\")\n",
    "M1.diattenuator_linear(p1=1, p2=0, azimuth=angles)\n",
    "print(M1)"
   ]
  },
  {
   "cell_type": "markdown",
   "metadata": {},
   "source": [
    "### Features of creation methods\n",
    "\n",
    "Mueller formalism does not take into account the global phase of the light states. However, *Mueller* objects store the phase they add to light in the *global_phase* field. Use *None* if the global phase is unknown.\n",
    "\n",
    "Most creation methods accept a *global_phase* argument that can be used to introduce it."
   ]
  },
  {
   "cell_type": "code",
   "execution_count": 17,
   "metadata": {},
   "outputs": [
    {
     "name": "stdout",
     "output_type": "stream",
     "text": [
      "[0.]\n",
      "0.0\n"
     ]
    }
   ],
   "source": [
    "M1 = Mueller(\"Linear diattenuator\")\n",
    "M1.diattenuator_linear(p1=1, p2=0, azimuth=0*degrees, global_phase=90*degrees)\n",
    "print(M1.global_phase / degrees)\n",
    "\n",
    "M1.remove_global_phase()\n",
    "print(M1.global_phase / degrees)"
   ]
  },
  {
   "cell_type": "markdown",
   "metadata": {},
   "source": [
    "Some creation methods accept a *p1* and *p2* or a *Tmax* and *Tmin* parameters in order to set the electric field or intensity maximum and minimum transmissions respectively. If both sets of parameters are given together to the method, it will use the intensity transmissions, ignoring the field transmissions:"
   ]
  },
  {
   "cell_type": "code",
   "execution_count": 21,
   "metadata": {},
   "outputs": [
    {
     "name": "stdout",
     "output_type": "stream",
     "text": [
      "Diattenuator 1 = \n",
      "[+0.500 +0.500 +0.000 +0.000]   \n",
      "[+0.500 +0.500 +0.000 +0.000]   \n",
      "[+0.000 +0.000 +0.000 +0.000]   \n",
      "[+0.000 +0.000 +0.000 +0.000]   \n",
      "\n",
      "Diattenuator 2 = \n",
      "[+0.500 +0.300 +0.000 +0.000]   \n",
      "[+0.300 +0.500 +0.000 +0.000]   \n",
      "[+0.000 +0.000 +0.400 +0.000]   \n",
      "[+0.000 +0.000 +0.000 +0.400]   \n",
      "\n",
      "Diattenuator 3 = \n",
      "[+0.500 +0.300 +0.000 +0.000]   \n",
      "[+0.300 +0.500 +0.000 +0.000]   \n",
      "[+0.000 +0.000 +0.400 +0.000]   \n",
      "[+0.000 +0.000 +0.000 +0.400]   \n",
      "\n"
     ]
    }
   ],
   "source": [
    "M1 = Mueller(\"Diattenuator 1\")\n",
    "M1.diattenuator_linear(p1=1, p2=0, azimuth=0*degrees)\n",
    "print(M1)\n",
    "\n",
    "M1 = Mueller(\"Diattenuator 2\")\n",
    "M1.diattenuator_linear(Tmax=0.8, Tmin=0.2, azimuth=0*degrees)\n",
    "print(M1)\n",
    "\n",
    "M1 = Mueller(\"Diattenuator 3\")\n",
    "M1.diattenuator_linear(p1=1, p2=0, Tmax=0.8, Tmin=0.2, azimuth=0*degrees)\n",
    "print(M1)"
   ]
  },
  {
   "cell_type": "markdown",
   "metadata": {},
   "source": [
    "## Basic operations\n",
    "\n",
    "Some physical phenomena that affects optical objects are described by simple operations performed to their Mueller matrices.\n",
    "\n",
    "### Addition of two Mueller matrices\n",
    "\n",
    "If a light state gets through two (or more) optical objects in paralel (i.e., two halves of the light source gets twhrough two different optical elements), this phenomenom is represented by the sum of their Mueller matrices. If both of them have the same global phase, it is maintained. If not, it is changed to None (unknown).\n",
    "\n",
    "Take into notice that the sum of two physically realizable Mueller matrices is not necessary a physically realizable Mueller matrix."
   ]
  },
  {
   "cell_type": "code",
   "execution_count": 24,
   "metadata": {},
   "outputs": [
    {
     "name": "stdout",
     "output_type": "stream",
     "text": [
      "Diattenuator 1 + Diattenuator 2 = \n",
      "[+1.000 +0.800 +0.000 +0.000]   \n",
      "[+0.800 +1.000 +0.000 +0.000]   \n",
      "[+0.000 +0.000 +0.400 +0.000]   \n",
      "[+0.000 +0.000 +0.000 +0.400]   \n",
      "\n"
     ]
    }
   ],
   "source": [
    "M1 = Mueller(\"Diattenuator 1\")\n",
    "M1.diattenuator_linear(p1=1, p2=0, azimuth=0*degrees)\n",
    "M2 = Mueller(\"Diattenuator 2\")\n",
    "M2.diattenuator_linear(Tmax=0.8, Tmin=0.2, azimuth=0*degrees)\n",
    "print(M1+M2)"
   ]
  },
  {
   "cell_type": "markdown",
   "metadata": {},
   "source": [
    "### Multiply by a constant\n",
    "\n",
    "A change in the absorption or gain of an optical object is represented by multiplying it by a constant. Take into account that Mueller formalism describes intensity transmissions, so the constant represents a variation in Intensity absorption or gain."
   ]
  },
  {
   "cell_type": "code",
   "execution_count": 26,
   "metadata": {},
   "outputs": [
    {
     "name": "stdout",
     "output_type": "stream",
     "text": [
      "2 * Diattenuator 1 = \n",
      "[+1.000 +1.000 +0.000 +0.000]   \n",
      "[+1.000 +1.000 +0.000 +0.000]   \n",
      "[+0.000 +0.000 +0.000 +0.000]   \n",
      "[+0.000 +0.000 +0.000 +0.000]   \n",
      "\n",
      "3 * Diattenuator 1 = \n",
      "[+1.500 +1.500 +0.000 +0.000]   \n",
      "[+1.500 +1.500 +0.000 +0.000]   \n",
      "[+0.000 +0.000 +0.000 +0.000]   \n",
      "[+0.000 +0.000 +0.000 +0.000]   \n",
      "\n",
      "Diattenuator 1 / 2 = \n",
      "[+0.250 +0.250 +0.000 +0.000]   \n",
      "[+0.250 +0.250 +0.000 +0.000]   \n",
      "[+0.000 +0.000 +0.000 +0.000]   \n",
      "[+0.000 +0.000 +0.000 +0.000]   \n",
      "\n"
     ]
    }
   ],
   "source": [
    "M1 = Mueller(\"Diattenuator 1\")\n",
    "M1.diattenuator_linear(p1=1, p2=0, azimuth=0*degrees)\n",
    "print(2 * M1)\n",
    "\n",
    "print(M1*3)\n",
    "\n",
    "print(M1/2)"
   ]
  },
  {
   "cell_type": "markdown",
   "metadata": {},
   "source": [
    "If the constant is complex, the constant phase will be added to the global phase of the light, while its absolute value will increase or decrease the light intensity. \n",
    "\n",
    "Take into account that real negative values are a special case of complex numbers whose phase is 180º."
   ]
  },
  {
   "cell_type": "code",
   "execution_count": 30,
   "metadata": {},
   "outputs": [
    {
     "name": "stdout",
     "output_type": "stream",
     "text": [
      "2j * Diattenuator 1 = \n",
      "[+1.000 +1.000 +0.000 +0.000]   \n",
      "[+1.000 +1.000 +0.000 +0.000]   \n",
      "[+0.000 +0.000 +0.000 +0.000]   \n",
      "[+0.000 +0.000 +0.000 +0.000]   \n",
      " [90.]\n",
      "-1 * Diattenuator 1 = \n",
      "[+0.500 +0.500 +0.000 +0.000]   \n",
      "[+0.500 +0.500 +0.000 +0.000]   \n",
      "[+0.000 +0.000 +0.000 +0.000]   \n",
      "[+0.000 +0.000 +0.000 +0.000]   \n",
      " [180.]\n"
     ]
    }
   ],
   "source": [
    "M1 = Mueller(\"Diattenuator 1\")\n",
    "M1.diattenuator_linear(p1=1, p2=0, azimuth=0*degrees, global_phase=0*degrees)\n",
    "result = 2j * M1\n",
    "print(result, result.global_phase/degrees)\n",
    "\n",
    "result = -1 * M1\n",
    "print(result, result.global_phase/degrees)"
   ]
  },
  {
   "cell_type": "markdown",
   "metadata": {},
   "source": [
    "### Multiplication of a Stokes vector by a Mueller matrix\n",
    "\n",
    "This operation represents a light wave (described by the Stokes vector) getting through an optical element."
   ]
  },
  {
   "cell_type": "code",
   "execution_count": 68,
   "metadata": {},
   "outputs": [
    {
     "name": "stdout",
     "output_type": "stream",
     "text": [
      "Light source = \n",
      "[+1.000]   \n",
      "[+1.000]   \n",
      "[+0.000]   \n",
      "[+0.000]   \n",
      "\n",
      "Diattenuator 1 @ 45.00 deg * Light source = \n",
      "[+0.500]   \n",
      "[+0.000]   \n",
      "[+0.500]   \n",
      "[+0.000]   \n",
      "\n"
     ]
    }
   ],
   "source": [
    "S1 = Stokes('Light source')\n",
    "S1.linear_light(azimuth=0)\n",
    "print(S1)\n",
    "M1 = Mueller(\"Diattenuator 1\")\n",
    "M1.diattenuator_perfect(azimuth=45*degrees)\n",
    "print(M1*S1)"
   ]
  },
  {
   "cell_type": "markdown",
   "metadata": {},
   "source": [
    "### Multiplication of Mueller matrices\n",
    "\n",
    "When a light wave is going to get through two (or more) optical objects, the total system can be represented by a single Mueller matrix which is the product of the individual Mueller matrices. The left to right order of the matrices must be the last to first object to be transversed.\n",
    "\n",
    "Example: \"circular polarizer\"."
   ]
  },
  {
   "cell_type": "code",
   "execution_count": 64,
   "metadata": {},
   "outputs": [
    {
     "name": "stdout",
     "output_type": "stream",
     "text": [
      "Retarder 1 @ 45.00 deg * Diattenuator 1 = \n",
      "[+0.500 +0.500 +0.000 +0.000]   \n",
      "[+0.000 +0.000 +0.000 +0.000]   \n",
      "[+0.000 +0.000 +0.000 +0.000]   \n",
      "[+0.500 +0.500 +0.000 +0.000]   \n",
      "\n"
     ]
    }
   ],
   "source": [
    "M1 = Mueller(\"Diattenuator 1\")\n",
    "M1.diattenuator_perfect(azimuth=0*degrees)\n",
    "M2 = Mueller(\"Retarder 1\")\n",
    "M2.quarter_waveplate(azimuth=45*degrees)\n",
    "print(M2*M1)"
   ]
  },
  {
   "cell_type": "markdown",
   "metadata": {},
   "source": [
    "### Equality\n",
    "\n",
    "It is possible to compare two *Mueller* objects and tell if they are the same. It just compares the Mueller matrices and the global phase, not the rest of object fields."
   ]
  },
  {
   "cell_type": "code",
   "execution_count": 61,
   "metadata": {},
   "outputs": [
    {
     "name": "stdout",
     "output_type": "stream",
     "text": [
      "Diattenuator 1 = \n",
      "[+0.500 +0.500 +0.000 +0.000]   \n",
      "[+0.500 +0.500 +0.000 +0.000]   \n",
      "[+0.000 +0.000 +0.000 +0.000]   \n",
      "[+0.000 +0.000 +0.000 +0.000]   \n",
      "\n",
      "Diattenuator 2 = \n",
      "[+0.500 +0.500 +0.000 +0.000]   \n",
      "[+0.500 +0.500 +0.000 +0.000]   \n",
      "[+0.000 +0.000 +0.000 +0.000]   \n",
      "[+0.000 +0.000 +0.000 +0.000]   \n",
      "\n",
      "[ True]\n",
      "[False]\n"
     ]
    }
   ],
   "source": [
    "M1 = Mueller(\"Diattenuator 1\")\n",
    "M1.diattenuator_linear(p1=1, p2=0, azimuth=0*degrees, global_phase=0)\n",
    "print(M1)\n",
    "\n",
    "M2 = Mueller(\"Diattenuator 2\")\n",
    "M2.diattenuator_linear(p1=1, p2=0, azimuth=0*degrees, global_phase=0)\n",
    "print(M2)\n",
    "\n",
    "print(M1 == M2)\n",
    "\n",
    "M1.set_global_phase(90*degrees)\n",
    "print(M1 == M2)"
   ]
  },
  {
   "cell_type": "markdown",
   "metadata": {},
   "source": [
    "### Operations and multidimensionality\n",
    "\n",
    "The basic operations of *Stokes* objects are subject to the same casting rules as numpy arrays. This means that they can be easily used even if one or both elements of the operation have more than one element.\n",
    "\n",
    "Here are some examples:"
   ]
  },
  {
   "cell_type": "code",
   "execution_count": 54,
   "metadata": {},
   "outputs": [
    {
     "name": "stdout",
     "output_type": "stream",
     "text": [
      "Diattenuator 1 + Diattenuator 2 = \n",
      "[+0.900 +0.700 +0.000 +0.000]   [+0.950 +0.750 +0.000 +0.000]   [+1.000 +0.800 +0.000 +0.000]   [+1.050 +0.850 +0.000 +0.000]   [+1.100 +0.900 +0.000 +0.000]   \n",
      "[+0.700 +0.900 +0.000 +0.000]   [+0.750 +0.950 +0.000 +0.000]   [+0.800 +1.000 +0.000 +0.000]   [+0.850 +1.050 +0.000 +0.000]   [+0.900 +1.100 +0.000 +0.000]   \n",
      "[+0.000 +0.000 +0.346 +0.000]   [+0.000 +0.000 +0.374 +0.000]   [+0.000 +0.000 +0.400 +0.000]   [+0.000 +0.000 +0.424 +0.000]   [+0.000 +0.000 +0.447 +0.000]   \n",
      "[+0.000 +0.000 +0.000 +0.346]   [+0.000 +0.000 +0.000 +0.374]   [+0.000 +0.000 +0.000 +0.400]   [+0.000 +0.000 +0.000 +0.424]   [+0.000 +0.000 +0.000 +0.447]   \n",
      "\n"
     ]
    }
   ],
   "source": [
    "# sum\n",
    "M1 = Mueller(\"Diattenuator 1\")\n",
    "M1.diattenuator_linear(p1=1, p2=0, azimuth=0*degrees)\n",
    "M2 = Mueller(\"Diattenuator 2\")\n",
    "M2.diattenuator_linear(Tmax=np.linspace(0.6, 1, 5), Tmin=0.2, azimuth=0*degrees)\n",
    "print(M1+M2)"
   ]
  },
  {
   "cell_type": "code",
   "execution_count": 63,
   "metadata": {},
   "outputs": [
    {
     "name": "stdout",
     "output_type": "stream",
     "text": [
      "M = \n",
      "[+0.000 +0.000 +0.000 +0.000]   [+0.125 +0.125 +0.000 +0.000]   [+0.250 +0.250 +0.000 +0.000]   [+0.375 +0.375 +0.000 +0.000]   [+0.500 +0.500 +0.000 +0.000]   \n",
      "[+0.000 +0.000 +0.000 +0.000]   [+0.125 +0.125 +0.000 +0.000]   [+0.250 +0.250 +0.000 +0.000]   [+0.375 +0.375 +0.000 +0.000]   [+0.500 +0.500 +0.000 +0.000]   \n",
      "[+0.000 +0.000 +0.000 +0.000]   [+0.000 +0.000 +0.000 +0.000]   [+0.000 +0.000 +0.000 +0.000]   [+0.000 +0.000 +0.000 +0.000]   [+0.000 +0.000 +0.000 +0.000]   \n",
      "[+0.000 +0.000 +0.000 +0.000]   [+0.000 +0.000 +0.000 +0.000]   [+0.000 +0.000 +0.000 +0.000]   [+0.000 +0.000 +0.000 +0.000]   [+0.000 +0.000 +0.000 +0.000]   \n",
      "\n"
     ]
    }
   ],
   "source": [
    "# product by a constant\n",
    "M1 = Mueller(\"Diattenuator 1\")\n",
    "M1.diattenuator_linear(p1=1, p2=0, azimuth=0*degrees)\n",
    "print(np.linspace(0, 1, 5) * M1)"
   ]
  },
  {
   "cell_type": "code",
   "execution_count": 69,
   "metadata": {},
   "outputs": [
    {
     "name": "stdout",
     "output_type": "stream",
     "text": [
      "Retarder 1 * Diattenuator 1 = \n",
      "[+0.500 +0.500 +0.000 +0.000]   [+0.500 +0.500 +0.000 +0.000]   [+0.500 +0.500 +0.000 +0.000]   [+0.500 +0.500 +0.000 +0.000]   [+0.500 +0.500 +0.000 +0.000]   \n",
      "[+0.500 +0.500 +0.000 +0.000]   [+0.250 +0.250 +0.000 +0.000]   [+0.000 +0.000 +0.000 +0.000]   [+0.250 +0.250 +0.000 +0.000]   [+0.500 +0.500 +0.000 +0.000]   \n",
      "[+0.000 +0.000 +0.000 +0.000]   [+0.250 +0.250 +0.000 +0.000]   [+0.000 +0.000 +0.000 +0.000]   [-0.250 -0.250 +0.000 +0.000]   [-0.000 -0.000 +0.000 +0.000]   \n",
      "[+0.000 +0.000 +0.000 +0.000]   [+0.354 +0.354 +0.000 +0.000]   [+0.500 +0.500 +0.000 +0.000]   [+0.354 +0.354 +0.000 +0.000]   [+0.000 +0.000 +0.000 +0.000]   \n",
      "\n"
     ]
    }
   ],
   "source": [
    "# Multiplication of Mueller matrices\n",
    "M1 = Mueller(\"Diattenuator 1\")\n",
    "M1.diattenuator_perfect(azimuth=0*degrees)\n",
    "M2 = Mueller(\"Retarder 1\")\n",
    "angles = np.linspace(0, 90*degrees, 5)\n",
    "M2.quarter_waveplate(azimuth=angles)\n",
    "print(M2*M1)"
   ]
  },
  {
   "cell_type": "markdown",
   "metadata": {},
   "source": [
    "## Mueller matrix manipulation\n",
    "\n",
    "There are several operations that can be applied to a Mueller matrix.\n",
    "\n",
    "* **update**: Recalculates some parameters as the number of elements, the dimensions associated to the shape, and such things.\n",
    "* **clear**: Removes data and name form the object.\n",
    "* **copy**: Creates a copy of the object.\n",
    "* **stretch**: Stretches an object of size 1.\n",
    "* **shape_like**: Takes the shape of another object to use as its own.\n",
    "* **rotate**: Rotates the Mueller matrix.\n",
    "* **sum**: Calculates the summatory of the Jones matrices in the object.\n",
    "* **prod**: Calculates the product of the Jones matrices in the object.\n",
    "* **flip**: Flips the object along some dimensions.\n",
    "* **remove_global_phase**: Removes the phase introduced by the optical element.\n",
    "* **add_global_phase**: Increases the phase introduced by the optical element.\n",
    "* **set_global_phase**: Sets the phase introduced by the optical element.\n",
    "* **reciprocal**: Flips the optical element so the light transverses it in the opposite direction.\n",
    "* **transpose**: Transposes the Mueller matrix of the element.\n",
    "* **inverse**: Calculates the inverse matrix of the Mueller matrix.\n",
    "* **covariant_matrix**: This method calculates the covariant matrix of the Mueller matrix of the object.\n",
    "\n",
    "For a more detailed description of each method, refer to the individual documentation of each one.\n",
    "\n",
    "Example:"
   ]
  },
  {
   "cell_type": "code",
   "execution_count": 7,
   "metadata": {},
   "outputs": [
    {
     "name": "stdout",
     "output_type": "stream",
     "text": [
      "Object 1 = \n",
      "[+0.500 +0.500 +0.000 +0.000]   \n",
      "[+0.500 +0.500 +0.000 +0.000]   \n",
      "[+0.000 +0.000 +0.000 +0.000]   \n",
      "[+0.000 +0.000 +0.000 +0.000]   \n",
      " \n",
      "\n",
      "Object 1 @ 45.00 deg = \n",
      "[+0.500 +0.000 +0.500 +0.000]   \n",
      "[+0.000 +0.000 +0.000 +0.000]   \n",
      "[+0.500 +0.000 +0.500 +0.000]   \n",
      "[+0.000 +0.000 +0.000 +0.000]   \n",
      "\n"
     ]
    }
   ],
   "source": [
    "M1 = Mueller(\"Object 1\")\n",
    "M1.diattenuator_linear(p1=1, p2=0, azimuth=0*degrees)\n",
    "print(M1,'\\n')\n",
    "\n",
    "M1.rotate(angle=45*degrees)\n",
    "print(M1)\n"
   ]
  },
  {
   "cell_type": "markdown",
   "metadata": {},
   "source": [
    "Most manipulation methods have the *keep* argument that specifies if the originial object must be preserved or transformed. If *keep* is *True* (default is *False*), a new object is created:"
   ]
  },
  {
   "cell_type": "code",
   "execution_count": 9,
   "metadata": {},
   "outputs": [
    {
     "name": "stdout",
     "output_type": "stream",
     "text": [
      "Object 1 = \n",
      "[+0.500 +0.500 +0.000 +0.000]   \n",
      "[+0.500 +0.500 +0.000 +0.000]   \n",
      "[+0.000 +0.000 +0.000 +0.000]   \n",
      "[+0.000 +0.000 +0.000 +0.000]   \n",
      " Object 1 @ 45.00 deg = \n",
      "[+0.500 +0.000 +0.500 +0.000]   \n",
      "[+0.000 +0.000 +0.000 +0.000]   \n",
      "[+0.500 +0.000 +0.500 +0.000]   \n",
      "[+0.000 +0.000 +0.000 +0.000]   \n",
      "\n",
      "Object 1 @ 45.00 deg = \n",
      "[+0.500 +0.000 +0.500 +0.000]   \n",
      "[+0.000 +0.000 +0.000 +0.000]   \n",
      "[+0.500 +0.000 +0.500 +0.000]   \n",
      "[+0.000 +0.000 +0.000 +0.000]   \n",
      " Object 1 @ 45.00 deg = \n",
      "[+0.500 +0.000 +0.500 +0.000]   \n",
      "[+0.000 +0.000 +0.000 +0.000]   \n",
      "[+0.500 +0.000 +0.500 +0.000]   \n",
      "[+0.000 +0.000 +0.000 +0.000]   \n",
      "\n"
     ]
    }
   ],
   "source": [
    "M1 = Mueller(\"Object 1\")\n",
    "M1.diattenuator_linear(p1=1, p2=0, azimuth=0*degrees)\n",
    "M2 = M1.rotate(angle=45*degrees, keep=True)\n",
    "print(M1, M2)\n",
    "\n",
    "M2 = M1.rotate(angle=45*degrees, keep=False)\n",
    "print(M1, M2)"
   ]
  },
  {
   "cell_type": "markdown",
   "metadata": {},
   "source": [
    "*Mueller* objects allow taking elements and changing them through indices like a *numpy.ndarray*.\n",
    "\n",
    "Examples:"
   ]
  },
  {
   "cell_type": "code",
   "execution_count": 14,
   "metadata": {},
   "outputs": [
    {
     "name": "stdout",
     "output_type": "stream",
     "text": [
      "Original = \n",
      "[+0.440 +0.694 +0.345 +0.345]   [+0.515 +0.932 +0.957 +0.914]   [+0.418 +0.184 +0.676 +0.231]   [+0.230 +0.551 +0.149 +0.486]   [+0.185 +0.216 +0.085 +0.900]   \n",
      "[+0.239 +0.824 +0.757 +0.670]   [+0.044 +0.925 +0.199 +0.659]   [+0.821 +0.076 +0.849 +0.025]   [+0.183 +0.331 +0.895 +0.013]   [+0.752 +0.378 +0.887 +0.192]   \n",
      "[+0.438 +0.402 +0.126 +0.535]   [+0.287 +0.435 +0.952 +0.769]   [+0.563 +0.830 +0.916 +0.836]   [+0.731 +0.114 +0.957 +0.594]   [+0.455 +0.819 +0.030 +0.088]   \n",
      "[+0.360 +0.557 +0.991 +0.366]   [+0.170 +0.760 +0.761 +0.418]   [+0.173 +0.685 +0.365 +0.263]   [+0.654 +0.422 +0.741 +0.116]   [+0.313 +0.957 +0.665 +0.022]   \n",
      "\n",
      "Original_picked = \n",
      "[+0.515 +0.932 +0.957 +0.914]   [+0.418 +0.184 +0.676 +0.231]   \n",
      "[+0.044 +0.925 +0.199 +0.659]   [+0.821 +0.076 +0.849 +0.025]   \n",
      "[+0.287 +0.435 +0.952 +0.769]   [+0.563 +0.830 +0.916 +0.836]   \n",
      "[+0.170 +0.760 +0.761 +0.418]   [+0.173 +0.685 +0.365 +0.263]   \n",
      "\n"
     ]
    }
   ],
   "source": [
    "M = np.random.rand(4, 4, 5)\n",
    "M1 = Mueller('Original')\n",
    "M1.from_matrix(M)\n",
    "print(M1)\n",
    "\n",
    "M2 = M1[1:3]\n",
    "print(M2)"
   ]
  },
  {
   "cell_type": "code",
   "execution_count": 16,
   "metadata": {},
   "outputs": [
    {
     "name": "stdout",
     "output_type": "stream",
     "text": [
      "Original M00 =\n",
      " [[0.5 0.5 0.5 0.5 0.5]\n",
      " [0.5 0.5 0.5 0.5 0.5]\n",
      " [0.5 0.5 0.5 0.5 0.5]\n",
      " [0.5 0.5 0.5 0.5 0.5]\n",
      " [0.5 0.5 0.5 0.5 0.5]]\n",
      "Original M01 =\n",
      " [[ 5.00000000e-01  4.82962913e-01  4.33012702e-01  3.53553391e-01\n",
      "   2.50000000e-01]\n",
      " [ 1.29409523e-01  3.06161700e-17 -1.29409523e-01 -2.50000000e-01\n",
      "  -3.53553391e-01]\n",
      " [-4.33012702e-01 -4.82962913e-01 -5.00000000e-01 -4.82962913e-01\n",
      "  -4.33012702e-01]\n",
      " [-3.53553391e-01 -2.50000000e-01 -1.29409523e-01 -9.18485099e-17\n",
      "   1.29409523e-01]\n",
      " [ 2.50000000e-01  3.53553391e-01  4.33012702e-01  4.82962913e-01\n",
      "   5.00000000e-01]]\n",
      "Original M02 =\n",
      " [[ 0.00000000e+00  1.29409523e-01  2.50000000e-01  3.53553391e-01\n",
      "   4.33012702e-01]\n",
      " [ 4.82962913e-01  5.00000000e-01  4.82962913e-01  4.33012702e-01\n",
      "   3.53553391e-01]\n",
      " [ 2.50000000e-01  1.29409523e-01  6.12323400e-17 -1.29409523e-01\n",
      "  -2.50000000e-01]\n",
      " [-3.53553391e-01 -4.33012702e-01 -4.82962913e-01 -5.00000000e-01\n",
      "  -4.82962913e-01]\n",
      " [-4.33012702e-01 -3.53553391e-01 -2.50000000e-01 -1.29409523e-01\n",
      "  -1.22464680e-16]]\n",
      "Original M03 =\n",
      " [[0. 0. 0. 0. 0.]\n",
      " [0. 0. 0. 0. 0.]\n",
      " [0. 0. 0. 0. 0.]\n",
      " [0. 0. 0. 0. 0.]\n",
      " [0. 0. 0. 0. 0.]]\n",
      "Original M10 =\n",
      " [[ 5.00000000e-01  4.82962913e-01  4.33012702e-01  3.53553391e-01\n",
      "   2.50000000e-01]\n",
      " [ 1.29409523e-01  3.06161700e-17 -1.29409523e-01 -2.50000000e-01\n",
      "  -3.53553391e-01]\n",
      " [-4.33012702e-01 -4.82962913e-01 -5.00000000e-01 -4.82962913e-01\n",
      "  -4.33012702e-01]\n",
      " [-3.53553391e-01 -2.50000000e-01 -1.29409523e-01 -9.18485099e-17\n",
      "   1.29409523e-01]\n",
      " [ 2.50000000e-01  3.53553391e-01  4.33012702e-01  4.82962913e-01\n",
      "   5.00000000e-01]]\n",
      "Original M11 =\n",
      " [[5.00000000e-01 4.66506351e-01 3.75000000e-01 2.50000000e-01\n",
      "  1.25000000e-01]\n",
      " [3.34936491e-02 1.87469973e-33 3.34936491e-02 1.25000000e-01\n",
      "  2.50000000e-01]\n",
      " [3.75000000e-01 4.66506351e-01 5.00000000e-01 4.66506351e-01\n",
      "  3.75000000e-01]\n",
      " [2.50000000e-01 1.25000000e-01 3.34936491e-02 1.68722976e-32\n",
      "  3.34936491e-02]\n",
      " [1.25000000e-01 2.50000000e-01 3.75000000e-01 4.66506351e-01\n",
      "  5.00000000e-01]]\n",
      "Original M12 =\n",
      " [[ 0.00000000e+00  1.25000000e-01  2.16506351e-01  2.50000000e-01\n",
      "   2.16506351e-01]\n",
      " [ 1.25000000e-01  3.06161700e-17 -1.25000000e-01 -2.16506351e-01\n",
      "  -2.50000000e-01]\n",
      " [-2.16506351e-01 -1.25000000e-01 -6.12323400e-17  1.25000000e-01\n",
      "   2.16506351e-01]\n",
      " [ 2.50000000e-01  2.16506351e-01  1.25000000e-01  9.18485099e-17\n",
      "  -1.25000000e-01]\n",
      " [-2.16506351e-01 -2.50000000e-01 -2.16506351e-01 -1.25000000e-01\n",
      "  -1.22464680e-16]]\n",
      "Original M13 =\n",
      " [[0. 0. 0. 0. 0.]\n",
      " [0. 0. 0. 0. 0.]\n",
      " [0. 0. 0. 0. 0.]\n",
      " [0. 0. 0. 0. 0.]\n",
      " [0. 0. 0. 0. 0.]]\n",
      "Original M20 =\n",
      " [[ 0.00000000e+00  1.29409523e-01  2.50000000e-01  3.53553391e-01\n",
      "   4.33012702e-01]\n",
      " [ 4.82962913e-01  5.00000000e-01  4.82962913e-01  4.33012702e-01\n",
      "   3.53553391e-01]\n",
      " [ 2.50000000e-01  1.29409523e-01  6.12323400e-17 -1.29409523e-01\n",
      "  -2.50000000e-01]\n",
      " [-3.53553391e-01 -4.33012702e-01 -4.82962913e-01 -5.00000000e-01\n",
      "  -4.82962913e-01]\n",
      " [-4.33012702e-01 -3.53553391e-01 -2.50000000e-01 -1.29409523e-01\n",
      "  -1.22464680e-16]]\n",
      "Original M21 =\n",
      " [[ 0.00000000e+00  1.25000000e-01  2.16506351e-01  2.50000000e-01\n",
      "   2.16506351e-01]\n",
      " [ 1.25000000e-01  3.06161700e-17 -1.25000000e-01 -2.16506351e-01\n",
      "  -2.50000000e-01]\n",
      " [-2.16506351e-01 -1.25000000e-01 -6.12323400e-17  1.25000000e-01\n",
      "   2.16506351e-01]\n",
      " [ 2.50000000e-01  2.16506351e-01  1.25000000e-01  9.18485099e-17\n",
      "  -1.25000000e-01]\n",
      " [-2.16506351e-01 -2.50000000e-01 -2.16506351e-01 -1.25000000e-01\n",
      "  -1.22464680e-16]]\n",
      "Original M22 =\n",
      " [[0.00000000e+00 3.34936491e-02 1.25000000e-01 2.50000000e-01\n",
      "  3.75000000e-01]\n",
      " [4.66506351e-01 5.00000000e-01 4.66506351e-01 3.75000000e-01\n",
      "  2.50000000e-01]\n",
      " [1.25000000e-01 3.34936491e-02 7.49879891e-33 3.34936491e-02\n",
      "  1.25000000e-01]\n",
      " [2.50000000e-01 3.75000000e-01 4.66506351e-01 5.00000000e-01\n",
      "  4.66506351e-01]\n",
      " [3.75000000e-01 2.50000000e-01 1.25000000e-01 3.34936491e-02\n",
      "  2.99951957e-32]]\n",
      "Original M23 =\n",
      " [[0. 0. 0. 0. 0.]\n",
      " [0. 0. 0. 0. 0.]\n",
      " [0. 0. 0. 0. 0.]\n",
      " [0. 0. 0. 0. 0.]\n",
      " [0. 0. 0. 0. 0.]]\n",
      "Original M30 =\n",
      " [[0. 0. 0. 0. 0.]\n",
      " [0. 0. 0. 0. 0.]\n",
      " [0. 0. 0. 0. 0.]\n",
      " [0. 0. 0. 0. 0.]\n",
      " [0. 0. 0. 0. 0.]]\n",
      "Original M31 =\n",
      " [[0. 0. 0. 0. 0.]\n",
      " [0. 0. 0. 0. 0.]\n",
      " [0. 0. 0. 0. 0.]\n",
      " [0. 0. 0. 0. 0.]\n",
      " [0. 0. 0. 0. 0.]]\n",
      "Original M32 =\n",
      " [[0. 0. 0. 0. 0.]\n",
      " [0. 0. 0. 0. 0.]\n",
      " [0. 0. 0. 0. 0.]\n",
      " [0. 0. 0. 0. 0.]\n",
      " [0. 0. 0. 0. 0.]]\n",
      "Original M33 =\n",
      " [[0. 0. 0. 0. 0.]\n",
      " [0. 0. 0. 0. 0.]\n",
      " [0. 0. 0. 0. 0.]\n",
      " [0. 0. 0. 0. 0.]\n",
      " [0. 0. 0. 0. 0.]]\n",
      "\n",
      "Original_picked M00 =\n",
      " [[0.5 0.5]\n",
      " [0.5 0.5]]\n",
      "Original_picked M01 =\n",
      " [[-0.12940952 -0.25      ]\n",
      " [-0.5        -0.48296291]]\n",
      "Original_picked M02 =\n",
      " [[ 4.82962913e-01  4.33012702e-01]\n",
      " [ 6.12323400e-17 -1.29409523e-01]]\n",
      "Original_picked M03 =\n",
      " [[0. 0.]\n",
      " [0. 0.]]\n",
      "Original_picked M10 =\n",
      " [[-0.12940952 -0.25      ]\n",
      " [-0.5        -0.48296291]]\n",
      "Original_picked M11 =\n",
      " [[0.03349365 0.125     ]\n",
      " [0.5        0.46650635]]\n",
      "Original_picked M12 =\n",
      " [[-1.25000000e-01 -2.16506351e-01]\n",
      " [-6.12323400e-17  1.25000000e-01]]\n",
      "Original_picked M13 =\n",
      " [[0. 0.]\n",
      " [0. 0.]]\n",
      "Original_picked M20 =\n",
      " [[ 4.82962913e-01  4.33012702e-01]\n",
      " [ 6.12323400e-17 -1.29409523e-01]]\n",
      "Original_picked M21 =\n",
      " [[-1.25000000e-01 -2.16506351e-01]\n",
      " [-6.12323400e-17  1.25000000e-01]]\n",
      "Original_picked M22 =\n",
      " [[4.66506351e-01 3.75000000e-01]\n",
      " [7.49879891e-33 3.34936491e-02]]\n",
      "Original_picked M23 =\n",
      " [[0. 0.]\n",
      " [0. 0.]]\n",
      "Original_picked M30 =\n",
      " [[0. 0.]\n",
      " [0. 0.]]\n",
      "Original_picked M31 =\n",
      " [[0. 0.]\n",
      " [0. 0.]]\n",
      "Original_picked M32 =\n",
      " [[0. 0.]\n",
      " [0. 0.]]\n",
      "Original_picked M33 =\n",
      " [[0. 0.]\n",
      " [0. 0.]]\n",
      "\n"
     ]
    }
   ],
   "source": [
    "M1 = Mueller('Original')\n",
    "angles = np.linspace(0,180*degrees, 25)\n",
    "M1.diattenuator_perfect(azimuth=angles, shape=[5,5])\n",
    "print(M1)\n",
    "\n",
    "M2 = M1[1:3,2:4]\n",
    "print(M2)"
   ]
  },
  {
   "cell_type": "markdown",
   "metadata": {},
   "source": [
    "# Parameters of Mueller matrices\n",
    "\n",
    "Several parameters can be measured from a Mueller Matrix. They are implemented in the independent class Parameters_Jones_Matrix, which is stored in the parameters field of Jones_matrix class.\n",
    "\n",
    "* **matrix**:  Gets a numpy array with all the matrices.\n",
    "* **components**: Extracts the four components of the Mueller matrix.\n",
    "* **global_phase**: Extracts the global phase introduced by the object.\n",
    "* **blocks**: Method that divides a mueller matrix in their blocks: mean transmission ($M_{00}$), diattenuation and polarizance vectors and small matrix m.\n",
    "* **diattenuation_vector**: Extracts the 3xN array of diattenuation vectors.\n",
    "* **polarizance_vector**: Extracts the 3xN array of polarizance vectors.\n",
    "* **small_matrix**: Extracts the 3x3xN array of small matrix m.\n",
    "* **retardance_vector**: Extracts the 3xN array of retardance vectors (if exists).\n",
    "* **mean_transmission**: Calculates the mean transmission coefficient.\n",
    "* **transmissions**: Calculates the maximum and minimum transmissions.\n",
    "* **inhomogeneity**: Calculates the inhomogeneity parameter.\n",
    "* **diattenuation**: Calculates the diattenuation of a Mueller matrix.\n",
    "* **diattenuation_linear**: Calculates the linear diattenuation of a Mueller matrix.\n",
    "* **diattenuation_circular**: Calculates the circular diattenuation of a Mueller matrix.\n",
    "* **polarizance**: Calculates the polarizance of a Mueller matrix.\n",
    "* **polarizance_linear**: Calculates the linear polarizance of a Mueller matrix.\n",
    "* **polarizance_circular**: Calculates the delay of the matrix.\n",
    "* **degree_polarizance**: Calculates the degree of polarizance.\n",
    "* **spheric_purity**: Calculates the spheric purity grade.\n",
    "* **retardance**: Calculates the retardance (also refered as delay) of the Mueller matrix of a pure retarder.\n",
    "* **polarimetric_purity**: Calculates the degree of polarimetric purity of a Mueller matrix.\n",
    "* **depolarization_index**: Calculates the depolarization_index of a Mueller matrix.\n",
    "* **polarimetric_purity_indices**: Calculates the polarimetric purity indices of a Mueller matrix.\n",
    "* **eig**: Calculates the eigenvalues and eigenstates (eigenvectors) of the Mueller matrices.\n",
    "* **eigenvalues**: Calculates the eigenvalues and of the Mueller matrices.\n",
    "* **eigenvectors**: Calculates the eigenvectors of the Mueller matrices.\n",
    "* **eigenstates**: Calculates the eigenstates (Stokes vectors of the eigenvectors) of the Mueller matrices.\n",
    "* **det**: Calculates the determinant and of the Mueller matrices.\n",
    "* **trace**: Calculates the trace of the Mueller matrices.\n",
    "* **norm**: Calculates the norm of the Mueller matrices.\n",
    "* **get_all**: Returns a dictionary with all the parameters of the object.\n",
    "\n",
    "For a more detailed description of each method, refer to the individual documentation of each one.\n",
    "\n",
    "Example:"
   ]
  },
  {
   "cell_type": "code",
   "execution_count": 18,
   "metadata": {},
   "outputs": [
    {
     "name": "stdout",
     "output_type": "stream",
     "text": [
      "Retardance = 90.0º\n"
     ]
    }
   ],
   "source": [
    "M1 = Mueller(\"Diattenuator retarder\")\n",
    "M1.diattenuator_retarder_linear(R=90*degrees, p1=1, p2=0.5)\n",
    "ret = M1.parameters.retardance()\n",
    "print(\"Retardance = {:2.1f}º\".format(ret/degrees))"
   ]
  },
  {
   "cell_type": "markdown",
   "metadata": {},
   "source": [
    "When several Stokes vectors are stored in the object, setting *verbose* argument to *True* makes the method print the values in screen. Also, 1D or 2D figures can be shown if the *draw* argument is set to *True*:"
   ]
  },
  {
   "cell_type": "code",
   "execution_count": 20,
   "metadata": {},
   "outputs": [
    {
     "name": "stdout",
     "output_type": "stream",
     "text": [
      "The retardance of Diattenuator retarder is (deg):\n",
      "90.0\n",
      "\n"
     ]
    }
   ],
   "source": [
    "M1 = Mueller(\"Diattenuator retarder\")\n",
    "M1.diattenuator_retarder_linear(R=90*degrees, p1=1, p2=0.5)\n",
    "ret = M1.parameters.retardance(verbose=True)"
   ]
  },
  {
   "cell_type": "code",
   "execution_count": 22,
   "metadata": {},
   "outputs": [
    {
     "name": "stdout",
     "output_type": "stream",
     "text": [
      "The retardance of Diattenuator retarder is (deg):\n",
      "The mean value is 89.14306286525556 +- 36.17075878552775\n"
     ]
    },
    {
     "data": {
      "image/png": "[encoded data removed]",
      "text/plain": [
       "<Figure size 360x360 with 1 Axes>"
      ]
     },
     "metadata": {
      "needs_background": "light"
     },
     "output_type": "display_data"
    },
    {
     "name": "stdout",
     "output_type": "stream",
     "text": [
      "\n"
     ]
    }
   ],
   "source": [
    "M1 = Mueller(\"Diattenuator retarder\")\n",
    "ret = np.linspace(0, 180*degrees, 124)\n",
    "M1.diattenuator_retarder_linear(R=ret, p1=1, p2=0.5)\n",
    "ret = M1.parameters.retardance(draw=True)"
   ]
  },
  {
   "cell_type": "code",
   "execution_count": 56,
   "metadata": {},
   "outputs": [
    {
     "name": "stderr",
     "output_type": "stream",
     "text": [
      "d:\\codigo_ucm\\py_pol\\py_pol\\mueller.py:2107: RuntimeWarning: invalid value encountered in true_divide\n",
      "  Dv[1, cond] = Dv[1, cond] / d[cond]\n"
     ]
    },
    {
     "name": "stdout",
     "output_type": "stream",
     "text": [
      "The field transmissions of Diattenuator are:\n",
      "The mean value of param Maximum (int.) is 0.75 +- 0.14550631161866215\n",
      "The mean value of param Minimum (int.) is 0.25 +- 0.14550631161866218\n"
     ]
    },
    {
     "data": {
      "image/png": "[encoded data removed]",
      "text/plain": [
       "<Figure size 720x360 with 4 Axes>"
      ]
     },
     "metadata": {
      "needs_background": "light"
     },
     "output_type": "display_data"
    },
    {
     "name": "stdout",
     "output_type": "stream",
     "text": [
      "\n"
     ]
    }
   ],
   "source": [
    "M1 = Mueller(\"Diattenuator\")\n",
    "p1 = np.linspace(0.5, 1, 124)\n",
    "p2 = np.linspace(0, 0.5, 124)\n",
    "P1, P2 = np.meshgrid(p1, p2)\n",
    "M1.diattenuator_azimuth_ellipticity(p1=P1, p2=P2, azimuth=30*degrees, ellipticity=15*degrees)\n",
    "p1, p2 = M1.parameters.transmissions(kind='Field', draw=True)"
   ]
  },
  {
   "cell_type": "markdown",
   "metadata": {},
   "source": [
    "There is a function in Parameters_Mueller class, *get_all* that will compute all the parameters available and stores in a dictionary *dict_params*. Info about dict parameters can be revised using the *print* function.\n",
    "\n",
    "Example:"
   ]
  },
  {
   "cell_type": "code",
   "execution_count": 34,
   "metadata": {},
   "outputs": [
    {
     "name": "stdout",
     "output_type": "stream",
     "text": [
      "The mean transmission of Diattenuator retarder is:\n",
      "0.625\n",
      "Low dimensionality, figure not available.\n",
      "\n",
      "The inhomogeneity parameter of Diattenuator retarder is:\n",
      "nan\n",
      "Low dimensionality, figure not available.\n",
      "\n",
      "The diattenuation of Diattenuator retarder is:\n",
      "1.0\n",
      "Low dimensionality, figure not available.\n",
      "\n",
      "The linear diattenuation of Diattenuator retarder is:\n",
      "1.0\n",
      "Low dimensionality, figure not available.\n",
      "\n",
      "The circular diattenuation of Diattenuator retarder is:\n",
      "0.0\n",
      "Low dimensionality, figure not available.\n",
      "\n",
      "The polarizance of Diattenuator retarder is:\n",
      "1.0\n",
      "Low dimensionality, figure not available.\n",
      "\n",
      "The linear polarizance of Diattenuator retarder is:\n",
      "1.0\n",
      "Low dimensionality, figure not available.\n",
      "\n",
      "The circular polarizance of Diattenuator retarder is:\n",
      "0.0\n",
      "Low dimensionality, figure not available.\n",
      "\n",
      "The degree of spherical purity of Diattenuator retarder is:\n",
      "0.8717797887081348\n",
      "Low dimensionality, figure not available.\n",
      "\n",
      "The retardance of Diattenuator retarder is (deg):\n",
      "90.0\n",
      "Low dimensionality, figure not available.\n",
      "\n",
      "The degree of polarimetric purity of Diattenuator retarder is:\n",
      "1.1944315244779278\n",
      "Low dimensionality, figure not available.\n",
      "\n",
      "The depolarization index of Diattenuator retarder is:\n",
      "nan\n",
      "Low dimensionality, figure not available.\n",
      "\n",
      "The polarimetric purity indices of Diattenuator retarder are:\n",
      "  P1\n",
      "1.0\n",
      "  P2\n",
      "1.2806248474865698\n",
      "  P3\n",
      "1.2806248474865698\n",
      "Low dimensionality, figure not available.\n",
      "\n",
      "The intensity transmissions of Diattenuator retarder are:\n",
      "  Maximum (int.)\n",
      "1.25\n",
      "  Minimum (int.)\n",
      "0.0\n",
      "Low dimensionality, figure not available.\n",
      "\n",
      "The field transmissions of Diattenuator retarder are:\n",
      "  Maximum (int.)\n",
      "1.118033988749895\n",
      "  Minimum (int.)\n",
      "0.0\n",
      "Low dimensionality, figure not available.\n",
      "\n",
      "The retardance of Diattenuator retarder is (deg):\n",
      "90.0\n",
      "Low dimensionality, figure not available.\n",
      "\n",
      "The eigenvalues of Diattenuator retarder are:\n",
      "  v1\n",
      "(1.25+0j)\n",
      "  v2\n",
      "(1.1102230246251565e-16+0j)\n",
      "  v3\n",
      "(3.061616997868383e-17+0.5000000000000001j)\n",
      "  v4\n",
      "(3.061616997868383e-17-0.5000000000000001j)\n",
      "Low dimensionality, figure not available.\n",
      "\n",
      "The eigenvectors of Diattenuator retarder are:\n",
      "  e1 I\n",
      "[0.70710678+0.j]\n",
      "  e1 Q\n",
      "[0.70710678+0.j]\n",
      "  e1 U\n",
      "[0.+0.j]\n",
      "  e1 V\n",
      "[0.+0.j]\n",
      "  e2 I\n",
      "[-0.70710678+0.j]\n",
      "  e2 Q\n",
      "[0.70710678+0.j]\n",
      "  e2 U\n",
      "[0.+0.j]\n",
      "  e2 V\n",
      "[0.+0.j]\n",
      "  e3 I\n",
      "[0.+0.j]\n",
      "  e3 Q\n",
      "[0.+0.j]\n",
      "  e3 U\n",
      "[0.-0.70710678j]\n",
      "  e3 V\n",
      "[0.70710678+0.j]\n",
      "  e4 I\n",
      "[0.-0.j]\n",
      "  e4 Q\n",
      "[0.-0.j]\n",
      "  e4 U\n",
      "[0.+0.70710678j]\n",
      "  e4 V\n",
      "[0.70710678-0.j]\n",
      "Low dimensionality, figure not available.\n",
      "\n",
      "The determinant of Diattenuator retarder is:\n",
      "0.0\n",
      "Low dimensionality, figure not available.\n",
      "\n",
      "The trace of Diattenuator retarder is:\n",
      "1.25\n",
      "Low dimensionality, figure not available.\n",
      "\n",
      "The norm of Diattenuator retarder is:\n",
      "1.4361406616345072\n",
      "Low dimensionality, figure not available.\n",
      "\n",
      "\n"
     ]
    },
    {
     "name": "stderr",
     "output_type": "stream",
     "text": [
      "d:\\codigo_ucm\\py_pol\\py_pol\\mueller.py:3306: RuntimeWarning: invalid value encountered in sqrt\n",
      "  obj=self.parent)\n",
      "d:\\codigo_ucm\\py_pol\\py_pol\\mueller.py:3753: RuntimeWarning: invalid value encountered in sqrt\n",
      "  \"\"\"\n"
     ]
    }
   ],
   "source": [
    "M1 = Mueller(\"Diattenuator retarder\")\n",
    "M1.diattenuator_retarder_linear(R=90*degrees, p1=1, p2=0.5)\n",
    "print(M1.parameters)"
   ]
  },
  {
   "cell_type": "markdown",
   "metadata": {},
   "source": [
    "# Checks on Mueller Matrices\n",
    "\n",
    "There are many types of Mueller matrices. The Check_Mueller calss implements all the checks that can be performed in order to clasify a Mueller matrix. They are stored in the *checks* field of Mueller class.\n",
    "\n",
    "* **is_physical**:  Conditions of physical realizability.\n",
    "* **is_non_depolarizing / is_pure**: Checks if matrix is non-depolarizing.\n",
    "* **is_homogeneous**: Checks if the matrix is homogeneous (eigenstates are orthogonal). It is implemented in two different ways.\n",
    "* **is_retarder**: Checks if the matrix M corresponds to a pure retarder.\n",
    "* **is_diattenuator / is_polarizer**: Checks if the matrix M corresponds to a pure homogeneous diattenuator.\n",
    "* **is_depolarizer**: Checks if the object corresponds to a depolarizer.\n",
    "* **is_singular**: Checks if the matrix is singular (at least one of its eigenvalues is 0).\n",
    "* **is_symmetric**: Checks if the Mueller matrices are symmetric.\n",
    "* **get_all**: Returns a dictionary with all the checks of the object.\n",
    "\n",
    "Example: linear diattenuator."
   ]
  },
  {
   "cell_type": "code",
   "execution_count": 55,
   "metadata": {},
   "outputs": [
    {
     "name": "stdout",
     "output_type": "stream",
     "text": [
      "Diattenuator = \n",
      "[+0.625 +0.375 +0.000 +0.000]   \n",
      "[+0.375 +0.625 +0.000 +0.000]   \n",
      "[+0.000 +0.000 +0.500 +0.000]   \n",
      "[+0.000 +0.000 +0.000 +0.500]   \n",
      "\n",
      "The inhomogeneity parameter of Diattenuator is:\n",
      "0.0\n",
      "\n",
      "Diattenuator is physically realizable:\n",
      "True\n",
      "\n",
      "Diattenuator is homogeneous:\n",
      "True\n",
      "\n",
      "Diattenuator is a retarder:\n",
      "False\n",
      "\n"
     ]
    }
   ],
   "source": [
    "M1 = Mueller(\"Diattenuator\")\n",
    "M1.diattenuator_linear(p1=1, p2=0.5)\n",
    "print(M1)\n",
    "\n",
    "M1.parameters.inhomogeneity(verbose=True)\n",
    "\n",
    "c1 = M1.checks.is_physical(verbose=True)\n",
    "c2 = M1.checks.is_homogeneous(verbose=True)\n",
    "c3 = M1.checks.is_retarder(verbose=True)"
   ]
  },
  {
   "cell_type": "markdown",
   "metadata": {},
   "source": [
    "1D and 2D plot draws are also implemented for this class:"
   ]
  },
  {
   "cell_type": "code",
   "execution_count": 58,
   "metadata": {},
   "outputs": [
    {
     "name": "stderr",
     "output_type": "stream",
     "text": [
      "d:\\codigo_ucm\\py_pol\\py_pol\\jones_matrix.py:517: ComplexWarning: Casting complex values to real discards the imaginary part\n",
      "  self.M = np.array(self.M, dtype=float)\n"
     ]
    },
    {
     "name": "stdout",
     "output_type": "stream",
     "text": [
      "Diattenuator is a diattenuator:\n",
      "The mean value is 0.9999349635796045 +- 0.008064253881137646\n"
     ]
    },
    {
     "data": {
      "image/png": "[encoded data removed]",
      "text/plain": [
       "<Figure size 360x360 with 2 Axes>"
      ]
     },
     "metadata": {
      "needs_background": "light"
     },
     "output_type": "display_data"
    },
    {
     "name": "stdout",
     "output_type": "stream",
     "text": [
      "\n"
     ]
    },
    {
     "data": {
      "text/plain": [
       "array([[ True,  True,  True, ...,  True,  True,  True],\n",
       "       [ True,  True,  True, ...,  True,  True,  True],\n",
       "       [ True,  True,  True, ...,  True,  True,  True],\n",
       "       ...,\n",
       "       [ True,  True,  True, ...,  True,  True,  True],\n",
       "       [ True,  True,  True, ...,  True,  True,  True],\n",
       "       [False,  True,  True, ...,  True,  True,  True]])"
      ]
     },
     "execution_count": 58,
     "metadata": {},
     "output_type": "execute_result"
    }
   ],
   "source": [
    "M1 = Mueller(\"Diattenuator\")\n",
    "p1 = np.linspace(0.5, 1, 124)\n",
    "p2 = np.linspace(0, 0.5, 124)\n",
    "P1, P2 = np.meshgrid(p1, p2)\n",
    "M1.diattenuator_linear(p1=P1, p2=P2, azimuth=30*degrees)\n",
    "M1.checks.is_diattenuator(draw=True)"
   ]
  },
  {
   "cell_type": "markdown",
   "metadata": {},
   "source": [
    "There is a function in Checks_Mueller class, **.get_all()** that will compute all the checks available and store them in a dictionary **.dict_params()**. Info about dict checks can be revised using the **print** function.\n",
    "\n",
    "Example:"
   ]
  },
  {
   "cell_type": "code",
   "execution_count": 73,
   "metadata": {},
   "outputs": [
    {
     "name": "stdout",
     "output_type": "stream",
     "text": [
      "Diattenuator is physically realizable:\n",
      "True\n",
      "Low dimensionality, figure not available.\n",
      "\n",
      "Diattenuator is pure (non-depolarizing):\n",
      "True\n",
      "Low dimensionality, figure not available.\n",
      "\n",
      "Diattenuator is homogeneous:\n",
      "True\n",
      "Low dimensionality, figure not available.\n",
      "\n",
      "Diattenuator is a retarder:\n",
      "False\n",
      "Low dimensionality, figure not available.\n",
      "\n",
      "Diattenuator is a diattenuator:\n",
      "[ True]\n",
      "Low dimensionality, figure not available.\n",
      "\n",
      "Diattenuator is a depolarizer:\n",
      "[False]\n",
      "Low dimensionality, figure not available.\n",
      "\n",
      "Diattenuator is singular:\n",
      "False\n",
      "Low dimensionality, figure not available.\n",
      "\n",
      "Diattenuator is symmetric:\n",
      "True\n",
      "Low dimensionality, figure not available.\n",
      "\n",
      "\n"
     ]
    }
   ],
   "source": [
    "M1 = Mueller(\"Diattenuator\")\n",
    "M1.diattenuator_linear(p1=1, p2=0.5)\n",
    "print(M1.checks)"
   ]
  },
  {
   "cell_type": "markdown",
   "metadata": {},
   "source": [
    "# Analysis of Mueller matrices\n",
    "\n",
    "Several analysis can be performed from a Mueller Matrix. They are implemented in the independent class Analysis_Mueller, which is stored in the *analysis* field of Mueller class.\n",
    "\n",
    "* **diattenuator**: Calculates all the parameters from the Mueller Matrix of a diattenuator.\n",
    "* **polarizer**: Calculates all the parameters from the Mueller Matrix of a diattenuator using the polarizance vector. If the polarizer is homogeneous, this is equivalent to the previous method.\n",
    "* **retarder**: Calculates all the parameters from the Mueller Matrix of a retarder.\n",
    "* **depolarizer**: Calculates some of the parameters from the Mueller matrix of a diattenuator.\n",
    "* **filter_physical_conditions**: Method that filters experimental errors by forcing the Mueller matrix M to fulfill the conditions necessary for a matrix to be physicall.\n",
    "* **filter_purify_number**: Purifies a Mueller matrix by choosing the number of eigenvalues of the covariant matrix that will be made 0.\n",
    "* **filter_purify_threshold**: Purifies a Mueller matrix by making 0 the eigenvalues of the covariant matrix lower than a certain threshold.\n",
    "* **decompose_pure**: Polar decomposition of a pure Mueller matrix in a retarder and a diattenuator.\n",
    "* **decompose_polar**: Polar decomposition of a general Mueller matrix in a depolarizer, retarder and a diattenuator."
   ]
  },
  {
   "cell_type": "code",
   "execution_count": 75,
   "metadata": {},
   "outputs": [
    {
     "name": "stdout",
     "output_type": "stream",
     "text": [
      "Diattenuator = \n",
      "[+0.625 -0.162 +0.094 +0.325]   \n",
      "[-0.162 +0.523 -0.014 -0.047]   \n",
      "[+0.094 -0.014 +0.508 +0.027]   \n",
      "[+0.325 -0.047 +0.027 +0.594]   \n",
      "\n",
      "\n",
      "Analysis of Diattenuator as diattenuator:\n",
      "\n",
      "- Transmissions of Diattenuator are:\n",
      "  Max. transmission\n",
      "1.0\n",
      "  Min. transmission\n",
      "0.25\n",
      "  p1\n",
      "1.0\n",
      "  p2\n",
      "0.5\n",
      "\n",
      "- Angles of Diattenuator are:\n",
      "  Alpha\n",
      "[57.82945314]\n",
      "  Delay\n",
      "[73.89788625]\n",
      "  Azimuth\n",
      "[75.]\n",
      "  Ellipticity angle\n",
      "[30.]\n",
      "\n"
     ]
    }
   ],
   "source": [
    "M1 = Mueller(\"Diattenuator\")\n",
    "M1.diattenuator_azimuth_ellipticity(p1=1, p2=0.5, azimuth=75*degrees, ellipticity=30*degrees)\n",
    "print(M1)\n",
    "M1.analysis.diattenuator(verbose=True);"
   ]
  },
  {
   "cell_type": "code",
   "execution_count": null,
   "metadata": {},
   "outputs": [],
   "source": []
  }
 ],
 "metadata": {
  "kernelspec": {
   "display_name": "Python 3",
   "language": "python",
   "name": "python3"
  },
  "language_info": {
   "codemirror_mode": {
    "name": "ipython",
    "version": 3
   },
   "file_extension": ".py",
   "mimetype": "text/x-python",
   "name": "python",
   "nbconvert_exporter": "python",
   "pygments_lexer": "ipython3",
   "version": "3.7.1"
  },
  "toc": {
   "base_numbering": 1,
   "nav_menu": {},
   "number_sections": true,
   "sideBar": true,
   "skip_h1_title": false,
   "title_cell": "Table of Contents",
   "title_sidebar": "Contents",
   "toc_cell": false,
   "toc_position": {},
   "toc_section_display": true,
   "toc_window_display": false
  },
  "varInspector": {
   "cols": {
    "lenName": 16,
    "lenType": 16,
    "lenVar": 40
   },
   "kernels_config": {
    "python": {
     "delete_cmd_postfix": "",
     "delete_cmd_prefix": "del ",
     "library": "var_list.py",
     "varRefreshCmd": "print(var_dic_list())"
    },
    "r": {
     "delete_cmd_postfix": ") ",
     "delete_cmd_prefix": "rm(",
     "library": "var_list.r",
     "varRefreshCmd": "cat(var_dic_list()) "
    }
   },
   "types_to_exclude": [
    "module",
    "function",
    "builtin_function_or_method",
    "instance",
    "_Feature"
   ],
   "window_display": false
  }
 },
 "nbformat": 4,
 "nbformat_minor": 2
}
