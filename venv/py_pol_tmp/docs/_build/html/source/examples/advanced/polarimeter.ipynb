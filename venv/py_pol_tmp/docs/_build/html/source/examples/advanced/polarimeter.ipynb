{
 "cells": [
  {
   "cell_type": "markdown",
   "metadata": {},
   "source": [
    "# Polarimeter"
   ]
  },
  {
   "cell_type": "markdown",
   "metadata": {},
   "source": [
    "## Introduction"
   ]
  },
  {
   "cell_type": "markdown",
   "metadata": {},
   "source": [
    "A polarimeter is a device to determine de polarization state of a sample. The main components of a polarimeter are: \n",
    "* Light Source\n",
    "* Polarization states generator\n",
    "* Sample to measure\n",
    "* Polarization states analyzer\n",
    "* Detection system\n",
    "\n",
    "The States generator is formed by a linear polarizer and a $\\lambda$/2 waveplate in order to generate any desired state.\n",
    "\n",
    "The States analyzer is also formed by a linear polarizer and a $\\lambda$/2 waveplate, but in reverse order.\n",
    "\n",
    "The polarimetric properties of the sample, polarizers of the generator and analyzer moves in order to determine the polarimetric propierties of the sample, given by its 4x4 Mueller matrix. Also, the 2x2 Jones matrix can be determine, although not complete information is obtained.\n",
    "\n",
    "In is example, we will simulate the intensity distribution at the output of an ideal polarimeter given a certain sample. "
   ]
  },
  {
   "cell_type": "markdown",
   "metadata": {},
   "source": [
    "## Import required Modules\n",
    "\n"
   ]
  },
  {
   "cell_type": "markdown",
   "metadata": {},
   "source": [
    "## Definition of elements\n",
    "\n",
    "Here we have to create the different elements that define our experiment: the light source, the polarimeter optical elements, and the sample which is going to be measured."
   ]
  },
  {
   "cell_type": "code",
   "execution_count": 2,
   "metadata": {},
   "outputs": [],
   "source": [
    "# Define the light source\n",
    "source = Stokes('s0')\n",
    "source.circular_light('r')"
   ]
  },
  {
   "cell_type": "code",
   "execution_count": 3,
   "metadata": {},
   "outputs": [
    {
     "data": {
      "text/plain": [
       "matrix([[4.10000000e-01, 2.44929360e-17, 2.82842712e-01, 2.82842712e-01],\n",
       "        [2.44929360e-17, 9.00000000e-02, 1.38552969e-17, 1.38552969e-17],\n",
       "        [2.82842712e-01, 1.38552969e-17, 2.50000000e-01, 1.60000000e-01],\n",
       "        [2.82842712e-01, 1.38552969e-17, 1.60000000e-01, 2.50000000e-01]])"
      ]
     },
     "execution_count": 3,
     "metadata": {},
     "output_type": "execute_result"
    }
   ],
   "source": [
    "# Define sample\n",
    "sample = Mueller('sample')\n",
    "sample.diattenuator_charac_angles_from_vector(\n",
    "    p1=.9, p2=.1, alpha=45*degrees, delay=45*degrees)"
   ]
  },
  {
   "cell_type": "code",
   "execution_count": 14,
   "metadata": {},
   "outputs": [],
   "source": [
    "# Define polarimeter optical elements\n",
    "pol_0=Mueller('p0')\n",
    "pol_0.diattenuator_perfect(angle=0)\n",
    "\n",
    "pol_1=Mueller('p1')\n",
    "pol_1.quarter_waveplate(angle=0 * degrees)\n",
    "\n",
    "pol_2=Mueller('p2')\n",
    "pol_2.quarter_waveplate(angle=0 * degrees)\n",
    "\n",
    "pol_3=Mueller('p3')\n",
    "pol_3.diattenuator_perfect(angle=0)\n",
    "\n",
    "\n",
    "elements = [pol_0, pol_1, pol_2, pol_3]\n"
   ]
  },
  {
   "cell_type": "markdown",
   "metadata": {},
   "source": [
    "## Definition of polarimeter\n",
    "\n",
    "Here qe are going to create a function that mimics the behavior of the polarimeter experiment. We give it the illumination, the sample, the optical elements of the polarimeter, and a set of rotation angles for those elements. The output of the function will be the intensity corresponding to each set of angles."
   ]
  },
  {
   "cell_type": "code",
   "execution_count": 15,
   "metadata": {},
   "outputs": [],
   "source": [
    "def polarimeter(J0, sample, elements, angles_list):\n",
    "    \n",
    "    intensities = np.zeros(len(angles_list),float)\n",
    "    #J1s=[]\n",
    "    #systems=[]\n",
    "    \n",
    "    for i, angles in enumerate(angles_list):\n",
    "\n",
    "        angle0, angle1, angle2, angle3 = angles\n",
    "\n",
    "        # Elements matrices\n",
    "        pol_0 = elements[0].rotate(angle0, keep=False)\n",
    "        pol_1 = elements[1].rotate(angle1, keep=False)\n",
    "        pol_2 = elements[2].rotate(angle2, keep=False)\n",
    "        pol_3 = elements[3].rotate(angle3, keep=False)\n",
    "\n",
    "        #System matrix\n",
    "        system = pol_3*pol_2*sample*pol_1*pol_0\n",
    "        system.name = 'System'\n",
    "        \n",
    "        J1 = system*J0\n",
    "\n",
    "        intensities[i] = J1.parameters.intensity()\n",
    "        #J1s.append(J1)\n",
    "        #systems.append(system)\n",
    "    \n",
    "    return intensities# , J1s, systems\n",
    "    "
   ]
  },
  {
   "cell_type": "markdown",
   "metadata": {},
   "source": [
    "## Example\n",
    "\n",
    "We are going to test the polarimeter function to see how they work."
   ]
  },
  {
   "cell_type": "markdown",
   "metadata": {},
   "source": [
    "### Just 1 position\n",
    "\n",
    "Here we insert the function just a set of angles, corresponding to 1 measurement."
   ]
  },
  {
   "cell_type": "code",
   "execution_count": 6,
   "metadata": {},
   "outputs": [
    {
     "name": "stdout",
     "output_type": "stream",
     "text": [
      "[0.125]\n"
     ]
    }
   ],
   "source": [
    "angles = [0, pi / 4, pi / 4, 0],\n",
    "intensities = polarimeter(source, sample, elements, angles)\n",
    "print(intensities)"
   ]
  },
  {
   "cell_type": "markdown",
   "metadata": {},
   "source": [
    "### Several positions\n",
    "\n",
    "Now we will make several measurements."
   ]
  },
  {
   "cell_type": "code",
   "execution_count": 7,
   "metadata": {},
   "outputs": [],
   "source": [
    "# Define a set of angles\n",
    "angles_list = [\n",
    "    [0, pi / 4, pi / 4, 0],\n",
    "    [0, pi / 4, pi / 4, pi / 4],\n",
    "    [0, pi / 4, pi / 4, pi / 2],\n",
    "    [0, pi / 4, pi / 4, pi / 2],\n",
    "    [pi / 2, pi / 4, pi / 4, pi / 4],\n",
    "    [pi / 4, pi / 4, pi / 4, pi / 4],\n",
    "]"
   ]
  },
  {
   "cell_type": "code",
   "execution_count": 8,
   "metadata": {},
   "outputs": [
    {
     "name": "stdout",
     "output_type": "stream",
     "text": [
      "[0.125      0.17321068 0.08       0.08       0.17321068 0.30642136]\n"
     ]
    }
   ],
   "source": [
    "# Perform the experiment\n",
    "intensities = polarimeter(source, sample, elements, angles_list)\n",
    "print(intensities)"
   ]
  },
  {
   "cell_type": "markdown",
   "metadata": {},
   "source": [
    "### Rotate waveplate of generator\n",
    "\n",
    "We can investigate how the measured intensity changes as we rotate just one element, for example, a retarder."
   ]
  },
  {
   "cell_type": "code",
   "execution_count": 9,
   "metadata": {},
   "outputs": [],
   "source": [
    "# Define a set of angles\n",
    "angle_0 = 45*degrees\n",
    "angle_1 = np.linspace(0,360*degrees, 91)\n",
    "angle_2 = 45*degrees\n",
    "angle_3 = 0*degrees\n",
    "\n",
    "angles_list = np.zeros((len(angle_1),4),dtype=float)\n",
    "angles_list[:,0]=angle_0\n",
    "angles_list[:,1]=angle_1\n",
    "angles_list[:,2]=angle_2\n",
    "angles_list[:,3]=angle_3\n",
    "\n",
    "angles_list.tolist();"
   ]
  },
  {
   "cell_type": "code",
   "execution_count": 10,
   "metadata": {},
   "outputs": [],
   "source": [
    "# Perform the experiment\n",
    "intensities = polarimeter(source, sample, elements, angles_list)"
   ]
  },
  {
   "cell_type": "code",
   "execution_count": 11,
   "metadata": {},
   "outputs": [
    {
     "data": {
      "image/png": "[encoded data removed]",
      "text/plain": [
       "<Figure size 432x288 with 1 Axes>"
      ]
     },
     "metadata": {
      "needs_background": "light"
     },
     "output_type": "display_data"
    }
   ],
   "source": [
    "# Plot the result\n",
    "plt.figure()\n",
    "plt.plot(angle_1/degrees, intensities,'k', lw=2)\n",
    "plt.xlabel('$\\phi_2\\,\\ (^0) $')\n",
    "plt.ylabel('intensity');"
   ]
  },
  {
   "cell_type": "markdown",
   "metadata": {},
   "source": [
    "## Measure the Mueller matrix\n",
    "\n",
    "Now, we will see how we can measure the Mueller matrix of the sample. Our case is very simple, as we have a polarimeter with ideal elements and a detector without errors. So, in our case, we only need 16 different measurements in order to determine the Mueller matrix of the sample. \n",
    "\n",
    "The procedure to calculate the Mueller matrix of the sample is described in detail in \"Handbook of Optics\", M. Bass et al., Vol II, Chapter 22 section 18. Now we will implement it."
   ]
  },
  {
   "cell_type": "code",
   "execution_count": 31,
   "metadata": {},
   "outputs": [],
   "source": [
    "def calculate_Mueller(illum, elements, angles, intensities):\n",
    "    \n",
    "    # Prealocate memory\n",
    "    system = np.matrix(np.zeros([16,16]))\n",
    "    \n",
    "    # Loop along measurements\n",
    "    for ind in range(16):\n",
    "\n",
    "        angle0, angle1, angle2, angle3 = angles[ind,:]\n",
    "\n",
    "        # Elements matrices\n",
    "        pol_0 = elements[0].rotate(angle0, keep=False)\n",
    "        pol_1 = elements[1].rotate(angle1, keep=False)\n",
    "        pol_2 = elements[2].rotate(angle2, keep=False)\n",
    "        pol_3 = elements[3].rotate(angle3, keep=False)\n",
    "\n",
    "        # Polarimeter matrices\n",
    "        generator = pol_1 * pol_0 * illum\n",
    "        generator.name = 'Generator'\n",
    "        analyzer = pol_3 * pol_2\n",
    "        analyzer.name = 'Analyzer'\n",
    "        \n",
    "        # System matrix\n",
    "        a_vector = analyzer.M[0,:]\n",
    "        g_vector = generator.M\n",
    "        s_vector = np.kron(a_vector, g_vector.T)\n",
    "        system[ind,:] = s_vector\n",
    "        \n",
    "    # Calculate Mueller matrix\n",
    "    m_vector = system.I * intensities\n",
    "    Msample = m_vector.reshape([4,4])\n",
    "    return Msample"
   ]
  },
  {
   "cell_type": "code",
   "execution_count": 32,
   "metadata": {},
   "outputs": [
    {
     "name": "stdout",
     "output_type": "stream",
     "text": [
      "The Mueller matrix of the sample is:\n",
      "sample = \n",
      "  [+0.410, +0.000, +0.283, +0.283]\n",
      "  [+0.000, +0.090, +0.000, +0.000]\n",
      "  [+0.283, +0.000, +0.250, +0.160]\n",
      "  [+0.283, +0.000, +0.160, +0.250]\n",
      "\n",
      "The calculated Mueller matrix is:\n",
      "Calculated = \n",
      "  [+0.410, +0.000, +0.283, +0.283]\n",
      "  [+0.000, +0.090, -0.000, +0.000]\n",
      "  [+0.283, -0.000, +0.250, +0.160]\n",
      "  [+0.283, -0.000, +0.160, +0.250]\n",
      "\n"
     ]
    }
   ],
   "source": [
    "# Create a set of angles for measurements\n",
    "angles = np.random.rand(16,4)*pi\n",
    "# Calculate intensities measured by the polarimeter\n",
    "intensities = polarimeter(source, sample, elements, angles)\n",
    "intensities = np.matrix(intensities).T\n",
    "# Calculate the Mueller matrix\n",
    "Mcalculated = calculate_Mueller(source, elements, angles, intensities)\n",
    "sampleC = Mueller('Calculated')\n",
    "sampleC.from_matrix(Mcalculated)\n",
    "# Print results\n",
    "print(\"The Mueller matrix of the sample is:\")\n",
    "print(sample)\n",
    "print(\"The calculated Mueller matrix is:\")\n",
    "print(sampleC)"
   ]
  }
 ],
 "metadata": {
  "kernelspec": {
   "display_name": "Python 3",
   "language": "python",
   "name": "python3"
  },
  "language_info": {
   "codemirror_mode": {
    "name": "ipython",
    "version": 3
   },
   "file_extension": ".py",
   "mimetype": "text/x-python",
   "name": "python",
   "nbconvert_exporter": "python",
   "pygments_lexer": "ipython3",
   "version": "3.7.1"
  },
  "latex_envs": {
   "LaTeX_envs_menu_present": true,
   "autocomplete": true,
   "bibliofile": "biblio.bib",
   "cite_by": "apalike",
   "current_citInitial": 1,
   "eqLabelWithNumbers": true,
   "eqNumInitial": 1,
   "hotkeys": {
    "equation": "Ctrl-E",
    "itemize": "Ctrl-I"
   },
   "labels_anchors": false,
   "latex_user_defs": false,
   "report_style_numbering": true,
   "user_envs_cfg": true
  },
  "toc": {
   "base_numbering": 1,
   "nav_menu": {
    "height": "66px",
    "width": "253px"
   },
   "number_sections": true,
   "sideBar": true,
   "skip_h1_title": false,
   "title_cell": "Table of Contents",
   "title_sidebar": "Contents",
   "toc_cell": false,
   "toc_position": {},
   "toc_section_display": "block",
   "toc_window_display": false
  }
 },
 "nbformat": 4,
 "nbformat_minor": 2
}
