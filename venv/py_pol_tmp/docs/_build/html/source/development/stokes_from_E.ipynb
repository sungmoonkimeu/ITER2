{
 "cells": [
  {
   "cell_type": "markdown",
   "metadata": {},
   "source": [
    "# Check behaviour: Stokes.from_distribution\n",
    "\n",
    "We have a definition that is not clear to us. We check that the function Stokes.from_distribution is working properly."
   ]
  },
  {
   "cell_type": "code",
   "execution_count": 73,
   "metadata": {},
   "outputs": [],
   "source": [
    "import scipy as sp\n",
    "import numpy as np\n",
    "import matplotlib.pyplot as plt"
   ]
  },
  {
   "cell_type": "code",
   "execution_count": 74,
   "metadata": {},
   "outputs": [],
   "source": [
    "t=np.linspace(0,100,1000)"
   ]
  },
  {
   "cell_type": "markdown",
   "metadata": {},
   "source": [
    "## Definition"
   ]
  },
  {
   "cell_type": "code",
   "execution_count": 75,
   "metadata": {},
   "outputs": [],
   "source": [
    "def E_field(A1, A2, phase, has_draw=True):\n",
    "    w=1\n",
    "    Ex=A1*np.exp(-1j*(w*t))\n",
    "    Ey=A2*np.exp(-1j*(w*t+phase))\n",
    "    if has_draw:\n",
    "        plt.plot(Ex.real,Ey.real)\n",
    "        plt.axis('square');\n",
    "        plt.axis('equal')\n",
    "    return Ex, Ey"
   ]
  },
  {
   "cell_type": "code",
   "execution_count": 112,
   "metadata": {},
   "outputs": [],
   "source": [
    "def from_distribution(Ex,Ey, is_normalized=True):\n",
    "    \"\"\"Creates a 4x1 Stokes vector from a [Ex(t), Ey(t)] electric field.\n",
    "\n",
    "    Parameters:\n",
    "        Ex (numpy.array): Ex(t)\n",
    "        Ey (numpy.array): Ey(t)\n",
    "        is_normalized (bool): If True intensity is normalized\n",
    "\n",
    "    Returns:\n",
    "        S (4x1 numpy.matrix): Stokes vector (I, Q, U, V).\n",
    "    \"\"\"\n",
    "\n",
    "    S = np.matrix(np.array([[0.0], [0.0], [0.0], [0.0]]))\n",
    "    S[0] = (np.conjugate(Ex) * Ex + np.conjugate(Ey) * Ey).mean().real\n",
    "    S[1] = (np.conjugate(Ex) * Ex - np.conjugate(Ey) * Ey).mean().real\n",
    "    S[2] = 2 * (Ex * np.conjugate(Ey)).mean().real\n",
    "    S[3] = -2 * (Ex * np.conjugate(Ey)).mean().imag\n",
    "    \n",
    "    if is_normalized:\n",
    "        S=S/S[0]\n",
    "    \n",
    "    return S"
   ]
  },
  {
   "cell_type": "code",
   "execution_count": 113,
   "metadata": {},
   "outputs": [],
   "source": [
    "def from_distribution2(Ex,Ey, is_normalized=False):\n",
    "    \"\"\"Creates a 4x1 Stokes vector from a [Ex(t), Ey(t)] electric field.\n",
    "\n",
    "    Parameters:\n",
    "        Ex (numpy.array): Ex(t)\n",
    "        Ey (numpy.array): Ey(t)\n",
    "        is_normalized (bool): If True intensity is normalized\n",
    "\n",
    "    Returns:\n",
    "        S (4x1 numpy.matrix): Stokes vector (I, Q, U, V).\n",
    "    \"\"\"\n",
    "\n",
    "    S = np.matrix(np.array([[0.0], [0.0], [0.0], [0.0]]))\n",
    "    S[0] = (np.conjugate(Ex) * Ex + np.conjugate(Ey) * Ey).mean().real\n",
    "    S[1] = (np.conjugate(Ex) * Ex - np.conjugate(Ey) * Ey).mean().real\n",
    "    S[2] = (Ex * np.conjugate(Ey)+Ey*np.conjugate(Ex)).mean().real\n",
    "    S[3] = (1j*(Ex * np.conjugate(Ey)-Ey*np.conjugate(Ex)).mean()).real\n",
    "    \n",
    "    if is_normalized:\n",
    "        S=S/S[0]\n",
    "    \n",
    "    return S"
   ]
  },
  {
   "cell_type": "markdown",
   "metadata": {},
   "source": [
    "## Example 1: linear polarization"
   ]
  },
  {
   "cell_type": "code",
   "execution_count": 114,
   "metadata": {},
   "outputs": [
    {
     "name": "stdout",
     "output_type": "stream",
     "text": [
      "[[ 1.]\n",
      " [ 1.]\n",
      " [ 0.]\n",
      " [-0.]] \n",
      "\n",
      " [[1.]\n",
      " [1.]\n",
      " [0.]\n",
      " [0.]]\n"
     ]
    },
    {
     "data": {
      "image/png": "[encoded data removed]",
      "text/plain": [
       "<Figure size 432x288 with 1 Axes>"
      ]
     },
     "metadata": {
      "needs_background": "light"
     },
     "output_type": "display_data"
    }
   ],
   "source": [
    "Ex, Ey = E_field(1,0,0, has_draw=True)\n",
    "r1=from_distribution(Ex,Ey, is_normalized=False)\n",
    "r2=from_distribution2(Ex,Ey, is_normalized=False)\n",
    "print(r1,'\\n\\n',r2)"
   ]
  },
  {
   "cell_type": "code",
   "execution_count": 115,
   "metadata": {},
   "outputs": [
    {
     "name": "stdout",
     "output_type": "stream",
     "text": [
      "[[ 9.]\n",
      " [-9.]\n",
      " [ 0.]\n",
      " [-0.]] \n",
      "\n",
      " [[ 9.]\n",
      " [-9.]\n",
      " [ 0.]\n",
      " [ 0.]]\n"
     ]
    },
    {
     "data": {
      "image/png": "[encoded data removed]",
      "text/plain": [
       "<Figure size 432x288 with 1 Axes>"
      ]
     },
     "metadata": {
      "needs_background": "light"
     },
     "output_type": "display_data"
    }
   ],
   "source": [
    "Ex, Ey = E_field(0,3,0, has_draw=True)\n",
    "r1=from_distribution(Ex,Ey, is_normalized=False)\n",
    "r2=from_distribution2(Ex,Ey, is_normalized=False)\n",
    "print(r1,'\\n\\n',r2)"
   ]
  },
  {
   "cell_type": "code",
   "execution_count": 116,
   "metadata": {},
   "outputs": [
    {
     "name": "stdout",
     "output_type": "stream",
     "text": [
      "[[ 2.]\n",
      " [ 0.]\n",
      " [ 2.]\n",
      " [-0.]] \n",
      "\n",
      " [[2.]\n",
      " [0.]\n",
      " [2.]\n",
      " [0.]]\n"
     ]
    },
    {
     "data": {
      "image/png": "[encoded data removed]",
      "text/plain": [
       "<Figure size 432x288 with 1 Axes>"
      ]
     },
     "metadata": {
      "needs_background": "light"
     },
     "output_type": "display_data"
    }
   ],
   "source": [
    "Ex, Ey = E_field(1,1,0, has_draw=True)\n",
    "r1=from_distribution(Ex,Ey, is_normalized=False)\n",
    "r2=from_distribution2(Ex,Ey, is_normalized=False)\n",
    "print(r1,'\\n\\n',r2)"
   ]
  },
  {
   "cell_type": "code",
   "execution_count": 117,
   "metadata": {},
   "outputs": [
    {
     "name": "stdout",
     "output_type": "stream",
     "text": [
      "[[ 2.]\n",
      " [ 0.]\n",
      " [-2.]\n",
      " [-0.]] \n",
      "\n",
      " [[ 2.]\n",
      " [ 0.]\n",
      " [-2.]\n",
      " [ 0.]]\n"
     ]
    },
    {
     "data": {
      "image/png": "[encoded data removed]",
      "text/plain": [
       "<Figure size 432x288 with 1 Axes>"
      ]
     },
     "metadata": {
      "needs_background": "light"
     },
     "output_type": "display_data"
    }
   ],
   "source": [
    "Ex, Ey = E_field(1,-1,0, has_draw=True)\n",
    "r1=from_distribution(Ex,Ey, is_normalized=False)\n",
    "r2=from_distribution2(Ex,Ey, is_normalized=False)\n",
    "print(r1,'\\n\\n',r2)"
   ]
  },
  {
   "cell_type": "markdown",
   "metadata": {},
   "source": [
    "## Example 2: circular polarization"
   ]
  },
  {
   "cell_type": "code",
   "execution_count": 119,
   "metadata": {},
   "outputs": [
    {
     "name": "stdout",
     "output_type": "stream",
     "text": [
      "[[ 2.00000000e+00]\n",
      " [ 3.21964677e-18]\n",
      " [ 2.94388125e-15]\n",
      " [-2.00000000e+00]] \n",
      "\n",
      " [[ 2.00000000e+00]\n",
      " [ 3.21964677e-18]\n",
      " [ 2.94388125e-15]\n",
      " [-2.00000000e+00]]\n"
     ]
    },
    {
     "data": {
      "image/png": "[encoded data removed]",
      "text/plain": [
       "<Figure size 432x288 with 1 Axes>"
      ]
     },
     "metadata": {
      "needs_background": "light"
     },
     "output_type": "display_data"
    }
   ],
   "source": [
    "Ex, Ey = E_field(1,1,np.pi/2, has_draw=True)\n",
    "r1=from_distribution(Ex,Ey, is_normalized=False)\n",
    "r2=from_distribution2(Ex,Ey, is_normalized=False)\n",
    "print(r1,'\\n\\n',r2)"
   ]
  },
  {
   "cell_type": "code",
   "execution_count": 120,
   "metadata": {},
   "outputs": [
    {
     "name": "stdout",
     "output_type": "stream",
     "text": [
      "[[2.00000000e+00]\n",
      " [1.11022302e-19]\n",
      " [2.68936428e-15]\n",
      " [2.00000000e+00]] \n",
      "\n",
      " [[2.00000000e+00]\n",
      " [1.11022302e-19]\n",
      " [2.68936428e-15]\n",
      " [2.00000000e+00]]\n"
     ]
    },
    {
     "data": {
      "image/png": "[encoded data removed]",
      "text/plain": [
       "<Figure size 432x288 with 1 Axes>"
      ]
     },
     "metadata": {
      "needs_background": "light"
     },
     "output_type": "display_data"
    }
   ],
   "source": [
    "Ex, Ey = E_field(1,1,-np.pi/2, has_draw=True)\n",
    "r1=from_distribution(Ex,Ey, is_normalized=False)\n",
    "r2=from_distribution2(Ex,Ey, is_normalized=False)\n",
    "print(r1,'\\n\\n',r2)"
   ]
  },
  {
   "cell_type": "code",
   "execution_count": 121,
   "metadata": {},
   "outputs": [
    {
     "name": "stdout",
     "output_type": "stream",
     "text": [
      "[[ 2.00000000e+00]\n",
      " [ 3.21964677e-18]\n",
      " [-2.94388125e-15]\n",
      " [ 2.00000000e+00]] \n",
      "\n",
      " [[ 2.00000000e+00]\n",
      " [ 3.21964677e-18]\n",
      " [-2.94388125e-15]\n",
      " [ 2.00000000e+00]]\n"
     ]
    },
    {
     "data": {
      "image/png": "[encoded data removed]",
      "text/plain": [
       "<Figure size 432x288 with 1 Axes>"
      ]
     },
     "metadata": {
      "needs_background": "light"
     },
     "output_type": "display_data"
    }
   ],
   "source": [
    "Ex, Ey = E_field(1,-1,np.pi/2, has_draw=True)\n",
    "r1=from_distribution(Ex,Ey, is_normalized=False)\n",
    "r2=from_distribution2(Ex,Ey, is_normalized=False)\n",
    "print(r1,'\\n\\n',r2)"
   ]
  },
  {
   "cell_type": "markdown",
   "metadata": {},
   "source": [
    "## Elliptical"
   ]
  },
  {
   "cell_type": "code",
   "execution_count": 122,
   "metadata": {},
   "outputs": [
    {
     "name": "stdout",
     "output_type": "stream",
     "text": [
      "[[ 2.00000000e+00]\n",
      " [ 2.77555756e-18]\n",
      " [ 1.41421356e+00]\n",
      " [-1.41421356e+00]] \n",
      "\n",
      " [[ 2.00000000e+00]\n",
      " [ 2.77555756e-18]\n",
      " [ 1.41421356e+00]\n",
      " [-1.41421356e+00]]\n"
     ]
    },
    {
     "data": {
      "image/png": "[encoded data removed]",
      "text/plain": [
       "<Figure size 432x288 with 1 Axes>"
      ]
     },
     "metadata": {
      "needs_background": "light"
     },
     "output_type": "display_data"
    }
   ],
   "source": [
    "Ex, Ey = E_field(1,1,np.pi/4, has_draw=True)\n",
    "r1=from_distribution(Ex,Ey, is_normalized=False)\n",
    "r2=from_distribution2(Ex,Ey, is_normalized=False)\n",
    "print(r1,'\\n\\n',r2)"
   ]
  },
  {
   "cell_type": "code",
   "execution_count": 123,
   "metadata": {},
   "outputs": [
    {
     "name": "stdout",
     "output_type": "stream",
     "text": [
      "[[ 4.]\n",
      " [ 4.]\n",
      " [ 0.]\n",
      " [-0.]] \n",
      "\n",
      " [[4.]\n",
      " [4.]\n",
      " [0.]\n",
      " [0.]]\n"
     ]
    },
    {
     "data": {
      "image/png": "[encoded data removed]",
      "text/plain": [
       "<Figure size 432x288 with 1 Axes>"
      ]
     },
     "metadata": {
      "needs_background": "light"
     },
     "output_type": "display_data"
    }
   ],
   "source": [
    "Ex, Ey = E_field(2,0,np.pi/2, has_draw=True)\n",
    "r1=from_distribution(Ex,Ey, is_normalized=False)\n",
    "r2=from_distribution2(Ex,Ey, is_normalized=False)\n",
    "print(r1,'\\n\\n',r2)"
   ]
  },
  {
   "cell_type": "code",
   "execution_count": 124,
   "metadata": {},
   "outputs": [
    {
     "name": "stdout",
     "output_type": "stream",
     "text": [
      "[[10.        ]\n",
      " [ 8.        ]\n",
      " [ 3.        ]\n",
      " [-5.19615242]] \n",
      "\n",
      " [[10.        ]\n",
      " [ 8.        ]\n",
      " [ 3.        ]\n",
      " [-5.19615242]]\n"
     ]
    },
    {
     "data": {
      "image/png": "[encoded data removed]",
      "text/plain": [
       "<Figure size 432x288 with 1 Axes>"
      ]
     },
     "metadata": {
      "needs_background": "light"
     },
     "output_type": "display_data"
    }
   ],
   "source": [
    "Ex, Ey = E_field(3,1,np.pi/3, has_draw=True)\n",
    "r1=from_distribution(Ex,Ey, is_normalized=False)\n",
    "r2=from_distribution2(Ex,Ey, is_normalized=False)\n",
    "print(r1,'\\n\\n',r2)"
   ]
  },
  {
   "cell_type": "code",
   "execution_count": null,
   "metadata": {},
   "outputs": [],
   "source": [
    " "
   ]
  }
 ],
 "metadata": {
  "kernelspec": {
   "display_name": "Python 3",
   "language": "python",
   "name": "python3"
  },
  "language_info": {
   "codemirror_mode": {
    "name": "ipython",
    "version": 3
   },
   "file_extension": ".py",
   "mimetype": "text/x-python",
   "name": "python",
   "nbconvert_exporter": "python",
   "pygments_lexer": "ipython3",
   "version": "3.6.8"
  },
  "toc": {
   "nav_menu": {},
   "number_sections": true,
   "sideBar": true,
   "skip_h1_title": false,
   "toc_cell": false,
   "toc_position": {},
   "toc_section_display": "block",
   "toc_window_display": false
  },
  "varInspector": {
   "cols": {
    "lenName": 16,
    "lenType": 16,
    "lenVar": 40
   },
   "kernels_config": {
    "python": {
     "delete_cmd_postfix": "",
     "delete_cmd_prefix": "del ",
     "library": "var_list.py",
     "varRefreshCmd": "print(var_dic_list())"
    },
    "r": {
     "delete_cmd_postfix": ") ",
     "delete_cmd_prefix": "rm(",
     "library": "var_list.r",
     "varRefreshCmd": "cat(var_dic_list()) "
    }
   },
   "types_to_exclude": [
    "module",
    "function",
    "builtin_function_or_method",
    "instance",
    "_Feature"
   ],
   "window_display": false
  }
 },
 "nbformat": 4,
 "nbformat_minor": 2
}
