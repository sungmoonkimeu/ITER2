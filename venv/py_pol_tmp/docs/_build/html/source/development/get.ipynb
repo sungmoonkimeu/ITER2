{
 "cells": [
  {
   "cell_type": "code",
   "execution_count": 1,
   "metadata": {},
   "outputs": [],
   "source": [
    "%load_ext autoreload\n",
    "%autoreload 2\n",
    "# %matplotlib inline\n",
    "%matplotlib notebook \n"
   ]
  },
  {
   "cell_type": "code",
   "execution_count": 2,
   "metadata": {},
   "outputs": [],
   "source": [
    "from py_pol import degrees, np\n",
    "from py_pol.jones_vector import Jones_vector\n",
    "from py_pol.jones_matrix import Jones_matrix\n",
    "from py_pol.stokes import Stokes\n",
    "from py_pol.mueller import Mueller\n",
    "\n",
    "import matplotlib.pyplot as plt\n",
    "\n",
    "np.set_printoptions(precision=4)\n",
    "np.set_printoptions(suppress=True)\n"
   ]
  },
  {
   "cell_type": "markdown",
   "metadata": {},
   "source": [
    "## Jones Vector"
   ]
  },
  {
   "cell_type": "code",
   "execution_count": 3,
   "metadata": {},
   "outputs": [
    {
     "name": "stdout",
     "output_type": "stream",
     "text": [
      "j0 = [(1.3066-0.5412j); (1.3066+0.5412j)]'\n"
     ]
    }
   ],
   "source": [
    "j0 = Jones_vector('j0')\n",
    "j0.general_charac_angles(\n",
    "    alpha=45*degrees, delay=45*degrees, amplitude=2)\n",
    "# j0.general_azimuth_ellipticity(azimuth=45*degrees, ellipticity=22.5*degrees,  amplitude=2)\n",
    "print(j0)"
   ]
  },
  {
   "cell_type": "code",
   "execution_count": 4,
   "metadata": {},
   "outputs": [
    {
     "data": {
      "text/plain": [
       "matrix([[1.3066-0.5412j],\n",
       "        [1.3066+0.5412j]])"
      ]
     },
     "execution_count": 4,
     "metadata": {},
     "output_type": "execute_result"
    }
   ],
   "source": [
    "j0.get(kind='matrix')"
   ]
  },
  {
   "cell_type": "code",
   "execution_count": 5,
   "metadata": {},
   "outputs": [
    {
     "data": {
      "text/plain": [
       "array([[1.3066-0.5412j],\n",
       "       [1.3066+0.5412j]])"
      ]
     },
     "execution_count": 5,
     "metadata": {},
     "output_type": "execute_result"
    }
   ],
   "source": [
    "j0.get(kind='array')"
   ]
  },
  {
   "cell_type": "code",
   "execution_count": 6,
   "metadata": {},
   "outputs": [
    {
     "data": {
      "text/plain": [
       "array([1.3066-0.5412j, 1.3066+0.5412j])"
      ]
     },
     "execution_count": 6,
     "metadata": {},
     "output_type": "execute_result"
    }
   ],
   "source": [
    "j0.get(kind='line')"
   ]
  },
  {
   "cell_type": "markdown",
   "metadata": {},
   "source": [
    "## Jones Matrix"
   ]
  },
  {
   "cell_type": "code",
   "execution_count": 7,
   "metadata": {},
   "outputs": [
    {
     "data": {
      "text/plain": [
       "matrix([[0.5+0.j, 0.5+0.j],\n",
       "        [0.5+0.j, 0.5+0.j]])"
      ]
     },
     "execution_count": 7,
     "metadata": {},
     "output_type": "execute_result"
    }
   ],
   "source": [
    "jm0 = Jones_matrix('m0')\n",
    "jm0.diattenuator_linear(angle=45*degrees)"
   ]
  },
  {
   "cell_type": "code",
   "execution_count": 8,
   "metadata": {},
   "outputs": [
    {
     "data": {
      "text/plain": [
       "matrix([[0.5+0.j, 0.5+0.j],\n",
       "        [0.5+0.j, 0.5+0.j]])"
      ]
     },
     "execution_count": 8,
     "metadata": {},
     "output_type": "execute_result"
    }
   ],
   "source": [
    "jm0.get(kind='matrix')"
   ]
  },
  {
   "cell_type": "code",
   "execution_count": 9,
   "metadata": {},
   "outputs": [
    {
     "data": {
      "text/plain": [
       "array([[0.5+0.j, 0.5+0.j],\n",
       "       [0.5+0.j, 0.5+0.j]])"
      ]
     },
     "execution_count": 9,
     "metadata": {},
     "output_type": "execute_result"
    }
   ],
   "source": [
    "jm0.get(kind='array')"
   ]
  },
  {
   "cell_type": "code",
   "execution_count": 10,
   "metadata": {},
   "outputs": [
    {
     "data": {
      "text/plain": [
       "array([0.5+0.j, 0.5+0.j, 0.5+0.j, 0.5+0.j])"
      ]
     },
     "execution_count": 10,
     "metadata": {},
     "output_type": "execute_result"
    }
   ],
   "source": [
    "jm0.get(kind='line')"
   ]
  },
  {
   "cell_type": "markdown",
   "metadata": {},
   "source": [
    "## Stokes vector"
   ]
  },
  {
   "cell_type": "code",
   "execution_count": 11,
   "metadata": {},
   "outputs": [
    {
     "name": "stdout",
     "output_type": "stream",
     "text": [
      "s0 = [+1.000; +0.000; +0.672; +0.672]\n",
      "\n"
     ]
    }
   ],
   "source": [
    "s0 = Stokes('s0')\n",
    "s0.general_charac_angles(\n",
    "    alpha=30*degrees, delay=90*degrees, intensity=1, pol_degree=0.95, is_depolarization=False)\n",
    "s0.general_azimuth_ellipticity(azimuth=45*degrees, ellipticity=22.5*degrees,  intensity=1,  pol_degree=.95)\n",
    "print(s0)"
   ]
  },
  {
   "cell_type": "code",
   "execution_count": 12,
   "metadata": {},
   "outputs": [
    {
     "data": {
      "text/plain": [
       "matrix([[1.    ],\n",
       "        [0.    ],\n",
       "        [0.6718],\n",
       "        [0.6718]])"
      ]
     },
     "execution_count": 12,
     "metadata": {},
     "output_type": "execute_result"
    }
   ],
   "source": [
    "s0.get(kind='matrix')"
   ]
  },
  {
   "cell_type": "code",
   "execution_count": 13,
   "metadata": {},
   "outputs": [
    {
     "data": {
      "text/plain": [
       "array([[1.    ],\n",
       "       [0.    ],\n",
       "       [0.6718],\n",
       "       [0.6718]])"
      ]
     },
     "execution_count": 13,
     "metadata": {},
     "output_type": "execute_result"
    }
   ],
   "source": [
    "s0.get(kind='array')"
   ]
  },
  {
   "cell_type": "code",
   "execution_count": 14,
   "metadata": {},
   "outputs": [
    {
     "data": {
      "text/plain": [
       "array([1.    , 0.    , 0.6718, 0.6718])"
      ]
     },
     "execution_count": 14,
     "metadata": {},
     "output_type": "execute_result"
    }
   ],
   "source": [
    "s0.get(kind='line')"
   ]
  },
  {
   "cell_type": "markdown",
   "metadata": {},
   "source": [
    "## Mueller Matrix"
   ]
  },
  {
   "cell_type": "code",
   "execution_count": 15,
   "metadata": {},
   "outputs": [
    {
     "name": "stdout",
     "output_type": "stream",
     "text": [
      "M1 @45.00 deg = \n",
      "  [+0.5000, +0.0000, +0.5000, +0.0000]\n",
      "  [+0.0000, +0.0000, +0.0000, +0.0000]\n",
      "  [+0.5000, +0.0000, +0.5000, +0.0000]\n",
      "  [+0.0000, +0.0000, +0.0000, +0.0000]\n",
      "\n"
     ]
    }
   ],
   "source": [
    "mm1 = Mueller('M1')\n",
    "mm1.diattenuator_linear(p1=1, p2=0, angle=45*degrees)\n",
    "print(mm1)"
   ]
  },
  {
   "cell_type": "code",
   "execution_count": 16,
   "metadata": {},
   "outputs": [
    {
     "data": {
      "text/plain": [
       "matrix([[0.5, 0. , 0.5, 0. ],\n",
       "        [0. , 0. , 0. , 0. ],\n",
       "        [0.5, 0. , 0.5, 0. ],\n",
       "        [0. , 0. , 0. , 0. ]])"
      ]
     },
     "execution_count": 16,
     "metadata": {},
     "output_type": "execute_result"
    }
   ],
   "source": [
    "mm1.get(kind='matrix')"
   ]
  },
  {
   "cell_type": "code",
   "execution_count": 17,
   "metadata": {},
   "outputs": [
    {
     "data": {
      "text/plain": [
       "array([[0.5, 0. , 0.5, 0. ],\n",
       "       [0. , 0. , 0. , 0. ],\n",
       "       [0.5, 0. , 0.5, 0. ],\n",
       "       [0. , 0. , 0. , 0. ]])"
      ]
     },
     "execution_count": 17,
     "metadata": {},
     "output_type": "execute_result"
    }
   ],
   "source": [
    "mm1.get(kind='array')"
   ]
  },
  {
   "cell_type": "code",
   "execution_count": 18,
   "metadata": {},
   "outputs": [
    {
     "data": {
      "text/plain": [
       "array([0.5, 0. , 0.5, 0. , 0. , 0. , 0. , 0. , 0.5, 0. , 0.5, 0. , 0. ,\n",
       "       0. , 0. , 0. ])"
      ]
     },
     "execution_count": 18,
     "metadata": {},
     "output_type": "execute_result"
    }
   ],
   "source": [
    "mm1.get(kind='line')"
   ]
  },
  {
   "cell_type": "code",
   "execution_count": 25,
   "metadata": {},
   "outputs": [
    {
     "data": {
      "application/javascript": [
       "/* Put everything inside the global mpl namespace */\n",
       "window.mpl = {};\n",
       "\n",
       "\n",
       "mpl.get_websocket_type = function() {\n",
       "    if (typeof(WebSocket) !== 'undefined') {\n",
       "        return WebSocket;\n",
       "    } else if (typeof(MozWebSocket) !== 'undefined') {\n",
       "        return MozWebSocket;\n",
       "    } else {\n",
       "        alert('Your browser does not have WebSocket support. ' +\n",
       "              'Please try Chrome, Safari or Firefox ≥ 6. ' +\n",
       "              'Firefox 4 and 5 are also supported but you ' +\n",
       "              'have to enable WebSockets in about:config.');\n",
       "    };\n",
       "}\n",
       "\n",
       "mpl.figure = function(figure_id, websocket, ondownload, parent_element) {\n",
       "    this.id = figure_id;\n",
       "\n",
       "    this.ws = websocket;\n",
       "\n",
       "    this.supports_binary = (this.ws.binaryType != undefined);\n",
       "\n",
       "    if (!this.supports_binary) {\n",
       "        var warnings = document.getElementById(\"mpl-warnings\");\n",
       "        if (warnings) {\n",
       "            warnings.style.display = 'block';\n",
       "            warnings.textContent = (\n",
       "                \"This browser does not support binary websocket messages. \" +\n",
       "                    \"Performance may be slow.\");\n",
       "        }\n",
       "    }\n",
       "\n",
       "    this.imageObj = new Image();\n",
       "\n",
       "    this.context = undefined;\n",
       "    this.message = undefined;\n",
       "    this.canvas = undefined;\n",
       "    this.rubberband_canvas = undefined;\n",
       "    this.rubberband_context = undefined;\n",
       "    this.format_dropdown = undefined;\n",
       "\n",
       "    this.image_mode = 'full';\n",
       "\n",
       "    this.root = $('<div/>');\n",
       "    this._root_extra_style(this.root)\n",
       "    this.root.attr('style', 'display: inline-block');\n",
       "\n",
       "    $(parent_element).append(this.root);\n",
       "\n",
       "    this._init_header(this);\n",
       "    this._init_canvas(this);\n",
       "    this._init_toolbar(this);\n",
       "\n",
       "    var fig = this;\n",
       "\n",
       "    this.waiting = false;\n",
       "\n",
       "    this.ws.onopen =  function () {\n",
       "            fig.send_message(\"supports_binary\", {value: fig.supports_binary});\n",
       "            fig.send_message(\"send_image_mode\", {});\n",
       "            if (mpl.ratio != 1) {\n",
       "                fig.send_message(\"set_dpi_ratio\", {'dpi_ratio': mpl.ratio});\n",
       "            }\n",
       "            fig.send_message(\"refresh\", {});\n",
       "        }\n",
       "\n",
       "    this.imageObj.onload = function() {\n",
       "            if (fig.image_mode == 'full') {\n",
       "                // Full images could contain transparency (where diff images\n",
       "                // almost always do), so we need to clear the canvas so that\n",
       "                // there is no ghosting.\n",
       "                fig.context.clearRect(0, 0, fig.canvas.width, fig.canvas.height);\n",
       "            }\n",
       "            fig.context.drawImage(fig.imageObj, 0, 0);\n",
       "        };\n",
       "\n",
       "    this.imageObj.onunload = function() {\n",
       "        fig.ws.close();\n",
       "    }\n",
       "\n",
       "    this.ws.onmessage = this._make_on_message_function(this);\n",
       "\n",
       "    this.ondownload = ondownload;\n",
       "}\n",
       "\n",
       "mpl.figure.prototype._init_header = function() {\n",
       "    var titlebar = $(\n",
       "        '<div class=\"ui-dialog-titlebar ui-widget-header ui-corner-all ' +\n",
       "        'ui-helper-clearfix\"/>');\n",
       "    var titletext = $(\n",
       "        '<div class=\"ui-dialog-title\" style=\"width: 100%; ' +\n",
       "        'text-align: center; padding: 3px;\"/>');\n",
       "    titlebar.append(titletext)\n",
       "    this.root.append(titlebar);\n",
       "    this.header = titletext[0];\n",
       "}\n",
       "\n",
       "\n",
       "\n",
       "mpl.figure.prototype._canvas_extra_style = function(canvas_div) {\n",
       "\n",
       "}\n",
       "\n",
       "\n",
       "mpl.figure.prototype._root_extra_style = function(canvas_div) {\n",
       "\n",
       "}\n",
       "\n",
       "mpl.figure.prototype._init_canvas = function() {\n",
       "    var fig = this;\n",
       "\n",
       "    var canvas_div = $('<div/>');\n",
       "\n",
       "    canvas_div.attr('style', 'position: relative; clear: both; outline: 0');\n",
       "\n",
       "    function canvas_keyboard_event(event) {\n",
       "        return fig.key_event(event, event['data']);\n",
       "    }\n",
       "\n",
       "    canvas_div.keydown('key_press', canvas_keyboard_event);\n",
       "    canvas_div.keyup('key_release', canvas_keyboard_event);\n",
       "    this.canvas_div = canvas_div\n",
       "    this._canvas_extra_style(canvas_div)\n",
       "    this.root.append(canvas_div);\n",
       "\n",
       "    var canvas = $('<canvas/>');\n",
       "    canvas.addClass('mpl-canvas');\n",
       "    canvas.attr('style', \"left: 0; top: 0; z-index: 0; outline: 0\")\n",
       "\n",
       "    this.canvas = canvas[0];\n",
       "    this.context = canvas[0].getContext(\"2d\");\n",
       "\n",
       "    var backingStore = this.context.backingStorePixelRatio ||\n",
       "\tthis.context.webkitBackingStorePixelRatio ||\n",
       "\tthis.context.mozBackingStorePixelRatio ||\n",
       "\tthis.context.msBackingStorePixelRatio ||\n",
       "\tthis.context.oBackingStorePixelRatio ||\n",
       "\tthis.context.backingStorePixelRatio || 1;\n",
       "\n",
       "    mpl.ratio = (window.devicePixelRatio || 1) / backingStore;\n",
       "\n",
       "    var rubberband = $('<canvas/>');\n",
       "    rubberband.attr('style', \"position: absolute; left: 0; top: 0; z-index: 1;\")\n",
       "\n",
       "    var pass_mouse_events = true;\n",
       "\n",
       "    canvas_div.resizable({\n",
       "        start: function(event, ui) {\n",
       "            pass_mouse_events = false;\n",
       "        },\n",
       "        resize: function(event, ui) {\n",
       "            fig.request_resize(ui.size.width, ui.size.height);\n",
       "        },\n",
       "        stop: function(event, ui) {\n",
       "            pass_mouse_events = true;\n",
       "            fig.request_resize(ui.size.width, ui.size.height);\n",
       "        },\n",
       "    });\n",
       "\n",
       "    function mouse_event_fn(event) {\n",
       "        if (pass_mouse_events)\n",
       "            return fig.mouse_event(event, event['data']);\n",
       "    }\n",
       "\n",
       "    rubberband.mousedown('button_press', mouse_event_fn);\n",
       "    rubberband.mouseup('button_release', mouse_event_fn);\n",
       "    // Throttle sequential mouse events to 1 every 20ms.\n",
       "    rubberband.mousemove('motion_notify', mouse_event_fn);\n",
       "\n",
       "    rubberband.mouseenter('figure_enter', mouse_event_fn);\n",
       "    rubberband.mouseleave('figure_leave', mouse_event_fn);\n",
       "\n",
       "    canvas_div.on(\"wheel\", function (event) {\n",
       "        event = event.originalEvent;\n",
       "        event['data'] = 'scroll'\n",
       "        if (event.deltaY < 0) {\n",
       "            event.step = 1;\n",
       "        } else {\n",
       "            event.step = -1;\n",
       "        }\n",
       "        mouse_event_fn(event);\n",
       "    });\n",
       "\n",
       "    canvas_div.append(canvas);\n",
       "    canvas_div.append(rubberband);\n",
       "\n",
       "    this.rubberband = rubberband;\n",
       "    this.rubberband_canvas = rubberband[0];\n",
       "    this.rubberband_context = rubberband[0].getContext(\"2d\");\n",
       "    this.rubberband_context.strokeStyle = \"#000000\";\n",
       "\n",
       "    this._resize_canvas = function(width, height) {\n",
       "        // Keep the size of the canvas, canvas container, and rubber band\n",
       "        // canvas in synch.\n",
       "        canvas_div.css('width', width)\n",
       "        canvas_div.css('height', height)\n",
       "\n",
       "        canvas.attr('width', width * mpl.ratio);\n",
       "        canvas.attr('height', height * mpl.ratio);\n",
       "        canvas.attr('style', 'width: ' + width + 'px; height: ' + height + 'px;');\n",
       "\n",
       "        rubberband.attr('width', width);\n",
       "        rubberband.attr('height', height);\n",
       "    }\n",
       "\n",
       "    // Set the figure to an initial 600x600px, this will subsequently be updated\n",
       "    // upon first draw.\n",
       "    this._resize_canvas(600, 600);\n",
       "\n",
       "    // Disable right mouse context menu.\n",
       "    $(this.rubberband_canvas).bind(\"contextmenu\",function(e){\n",
       "        return false;\n",
       "    });\n",
       "\n",
       "    function set_focus () {\n",
       "        canvas.focus();\n",
       "        canvas_div.focus();\n",
       "    }\n",
       "\n",
       "    window.setTimeout(set_focus, 100);\n",
       "}\n",
       "\n",
       "mpl.figure.prototype._init_toolbar = function() {\n",
       "    var fig = this;\n",
       "\n",
       "    var nav_element = $('<div/>');\n",
       "    nav_element.attr('style', 'width: 100%');\n",
       "    this.root.append(nav_element);\n",
       "\n",
       "    // Define a callback function for later on.\n",
       "    function toolbar_event(event) {\n",
       "        return fig.toolbar_button_onclick(event['data']);\n",
       "    }\n",
       "    function toolbar_mouse_event(event) {\n",
       "        return fig.toolbar_button_onmouseover(event['data']);\n",
       "    }\n",
       "\n",
       "    for(var toolbar_ind in mpl.toolbar_items) {\n",
       "        var name = mpl.toolbar_items[toolbar_ind][0];\n",
       "        var tooltip = mpl.toolbar_items[toolbar_ind][1];\n",
       "        var image = mpl.toolbar_items[toolbar_ind][2];\n",
       "        var method_name = mpl.toolbar_items[toolbar_ind][3];\n",
       "\n",
       "        if (!name) {\n",
       "            // put a spacer in here.\n",
       "            continue;\n",
       "        }\n",
       "        var button = $('<button/>');\n",
       "        button.addClass('ui-button ui-widget ui-state-default ui-corner-all ' +\n",
       "                        'ui-button-icon-only');\n",
       "        button.attr('role', 'button');\n",
       "        button.attr('aria-disabled', 'false');\n",
       "        button.click(method_name, toolbar_event);\n",
       "        button.mouseover(tooltip, toolbar_mouse_event);\n",
       "\n",
       "        var icon_img = $('<span/>');\n",
       "        icon_img.addClass('ui-button-icon-primary ui-icon');\n",
       "        icon_img.addClass(image);\n",
       "        icon_img.addClass('ui-corner-all');\n",
       "\n",
       "        var tooltip_span = $('<span/>');\n",
       "        tooltip_span.addClass('ui-button-text');\n",
       "        tooltip_span.html(tooltip);\n",
       "\n",
       "        button.append(icon_img);\n",
       "        button.append(tooltip_span);\n",
       "\n",
       "        nav_element.append(button);\n",
       "    }\n",
       "\n",
       "    var fmt_picker_span = $('<span/>');\n",
       "\n",
       "    var fmt_picker = $('<select/>');\n",
       "    fmt_picker.addClass('mpl-toolbar-option ui-widget ui-widget-content');\n",
       "    fmt_picker_span.append(fmt_picker);\n",
       "    nav_element.append(fmt_picker_span);\n",
       "    this.format_dropdown = fmt_picker[0];\n",
       "\n",
       "    for (var ind in mpl.extensions) {\n",
       "        var fmt = mpl.extensions[ind];\n",
       "        var option = $(\n",
       "            '<option/>', {selected: fmt === mpl.default_extension}).html(fmt);\n",
       "        fmt_picker.append(option);\n",
       "    }\n",
       "\n",
       "    // Add hover states to the ui-buttons\n",
       "    $( \".ui-button\" ).hover(\n",
       "        function() { $(this).addClass(\"ui-state-hover\");},\n",
       "        function() { $(this).removeClass(\"ui-state-hover\");}\n",
       "    );\n",
       "\n",
       "    var status_bar = $('<span class=\"mpl-message\"/>');\n",
       "    nav_element.append(status_bar);\n",
       "    this.message = status_bar[0];\n",
       "}\n",
       "\n",
       "mpl.figure.prototype.request_resize = function(x_pixels, y_pixels) {\n",
       "    // Request matplotlib to resize the figure. Matplotlib will then trigger a resize in the client,\n",
       "    // which will in turn request a refresh of the image.\n",
       "    this.send_message('resize', {'width': x_pixels, 'height': y_pixels});\n",
       "}\n",
       "\n",
       "mpl.figure.prototype.send_message = function(type, properties) {\n",
       "    properties['type'] = type;\n",
       "    properties['figure_id'] = this.id;\n",
       "    this.ws.send(JSON.stringify(properties));\n",
       "}\n",
       "\n",
       "mpl.figure.prototype.send_draw_message = function() {\n",
       "    if (!this.waiting) {\n",
       "        this.waiting = true;\n",
       "        this.ws.send(JSON.stringify({type: \"draw\", figure_id: this.id}));\n",
       "    }\n",
       "}\n",
       "\n",
       "\n",
       "mpl.figure.prototype.handle_save = function(fig, msg) {\n",
       "    var format_dropdown = fig.format_dropdown;\n",
       "    var format = format_dropdown.options[format_dropdown.selectedIndex].value;\n",
       "    fig.ondownload(fig, format);\n",
       "}\n",
       "\n",
       "\n",
       "mpl.figure.prototype.handle_resize = function(fig, msg) {\n",
       "    var size = msg['size'];\n",
       "    if (size[0] != fig.canvas.width || size[1] != fig.canvas.height) {\n",
       "        fig._resize_canvas(size[0], size[1]);\n",
       "        fig.send_message(\"refresh\", {});\n",
       "    };\n",
       "}\n",
       "\n",
       "mpl.figure.prototype.handle_rubberband = function(fig, msg) {\n",
       "    var x0 = msg['x0'] / mpl.ratio;\n",
       "    var y0 = (fig.canvas.height - msg['y0']) / mpl.ratio;\n",
       "    var x1 = msg['x1'] / mpl.ratio;\n",
       "    var y1 = (fig.canvas.height - msg['y1']) / mpl.ratio;\n",
       "    x0 = Math.floor(x0) + 0.5;\n",
       "    y0 = Math.floor(y0) + 0.5;\n",
       "    x1 = Math.floor(x1) + 0.5;\n",
       "    y1 = Math.floor(y1) + 0.5;\n",
       "    var min_x = Math.min(x0, x1);\n",
       "    var min_y = Math.min(y0, y1);\n",
       "    var width = Math.abs(x1 - x0);\n",
       "    var height = Math.abs(y1 - y0);\n",
       "\n",
       "    fig.rubberband_context.clearRect(\n",
       "        0, 0, fig.canvas.width / mpl.ratio, fig.canvas.height / mpl.ratio);\n",
       "\n",
       "    fig.rubberband_context.strokeRect(min_x, min_y, width, height);\n",
       "}\n",
       "\n",
       "mpl.figure.prototype.handle_figure_label = function(fig, msg) {\n",
       "    // Updates the figure title.\n",
       "    fig.header.textContent = msg['label'];\n",
       "}\n",
       "\n",
       "mpl.figure.prototype.handle_cursor = function(fig, msg) {\n",
       "    var cursor = msg['cursor'];\n",
       "    switch(cursor)\n",
       "    {\n",
       "    case 0:\n",
       "        cursor = 'pointer';\n",
       "        break;\n",
       "    case 1:\n",
       "        cursor = 'default';\n",
       "        break;\n",
       "    case 2:\n",
       "        cursor = 'crosshair';\n",
       "        break;\n",
       "    case 3:\n",
       "        cursor = 'move';\n",
       "        break;\n",
       "    }\n",
       "    fig.rubberband_canvas.style.cursor = cursor;\n",
       "}\n",
       "\n",
       "mpl.figure.prototype.handle_message = function(fig, msg) {\n",
       "    fig.message.textContent = msg['message'];\n",
       "}\n",
       "\n",
       "mpl.figure.prototype.handle_draw = function(fig, msg) {\n",
       "    // Request the server to send over a new figure.\n",
       "    fig.send_draw_message();\n",
       "}\n",
       "\n",
       "mpl.figure.prototype.handle_image_mode = function(fig, msg) {\n",
       "    fig.image_mode = msg['mode'];\n",
       "}\n",
       "\n",
       "mpl.figure.prototype.updated_canvas_event = function() {\n",
       "    // Called whenever the canvas gets updated.\n",
       "    this.send_message(\"ack\", {});\n",
       "}\n",
       "\n",
       "// A function to construct a web socket function for onmessage handling.\n",
       "// Called in the figure constructor.\n",
       "mpl.figure.prototype._make_on_message_function = function(fig) {\n",
       "    return function socket_on_message(evt) {\n",
       "        if (evt.data instanceof Blob) {\n",
       "            /* FIXME: We get \"Resource interpreted as Image but\n",
       "             * transferred with MIME type text/plain:\" errors on\n",
       "             * Chrome.  But how to set the MIME type?  It doesn't seem\n",
       "             * to be part of the websocket stream */\n",
       "            evt.data.type = \"image/png\";\n",
       "\n",
       "            /* Free the memory for the previous frames */\n",
       "            if (fig.imageObj.src) {\n",
       "                (window.URL || window.webkitURL).revokeObjectURL(\n",
       "                    fig.imageObj.src);\n",
       "            }\n",
       "\n",
       "            fig.imageObj.src = (window.URL || window.webkitURL).createObjectURL(\n",
       "                evt.data);\n",
       "            fig.updated_canvas_event();\n",
       "            fig.waiting = false;\n",
       "            return;\n",
       "        }\n",
       "        else if (typeof evt.data === 'string' && evt.data.slice(0, 21) == \"data:image/png;base64\") {\n",
       "            fig.imageObj.src = evt.data;\n",
       "            fig.updated_canvas_event();\n",
       "            fig.waiting = false;\n",
       "            return;\n",
       "        }\n",
       "\n",
       "        var msg = JSON.parse(evt.data);\n",
       "        var msg_type = msg['type'];\n",
       "\n",
       "        // Call the  \"handle_{type}\" callback, which takes\n",
       "        // the figure and JSON message as its only arguments.\n",
       "        try {\n",
       "            var callback = fig[\"handle_\" + msg_type];\n",
       "        } catch (e) {\n",
       "            console.log(\"No handler for the '\" + msg_type + \"' message type: \", msg);\n",
       "            return;\n",
       "        }\n",
       "\n",
       "        if (callback) {\n",
       "            try {\n",
       "                // console.log(\"Handling '\" + msg_type + \"' message: \", msg);\n",
       "                callback(fig, msg);\n",
       "            } catch (e) {\n",
       "                console.log(\"Exception inside the 'handler_\" + msg_type + \"' callback:\", e, e.stack, msg);\n",
       "            }\n",
       "        }\n",
       "    };\n",
       "}\n",
       "\n",
       "// from http://stackoverflow.com/questions/1114465/getting-mouse-location-in-canvas\n",
       "mpl.findpos = function(e) {\n",
       "    //this section is from http://www.quirksmode.org/js/events_properties.html\n",
       "    var targ;\n",
       "    if (!e)\n",
       "        e = window.event;\n",
       "    if (e.target)\n",
       "        targ = e.target;\n",
       "    else if (e.srcElement)\n",
       "        targ = e.srcElement;\n",
       "    if (targ.nodeType == 3) // defeat Safari bug\n",
       "        targ = targ.parentNode;\n",
       "\n",
       "    // jQuery normalizes the pageX and pageY\n",
       "    // pageX,Y are the mouse positions relative to the document\n",
       "    // offset() returns the position of the element relative to the document\n",
       "    var x = e.pageX - $(targ).offset().left;\n",
       "    var y = e.pageY - $(targ).offset().top;\n",
       "\n",
       "    return {\"x\": x, \"y\": y};\n",
       "};\n",
       "\n",
       "/*\n",
       " * return a copy of an object with only non-object keys\n",
       " * we need this to avoid circular references\n",
       " * http://stackoverflow.com/a/24161582/3208463\n",
       " */\n",
       "function simpleKeys (original) {\n",
       "  return Object.keys(original).reduce(function (obj, key) {\n",
       "    if (typeof original[key] !== 'object')\n",
       "        obj[key] = original[key]\n",
       "    return obj;\n",
       "  }, {});\n",
       "}\n",
       "\n",
       "mpl.figure.prototype.mouse_event = function(event, name) {\n",
       "    var canvas_pos = mpl.findpos(event)\n",
       "\n",
       "    if (name === 'button_press')\n",
       "    {\n",
       "        this.canvas.focus();\n",
       "        this.canvas_div.focus();\n",
       "    }\n",
       "\n",
       "    var x = canvas_pos.x * mpl.ratio;\n",
       "    var y = canvas_pos.y * mpl.ratio;\n",
       "\n",
       "    this.send_message(name, {x: x, y: y, button: event.button,\n",
       "                             step: event.step,\n",
       "                             guiEvent: simpleKeys(event)});\n",
       "\n",
       "    /* This prevents the web browser from automatically changing to\n",
       "     * the text insertion cursor when the button is pressed.  We want\n",
       "     * to control all of the cursor setting manually through the\n",
       "     * 'cursor' event from matplotlib */\n",
       "    event.preventDefault();\n",
       "    return false;\n",
       "}\n",
       "\n",
       "mpl.figure.prototype._key_event_extra = function(event, name) {\n",
       "    // Handle any extra behaviour associated with a key event\n",
       "}\n",
       "\n",
       "mpl.figure.prototype.key_event = function(event, name) {\n",
       "\n",
       "    // Prevent repeat events\n",
       "    if (name == 'key_press')\n",
       "    {\n",
       "        if (event.which === this._key)\n",
       "            return;\n",
       "        else\n",
       "            this._key = event.which;\n",
       "    }\n",
       "    if (name == 'key_release')\n",
       "        this._key = null;\n",
       "\n",
       "    var value = '';\n",
       "    if (event.ctrlKey && event.which != 17)\n",
       "        value += \"ctrl+\";\n",
       "    if (event.altKey && event.which != 18)\n",
       "        value += \"alt+\";\n",
       "    if (event.shiftKey && event.which != 16)\n",
       "        value += \"shift+\";\n",
       "\n",
       "    value += 'k';\n",
       "    value += event.which.toString();\n",
       "\n",
       "    this._key_event_extra(event, name);\n",
       "\n",
       "    this.send_message(name, {key: value,\n",
       "                             guiEvent: simpleKeys(event)});\n",
       "    return false;\n",
       "}\n",
       "\n",
       "mpl.figure.prototype.toolbar_button_onclick = function(name) {\n",
       "    if (name == 'download') {\n",
       "        this.handle_save(this, null);\n",
       "    } else {\n",
       "        this.send_message(\"toolbar_button\", {name: name});\n",
       "    }\n",
       "};\n",
       "\n",
       "mpl.figure.prototype.toolbar_button_onmouseover = function(tooltip) {\n",
       "    this.message.textContent = tooltip;\n",
       "};\n",
       "mpl.toolbar_items = [[\"Home\", \"Reset original view\", \"fa fa-home icon-home\", \"home\"], [\"Back\", \"Back to previous view\", \"fa fa-arrow-left icon-arrow-left\", \"back\"], [\"Forward\", \"Forward to next view\", \"fa fa-arrow-right icon-arrow-right\", \"forward\"], [\"\", \"\", \"\", \"\"], [\"Pan\", \"Pan axes with left mouse, zoom with right\", \"fa fa-arrows icon-move\", \"pan\"], [\"Zoom\", \"Zoom to rectangle\", \"fa fa-square-o icon-check-empty\", \"zoom\"], [\"\", \"\", \"\", \"\"], [\"Download\", \"Download plot\", \"fa fa-floppy-o icon-save\", \"download\"]];\n",
       "\n",
       "mpl.extensions = [\"eps\", \"jpeg\", \"pdf\", \"png\", \"ps\", \"raw\", \"svg\", \"tif\"];\n",
       "\n",
       "mpl.default_extension = \"png\";var comm_websocket_adapter = function(comm) {\n",
       "    // Create a \"websocket\"-like object which calls the given IPython comm\n",
       "    // object with the appropriate methods. Currently this is a non binary\n",
       "    // socket, so there is still some room for performance tuning.\n",
       "    var ws = {};\n",
       "\n",
       "    ws.close = function() {\n",
       "        comm.close()\n",
       "    };\n",
       "    ws.send = function(m) {\n",
       "        //console.log('sending', m);\n",
       "        comm.send(m);\n",
       "    };\n",
       "    // Register the callback with on_msg.\n",
       "    comm.on_msg(function(msg) {\n",
       "        //console.log('receiving', msg['content']['data'], msg);\n",
       "        // Pass the mpl event to the overridden (by mpl) onmessage function.\n",
       "        ws.onmessage(msg['content']['data'])\n",
       "    });\n",
       "    return ws;\n",
       "}\n",
       "\n",
       "mpl.mpl_figure_comm = function(comm, msg) {\n",
       "    // This is the function which gets called when the mpl process\n",
       "    // starts-up an IPython Comm through the \"matplotlib\" channel.\n",
       "\n",
       "    var id = msg.content.data.id;\n",
       "    // Get hold of the div created by the display call when the Comm\n",
       "    // socket was opened in Python.\n",
       "    var element = $(\"#\" + id);\n",
       "    var ws_proxy = comm_websocket_adapter(comm)\n",
       "\n",
       "    function ondownload(figure, format) {\n",
       "        window.open(figure.imageObj.src);\n",
       "    }\n",
       "\n",
       "    var fig = new mpl.figure(id, ws_proxy,\n",
       "                           ondownload,\n",
       "                           element.get(0));\n",
       "\n",
       "    // Call onopen now - mpl needs it, as it is assuming we've passed it a real\n",
       "    // web socket which is closed, not our websocket->open comm proxy.\n",
       "    ws_proxy.onopen();\n",
       "\n",
       "    fig.parent_element = element.get(0);\n",
       "    fig.cell_info = mpl.find_output_cell(\"<div id='\" + id + \"'></div>\");\n",
       "    if (!fig.cell_info) {\n",
       "        console.error(\"Failed to find cell for figure\", id, fig);\n",
       "        return;\n",
       "    }\n",
       "\n",
       "    var output_index = fig.cell_info[2]\n",
       "    var cell = fig.cell_info[0];\n",
       "\n",
       "};\n",
       "\n",
       "mpl.figure.prototype.handle_close = function(fig, msg) {\n",
       "    var width = fig.canvas.width/mpl.ratio\n",
       "    fig.root.unbind('remove')\n",
       "\n",
       "    // Update the output cell to use the data from the current canvas.\n",
       "    fig.push_to_output();\n",
       "    var dataURL = fig.canvas.toDataURL();\n",
       "    // Re-enable the keyboard manager in IPython - without this line, in FF,\n",
       "    // the notebook keyboard shortcuts fail.\n",
       "    IPython.keyboard_manager.enable()\n",
       "    $(fig.parent_element).html('<img src=\"' + dataURL + '\" width=\"' + width + '\">');\n",
       "    fig.close_ws(fig, msg);\n",
       "}\n",
       "\n",
       "mpl.figure.prototype.close_ws = function(fig, msg){\n",
       "    fig.send_message('closing', msg);\n",
       "    // fig.ws.close()\n",
       "}\n",
       "\n",
       "mpl.figure.prototype.push_to_output = function(remove_interactive) {\n",
       "    // Turn the data on the canvas into data in the output cell.\n",
       "    var width = this.canvas.width/mpl.ratio\n",
       "    var dataURL = this.canvas.toDataURL();\n",
       "    this.cell_info[1]['text/html'] = '<img src=\"' + dataURL + '\" width=\"' + width + '\">';\n",
       "}\n",
       "\n",
       "mpl.figure.prototype.updated_canvas_event = function() {\n",
       "    // Tell IPython that the notebook contents must change.\n",
       "    IPython.notebook.set_dirty(true);\n",
       "    this.send_message(\"ack\", {});\n",
       "    var fig = this;\n",
       "    // Wait a second, then push the new image to the DOM so\n",
       "    // that it is saved nicely (might be nice to debounce this).\n",
       "    setTimeout(function () { fig.push_to_output() }, 1000);\n",
       "}\n",
       "\n",
       "mpl.figure.prototype._init_toolbar = function() {\n",
       "    var fig = this;\n",
       "\n",
       "    var nav_element = $('<div/>');\n",
       "    nav_element.attr('style', 'width: 100%');\n",
       "    this.root.append(nav_element);\n",
       "\n",
       "    // Define a callback function for later on.\n",
       "    function toolbar_event(event) {\n",
       "        return fig.toolbar_button_onclick(event['data']);\n",
       "    }\n",
       "    function toolbar_mouse_event(event) {\n",
       "        return fig.toolbar_button_onmouseover(event['data']);\n",
       "    }\n",
       "\n",
       "    for(var toolbar_ind in mpl.toolbar_items){\n",
       "        var name = mpl.toolbar_items[toolbar_ind][0];\n",
       "        var tooltip = mpl.toolbar_items[toolbar_ind][1];\n",
       "        var image = mpl.toolbar_items[toolbar_ind][2];\n",
       "        var method_name = mpl.toolbar_items[toolbar_ind][3];\n",
       "\n",
       "        if (!name) { continue; };\n",
       "\n",
       "        var button = $('<button class=\"btn btn-default\" href=\"#\" title=\"' + name + '\"><i class=\"fa ' + image + ' fa-lg\"></i></button>');\n",
       "        button.click(method_name, toolbar_event);\n",
       "        button.mouseover(tooltip, toolbar_mouse_event);\n",
       "        nav_element.append(button);\n",
       "    }\n",
       "\n",
       "    // Add the status bar.\n",
       "    var status_bar = $('<span class=\"mpl-message\" style=\"text-align:right; float: right;\"/>');\n",
       "    nav_element.append(status_bar);\n",
       "    this.message = status_bar[0];\n",
       "\n",
       "    // Add the close button to the window.\n",
       "    var buttongrp = $('<div class=\"btn-group inline pull-right\"></div>');\n",
       "    var button = $('<button class=\"btn btn-mini btn-primary\" href=\"#\" title=\"Stop Interaction\"><i class=\"fa fa-power-off icon-remove icon-large\"></i></button>');\n",
       "    button.click(function (evt) { fig.handle_close(fig, {}); } );\n",
       "    button.mouseover('Stop Interaction', toolbar_mouse_event);\n",
       "    buttongrp.append(button);\n",
       "    var titlebar = this.root.find($('.ui-dialog-titlebar'));\n",
       "    titlebar.prepend(buttongrp);\n",
       "}\n",
       "\n",
       "mpl.figure.prototype._root_extra_style = function(ellipticity){\n",
       "    var fig = this\n",
       "    ellipticity.on(\"remove\", function(){\n",
       "\tfig.close_ws(fig, {});\n",
       "    });\n",
       "}\n",
       "\n",
       "mpl.figure.prototype._canvas_extra_style = function(ellipticity){\n",
       "    // this is important to make the div 'focusable\n",
       "    ellipticity.attr('tabindex', 0)\n",
       "    // reach out to IPython and tell the keyboard manager to turn it's self\n",
       "    // off when our div gets focus\n",
       "\n",
       "    // location in version 3\n",
       "    if (IPython.notebook.keyboard_manager) {\n",
       "        IPython.notebook.keyboard_manager.register_events(ellipticity);\n",
       "    }\n",
       "    else {\n",
       "        // location in version 2\n",
       "        IPython.keyboard_manager.register_events(ellipticity);\n",
       "    }\n",
       "\n",
       "}\n",
       "\n",
       "mpl.figure.prototype._key_event_extra = function(event, name) {\n",
       "    var manager = IPython.notebook.keyboard_manager;\n",
       "    if (!manager)\n",
       "        manager = IPython.keyboard_manager;\n",
       "\n",
       "    // Check for shift+enter\n",
       "    if (event.shiftKey && event.which == 13) {\n",
       "        this.canvas_div.blur();\n",
       "        event.shiftKey = false;\n",
       "        // Send a \"J\" for go to next cell\n",
       "        event.which = 74;\n",
       "        event.keyCode = 74;\n",
       "        manager.command_mode();\n",
       "        manager.handle_keydown(event);\n",
       "    }\n",
       "}\n",
       "\n",
       "mpl.figure.prototype.handle_save = function(fig, msg) {\n",
       "    fig.ondownload(fig, null);\n",
       "}\n",
       "\n",
       "\n",
       "mpl.find_output_cell = function(html_output) {\n",
       "    // Return the cell and output element which can be found *uniquely* in the notebook.\n",
       "    // Note - this is a bit hacky, but it is done because the \"notebook_saving.Notebook\"\n",
       "    // IPython event is triggered only after the cells have been serialised, which for\n",
       "    // our purposes (turning an active figure into a static one), is too late.\n",
       "    var cells = IPython.notebook.get_cells();\n",
       "    var ncells = cells.length;\n",
       "    for (var i=0; i<ncells; i++) {\n",
       "        var cell = cells[i];\n",
       "        if (cell.cell_type === 'code'){\n",
       "            for (var j=0; j<cell.output_area.outputs.length; j++) {\n",
       "                var data = cell.output_area.outputs[j];\n",
       "                if (data.data) {\n",
       "                    // IPython >= 3 moved mimebundle to data attribute of output\n",
       "                    data = data.data;\n",
       "                }\n",
       "                if (data['text/html'] == html_output) {\n",
       "                    return [cell, data, j];\n",
       "                }\n",
       "            }\n",
       "        }\n",
       "    }\n",
       "}\n",
       "\n",
       "// Register the function which deals with the matplotlib target/channel.\n",
       "// The kernel may be null if the page has been refreshed.\n",
       "if (IPython.notebook.kernel != null) {\n",
       "    IPython.notebook.kernel.comm_manager.register_target('matplotlib', mpl.mpl_figure_comm);\n",
       "}\n"
      ],
      "text/plain": [
       "<IPython.core.display.Javascript object>"
      ]
     },
     "metadata": {},
     "output_type": "display_data"
    },
    {
     "data": {
      "text/html": [
       "<img src=\"data:image/png;base64,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\" width=\"600\">"
      ],
      "text/plain": [
       "<IPython.core.display.HTML object>"
      ]
     },
     "metadata": {},
     "output_type": "display_data"
    }
   ],
   "source": [
    "s0.draw_poincare()"
   ]
  },
  {
   "cell_type": "code",
   "execution_count": null,
   "metadata": {},
   "outputs": [],
   "source": []
  },
  {
   "cell_type": "code",
   "execution_count": null,
   "metadata": {},
   "outputs": [],
   "source": []
  },
  {
   "cell_type": "code",
   "execution_count": null,
   "metadata": {},
   "outputs": [],
   "source": []
  }
 ],
 "metadata": {
  "kernelspec": {
   "display_name": "Python 3",
   "language": "python",
   "name": "python3"
  },
  "language_info": {
   "codemirror_mode": {
    "name": "ipython",
    "version": 3
   },
   "file_extension": ".py",
   "mimetype": "text/x-python",
   "name": "python",
   "nbconvert_exporter": "python",
   "pygments_lexer": "ipython3",
   "version": "3.6.8"
  },
  "toc": {
   "nav_menu": {},
   "number_sections": true,
   "sideBar": true,
   "skip_h1_title": false,
   "toc_cell": false,
   "toc_position": {},
   "toc_section_display": "block",
   "toc_window_display": false
  },
  "varInspector": {
   "cols": {
    "lenName": 16,
    "lenType": 16,
    "lenVar": 40
   },
   "kernels_config": {
    "python": {
     "delete_cmd_postfix": "",
     "delete_cmd_prefix": "del ",
     "library": "var_list.py",
     "varRefreshCmd": "print(var_dic_list())"
    },
    "r": {
     "delete_cmd_postfix": ") ",
     "delete_cmd_prefix": "rm(",
     "library": "var_list.r",
     "varRefreshCmd": "cat(var_dic_list()) "
    }
   },
   "types_to_exclude": [
    "module",
    "function",
    "builtin_function_or_method",
    "instance",
    "_Feature"
   ],
   "window_display": false
  }
 },
 "nbformat": 4,
 "nbformat_minor": 2
}
