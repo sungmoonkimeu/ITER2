{
 "cells": [
  {
   "cell_type": "code",
   "execution_count": 18,
   "metadata": {},
   "outputs": [],
   "source": [
    "from py_pol.stokes import Stokes\n",
    "from py_pol.mueller import Mueller\n",
    "from py_pol.utils import degrees\n",
    "\n",
    "j0 = Stokes(\"j0\")\n",
    "j0.elliptical_light(a=1, b=.5, phase=45*degrees, angle=45*degrees, pol_degree=.75)\n",
    "\n",
    "m1 = Mueller(\"m1\")\n",
    "m1.diattenuator_linear(p1=1, p2=.25, angle=0*degrees)\n",
    "\n",
    "\n",
    "j1=m1*j0"
   ]
  },
  {
   "cell_type": "code",
   "execution_count": 30,
   "metadata": {},
   "outputs": [
    {
     "name": "stdout",
     "output_type": "stream",
     "text": [
      "intensity = 1.250 arb. u.\n"
     ]
    }
   ],
   "source": [
    "i1=j0.parameters.intensity()\n",
    "print(\"intensity = {:4.3f} arb. u.\".format(i1))"
   ]
  },
  {
   "cell_type": "code",
   "execution_count": 20,
   "metadata": {},
   "outputs": [
    {
     "name": "stdout",
     "output_type": "stream",
     "text": [
      "j0 = [+1.250; +0.530; -0.562; +0.530]\n",
      " \n",
      "\n",
      "parameters of j0:\n",
      "    intensity             : 1.250 arb. u.\n",
      "    degree polarization   : 0.750\n",
      "    degree linear pol.    : 0.618\n",
      "    degree   circular pol.: 0.424\n",
      "    alpha                 : 27.775º\n",
      "    delay                 : 43.314º\n",
      "    azimuth               : 23.343º\n",
      "    ellipticity  angle    : 17.225º\n",
      "    ellipticity  param    : 0.310\n",
      "    eccentricity          : 0.951\n",
      "    polarized vector      : [+0.938; +0.530; -0.562; +0.530]'\n",
      "    unpolarized vector    : [+0.312; +0.000; +0.000; +0.000]'\n",
      "\n"
     ]
    }
   ],
   "source": [
    "print(j0,'\\n')\n",
    "print(j0.parameters)"
   ]
  },
  {
   "cell_type": "code",
   "execution_count": 31,
   "metadata": {},
   "outputs": [
    {
     "name": "stdout",
     "output_type": "stream",
     "text": [
      "m1 = \n",
      "  [+0.531, +0.469, +0.000, +0.000]\n",
      "  [+0.469, +0.531, +0.000, +0.000]\n",
      "  [+0.000, +0.000, +0.250, +0.000]\n",
      "  [+0.000, +0.000, +0.000, +0.250]\n",
      " \n",
      "\n",
      "parameters:\n",
      "    \n"
     ]
    }
   ],
   "source": [
    "print(m1,'\\n')\n",
    "print(m1.parameters)"
   ]
  },
  {
   "cell_type": "code",
   "execution_count": 32,
   "metadata": {},
   "outputs": [
    {
     "name": "stdout",
     "output_type": "stream",
     "text": [
      "m1 * j0 = [+0.913; +0.868; -0.141; +0.133]\n",
      "\n",
      "parameters of m1 * j0:\n",
      "    intensity             : 0.913 arb. u.\n",
      "    degree polarization   : 0.974\n",
      "    degree linear pol.    : 0.963\n",
      "    degree   circular pol.: 0.145\n",
      "    alpha                 : 6.279º\n",
      "    delay                 : 43.314º\n",
      "    azimuth               : 4.603º\n",
      "    ellipticity  angle    : 4.289º\n",
      "    ellipticity  param    : 0.075\n",
      "    eccentricity          : 0.997\n",
      "    polarized vector      : [+0.889; +0.868; -0.141; +0.133]'\n",
      "    unpolarized vector    : [+0.024; +0.000; +0.000; +0.000]'\n",
      "\n"
     ]
    }
   ],
   "source": [
    "print(j1)\n",
    "print(j1.parameters)"
   ]
  },
  {
   "cell_type": "code",
   "execution_count": null,
   "metadata": {},
   "outputs": [],
   "source": []
  }
 ],
 "metadata": {
  "kernelspec": {
   "display_name": "Python 3",
   "language": "python",
   "name": "python3"
  },
  "language_info": {
   "codemirror_mode": {
    "name": "ipython",
    "version": 3
   },
   "file_extension": ".py",
   "mimetype": "text/x-python",
   "name": "python",
   "nbconvert_exporter": "python",
   "pygments_lexer": "ipython3",
   "version": "3.6.7"
  }
 },
 "nbformat": 4,
 "nbformat_minor": 2
}
