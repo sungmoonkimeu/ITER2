{
 "cells": [
  {
   "cell_type": "markdown",
   "metadata": {},
   "source": [
    "# Test utils"
   ]
  },
  {
   "cell_type": "markdown",
   "metadata": {},
   "source": [
    "## import module"
   ]
  },
  {
   "cell_type": "code",
   "execution_count": 1,
   "metadata": {},
   "outputs": [
    {
     "name": "stdout",
     "output_type": "stream",
     "text": [
      "{'commit_hash': '523ed2fe5',\n",
      " 'commit_source': 'installation',\n",
      " 'default_encoding': 'cp1252',\n",
      " 'ipython_path': 'C:\\\\Users\\\\Jesus\\\\Anaconda3\\\\lib\\\\site-packages\\\\IPython',\n",
      " 'ipython_version': '7.2.0',\n",
      " 'os_name': 'nt',\n",
      " 'platform': 'Windows-10-10.0.17134-SP0',\n",
      " 'sys_executable': 'C:\\\\Users\\\\Jesus\\\\Anaconda3\\\\python.exe',\n",
      " 'sys_platform': 'win32',\n",
      " 'sys_version': '3.7.1 (default, Dec 10 2018, 22:54:23) [MSC v.1915 64 bit '\n",
      "                '(AMD64)]'}\n",
      "The autoreload extension is already loaded. To reload it, use:\n",
      "  %reload_ext autoreload\n",
      "The line_profiler extension is already loaded. To reload it, use:\n",
      "  %reload_ext line_profiler\n"
     ]
    }
   ],
   "source": [
    "%run ../config_jupyter.ipynb\n",
    "%load_ext autoreload\n",
    "%autoreload 2\n",
    "%load_ext line_profiler"
   ]
  },
  {
   "cell_type": "code",
   "execution_count": 17,
   "metadata": {},
   "outputs": [],
   "source": [
    "from numpy import matrix, array, cos, sin, pi\n",
    "from py_pol import degrees, np\n",
    "from py_pol.utils import (rotation_matrix_Jones, params_to_list, charac_angles_2_azimuth_elipt, \n",
    "azimuth_elipt_2_charac_angles, comparison, eps)\n",
    "\n",
    "from py_pol.jones_vector import Jones_vector\n",
    "from py_pol.jones_matrix import Jones_matrix\n",
    "from py_pol.stokes import Stokes\n"
   ]
  },
  {
   "cell_type": "markdown",
   "metadata": {},
   "source": [
    "## parms_to_list"
   ]
  },
  {
   "cell_type": "markdown",
   "metadata": {},
   "source": [
    "### Jones "
   ]
  },
  {
   "cell_type": "code",
   "execution_count": 9,
   "metadata": {},
   "outputs": [
    {
     "name": "stdout",
     "output_type": "stream",
     "text": [
      "J1 = [(-1+2j); (1-2j)]'\n"
     ]
    }
   ],
   "source": [
    "J1 = Jones_vector('J1')\n",
    "J1.from_elements(-1+2j,1-2j)\n",
    "print(J1)"
   ]
  },
  {
   "cell_type": "code",
   "execution_count": 7,
   "metadata": {},
   "outputs": [
    {
     "name": "stdout",
     "output_type": "stream",
     "text": [
      "J1_cond: [1.000+0.000j; -1.000+0.000j]', amplitude: 2.236, angle: 2.03 deg\n",
      "\n"
     ]
    }
   ],
   "source": [
    "J1.simplify(kind=3,verbose=True);"
   ]
  },
  {
   "cell_type": "code",
   "execution_count": 13,
   "metadata": {},
   "outputs": [
    {
     "name": "stdout",
     "output_type": "stream",
     "text": [
      "parameters of J1:\n",
      "    intensity        : 10.000 arb.u\n",
      "    alpha            : 45.000 deg\n",
      "    delay            : 180.000 deg\n",
      "    azimuth          : 45.000 deg\n",
      "    ellipticity angle: 0.000 deg\n",
      "    a, b             : 0.000  3.162\n",
      "\n"
     ]
    }
   ],
   "source": [
    "print(J1.parameters)"
   ]
  },
  {
   "cell_type": "code",
   "execution_count": 11,
   "metadata": {},
   "outputs": [
    {
     "name": "stdout",
     "output_type": "stream",
     "text": [
      "(10.000000000000002, 0.7853981633974483, 3.141592653589793, 0.7853981633974483, 6.123233995736766e-17, 0.0, 3.1622776601683795)\n"
     ]
    },
    {
     "data": {
      "text/plain": [
       "(10.000000000000002,\n",
       " 0.7853981633974483,\n",
       " 3.141592653589793,\n",
       " 0.7853981633974483,\n",
       " 6.123233995736766e-17,\n",
       " 0.0,\n",
       " 3.1622776601683795)"
      ]
     },
     "execution_count": 11,
     "metadata": {},
     "output_type": "execute_result"
    }
   ],
   "source": [
    "params_to_list(J1, verbose=True)"
   ]
  },
  {
   "cell_type": "markdown",
   "metadata": {},
   "source": [
    "### Jones_matrix"
   ]
  },
  {
   "cell_type": "code",
   "execution_count": 30,
   "metadata": {},
   "outputs": [],
   "source": [
    "M1 = Jones_matrix('M1')\n"
   ]
  },
  {
   "cell_type": "code",
   "execution_count": 31,
   "metadata": {},
   "outputs": [
    {
     "data": {
      "text/plain": [
       "matrix([[0.5+0.j, 0.4+0.j],\n",
       "        [0.4+0.j, 0.5+0.j]])"
      ]
     },
     "execution_count": 31,
     "metadata": {},
     "output_type": "execute_result"
    }
   ],
   "source": [
    "M1.diattenuator_linear(angle=45*degrees, p1=.9, p2=.1)"
   ]
  },
  {
   "cell_type": "code",
   "execution_count": 32,
   "metadata": {},
   "outputs": [
    {
     "data": {
      "text/plain": [
       "parameters of M1 @45.00 deg:\n",
       "    is_homogeneous: True\n",
       "    delay:          0.000ª\n",
       "    diattenuation:  0.976"
      ]
     },
     "execution_count": 32,
     "metadata": {},
     "output_type": "execute_result"
    }
   ],
   "source": [
    "M1.parameters"
   ]
  },
  {
   "cell_type": "code",
   "execution_count": 33,
   "metadata": {},
   "outputs": [
    {
     "name": "stdout",
     "output_type": "stream",
     "text": [
      "(0.0, 0.975609756097561, True)\n"
     ]
    },
    {
     "data": {
      "text/plain": [
       "(0.0, 0.975609756097561, True)"
      ]
     },
     "execution_count": 33,
     "metadata": {},
     "output_type": "execute_result"
    }
   ],
   "source": [
    "params_to_list(M1, verbose=True)"
   ]
  },
  {
   "cell_type": "markdown",
   "metadata": {},
   "source": [
    "### Stokes"
   ]
  },
  {
   "cell_type": "code",
   "execution_count": 38,
   "metadata": {},
   "outputs": [
    {
     "data": {
      "text/plain": [
       "matrix([[1.        ],\n",
       "        [0.35355339],\n",
       "        [0.25      ],\n",
       "        [0.25      ]])"
      ]
     },
     "execution_count": 38,
     "metadata": {},
     "output_type": "execute_result"
    }
   ],
   "source": [
    "S1 = Stokes('S1')\n",
    "S1.general_charac_angles(\n",
    "    alpha=22.5*degrees, delay=45*degrees, intensity=1, pol_degree=.5, is_depolarization=False)"
   ]
  },
  {
   "cell_type": "code",
   "execution_count": 39,
   "metadata": {},
   "outputs": [
    {
     "data": {
      "text/plain": [
       "parameters of S1:\n",
       "    intensity             : 1.000 arb. u.\n",
       "    amplitudes            : E0x 0.653, E0y 0.271, E0_unpol 0.707 \n",
       "    degree polarization   : 0.500\n",
       "    degree linear pol.    : 0.433\n",
       "    degree   circular pol.: 0.250\n",
       "    alpha                 : 22.500 deg\n",
       "    delay                 : 45.000 deg\n",
       "    azimuth               : 17.632 deg\n",
       "    ellipticity  angle    : 15.000 deg\n",
       "    ellipticity  param    : 0.268\n",
       "    eccentricity          : 0.963\n",
       "    polarized vector      : [+0.500; +0.354; +0.250; +0.250]'\n",
       "    unpolarized vector    : [+0.500; +0.000; +0.000; +0.000]'"
      ]
     },
     "execution_count": 39,
     "metadata": {},
     "output_type": "execute_result"
    }
   ],
   "source": [
    "S1.parameters"
   ]
  },
  {
   "cell_type": "code",
   "execution_count": 44,
   "metadata": {},
   "outputs": [
    {
     "name": "stdout",
     "output_type": "stream",
     "text": [
      "(1.0, (0.6532824824381883, 0.2705990500730985, 0.7071067811865476), 0.5, 0.43301270189221935, 0.24999999999999994, 0.39269908169872414, 0.7853981633974482, 0.30773985433519363, 0.26179938779914935, 0.26794919243112264, [0.5, 0.3535533905932738, 0.25, 0.24999999999999994], [0.5, 0.0, 0.0, 0.0])\n"
     ]
    }
   ],
   "source": [
    "params_to_list(S1, verbose=True);"
   ]
  },
  {
   "cell_type": "markdown",
   "metadata": {},
   "source": [
    "## Fast method"
   ]
  },
  {
   "cell_type": "code",
   "execution_count": 53,
   "metadata": {},
   "outputs": [],
   "source": [
    "lista=[(k,v) for k,v in S1.parameters.dict_params.items()]"
   ]
  },
  {
   "cell_type": "code",
   "execution_count": 59,
   "metadata": {},
   "outputs": [
    {
     "name": "stdout",
     "output_type": "stream",
     "text": [
      "intensity: 1.0\n",
      "amplitudes: (0.6532824824381883, 0.2705990500730985, 0.7071067811865476)\n",
      "degree_pol: 0.5\n",
      "degree_linear_pol: 0.43301270189221935\n",
      "degree_circular_pol: 0.24999999999999994\n",
      "alpha: 0.39269908169872414\n",
      "delay: 0.7853981633974482\n",
      "ellipticity_param: 0.26794919243112264\n",
      "ellipticity_angle: 0.26179938779914935\n",
      "azimuth: 0.30773985433519363\n",
      "eccentricity: 0.9634330440022852\n",
      "polarized: [0.5, 0.3535533905932738, 0.25, 0.24999999999999994]\n",
      "unpolarized: [0.5, 0.0, 0.0, 0.0]\n"
     ]
    }
   ],
   "source": [
    "for l in lista:\n",
    "    print(\"{}: {}\".format(l[0],l[1]))"
   ]
  },
  {
   "cell_type": "markdown",
   "metadata": {},
   "source": [
    "## Change of coordinates"
   ]
  },
  {
   "cell_type": "code",
   "execution_count": 18,
   "metadata": {},
   "outputs": [
    {
     "name": "stdout",
     "output_type": "stream",
     "text": [
      "[1. 1. 1. 1. 1. 1. 1. 1. 1. 1. 1. 1. 1. 1. 1. 1. 1. 1. 1. 1.]\n"
     ]
    }
   ],
   "source": [
    "N = 20\n",
    "errors = np.zeros(N)\n",
    "for ind in range(N):\n",
    "    (alpha, delta) = np.random.rand(2)\n",
    "    alpha = alpha*90*degrees\n",
    "    delta = delta*360*degrees\n",
    "    solution = np.array([alpha, delta])\n",
    "    (fi, chi) = charac_angles_2_azimuth_elipt(alpha, delta)\n",
    "    proposal = azimuth_elipt_2_charac_angles(fi, chi)\n",
    "    proposal = np.array(proposal)\n",
    "    errors[ind] = comparison(proposal, solution, eps)\n",
    "print(errors)"
   ]
  },
  {
   "cell_type": "code",
   "execution_count": 23,
   "metadata": {},
   "outputs": [
    {
     "name": "stdout",
     "output_type": "stream",
     "text": [
      "[1. 1. 1. 1. 1. 1. 1. 1. 1. 1. 1. 1. 1. 1. 1. 1. 1. 1. 1. 1.]\n"
     ]
    }
   ],
   "source": [
    "N = 20\n",
    "errors = np.zeros(N)\n",
    "for ind in range(N):\n",
    "    (azimuth, ellipticity) = np.random.rand(2)\n",
    "    azimuth = azimuth*180*degrees\n",
    "    ellipticity = (1-2*ellipticity)*45*degrees\n",
    "    solution = np.array([azimuth, ellipticity])\n",
    "    (alpha, delay) = azimuth_elipt_2_charac_angles(azimuth, ellipticity) \n",
    "    proposal = charac_angles_2_azimuth_elipt(alpha, delay)\n",
    "    proposal = np.array(proposal)\n",
    "    errors[ind] = comparison(proposal, solution, eps)\n",
    "print(errors)"
   ]
  },
  {
   "cell_type": "code",
   "execution_count": null,
   "metadata": {},
   "outputs": [],
   "source": []
  }
 ],
 "metadata": {
  "kernelspec": {
   "display_name": "Python 3",
   "language": "python",
   "name": "python3"
  },
  "language_info": {
   "codemirror_mode": {
    "name": "ipython",
    "version": 3
   },
   "file_extension": ".py",
   "mimetype": "text/x-python",
   "name": "python",
   "nbconvert_exporter": "python",
   "pygments_lexer": "ipython3",
   "version": "3.7.1"
  },
  "toc": {
   "base_numbering": 1,
   "nav_menu": {},
   "number_sections": true,
   "sideBar": true,
   "skip_h1_title": false,
   "title_cell": "Table of Contents",
   "title_sidebar": "Contents",
   "toc_cell": false,
   "toc_position": {},
   "toc_section_display": true,
   "toc_window_display": false
  },
  "varInspector": {
   "cols": {
    "lenName": 16,
    "lenType": 16,
    "lenVar": 40
   },
   "kernels_config": {
    "python": {
     "delete_cmd_postfix": "",
     "delete_cmd_prefix": "del ",
     "library": "var_list.py",
     "varRefreshCmd": "print(var_dic_list())"
    },
    "r": {
     "delete_cmd_postfix": ") ",
     "delete_cmd_prefix": "rm(",
     "library": "var_list.r",
     "varRefreshCmd": "cat(var_dic_list()) "
    }
   },
   "types_to_exclude": [
    "module",
    "function",
    "builtin_function_or_method",
    "instance",
    "_Feature"
   ],
   "window_display": false
  }
 },
 "nbformat": 4,
 "nbformat_minor": 2
}
