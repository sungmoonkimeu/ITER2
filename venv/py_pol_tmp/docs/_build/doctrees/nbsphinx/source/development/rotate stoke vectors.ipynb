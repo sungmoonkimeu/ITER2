{
 "cells": [
  {
   "cell_type": "markdown",
   "metadata": {},
   "source": [
    "# Rotate stokes vector\n",
    "\n",
    "This method was Çimplemented at 2019/01/26"
   ]
  },
  {
   "cell_type": "code",
   "execution_count": 1,
   "metadata": {},
   "outputs": [],
   "source": [
    "from py_pol import degrees, np\n",
    "from py_pol.stokes import Stokes\n",
    "from py_pol.utils import rotation_matrix_Mueller"
   ]
  },
  {
   "cell_type": "code",
   "execution_count": 2,
   "metadata": {},
   "outputs": [
    {
     "name": "stdout",
     "output_type": "stream",
     "text": [
      "s0 = [ +1;  +1;  +0;  +0]\n",
      "\n"
     ]
    }
   ],
   "source": [
    "s0=Stokes('s0')\n",
    "s0.linear_light(angle=0, intensity=1)\n",
    "print(s0)"
   ]
  },
  {
   "cell_type": "code",
   "execution_count": 3,
   "metadata": {},
   "outputs": [],
   "source": [
    "angle=45*degrees\n",
    "s1 = rotation_matrix_Mueller(-angle) * s0.M"
   ]
  },
  {
   "cell_type": "code",
   "execution_count": 4,
   "metadata": {},
   "outputs": [
    {
     "name": "stdout",
     "output_type": "stream",
     "text": [
      "[[1.000000e+00]\n",
      " [6.123234e-17]\n",
      " [1.000000e+00]\n",
      " [0.000000e+00]]\n"
     ]
    }
   ],
   "source": [
    "print(s1)"
   ]
  },
  {
   "cell_type": "code",
   "execution_count": 5,
   "metadata": {},
   "outputs": [
    {
     "name": "stdout",
     "output_type": "stream",
     "text": [
      "s0 @45.00º = [ +1;  +1;  +0;  +0]\n",
      " \n",
      "\n",
      "[[1.000000e+00]\n",
      " [6.123234e-17]\n",
      " [1.000000e+00]\n",
      " [0.000000e+00]]\n"
     ]
    }
   ],
   "source": [
    "s_rotated=s0.rotate(angle=45*degrees, keep=False)\n",
    "print(s0,'\\n')\n",
    "print(s_rotated)"
   ]
  },
  {
   "cell_type": "code",
   "execution_count": 6,
   "metadata": {},
   "outputs": [
    {
     "name": "stdout",
     "output_type": "stream",
     "text": [
      "s0 @45.00º @45.00º = [ +1;  +0;  +1;  +0]\n",
      " \n",
      "\n",
      "[[1.000000e+00]\n",
      " [6.123234e-17]\n",
      " [1.000000e+00]\n",
      " [0.000000e+00]]\n"
     ]
    }
   ],
   "source": [
    "s_rotated=s0.rotate(angle=45*degrees, keep=True)\n",
    "print(s0,'\\n')\n",
    "print(s_rotated)"
   ]
  },
  {
   "cell_type": "code",
   "execution_count": null,
   "metadata": {},
   "outputs": [],
   "source": []
  },
  {
   "cell_type": "code",
   "execution_count": null,
   "metadata": {},
   "outputs": [],
   "source": []
  }
 ],
 "metadata": {
  "kernelspec": {
   "display_name": "Python 3",
   "language": "python",
   "name": "python3"
  },
  "language_info": {
   "codemirror_mode": {
    "name": "ipython",
    "version": 3
   },
   "file_extension": ".py",
   "mimetype": "text/x-python",
   "name": "python",
   "nbconvert_exporter": "python",
   "pygments_lexer": "ipython3",
   "version": "3.6.7"
  }
 },
 "nbformat": 4,
 "nbformat_minor": 2
}
