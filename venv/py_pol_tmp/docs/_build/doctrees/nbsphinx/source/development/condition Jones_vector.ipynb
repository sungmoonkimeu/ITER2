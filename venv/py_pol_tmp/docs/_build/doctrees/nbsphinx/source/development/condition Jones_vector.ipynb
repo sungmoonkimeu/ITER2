{
 "cells": [
  {
   "cell_type": "markdown",
   "metadata": {},
   "source": [
    "# Condition Jones Vectors\n",
    "\n",
    "Sometimes, the Jones vector presents complex numbers in both elements, which make them not very clear. \n",
    "Here we try to simplify the representation of Jones Vectors"
   ]
  },
  {
   "cell_type": "markdown",
   "metadata": {},
   "source": [
    "## Stokes vectors"
   ]
  },
  {
   "cell_type": "code",
   "execution_count": 1,
   "metadata": {},
   "outputs": [
    {
     "name": "stdout",
     "output_type": "stream",
     "text": [
      "3.0.2\n"
     ]
    }
   ],
   "source": [
    "%matplotlib notebook \n",
    "from py_pol import degrees, np\n",
    "from py_pol.jones_vector import Jones_vector\n",
    "import matplotlib.pyplot as plt\n",
    "\n",
    "np.set_printoptions(precision=4)\n",
    "np.set_printoptions(suppress=True)\n",
    "\n"
   ]
  },
  {
   "cell_type": "markdown",
   "metadata": {},
   "source": [
    "### Vector definition"
   ]
  },
  {
   "cell_type": "code",
   "execution_count": 98,
   "metadata": {},
   "outputs": [
    {
     "name": "stdout",
     "output_type": "stream",
     "text": [
      "j0 = [(1.3066-0.5412j); (1.3066+0.5412j)]'\n",
      "parameters of j0:\n",
      "    intensity        : 4.000 arb.u\n",
      "    alpha            : 45.000 deg\n",
      "    delay            : 45.000 deg\n",
      "    azimuth          : 45.000 deg\n",
      "    ellipticity angle: 22.500 deg\n",
      "    a, b             : 1.848  0.765\n",
      "\n"
     ]
    }
   ],
   "source": [
    "j0 = Jones_vector('j0')\n",
    "j0.general_charac_angles(\n",
    "    alpha=45*degrees, delay=45*degrees, amplitude=2)\n",
    "# j0.general_azimuth_ellipticity(azimuth=45*degrees, ellipticity=22.5*degrees,  amplitude=2)\n",
    "print(j0)\n",
    "\n",
    "print(j0.parameters)"
   ]
  },
  {
   "cell_type": "code",
   "execution_count": 99,
   "metadata": {},
   "outputs": [
    {
     "name": "stdout",
     "output_type": "stream",
     "text": [
      "j0 = [(1.3066-0.5412j); (1.3066+0.5412j)]'\n"
     ]
    }
   ],
   "source": [
    "j0_M=j0.M\n",
    "print(j0)"
   ]
  },
  {
   "cell_type": "markdown",
   "metadata": {},
   "source": [
    "## Parameters"
   ]
  },
  {
   "cell_type": "code",
   "execution_count": 100,
   "metadata": {},
   "outputs": [
    {
     "name": "stdout",
     "output_type": "stream",
     "text": [
      "-22.5\n"
     ]
    }
   ],
   "source": [
    "# Global phase of vector\n",
    "global_phase=np.angle(j0_M[0,0])\n",
    "print(global_phase/degrees)"
   ]
  },
  {
   "cell_type": "code",
   "execution_count": 101,
   "metadata": {},
   "outputs": [
    {
     "name": "stdout",
     "output_type": "stream",
     "text": [
      "2.0\n"
     ]
    }
   ],
   "source": [
    "# Modulus of vector\n",
    "modulus=np.linalg.norm(j0_M)\n",
    "print(modulus)"
   ]
  },
  {
   "cell_type": "markdown",
   "metadata": {},
   "source": [
    "## First way of conditioning\n",
    "Only remove global phase, and amplitude is kept in vector"
   ]
  },
  {
   "cell_type": "code",
   "execution_count": 102,
   "metadata": {},
   "outputs": [
    {
     "name": "stdout",
     "output_type": "stream",
     "text": [
      "[[1.4142+0.j]\n",
      " [1.    +1.j]]\n"
     ]
    }
   ],
   "source": [
    "j0_conditioned=j0_M/(np.exp(1j*global_phase))\n",
    "print(j0_conditioned)"
   ]
  },
  {
   "cell_type": "code",
   "execution_count": 103,
   "metadata": {},
   "outputs": [
    {
     "name": "stdout",
     "output_type": "stream",
     "text": [
      "-22.5\n"
     ]
    }
   ],
   "source": [
    "print(global_phase/degrees)"
   ]
  },
  {
   "cell_type": "markdown",
   "metadata": {},
   "source": [
    "## Second way of conditioning\n",
    "Divide the Jones vector in Amplitude, global phase and vector with norm=1"
   ]
  },
  {
   "cell_type": "code",
   "execution_count": 104,
   "metadata": {},
   "outputs": [
    {
     "name": "stdout",
     "output_type": "stream",
     "text": [
      "[[1.4142+0.j]\n",
      " [1.    +1.j]]\n"
     ]
    }
   ],
   "source": [
    "j0_conditioned=j0_M/(np.exp(1j*global_phase))\n",
    "print(j0_conditioned)"
   ]
  },
  {
   "cell_type": "code",
   "execution_count": 105,
   "metadata": {},
   "outputs": [
    {
     "name": "stdout",
     "output_type": "stream",
     "text": [
      "1.9999999999999998\n"
     ]
    }
   ],
   "source": [
    "modulus_conditioned=np.linalg.norm(j0_conditioned)\n",
    "print(modulus_conditioned)"
   ]
  },
  {
   "cell_type": "code",
   "execution_count": 106,
   "metadata": {},
   "outputs": [
    {
     "name": "stdout",
     "output_type": "stream",
     "text": [
      "[[0.7071+0.j ]\n",
      " [0.5   +0.5j]]\n"
     ]
    }
   ],
   "source": [
    "j0_modulus1 = j0_conditioned / modulus\n",
    "print(j0_modulus1)"
   ]
  },
  {
   "cell_type": "code",
   "execution_count": 107,
   "metadata": {},
   "outputs": [
    {
     "name": "stdout",
     "output_type": "stream",
     "text": [
      "[[0.7071+0.j ]\n",
      " [0.5   +0.5j]] 1.9999999999999998 -22.5\n"
     ]
    }
   ],
   "source": [
    "print(j0_modulus1, modulus_conditioned, global_phase/degrees)"
   ]
  },
  {
   "cell_type": "code",
   "execution_count": 108,
   "metadata": {},
   "outputs": [
    {
     "name": "stdout",
     "output_type": "stream",
     "text": [
      "0.9999999999999999\n"
     ]
    }
   ],
   "source": [
    "print(np.linalg.norm(j0_modulus1))\n"
   ]
  },
  {
   "cell_type": "markdown",
   "metadata": {},
   "source": [
    "## Third way of conditioning\n",
    "\n",
    "Now, we make that first element is 1, for comparison. We return phase, amplitude_resting and vector not normalized"
   ]
  },
  {
   "cell_type": "code",
   "execution_count": 112,
   "metadata": {},
   "outputs": [
    {
     "name": "stdout",
     "output_type": "stream",
     "text": [
      "[[1.3066-0.5412j]\n",
      " [1.3066+0.5412j]]\n",
      "(1.3065629648763764+0.5411961001461969j)\n"
     ]
    }
   ],
   "source": [
    "j0_conditioned2=j0_M/j0_M[0,0]\n",
    "print(j0_conditioned2)\n",
    "\n",
    "print(j0_M[1,0])"
   ]
  },
  {
   "cell_type": "code",
   "execution_count": 73,
   "metadata": {},
   "outputs": [
    {
     "name": "stdout",
     "output_type": "stream",
     "text": [
      "1.4142135623730951\n"
     ]
    }
   ],
   "source": [
    "normalization_factor=np.abs(j0_M[0,0])\n",
    "print(normalization_factor)"
   ]
  },
  {
   "cell_type": "code",
   "execution_count": 77,
   "metadata": {},
   "outputs": [
    {
     "name": "stdout",
     "output_type": "stream",
     "text": [
      "-22.5\n"
     ]
    }
   ],
   "source": [
    "phase_factor=np.angle(j0_M[0,0])\n",
    "print(phase_factor/degrees)"
   ]
  },
  {
   "cell_type": "markdown",
   "metadata": {},
   "source": [
    "### Prevention: Cannot divide /0"
   ]
  },
  {
   "cell_type": "code",
   "execution_count": 92,
   "metadata": {
    "scrolled": true
   },
   "outputs": [
    {
     "name": "stdout",
     "output_type": "stream",
     "text": [
      "j0 = [0j; (2+0j)]'\n",
      "parameters of j0:\n",
      "    intensity        : 4.000 arb.u\n",
      "    alpha            : 90.000 deg\n",
      "    delay            : 0.000 deg\n",
      "    azimuth          : 90.000 deg\n",
      "    ellipticity angle: 0.000 deg\n",
      "    a, b             : 2.000  0.000\n",
      "\n"
     ]
    }
   ],
   "source": [
    "j1 = Jones_vector('j0')\n",
    "j1.general_charac_angles(\n",
    "    alpha=90*degrees, delay=0*degrees, amplitude=2)\n",
    "# j0.general_azimuth_ellipticity(azimuth=45*degrees, ellipticity=22.5*degrees,  amplitude=2)\n",
    "print(j1)\n",
    "\n",
    "j1_M=j1.M\n",
    "\n",
    "print(j1.parameters)\n",
    "\n",
    "#j1.draw_ellipse()"
   ]
  },
  {
   "cell_type": "code",
   "execution_count": 93,
   "metadata": {},
   "outputs": [
    {
     "name": "stdout",
     "output_type": "stream",
     "text": [
      "[[1.0000e+00+0.j]\n",
      " [1.6331e+16+0.j]]\n"
     ]
    }
   ],
   "source": [
    "j1_conditioned2=j1_M/j1_M[0,0]\n",
    "print(j1_conditioned2)"
   ]
  },
  {
   "cell_type": "code",
   "execution_count": 95,
   "metadata": {},
   "outputs": [
    {
     "name": "stdout",
     "output_type": "stream",
     "text": [
      "1.2246467991473532e-16\n"
     ]
    }
   ],
   "source": [
    "normalization_factor=np.abs(j1_M[0,0])\n",
    "print(normalization_factor)"
   ]
  },
  {
   "cell_type": "code",
   "execution_count": null,
   "metadata": {},
   "outputs": [],
   "source": []
  }
 ],
 "metadata": {
  "kernelspec": {
   "display_name": "Python 3",
   "language": "python",
   "name": "python3"
  },
  "language_info": {
   "codemirror_mode": {
    "name": "ipython",
    "version": 3
   },
   "file_extension": ".py",
   "mimetype": "text/x-python",
   "name": "python",
   "nbconvert_exporter": "python",
   "pygments_lexer": "ipython3",
   "version": "3.6.8"
  },
  "toc": {
   "nav_menu": {},
   "number_sections": true,
   "sideBar": true,
   "skip_h1_title": false,
   "toc_cell": false,
   "toc_position": {},
   "toc_section_display": true,
   "toc_window_display": false
  },
  "varInspector": {
   "cols": {
    "lenName": 16,
    "lenType": 16,
    "lenVar": 40
   },
   "kernels_config": {
    "python": {
     "delete_cmd_postfix": "",
     "delete_cmd_prefix": "del ",
     "library": "var_list.py",
     "varRefreshCmd": "print(var_dic_list())"
    },
    "r": {
     "delete_cmd_postfix": ") ",
     "delete_cmd_prefix": "rm(",
     "library": "var_list.r",
     "varRefreshCmd": "cat(var_dic_list()) "
    }
   },
   "types_to_exclude": [
    "module",
    "function",
    "builtin_function_or_method",
    "instance",
    "_Feature"
   ],
   "window_display": false
  }
 },
 "nbformat": 4,
 "nbformat_minor": 2
}
