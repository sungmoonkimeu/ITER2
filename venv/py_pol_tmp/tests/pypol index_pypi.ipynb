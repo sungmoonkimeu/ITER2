{
 "cells": [
  {
   "cell_type": "markdown",
   "metadata": {},
   "source": [
    "# Comparación con https://pypi.org/project/py-pol/"
   ]
  },
  {
   "cell_type": "markdown",
   "metadata": {},
   "source": [
    "for README.rst"
   ]
  },
  {
   "cell_type": "markdown",
   "metadata": {},
   "source": [
    "# Example 1"
   ]
  },
  {
   "cell_type": "code",
   "execution_count": 31,
   "metadata": {},
   "outputs": [],
   "source": [
    "from py_pol.jones_vector import Jones_vector\n",
    "from py_pol.jones_matrix import Jones_matrix\n",
    "from py_pol.utils import degrees"
   ]
  },
  {
   "cell_type": "code",
   "execution_count": 32,
   "metadata": {},
   "outputs": [
    {
     "data": {
      "text/plain": [
       "matrix([[0.70710678],\n",
       "        [0.70710678]])"
      ]
     },
     "execution_count": 32,
     "metadata": {},
     "output_type": "execute_result"
    }
   ],
   "source": [
    "j0 = Jones_vector(\"j0\")\n",
    "j0.linear_light(angle=45*degrees)"
   ]
  },
  {
   "cell_type": "code",
   "execution_count": 33,
   "metadata": {},
   "outputs": [
    {
     "data": {
      "text/plain": [
       "matrix([[0.5 +0.j, 0.25+0.j],\n",
       "        [0.25+0.j, 0.5 +0.j]])"
      ]
     },
     "execution_count": 33,
     "metadata": {},
     "output_type": "execute_result"
    }
   ],
   "source": [
    "m0 = Jones_matrix(\"m0\")\n",
    "m0.diattenuator_linear( p1=0.75, p2=0.25, angle=45*degrees)"
   ]
  },
  {
   "cell_type": "code",
   "execution_count": 34,
   "metadata": {},
   "outputs": [
    {
     "data": {
      "text/plain": [
       "matrix([[1.000000e+00+0.j, 0.000000e+00+0.j],\n",
       "        [0.000000e+00+0.j, 6.123234e-17+1.j]])"
      ]
     },
     "execution_count": 34,
     "metadata": {},
     "output_type": "execute_result"
    }
   ],
   "source": [
    "m1 = Jones_matrix(\"m1\")\n",
    "m1.quarter_waveplate(angle=0 * degrees)"
   ]
  },
  {
   "cell_type": "code",
   "execution_count": 35,
   "metadata": {},
   "outputs": [
    {
     "name": "stdout",
     "output_type": "stream",
     "text": [
      "m1 * m0 @45.00 deg * j0 = [(0.5303+0j); 0.5303j]'\n"
     ]
    }
   ],
   "source": [
    "j1=m1*m0*j0\n",
    "print(j1)"
   ]
  },
  {
   "cell_type": "code",
   "execution_count": 36,
   "metadata": {},
   "outputs": [
    {
     "name": "stdout",
     "output_type": "stream",
     "text": [
      "j0 = [0.7071; 0.7071]' \n",
      "\n",
      "parameters of j0:\n",
      "    intensity        : 1.000 arb.u\n",
      "    alpha            : 45.000 deg\n",
      "    delay            : 0.000 deg\n",
      "    azimuth          : 45.000 deg\n",
      "    ellipticity angle: 0.000 deg\n",
      "    a, b             : 1.000  0.000\n",
      "    phase            : 0.000 deg\n",
      "\n"
     ]
    }
   ],
   "source": [
    "print(j0,'\\n')\n",
    "print(j0.parameters)"
   ]
  },
  {
   "cell_type": "code",
   "execution_count": 37,
   "metadata": {},
   "outputs": [
    {
     "name": "stdout",
     "output_type": "stream",
     "text": [
      "m1 * m0 @45.00 deg * j0 = [(0.5303+0j); 0.5303j]' \n",
      "\n",
      "parameters of m1 * m0 @45.00 deg * j0:\n",
      "    intensity        : 0.562 arb.u\n",
      "    alpha            : 45.000 deg\n",
      "    delay            : 90.000 deg\n",
      "    azimuth          : 8.618 deg\n",
      "    ellipticity angle: -45.000 deg\n",
      "    a, b             : 0.530  0.530\n",
      "    phase            : 0.000 deg\n",
      "\n"
     ]
    }
   ],
   "source": [
    "print(j1,'\\n')\n",
    "print(j1.parameters)"
   ]
  },
  {
   "cell_type": "code",
   "execution_count": 38,
   "metadata": {},
   "outputs": [
    {
     "name": "stdout",
     "output_type": "stream",
     "text": [
      "m0 @45.00 deg = \n",
      "      [+0.500, +0.250]\n",
      "      [+0.250, +0.500] \n",
      "\n",
      "parameters of m0 @45.00 deg:\n",
      "    is_homogeneous: True\n",
      "    delay:          0.000ª\n",
      "    diattenuation:  0.800\n",
      "\n"
     ]
    }
   ],
   "source": [
    "print(m0,'\\n')\n",
    "print(m0.parameters)"
   ]
  },
  {
   "cell_type": "code",
   "execution_count": 39,
   "metadata": {},
   "outputs": [
    {
     "name": "stdout",
     "output_type": "stream",
     "text": [
      "m1 = \n",
      "      [+1+0j, +0+0j]\n",
      "      [+0+0j, +0+1j] \n",
      "\n",
      "parameters of m1:\n",
      "    is_homogeneous: True\n",
      "    delay:          90.000ª\n",
      "    diattenuation:  0.000\n",
      "\n"
     ]
    }
   ],
   "source": [
    "print(m1,'\\n')\n",
    "print(m1.parameters)"
   ]
  },
  {
   "cell_type": "markdown",
   "metadata": {},
   "source": [
    "## Stokes-Mueller formalism"
   ]
  },
  {
   "cell_type": "code",
   "execution_count": 45,
   "metadata": {},
   "outputs": [],
   "source": [
    "from py_pol.stokes import Stokes\n",
    "from py_pol.mueller import Mueller\n",
    "from py_pol.utils import degrees\n",
    "\n",
    "j0 = Stokes(\"j0\")\n",
    "j0.linear_light(angle=45*degrees)\n",
    "\n",
    "m1 = Mueller(\"m1\")\n",
    "m1.diattenuator_linear(p1=1, p2=0, angle=0*degrees)\n",
    "\n",
    "j1=m1*j0"
   ]
  },
  {
   "cell_type": "code",
   "execution_count": 46,
   "metadata": {},
   "outputs": [
    {
     "name": "stdout",
     "output_type": "stream",
     "text": [
      "intensity = 1.000 arb. u.\n"
     ]
    }
   ],
   "source": [
    "i1=j0.parameters.intensity()\n",
    "print(\"intensity = {:4.3f} arb. u.\".format(i1))\n"
   ]
  },
  {
   "cell_type": "code",
   "execution_count": 47,
   "metadata": {},
   "outputs": [
    {
     "name": "stdout",
     "output_type": "stream",
     "text": [
      "j0 = [ +1;  +0;  +1;  +0]\n",
      " \n",
      "\n",
      "parameters of j0:\n",
      "    intensity             : 1.000 arb. u.\n",
      "    amplitudes            : E0x 0.707, E0y 0.707, E0_unpol 0.000 \n",
      "    degree polarization   : 1.000\n",
      "    degree linear pol.    : 1.000\n",
      "    degree   circular pol.: 0.000\n",
      "    alpha                 : 45.000 deg\n",
      "    delay                 : 0.000 deg\n",
      "    azimuth               : 45.000 deg\n",
      "    ellipticity  angle    : 0.000 deg\n",
      "    ellipticity  param    : 0.000\n",
      "    eccentricity          : 1.000\n",
      "    polarized vector      : [+1.000; +0.000; +1.000; +0.000]'\n",
      "    unpolarized vector    : [+0.000; +0.000; +0.000; +0.000]'\n",
      "\n"
     ]
    }
   ],
   "source": [
    "print(j0,'\\n')\n",
    "print(j0.parameters)"
   ]
  },
  {
   "cell_type": "code",
   "execution_count": 43,
   "metadata": {},
   "outputs": [
    {
     "name": "stdout",
     "output_type": "stream",
     "text": [
      "m1 * j0 = [+0.500; +0.500; +0.000; +0.000]\n",
      " \n",
      "\n",
      "parameters of m1 * j0:\n",
      "    intensity             : 0.500 arb. u.\n",
      "    amplitudes            : E0x 0.707, E0y 0.000, E0_unpol 0.000 \n",
      "    degree polarization   : 1.000\n",
      "    degree linear pol.    : 1.000\n",
      "    degree   circular pol.: 0.000\n",
      "    alpha                 : 0.000 deg\n",
      "    delay                 : 0.000 deg\n",
      "    azimuth               : 0.000 deg\n",
      "    ellipticity  angle    : 0.000 deg\n",
      "    ellipticity  param    : 0.000\n",
      "    eccentricity          : 1.000\n",
      "    polarized vector      : [+0.500; +0.500; +0.000; +0.000]'\n",
      "    unpolarized vector    : [+0.000; +0.000; +0.000; +0.000]'\n",
      "\n"
     ]
    }
   ],
   "source": [
    "print(j1,'\\n')\n",
    "print(j1.parameters)"
   ]
  },
  {
   "cell_type": "code",
   "execution_count": 44,
   "metadata": {},
   "outputs": [
    {
     "name": "stdout",
     "output_type": "stream",
     "text": [
      "m1 = \n",
      "  [+0.5000, +0.5000, +0.0000, +0.0000]\n",
      "  [+0.5000, +0.5000, +0.0000, +0.0000]\n",
      "  [+0.0000, +0.0000, +0.0000, +0.0000]\n",
      "  [+0.0000, +0.0000, +0.0000, +0.0000]\n",
      " \n",
      "\n",
      "Parameters of m1:\n",
      "    Transmissions:\n",
      "        - Mean                  : 50.0 %.\n",
      "        - Maximum               : 100.0 %.\n",
      "        - Minimum               : 0.0 %.\n",
      "    Diattenuation:\n",
      "        - Total                 : 1.000.\n",
      "        - Linear                : 1.000.\n",
      "        - Circular              : 0.000.\n",
      "    Polarizance:\n",
      "        - Total                 : 1.000.\n",
      "        - Linear                : 1.000.\n",
      "        - Circular              : 0.000.\n",
      "    Spheric purity              : 0.577.\n",
      "    Retardance                  : 1.571.\n",
      "    Polarimetric purity         : 1.000.\n",
      "    Depolarization degree       : 0.000.\n",
      "    Depolarization factors:\n",
      "        - Euclidean distance    : 1.732.\n",
      "        - Depolarization factor : 0.000.\n",
      "    Polarimetric purity indices:\n",
      "        - P1                    : 1.000.\n",
      "        - P2                    : 1.000.\n",
      "        - P3                    : 1.000.\n",
      "\n"
     ]
    }
   ],
   "source": [
    "print(m1,'\\n')\n",
    "print(m1.parameters)"
   ]
  },
  {
   "cell_type": "code",
   "execution_count": 30,
   "metadata": {},
   "outputs": [
    {
     "name": "stdout",
     "output_type": "stream",
     "text": [
      "m1 * j0 = [+0.500; +0.500; +0.000; +0.000]\n",
      "\n",
      "parameters of m1 * j0:\n",
      "    intensity             : 0.500 arb. u.\n",
      "    amplitudes            : E0x 0.707, E0y 0.000, E0_unpol 0.000 \n",
      "    degree polarization   : 1.000\n",
      "    degree linear pol.    : 1.000\n",
      "    degree   circular pol.: 0.000\n",
      "    alpha                 : 0.000 deg\n",
      "    delay                 : 0.000 deg\n",
      "    azimuth               : 0.000 deg\n",
      "    ellipticity  angle    : 0.000 deg\n",
      "    ellipticity  param    : 0.000\n",
      "    eccentricity          : 1.000\n",
      "    polarized vector      : [+0.500; +0.500; +0.000; +0.000]'\n",
      "    unpolarized vector    : [+0.000; +0.000; +0.000; +0.000]'\n",
      "\n"
     ]
    }
   ],
   "source": [
    "print(j1)\n",
    "print(j1.parameters)"
   ]
  },
  {
   "cell_type": "code",
   "execution_count": null,
   "metadata": {},
   "outputs": [],
   "source": []
  },
  {
   "cell_type": "code",
   "execution_count": 48,
   "metadata": {},
   "outputs": [
    {
     "name": "stdout",
     "output_type": "stream",
     "text": [
      "delay = 90.0º\n"
     ]
    }
   ],
   "source": [
    "m2 = Mueller(\"m2\")\n",
    "m2.diattenuator_retarder_linear(D=90*degrees, p1=1, p2=0.5, angle=0)\n",
    "delay = m2.parameters.retardance()\n",
    "print(\"delay = {:2.1f}º\".format(delay/degrees))"
   ]
  },
  {
   "cell_type": "code",
   "execution_count": 49,
   "metadata": {},
   "outputs": [
    {
     "name": "stdout",
     "output_type": "stream",
     "text": [
      "m2 = \n",
      "  [+0.6250, +0.3750, +0.0000, +0.0000]\n",
      "  [+0.3750, +0.6250, +0.0000, +0.0000]\n",
      "  [+0.0000, +0.0000, +0.0000, +0.5000]\n",
      "  [+0.0000, +0.0000, -0.5000, +0.0000]\n",
      " \n",
      "\n",
      "Parameters of m2:\n",
      "    Transmissions:\n",
      "        - Mean                  : 62.5 %.\n",
      "        - Maximum               : 100.0 %.\n",
      "        - Minimum               : 25.0 %.\n",
      "    Diattenuation:\n",
      "        - Total                 : 0.600.\n",
      "        - Linear                : 0.600.\n",
      "        - Circular              : 0.000.\n",
      "    Polarizance:\n",
      "        - Total                 : 0.600.\n",
      "        - Linear                : 0.600.\n",
      "        - Circular              : 0.000.\n",
      "    Spheric purity              : 0.872.\n",
      "    Retardance                  : 1.571.\n",
      "    Polarimetric purity         : 1.000.\n",
      "    Depolarization degree       : 0.000.\n",
      "    Depolarization factors:\n",
      "        - Euclidean distance    : 1.732.\n",
      "        - Depolarization factor : -0.000.\n",
      "    Polarimetric purity indices:\n",
      "        - P1                    : 1.000.\n",
      "        - P2                    : 1.000.\n",
      "        - P3                    : 1.000.\n",
      "\n"
     ]
    }
   ],
   "source": [
    "print(m2,'\\n')\n",
    "m2.parameters.get_all()\n",
    "print(m2.parameters)\n"
   ]
  },
  {
   "cell_type": "code",
   "execution_count": 50,
   "metadata": {},
   "outputs": [
    {
     "name": "stdout",
     "output_type": "stream",
     "text": [
      "m1 = \n",
      "  [+0.5200, +0.4800, +0.0000, +0.0000]\n",
      "  [+0.4800, +0.5200, +0.0000, +0.0000]\n",
      "  [+0.0000, +0.0000, +0.2000, +0.0000]\n",
      "  [+0.0000, +0.0000, +0.0000, +0.2000]\n",
      " \n",
      "\n",
      "The linear diattenuator is physical: True; hogeneous: True; and a retarder: False.\n"
     ]
    }
   ],
   "source": [
    "m1 = Mueller(\"m1\")\n",
    "m1.diattenuator_linear(p1=1, p2=0.2, angle=0*degrees)\n",
    "print(m1,'\\n')\n",
    "\n",
    "c1 = m1.checks.is_physical()\n",
    "c2 = m1.checks.is_homogeneous()\n",
    "c3 = m1.checks.is_retarder()\n",
    "print('The linear diattenuator is physical: {}; hogeneous: {}; and a retarder: {}.'.format(c1, c2, c3))\n"
   ]
  },
  {
   "cell_type": "code",
   "execution_count": null,
   "metadata": {},
   "outputs": [],
   "source": []
  }
 ],
 "metadata": {
  "kernelspec": {
   "display_name": "Python 3",
   "language": "python",
   "name": "python3"
  },
  "language_info": {
   "codemirror_mode": {
    "name": "ipython",
    "version": 3
   },
   "file_extension": ".py",
   "mimetype": "text/x-python",
   "name": "python",
   "nbconvert_exporter": "python",
   "pygments_lexer": "ipython3",
   "version": "3.6.8"
  },
  "toc": {
   "nav_menu": {},
   "number_sections": true,
   "sideBar": true,
   "skip_h1_title": false,
   "toc_cell": false,
   "toc_position": {},
   "toc_section_display": "block",
   "toc_window_display": false
  },
  "varInspector": {
   "cols": {
    "lenName": 16,
    "lenType": 16,
    "lenVar": 40
   },
   "kernels_config": {
    "python": {
     "delete_cmd_postfix": "",
     "delete_cmd_prefix": "del ",
     "library": "var_list.py",
     "varRefreshCmd": "print(var_dic_list())"
    },
    "r": {
     "delete_cmd_postfix": ") ",
     "delete_cmd_prefix": "rm(",
     "library": "var_list.r",
     "varRefreshCmd": "cat(var_dic_list()) "
    }
   },
   "types_to_exclude": [
    "module",
    "function",
    "builtin_function_or_method",
    "instance",
    "_Feature"
   ],
   "window_display": false
  }
 },
 "nbformat": 4,
 "nbformat_minor": 2
}
